{
 "cells": [
  {
   "cell_type": "code",
   "execution_count": 1,
   "id": "705dc550-f97d-40e4-92ac-037059faa97d",
   "metadata": {},
   "outputs": [],
   "source": [
    "import pandas as pd\n",
    "import numpy as np\n",
    "import random\n",
    "import math\n",
    "import pickle\n",
    "import json\n",
    "import os\n",
    "import requests\n",
    "import datetime\n",
    "import boto3\n",
    "from botocore.exceptions import NoCredentialsError\n",
    " \n",
    "#set DMM vars - these come from the Monitor UI\n",
    "data_source = 'Credit-Risk-Monitor'\n",
    "model_id='63f87cd775b59272c171cc29'\n",
    " \n",
    "dmm_api_key = os.environ['DMM_API_KEY']"
   ]
  },
  {
   "cell_type": "code",
   "execution_count": 2,
   "id": "16c84f33-4873-4111-89e6-0e30c7dfb84d",
   "metadata": {},
   "outputs": [
    {
     "name": "stdout",
     "output_type": "stream",
     "text": [
      "Registering GT_Data_63f764ae9fb0fd477f3a589d2023-03-02.csv From S3 Bucket in DMM\n"
     ]
    }
   ],
   "source": [
    "gt_file_name = str('GT_Data_') + os.environ['DOMINO_PROJECT_ID'] + str(datetime.date.today())+str('.csv')\n",
    " \n",
    "print('Registering {} From S3 Bucket in DMM'.format(gt_file_name))"
   ]
  },
  {
   "cell_type": "code",
   "execution_count": 3,
   "id": "aedf94d7-d21c-42e9-aac8-dfc16f727c47",
   "metadata": {},
   "outputs": [],
   "source": [
    "#create GT payload    \n",
    " \n",
    "#Set up call headers\n",
    "headers = {\n",
    "           'X-DMM-API-KEY': dmm_api_key,\n",
    "           'Content-Type': 'application/json'\n",
    "          }\n",
    " \n",
    " \n",
    " \n",
    "ground_truth_payload = \"\"\"\n",
    "{{\n",
    "\"datasetDetails\": {{\n",
    "        \"name\": \"{0}\",\n",
    "        \"datasetType\": \"file\",\n",
    "        \"datasetConfig\": {{\n",
    "            \"path\": \"{0}\",\n",
    "            \"fileFormat\": \"csv\"\n",
    "        }},\n",
    "        \"datasourceName\": \"{1}\",\n",
    "        \"datasourceType\": \"s3\"\n",
    "    }}\n",
    "}}\n",
    "\"\"\".format(gt_file_name, data_source)"
   ]
  },
  {
   "cell_type": "code",
   "execution_count": 5,
   "id": "0c87281b-0eab-4327-b373-e702adba93d8",
   "metadata": {},
   "outputs": [
    {
     "name": "stdout",
     "output_type": "stream",
     "text": [
      "\n",
      "{\n",
      "\"datasetDetails\": {\n",
      "        \"name\": \"GT_Data_63f764ae9fb0fd477f3a589d2023-03-02.csv\",\n",
      "        \"datasetType\": \"file\",\n",
      "        \"datasetConfig\": {\n",
      "            \"path\": \"GT_Data_63f764ae9fb0fd477f3a589d2023-03-02.csv\",\n",
      "            \"fileFormat\": \"csv\"\n",
      "        },\n",
      "        \"datasourceName\": \"Credit-Risk-Monitor\",\n",
      "        \"datasourceType\": \"s3\"\n",
      "    }\n",
      "}\n",
      "\n"
     ]
    }
   ],
   "source": [
    "print(ground_truth_payload)"
   ]
  },
  {
   "cell_type": "code",
   "execution_count": 6,
   "id": "e682a078-2fe1-43b4-a63d-fb26ab7be248",
   "metadata": {},
   "outputs": [],
   "source": [
    "ground_truth_url = \"https://demo2.dominodatalab.com/model-monitor/v2/api/model/{}/register-dataset/ground_truth\".format(model_id)"
   ]
  },
  {
   "cell_type": "code",
   "execution_count": 7,
   "id": "88d3f766-17e2-4d2b-b579-02cad32fad37",
   "metadata": {},
   "outputs": [
    {
     "name": "stdout",
     "output_type": "stream",
     "text": [
      "https://demo2.dominodatalab.com/model-monitor/v2/api/model/63f87cd775b59272c171cc29/register-dataset/ground_truth\n"
     ]
    }
   ],
   "source": [
    "print(ground_truth_url)"
   ]
  },
  {
   "cell_type": "code",
   "execution_count": 12,
   "id": "1c6c9c79-498a-442d-bcca-a5b946442b88",
   "metadata": {},
   "outputs": [],
   "source": [
    "ground_truth_response = requests.request(\"PUT\", ground_truth_url, headers=headers, data = ground_truth_payload)"
   ]
  },
  {
   "cell_type": "code",
   "execution_count": 13,
   "id": "77ea58b5-d5d4-4b7a-bc8a-babef1f5aebc",
   "metadata": {},
   "outputs": [
    {
     "name": "stdout",
     "output_type": "stream",
     "text": [
      "b'[\"There should be exactly one ground truth variable, none found.\"]'\n"
     ]
    }
   ],
   "source": [
    "print(ground_truth_response.text.encode('utf8'))"
   ]
  },
  {
   "cell_type": "code",
   "execution_count": null,
   "id": "e45447db-cc14-4df9-96d2-ac07f977828d",
   "metadata": {},
   "outputs": [],
   "source": [
    "{\n",
    "    \"variables\": [\n",
    "        {\n",
    "            \"valueType\": \"categorical\",\n",
    "            \"variableType\": \"ground_truth\",\n",
    "            \"name\": \"credit_GT\",\n",
    "            \"forPredictionOutput\": \"credit\"\n",
    "        }\n",
    "    ],\n",
    "    \"datasetDetails\": {\n",
    "        \"name\": \"GT_Data_63f764ae9fb0fd477f3a589d2023-02-27.csv\",\n",
    "        \"datasetType\": \"file\",\n",
    "        \"datasetConfig\": {\n",
    "            \"path\": \"GT_Data_63f764ae9fb0fd477f3a589d2023-02-27.csv\",\n",
    "            \"fileFormat\": \"csv\"\n",
    "        },\n",
    "        \"datasourceName\": \"Credit-Risk-Monitor\",\n",
    "        \"datasourceType\": \"s3\"\n",
    "    }\n",
    "}"
   ]
  }
 ],
 "metadata": {
  "kernelspec": {
   "display_name": "Python 3 (ipykernel)",
   "language": "python",
   "name": "python3"
  },
  "language_info": {
   "codemirror_mode": {
    "name": "ipython",
    "version": 3
   },
   "file_extension": ".py",
   "mimetype": "text/x-python",
   "name": "python",
   "nbconvert_exporter": "python",
   "pygments_lexer": "ipython3",
   "version": "3.8.12"
  }
 },
 "nbformat": 4,
 "nbformat_minor": 5
}
