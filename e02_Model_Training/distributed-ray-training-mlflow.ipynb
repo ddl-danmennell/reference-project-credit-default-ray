{
 "cells": [
  {
   "cell_type": "markdown",
   "id": "67696567-2a05-4457-8235-961fc882cfd2",
   "metadata": {},
   "source": [
    "# Model training\n",
    "\n",
    "For this demo we'll use the freely available Statlog (German Credit Data) Data Set, which can be downloaded from [Kaggle](https://archive.ics.uci.edu/ml/datasets/statlog+(german+credit+data)). This dataset classifies customers based on a set of attributes into two credit risk groups - good or bad. The majority of the attributes in this data set are categorical, and they are symbolically encoded. For example, attribute 1 represents the status of an existing checking account and can take one of the following values:\n",
    "- A11 : ... < 0 DM\n",
    "- A12 : 0 <= ... < 200 DM\n",
    "- A13 : ... >= 200 DM / salary assignments for at least 1 year\n",
    "- A14 : no checking account\n",
    "\n",
    "A comprehensive list of all attributes and symbol codes is given in the [document](https://archive.ics.uci.edu/ml/machine-learning-databases/statlog/german/german.doc) that accompanies the original dataset. The data we use in this demo has also been balanced and upsampled (see the [Data Generation](./data_generation.ipynb) notebook for reference)."
   ]
  },
  {
   "cell_type": "markdown",
   "id": "99567b3f-2224-40eb-9abe-0be5747553a1",
   "metadata": {},
   "source": [
    "## Seting up and connecting to Ray\n",
    "\n",
    "Let's start by loading all the libraries needed for the notebook and by setting up default data paths.\n"
   ]
  },
  {
   "cell_type": "code",
   "execution_count": 161,
   "id": "b90dacfb-7731-4433-a91d-6bd2b79c81c3",
   "metadata": {
    "tags": []
   },
   "outputs": [],
   "source": [
    "import os\n",
    "import ray\n",
    "import glob\n",
    "import eli5\n",
    "import mlflow\n",
    "import mlflow.xgboost\n",
    "import mlflow.sklearn\n",
    "from mlflow.models.signature import infer_signature\n",
    "from mlflow.types.schema import Schema, ColSpec\n",
    "from mlflow.types import DataType\n",
    "import matplotlib.pyplot as plt\n",
    "import json\n",
    "import datetime\n",
    "\n",
    "import xgboost_ray as xgbr\n",
    "import xgboost as xgb\n",
    "import pandas as pd\n",
    "import numpy as np\n",
    "\n",
    "from sklearn.metrics import accuracy_score\n",
    "from sklearn.metrics import mean_absolute_error\n",
    "from ray import tune\n",
    "\n",
    "DATA_ROOT = os.path.join(\"/mnt/data\", os.environ[\"DOMINO_PROJECT_NAME\"], \"data\") \n",
    "MODEL_ROOT = \"/mnt/artifacts\"\n",
    "TUNE_ROOT = os.path.join(\"/mnt/data\", os.environ[\"DOMINO_PROJECT_NAME\"], \"ray_results\")"
   ]
  },
  {
   "cell_type": "code",
   "execution_count": 162,
   "id": "lk5eh6s4ms",
   "metadata": {},
   "outputs": [
    {
     "name": "stdout",
     "output_type": "stream",
     "text": [
      "MLFlow tracking URI: http://100.64.64.204:8768\n",
      "Created experiment: Credit_Risk_Model_20250721_223516 (ID: 1677)\n",
      "Head node IP: 100.64.64.204\n"
     ]
    }
   ],
   "source": [
    "# MLFlow setup - use head node IP for distributed Ray cluster\n",
    "import socket\n",
    "head_node_ip = socket.gethostbyname(socket.gethostname())\n",
    "mlflow_server_url = f\"http://{head_node_ip}:8768\"\n",
    "mlflow.set_tracking_uri(mlflow_server_url)\n",
    "\n",
    "experiment_name = f\"Credit_Risk_Model_{datetime.datetime.now().strftime('%Y%m%d_%H%M%S')}\"\n",
    "experiment_id = mlflow.create_experiment(experiment_name)\n",
    "\n",
    "print(f\"MLFlow tracking URI: {mlflow.get_tracking_uri()}\")\n",
    "print(f\"Created experiment: {experiment_name} (ID: {experiment_id})\")\n",
    "print(f\"Head node IP: {head_node_ip}\")"
   ]
  },
  {
   "cell_type": "markdown",
   "id": "bbc47b91-d8f6-49b6-915e-244688dc9d64",
   "metadata": {},
   "source": [
    "In this demo we'll use a dataset of a modest size (approx. 700 MB). Unfortunately, the standard Python libraries for data processing and machine learning Pandas and NumPy have never been designed with large datasets in mind. They rely on being able to fit the entire data in-memory with Pandas data frames having a hard theoretical limit of 100GB. In practice, the amount of data these libraries can handle is also restricted by the amount of physical memory available to the container that runs them, thus they'll have challenges handling even the 700 MB needed for our demo dataset. Trying to load our training data into a simple Pandas data frame using the code below will likely crash the Jupyter kernel.\n",
    "\n",
    "``` \n",
    "# Do not run this code - it will likely crash the Jupyter kernel \n",
    "# (depending on the HW tier running the kernel)\n",
    "\n",
    "import pandas as pd\n",
    "import glob\n",
    "import os\n",
    "\n",
    "all_files = glob.glob(DATA_ROOT + \"/train_data_*.csv\")\n",
    "\n",
    "li = []\n",
    "\n",
    "for filename in all_files:\n",
    "    df = pd.read_csv(filename, index_col=None, header=0)\n",
    "    li.append(df)\n",
    "\n",
    "training_df = pd.concat(li, axis=0, ignore_index=True)\n",
    "training_df.head()\n",
    "```\n",
    "\n",
    "To circumvent these restrictions Domino provides support for a number of industry-standard distributed computing frameworks like Ray, Dask, and Spark. In this demo we will use [On-Demand Ray](https://docs.dominodatalab.com/en/latest/user_guide/d13903/on-demand-ray-overview/). \n",
    "\n",
    "Ray is a general framework that enables you to quickly parallelize existing Python code, but it is also talked about as a \"framework for building frameworks\". Indeed, there are a growing number of domain-specific libraries that work on top of Ray.\n",
    "\n",
    "![Ray](./images/ray.png)\n",
    "\n",
    "For example:\n",
    "\n",
    "* RaySGD - a library for distributed deep learning, which provides wrappers around PyTorch and TensorFlow\n",
    "* RLlib - a library for reinforcement learning, which also natively supports TensorFlow, TensorFlow Eager, and PyTorch\n",
    "* RayServe - a scalable, model-serving library\n",
    "* Ray Tune - a hyperparameter optimization framework, most commonly used for deep and reinforcement learning\n",
    "\n",
    "In this demo we'll use [Ray Tune](https://docs.ray.io/en/latest/tune/index.html) for hyperparameter optimisation and [XGBoost on Ray](https://github.com/ray-project/xgboost_ray) for model training."
   ]
  },
  {
   "cell_type": "code",
   "execution_count": 163,
   "id": "1aea8db6-c2cf-4e87-bc36-ef30a6c6f223",
   "metadata": {
    "tags": []
   },
   "outputs": [],
   "source": [
    "# We'll set up Ray for 2 workers, 4 CPUs each (12 CPUs in total, counting the head node).\n",
    "\n",
    "RAY_ACTORS = 3\n",
    "RAY_CPUS_PER_ACTOR = 4"
   ]
  },
  {
   "cell_type": "markdown",
   "id": "e5adb8cb-2d41-43fc-8e2a-023ba669ec83",
   "metadata": {},
   "source": [
    "Let's connect to Ray."
   ]
  },
  {
   "cell_type": "code",
   "execution_count": 164,
   "id": "ab834d1d-8734-403b-abf1-485b9952bb17",
   "metadata": {
    "tags": []
   },
   "outputs": [],
   "source": [
    "if ray.is_initialized() == False:\n",
    "    service_host = os.environ[\"RAY_HEAD_SERVICE_HOST\"]\n",
    "    service_port = os.environ[\"RAY_HEAD_SERVICE_PORT\"]\n",
    "    ray.init(f\"ray://{service_host}:{service_port}\")"
   ]
  },
  {
   "cell_type": "markdown",
   "id": "b03916af-831e-4934-84f6-1814a86ec6fb",
   "metadata": {},
   "source": [
    "Let's confirm we have the expected cluster configuration."
   ]
  },
  {
   "cell_type": "code",
   "execution_count": 165,
   "id": "b6fc390a-ee65-4abf-bc25-71985b921289",
   "metadata": {
    "tags": []
   },
   "outputs": [
    {
     "data": {
      "text/plain": [
       "[{'NodeID': '485fbd09ebfd9a4b788e649ecf80e6a7bd43bf856b56ee47a94845c2',\n",
       "  'Alive': True,\n",
       "  'NodeManagerAddress': '100.64.46.131',\n",
       "  'NodeManagerHostname': 'ray-687e6c2cf9ac5a56add949fa-ray-worker-2',\n",
       "  'NodeManagerPort': 2385,\n",
       "  'ObjectManagerPort': 2384,\n",
       "  'ObjectStoreSocketName': '/tmp/ray/session_2025-07-21_09-35-11_247340_1/sockets/plasma_store',\n",
       "  'RayletSocketName': '/tmp/ray/session_2025-07-21_09-35-11_247340_1/sockets/raylet',\n",
       "  'MetricsExportPort': 50925,\n",
       "  'NodeName': '100.64.46.131',\n",
       "  'alive': True,\n",
       "  'Resources': {'memory': 11121510400.0,\n",
       "   'node:100.64.46.131': 1.0,\n",
       "   'CPU': 4.0,\n",
       "   'object_store_memory': 4766361600.0}},\n",
       " {'NodeID': '9457e4c73e6f097dbd84e3d8211445f2fbe304db684fc55cb2f869a5',\n",
       "  'Alive': True,\n",
       "  'NodeManagerAddress': '100.64.87.68',\n",
       "  'NodeManagerHostname': 'ray-687e6c2cf9ac5a56add949fa-ray-worker-1',\n",
       "  'NodeManagerPort': 2385,\n",
       "  'ObjectManagerPort': 2384,\n",
       "  'ObjectStoreSocketName': '/tmp/ray/session_2025-07-21_09-35-11_247340_1/sockets/plasma_store',\n",
       "  'RayletSocketName': '/tmp/ray/session_2025-07-21_09-35-11_247340_1/sockets/raylet',\n",
       "  'MetricsExportPort': 42214,\n",
       "  'NodeName': '100.64.87.68',\n",
       "  'alive': True,\n",
       "  'Resources': {'object_store_memory': 4802632089.0,\n",
       "   'node:100.64.87.68': 1.0,\n",
       "   'memory': 11206141543.0,\n",
       "   'CPU': 4.0}},\n",
       " {'NodeID': '9f8bcda8feec9e3c2cc936ce6897a929372ed14ddcba1e8751fb274a',\n",
       "  'Alive': True,\n",
       "  'NodeManagerAddress': '100.64.79.49',\n",
       "  'NodeManagerHostname': 'ray-687e6c2cf9ac5a56add949fa-ray-worker-0',\n",
       "  'NodeManagerPort': 2385,\n",
       "  'ObjectManagerPort': 2384,\n",
       "  'ObjectStoreSocketName': '/tmp/ray/session_2025-07-21_09-35-11_247340_1/sockets/plasma_store',\n",
       "  'RayletSocketName': '/tmp/ray/session_2025-07-21_09-35-11_247340_1/sockets/raylet',\n",
       "  'MetricsExportPort': 47139,\n",
       "  'NodeName': '100.64.79.49',\n",
       "  'alive': True,\n",
       "  'Resources': {'CPU': 4.0,\n",
       "   'node:100.64.79.49': 1.0,\n",
       "   'memory': 11205894964.0,\n",
       "   'object_store_memory': 4802526412.0}},\n",
       " {'NodeID': '2b5386b348fe06ec6e95c4c418a266b4a1babc6442a6e3041a84c70a',\n",
       "  'Alive': True,\n",
       "  'NodeManagerAddress': '100.64.78.140',\n",
       "  'NodeManagerHostname': 'ray-687e6c2cf9ac5a56add949fa-ray-head-0',\n",
       "  'NodeManagerPort': 2385,\n",
       "  'ObjectManagerPort': 2384,\n",
       "  'ObjectStoreSocketName': '/tmp/ray/session_2025-07-21_09-35-11_247340_1/sockets/plasma_store',\n",
       "  'RayletSocketName': '/tmp/ray/session_2025-07-21_09-35-11_247340_1/sockets/raylet',\n",
       "  'MetricsExportPort': 64581,\n",
       "  'NodeName': '100.64.78.140',\n",
       "  'alive': True,\n",
       "  'Resources': {'memory': 9506719335.0,\n",
       "   'object_store_memory': 4753359667.0,\n",
       "   'node:100.64.78.140': 1.0}}]"
      ]
     },
     "execution_count": 165,
     "metadata": {},
     "output_type": "execute_result"
    }
   ],
   "source": [
    "ray.nodes()"
   ]
  },
  {
   "cell_type": "markdown",
   "id": "239b2e73-b9d9-486e-baba-f456b8c7e6b1",
   "metadata": {},
   "source": [
    "Now let's create a list of all the shards for our training, validation, and test sets."
   ]
  },
  {
   "cell_type": "code",
   "execution_count": 166,
   "id": "716569f8-6838-4571-b7da-7494fef8ad80",
   "metadata": {
    "tags": []
   },
   "outputs": [],
   "source": [
    "train_files = glob.glob(os.path.join(DATA_ROOT, \"train_data*\"))\n",
    "val_files = glob.glob(os.path.join(DATA_ROOT, \"validation_data*\"))\n",
    "\n",
    "test_file = os.path.join(DATA_ROOT, \"test_data.csv\")\n",
    "\n",
    "target_col = \"credit\""
   ]
  },
  {
   "cell_type": "markdown",
   "id": "d4aef485-c29e-478b-b5b7-a3e05ee027e4",
   "metadata": {},
   "source": [
    "XGBoost-Ray provides a drop-in replacement for XGBoost's train function. To pass data, instead of using xgb.DMatrix we will have to use xgboost_ray.RayDMatrix. The RayDMatrix lazy loads data and stores it sharded in the Ray object store. The Ray XGBoost actors then access these shards to run their training on. Let's wrap our training, validation, and test sets into RayDMatrix objects."
   ]
  },
  {
   "cell_type": "code",
   "execution_count": 167,
   "id": "6b0ae7ab-9c91-4b89-aa65-acb27f759bcb",
   "metadata": {
    "tags": []
   },
   "outputs": [],
   "source": [
    "# Although it is possible to specify the number of Actors when initializing the RayDMatrix, it is not necessary,\n",
    "#  and can cause a conflict if different from the number of Actors chosen for training.\n",
    "\n",
    "rdm_train = xgbr.RayDMatrix(train_files, label=target_col)\n",
    "rdm_val = xgbr.RayDMatrix(val_files, label=target_col)\n",
    "\n",
    "df_test = pd.read_csv(test_file)\n",
    "rdm_test = xgbr.RayDMatrix(df_test, label=target_col)"
   ]
  },
  {
   "cell_type": "code",
   "execution_count": 168,
   "id": "2e415ace-8763-4d9d-8f45-6ae9b7d6e5a6",
   "metadata": {
    "tags": []
   },
   "outputs": [],
   "source": [
    "# This function verifies whether the data will support splitting into a given number of shards.\n",
    "# We use this to validate that our splits are compatible with the selected Ray cluster configuraiton (i.e. number of Ray nodes)\n",
    "\n",
    "rdm_train.assert_enough_shards_for_actors(len(train_files))\n",
    "rdm_train.assert_enough_shards_for_actors(len(val_files))"
   ]
  },
  {
   "cell_type": "code",
   "execution_count": 169,
   "id": "2f64ba99-513d-437e-ad62-6ffc5e746739",
   "metadata": {
    "tags": []
   },
   "outputs": [
    {
     "name": "stdout",
     "output_type": "stream",
     "text": [
      "Will the read be distributed? True\n",
      "Has any data been read yet? False\n"
     ]
    }
   ],
   "source": [
    "print(\"Will the read be distributed?\", rdm_train.distributed)\n",
    "print(\"Has any data been read yet?\", rdm_train.loaded) # Remember, lazy loading"
   ]
  },
  {
   "cell_type": "markdown",
   "id": "08c7a689-f25f-413c-80ad-de95790b5550",
   "metadata": {},
   "source": [
    "## Model training"
   ]
  },
  {
   "cell_type": "markdown",
   "id": "e232a826-3f39-43fe-8a05-a9f521642324",
   "metadata": {},
   "source": [
    "Let's first try to train a single model in order to validate our setup. Feel free to switch to the Ray Web UI tab and observe the distribution of workload among the individual Ray nodes.\n",
    "\n",
    "A few things to note:\n",
    "\n",
    "* We are using “binary:logistic” – logistic regression for binary classification (*credit* is in {0,1}), which outputs probability\n",
    "* We are calculating both logloss and error as evaluation metrics. They don't impact the model fitting\n",
    "* We are passing the cluster topology via the xgb_ray_params objects so that the workload can be correctly distributed\n"
   ]
  },
  {
   "cell_type": "code",
   "execution_count": 170,
   "id": "023dbe3e-5cba-44b0-a0dd-275b126a2261",
   "metadata": {
    "tags": []
   },
   "outputs": [
    {
     "name": "stderr",
     "output_type": "stream",
     "text": [
      "/opt/conda/lib/python3.9/site-packages/xgboost_ray/util.py:89: RayDeprecationWarning: This API is deprecated and may be removed in future Ray releases. You could suppress this warning by setting env variable PYTHONWARNINGS=\"ignore::DeprecationWarning\"\n",
      "Use get_node_id() instead\n",
      "  current_node_id = ray.get_runtime_context().node_id.hex()\n",
      "\u001b[2m\u001b[36m(_wrapped pid=66121)\u001b[0m 2025-07-21 15:35:19,506\tINFO main.py:1047 -- [RayXGBoost] Created 3 new actors (3 total actors). Waiting until actors are ready for training.\n",
      "\u001b[2m\u001b[36m(_wrapped pid=66121)\u001b[0m 2025-07-21 15:35:24,654\tINFO main.py:1092 -- [RayXGBoost] Starting XGBoost training.\n",
      "\u001b[2m\u001b[36m(_RemoteRayXGBoostActor pid=5996, ip=100.64.46.131)\u001b[0m [15:35:24] task [xgboost.ray]:123395902003040 got new rank 0\n",
      "\u001b[2m\u001b[36m(_RemoteRayXGBoostActor pid=4976, ip=100.64.79.49)\u001b[0m [15:35:24] task [xgboost.ray]:126310704281296 got new rank 1\n",
      "\u001b[2m\u001b[36m(_RemoteRayXGBoostActor pid=5723, ip=100.64.87.68)\u001b[0m [15:35:24] task [xgboost.ray]:124324449261024 got new rank 2\n"
     ]
    },
    {
     "name": "stdout",
     "output_type": "stream",
     "text": [
      "\u001b[2m\u001b[36m(_wrapped pid=66121)\u001b[0m [0]\ttrain-logloss:0.65890\ttrain-error:0.22747\tval-logloss:0.65631\tval-error:0.20883\n",
      "\u001b[2m\u001b[36m(_wrapped pid=66121)\u001b[0m [1]\ttrain-logloss:0.63105\ttrain-error:0.22322\tval-logloss:0.62528\tval-error:0.20100\n",
      "\u001b[2m\u001b[36m(_wrapped pid=66121)\u001b[0m [2]\ttrain-logloss:0.60865\ttrain-error:0.22340\tval-logloss:0.60093\tval-error:0.21037\n",
      "\u001b[2m\u001b[36m(_wrapped pid=66121)\u001b[0m [3]\ttrain-logloss:0.58683\ttrain-error:0.20024\tval-logloss:0.57770\tval-error:0.17753\n",
      "\u001b[2m\u001b[36m(_wrapped pid=66121)\u001b[0m [4]\ttrain-logloss:0.56887\ttrain-error:0.19834\tval-logloss:0.55733\tval-error:0.17213\n",
      "\u001b[2m\u001b[36m(_wrapped pid=66121)\u001b[0m [5]\ttrain-logloss:0.55296\ttrain-error:0.18635\tval-logloss:0.54088\tval-error:0.16274\n",
      "\u001b[2m\u001b[36m(_wrapped pid=66121)\u001b[0m [6]\ttrain-logloss:0.53873\ttrain-error:0.18173\tval-logloss:0.52620\tval-error:0.15723\n",
      "\u001b[2m\u001b[36m(_wrapped pid=66121)\u001b[0m [7]\ttrain-logloss:0.52442\ttrain-error:0.17974\tval-logloss:0.51060\tval-error:0.16108\n",
      "\u001b[2m\u001b[36m(_wrapped pid=66121)\u001b[0m [8]\ttrain-logloss:0.51177\ttrain-error:0.17802\tval-logloss:0.49672\tval-error:0.16424\n",
      "\u001b[2m\u001b[36m(_wrapped pid=66121)\u001b[0m [9]\ttrain-logloss:0.50048\ttrain-error:0.16876\tval-logloss:0.48546\tval-error:0.15023\n",
      "\u001b[2m\u001b[36m(_wrapped pid=66121)\u001b[0m [10]\ttrain-logloss:0.48991\ttrain-error:0.18138\tval-logloss:0.47472\tval-error:0.16196\n",
      "\u001b[2m\u001b[36m(_wrapped pid=66121)\u001b[0m [11]\ttrain-logloss:0.48047\ttrain-error:0.16375\tval-logloss:0.46492\tval-error:0.14706\n",
      "\u001b[2m\u001b[36m(_wrapped pid=66121)\u001b[0m [12]\ttrain-logloss:0.47183\ttrain-error:0.16010\tval-logloss:0.45579\tval-error:0.14477\n",
      "\u001b[2m\u001b[36m(_wrapped pid=66121)\u001b[0m [13]\ttrain-logloss:0.46248\ttrain-error:0.15408\tval-logloss:0.44750\tval-error:0.14248\n",
      "\u001b[2m\u001b[36m(_wrapped pid=66121)\u001b[0m [14]\ttrain-logloss:0.45482\ttrain-error:0.15836\tval-logloss:0.43974\tval-error:0.14247\n",
      "\u001b[2m\u001b[36m(_wrapped pid=66121)\u001b[0m [15]\ttrain-logloss:0.44779\ttrain-error:0.16000\tval-logloss:0.43278\tval-error:0.14483\n",
      "\u001b[2m\u001b[36m(_wrapped pid=66121)\u001b[0m [16]\ttrain-logloss:0.44035\ttrain-error:0.15915\tval-logloss:0.42556\tval-error:0.14638\n",
      "\u001b[2m\u001b[36m(_wrapped pid=66121)\u001b[0m [17]\ttrain-logloss:0.43159\ttrain-error:0.16230\tval-logloss:0.41684\tval-error:0.15028\n",
      "\u001b[2m\u001b[36m(_wrapped pid=66121)\u001b[0m [18]\ttrain-logloss:0.42330\ttrain-error:0.15514\tval-logloss:0.40854\tval-error:0.14083\n",
      "\u001b[2m\u001b[36m(_wrapped pid=66121)\u001b[0m [19]\ttrain-logloss:0.41734\ttrain-error:0.14974\tval-logloss:0.40295\tval-error:0.13766\n",
      "\u001b[2m\u001b[36m(_wrapped pid=66121)\u001b[0m [20]\ttrain-logloss:0.41073\ttrain-error:0.14294\tval-logloss:0.39666\tval-error:0.12909\n",
      "\u001b[2m\u001b[36m(_wrapped pid=66121)\u001b[0m [21]\ttrain-logloss:0.40492\ttrain-error:0.13717\tval-logloss:0.39054\tval-error:0.12519\n",
      "\u001b[2m\u001b[36m(_wrapped pid=66121)\u001b[0m [22]\ttrain-logloss:0.39905\ttrain-error:0.13466\tval-logloss:0.38514\tval-error:0.12288\n",
      "\u001b[2m\u001b[36m(_wrapped pid=66121)\u001b[0m [23]\ttrain-logloss:0.39508\ttrain-error:0.13502\tval-logloss:0.38142\tval-error:0.12598\n",
      "\u001b[2m\u001b[36m(_wrapped pid=66121)\u001b[0m [24]\ttrain-logloss:0.39028\ttrain-error:0.13491\tval-logloss:0.37664\tval-error:0.12754\n",
      "\u001b[2m\u001b[36m(_wrapped pid=66121)\u001b[0m [25]\ttrain-logloss:0.38563\ttrain-error:0.12703\tval-logloss:0.37221\tval-error:0.11735\n",
      "\u001b[2m\u001b[36m(_wrapped pid=66121)\u001b[0m [26]\ttrain-logloss:0.38001\ttrain-error:0.12747\tval-logloss:0.36642\tval-error:0.11899\n",
      "\u001b[2m\u001b[36m(_wrapped pid=66121)\u001b[0m [27]\ttrain-logloss:0.37567\ttrain-error:0.13017\tval-logloss:0.36230\tval-error:0.12366\n",
      "\u001b[2m\u001b[36m(_wrapped pid=66121)\u001b[0m [28]\ttrain-logloss:0.36867\ttrain-error:0.12474\tval-logloss:0.35464\tval-error:0.11507\n",
      "\u001b[2m\u001b[36m(_wrapped pid=66121)\u001b[0m [29]\ttrain-logloss:0.36367\ttrain-error:0.12520\tval-logloss:0.35008\tval-error:0.11587\n",
      "\u001b[2m\u001b[36m(_wrapped pid=66121)\u001b[0m [30]\ttrain-logloss:0.35930\ttrain-error:0.12586\tval-logloss:0.34549\tval-error:0.11582\n",
      "\u001b[2m\u001b[36m(_wrapped pid=66121)\u001b[0m [31]\ttrain-logloss:0.35611\ttrain-error:0.12813\tval-logloss:0.34254\tval-error:0.11663\n",
      "\u001b[2m\u001b[36m(_wrapped pid=66121)\u001b[0m [32]\ttrain-logloss:0.35275\ttrain-error:0.12645\tval-logloss:0.33926\tval-error:0.12052\n"
     ]
    },
    {
     "name": "stderr",
     "output_type": "stream",
     "text": [
      "\u001b[2m\u001b[36m(_wrapped pid=66121)\u001b[0m 2025-07-21 15:35:55,203\tINFO main.py:1175 -- Training in progress (31 seconds since last restart).\n"
     ]
    },
    {
     "name": "stdout",
     "output_type": "stream",
     "text": [
      "\u001b[2m\u001b[36m(_wrapped pid=66121)\u001b[0m [33]\ttrain-logloss:0.34910\ttrain-error:0.12610\tval-logloss:0.33604\tval-error:0.11894\n",
      "\u001b[2m\u001b[36m(_wrapped pid=66121)\u001b[0m [34]\ttrain-logloss:0.34563\ttrain-error:0.12341\tval-logloss:0.33241\tval-error:0.11427\n",
      "\u001b[2m\u001b[36m(_wrapped pid=66121)\u001b[0m [35]\ttrain-logloss:0.34209\ttrain-error:0.12078\tval-logloss:0.32824\tval-error:0.10792\n",
      "\u001b[2m\u001b[36m(_wrapped pid=66121)\u001b[0m [36]\ttrain-logloss:0.33887\ttrain-error:0.11931\tval-logloss:0.32486\tval-error:0.10715\n",
      "\u001b[2m\u001b[36m(_wrapped pid=66121)\u001b[0m [37]\ttrain-logloss:0.33525\ttrain-error:0.12169\tval-logloss:0.32043\tval-error:0.10795\n",
      "\u001b[2m\u001b[36m(_wrapped pid=66121)\u001b[0m [38]\ttrain-logloss:0.33301\ttrain-error:0.11706\tval-logloss:0.31812\tval-error:0.10324\n",
      "\u001b[2m\u001b[36m(_wrapped pid=66121)\u001b[0m [39]\ttrain-logloss:0.32948\ttrain-error:0.11211\tval-logloss:0.31456\tval-error:0.09856\n",
      "\u001b[2m\u001b[36m(_wrapped pid=66121)\u001b[0m [40]\ttrain-logloss:0.32674\ttrain-error:0.11108\tval-logloss:0.31153\tval-error:0.09692\n",
      "\u001b[2m\u001b[36m(_wrapped pid=66121)\u001b[0m [41]\ttrain-logloss:0.32437\ttrain-error:0.10827\tval-logloss:0.30940\tval-error:0.09539\n",
      "\u001b[2m\u001b[36m(_wrapped pid=66121)\u001b[0m [42]\ttrain-logloss:0.32163\ttrain-error:0.10737\tval-logloss:0.30634\tval-error:0.09225\n",
      "\u001b[2m\u001b[36m(_wrapped pid=66121)\u001b[0m [43]\ttrain-logloss:0.31902\ttrain-error:0.10714\tval-logloss:0.30393\tval-error:0.09225\n",
      "\u001b[2m\u001b[36m(_wrapped pid=66121)\u001b[0m [44]\ttrain-logloss:0.31568\ttrain-error:0.10522\tval-logloss:0.30042\tval-error:0.09304\n",
      "\u001b[2m\u001b[36m(_wrapped pid=66121)\u001b[0m [45]\ttrain-logloss:0.31368\ttrain-error:0.10161\tval-logloss:0.29855\tval-error:0.08992\n",
      "\u001b[2m\u001b[36m(_wrapped pid=66121)\u001b[0m [46]\ttrain-logloss:0.31085\ttrain-error:0.10060\tval-logloss:0.29593\tval-error:0.08915\n",
      "\u001b[2m\u001b[36m(_wrapped pid=66121)\u001b[0m [47]\ttrain-logloss:0.30741\ttrain-error:0.10287\tval-logloss:0.29251\tval-error:0.09067\n",
      "\u001b[2m\u001b[36m(_wrapped pid=66121)\u001b[0m [48]\ttrain-logloss:0.30516\ttrain-error:0.10185\tval-logloss:0.29023\tval-error:0.09073\n",
      "\u001b[2m\u001b[36m(_wrapped pid=66121)\u001b[0m [49]\ttrain-logloss:0.30318\ttrain-error:0.10029\tval-logloss:0.28781\tval-error:0.08760\n"
     ]
    },
    {
     "name": "stderr",
     "output_type": "stream",
     "text": [
      "\u001b[2m\u001b[36m(_wrapped pid=66121)\u001b[0m 2025-07-21 15:36:07,965\tINFO main.py:1587 -- [RayXGBoost] Finished XGBoost training on training data with total N=2,100,000 in 48.58 seconds (43.30 pure XGBoost training time).\n",
      "/opt/conda/lib/python3.9/site-packages/mlflow/models/signature.py:137: UserWarning: Hint: Inferred schema contains integer column(s). Integer columns in Python cannot represent missing values. If your input data contains missing values at inference time, it will be encoded as floats and will cause a schema enforcement error. The best way to avoid this problem is to infer the model schema based on a realistic data sample (training dataset) that includes missing values. Alternatively, you can declare integer columns as doubles (float64) whenever these columns may have missing values. See `Handling Integers With Missing Values <https://www.mlflow.org/docs/latest/models.html#handling-integers-with-missing-values>`_ for more details.\n",
      "  inputs = _infer_schema(model_input)\n",
      "Successfully registered model 'Credit_Risk_Model_20250721_223516_single_model'.\n",
      "2025/07/21 22:36:17 INFO mlflow.tracking._model_registry.client: Waiting up to 300 seconds for model version to finish creation. Model name: Credit_Risk_Model_20250721_223516_single_model, version 1\n"
     ]
    },
    {
     "name": "stdout",
     "output_type": "stream",
     "text": [
      "Final training error: 0.1003\n",
      "Final validation error: 0.0876\n"
     ]
    },
    {
     "name": "stderr",
     "output_type": "stream",
     "text": [
      "Created version '1' of model 'Credit_Risk_Model_20250721_223516_single_model'.\n"
     ]
    }
   ],
   "source": [
    "    # Set a few hyperparameters to specific values\n",
    "    param = {\n",
    "        \"seed\":1234,\n",
    "        \"max_depth\":3,\n",
    "        \"eta\":0.1,\n",
    "        \"objective\": \"binary:logistic\",\n",
    "        \"eval_metric\": [\"logloss\", \"error\"]\n",
    "    }\n",
    "    \n",
    "    # Log parameters to MLFlow\n",
    "    mlflow.log_params(param)\n",
    "\n",
    "    xgb_ray_params = xgbr.RayParams(\n",
    "        num_actors=RAY_ACTORS,\n",
    "        cpus_per_actor=RAY_CPUS_PER_ACTOR\n",
    "    )\n",
    "\n",
    "    # Train the model\n",
    "    evals_result = {}\n",
    "\n",
    "    bst = xgbr.train(\n",
    "        param,\n",
    "        rdm_train,\n",
    "        num_boost_round=50,\n",
    "        verbose_eval=True,\n",
    "        evals_result=evals_result,\n",
    "        evals =[(rdm_train, \"train\"), (rdm_val, \"val\")],\n",
    "        ray_params=xgb_ray_params\n",
    "    )\n",
    "\n",
    "    # Log metrics to MLFlow\n",
    "    final_train_error = evals_result[\"train\"][\"error\"][-1]\n",
    "    final_val_error = evals_result[\"val\"][\"error\"][-1]\n",
    "    final_train_logloss = evals_result[\"train\"][\"logloss\"][-1]\n",
    "    final_val_logloss = evals_result[\"val\"][\"logloss\"][-1]\n",
    "    \n",
    "    mlflow.log_metric(\"final_train_error\", final_train_error)\n",
    "    mlflow.log_metric(\"final_val_error\", final_val_error)\n",
    "    mlflow.log_metric(\"final_train_logloss\", final_train_logloss)\n",
    "    mlflow.log_metric(\"final_val_logloss\", final_val_logloss)\n",
    "    \n",
    "    # Log all training history as a batch\n",
    "    for i, (train_err, val_err, train_loss, val_loss) in enumerate(zip(\n",
    "        evals_result[\"train\"][\"error\"], \n",
    "        evals_result[\"val\"][\"error\"],\n",
    "        evals_result[\"train\"][\"logloss\"], \n",
    "        evals_result[\"val\"][\"logloss\"]\n",
    "    )):\n",
    "        mlflow.log_metrics({\n",
    "            \"train_error\": train_err,\n",
    "            \"val_error\": val_err,\n",
    "            \"train_logloss\": train_loss,\n",
    "            \"val_logloss\": val_loss\n",
    "        }, step=i)\n",
    "    \n",
    "    # Save model locally (keep existing functionality)\n",
    "    local_model_path = os.path.join(MODEL_ROOT, \"single_model.xgb\")\n",
    "    bst.save_model(local_model_path)\n",
    "    \n",
    "    # Prepare sample data for signature inference\n",
    "    sample_input = df_test.drop(target_col, axis=1).head(5)\n",
    "    sample_predictions = bst.predict(xgb.DMatrix(sample_input))\n",
    "    signature = infer_signature(sample_input, sample_predictions)\n",
    "    \n",
    "    # Log model to MLFlow with signature and entrypoint\n",
    "    mlflow.xgboost.log_model(\n",
    "        bst, \n",
    "        \"model\",\n",
    "        signature=signature,\n",
    "        input_example=sample_input,\n",
    "        registered_model_name=f\"{experiment_name}_single_model\"\n",
    "    )\n",
    "    \n",
    "    print(\"Final training error: {:.4f}\".format(final_train_error))\n",
    "    print(\"Final validation error: {:.4f}\".format(final_val_error))"
   ]
  },
  {
   "cell_type": "code",
   "execution_count": 171,
   "id": "3an3r125dxy",
   "metadata": {},
   "outputs": [
    {
     "name": "stdout",
     "output_type": "stream",
     "text": [
      "Started parent run: 573b5a5a23a64849b3f6e1b5c0405929\n"
     ]
    }
   ],
   "source": [
    "# End any existing MLFlow runs to avoid conflicts\n",
    "mlflow.end_run()\n",
    "\n",
    "# Start MLFlow parent run for single model training\n",
    "with mlflow.start_run(experiment_id=experiment_id, run_name=\"single_model_training\") as parent_run:\n",
    "    print(f\"Started parent run: {parent_run.info.run_id}\")\n",
    "    \n",
    "    # Log basic run information\n",
    "    mlflow.log_param(\"ray_actors\", RAY_ACTORS)\n",
    "    mlflow.log_param(\"ray_cpus_per_actor\", RAY_CPUS_PER_ACTOR)\n",
    "    mlflow.log_param(\"num_boost_rounds\", 50)\n",
    "    mlflow.log_param(\"training_approach\", \"single_model\")"
   ]
  },
  {
   "cell_type": "markdown",
   "id": "6f4f8914-984b-4011-845d-9cf5c90ccb54",
   "metadata": {},
   "source": [
    "Now that we've confirmed the pipeline we can move onto performing some hyperparameter tuning for finding an optimal model."
   ]
  },
  {
   "cell_type": "markdown",
   "id": "fe710a68-72ee-4bda-9a3b-c5b0a71f0215",
   "metadata": {},
   "source": [
    "## Hyperparameter tuning\n",
    "\n",
    "Hyperparameter tuning requires training many copies of a model, each with a different set of hyperparameters, and seeing which one performs the best. Each time we train a model, that is one trial. To do this in our Ray cluster, we can specify what resources to use:\n",
    "\n",
    "* Required CPU, Memory, and/or GPU per trial\n",
    "* Where to store intermediate results\n",
    "\n",
    "The `xgboost_ray` library includes a built-in method for generating a `PlacementGroupFactory` to pass to Ray Tune, based on the `RayParams` object used for XGBoost training. Resources can also be requested in a simpler dictionary format, e.g. `{\"cpu\": 2.0}`. As described in the [Tune docs](https://docs.ray.io/en/latest/tune/tutorials/tune-resources.html), by default Ray Tune will schedule N concurrent trials, using 1 CPU per trial, where N is the total number of CPUs available in the cluster."
   ]
  },
  {
   "cell_type": "code",
   "execution_count": 172,
   "id": "5014bbd6-42cb-4177-ba0a-5842ab77915d",
   "metadata": {
    "tags": []
   },
   "outputs": [
    {
     "name": "stdout",
     "output_type": "stream",
     "text": [
      "We will pass a <class 'ray.tune.execution.placement_groups.PlacementGroupFactory'> to Ray Tune.\n",
      "It will request {'CPU': 12.0} per trial.\n",
      "The cluster has 12.0 CPU total.\n"
     ]
    }
   ],
   "source": [
    "# Get the placement group factory to pass to Ray Tune\n",
    "# Notice how the tune resources are 1 CPU greater!\n",
    "xgb_tune_resources = xgb_ray_params.get_tune_resources()\n",
    "print(f\"We will pass a {type(xgb_tune_resources)} to Ray Tune.\")\n",
    "print(f\"It will request {xgb_tune_resources.required_resources} per trial.\")\n",
    "print(f\"The cluster has {ray.cluster_resources()['CPU']} CPU total.\")"
   ]
  },
  {
   "cell_type": "code",
   "execution_count": 173,
   "id": "04cd6a9a-346d-4170-bbc3-180450e06410",
   "metadata": {
    "tags": []
   },
   "outputs": [
    {
     "name": "stdout",
     "output_type": "stream",
     "text": [
      "Saving intermediate tune results to /mnt/data/Credit-Risk-Model/ray_results\n"
     ]
    }
   ],
   "source": [
    "print(\"Saving intermediate tune results to\", TUNE_ROOT)"
   ]
  },
  {
   "cell_type": "markdown",
   "id": "8e2959e8-ef2a-4a5a-8e6e-c627a3be5b7e",
   "metadata": {},
   "source": [
    "In this demo we will use a very simple search strategy called *a grid search*. This involves searching over a predefined grid of hyperparameter choices - and it's easy to imaging writing a simple for loop to implement it. However, for $n$ choices each of $k$ hyperparameters, a full grid search requires $O(n^k)$ trials and quickly becomes prohibitively expensive.\n",
    "\n",
    "Ray Tune provides much more sophisticated options for optimization. Instead of pre-defining a fixed grid to search over, Ray Tune allows specifying a [search space](https://docs.ray.io/en/releases-1.11.0/tune/key-concepts.html#search-spaces) with distributions of parameters. The number of trials over the search space is specified at a later stage in the `run()` function."
   ]
  },
  {
   "cell_type": "code",
   "execution_count": 174,
   "id": "a9f6f30f-1349-47d3-8582-66a42b62aa39",
   "metadata": {
    "tags": []
   },
   "outputs": [],
   "source": [
    "config = {\n",
    "    \"seed\": 1234,\n",
    "    \"eta\": tune.loguniform(3e-3, 3e-1),\n",
    "    \"max_depth\": tune.randint(2, 6),\n",
    "    \"objective\": \"binary:logistic\",\n",
    "    \"eval_metric\": [\"logloss\", \"error\"]\n",
    "}"
   ]
  },
  {
   "cell_type": "markdown",
   "id": "4a5b99f3-f8d7-4eb2-a592-fa35953fb522",
   "metadata": {},
   "source": [
    "For each trial, a config dictionary like the one we just defined, with the single value for each hyperparameter chosen for that trial, will be passed into a [trainable](https://docs.ray.io/en/releases-1.11.0/tune/key-concepts.html#search-algorithms) that we define and pass to Ray Tune. Below we have defined such a function to wrap training a single XGBoost model on Ray."
   ]
  },
  {
   "cell_type": "code",
   "execution_count": 175,
   "id": "ba984d1f-46dd-41c7-9a31-08ec441bf14c",
   "metadata": {
    "tags": []
   },
   "outputs": [],
   "source": [
    "def my_trainer(config):\n",
    "    import mlflow\n",
    "    import os\n",
    "    \n",
    "    # For distributed Ray, skip MLFlow logging within workers to avoid networking issues\n",
    "    # The main experiment tracking will happen at the notebook level\n",
    "    \n",
    "    evals_result = {}\n",
    "    bst = xgbr.train(\n",
    "        params=config,\n",
    "        dtrain=rdm_train,\n",
    "        num_boost_round=50,\n",
    "        evals_result=evals_result,\n",
    "        evals=[(rdm_train, \"train\"), (rdm_val, \"val\")],\n",
    "        ray_params=xgb_ray_params\n",
    "    )\n",
    "    \n",
    "    # Save model locally (keep existing functionality)\n",
    "    bst.save_model(\"model.xgb\")  # This will go into the TUNE_ROOT directory\n",
    "    \n",
    "    # XGBoost-Ray automatically reports metrics, so we don't need tune.report()\n",
    "    # The metrics will be: val-error, train-error, val-logloss, train-logloss"
   ]
  },
  {
   "cell_type": "markdown",
   "id": "53cd84a0-0ab6-4c8a-b531-0578603f373a",
   "metadata": {},
   "source": [
    "Finally, we can now run our trials. Here we bring together the previous few sections:\n",
    "\n",
    "* The training function\n",
    "* The search space defined in the config\n",
    "* The resources per trial and results location\n",
    "\n",
    "We control the number of trials over the search space via the `num_samples` argument (currently set to 10). We also rank the models based on the lowest validation set error."
   ]
  },
  {
   "cell_type": "code",
   "execution_count": 176,
   "id": "6ca740c1-c875-4d2b-9676-bbe415e30429",
   "metadata": {
    "tags": []
   },
   "outputs": [
    {
     "data": {
      "text/html": [
       "<div class=\"tuneStatus\">\n",
       "  <div style=\"display: flex;flex-direction: row\">\n",
       "    <div style=\"display: flex;flex-direction: column;\">\n",
       "      <h3>Tune Status</h3>\n",
       "      <table>\n",
       "<tbody>\n",
       "<tr><td>Current time:</td><td>2025-07-21 15:44:52</td></tr>\n",
       "<tr><td>Running for: </td><td>00:08:30.21        </td></tr>\n",
       "<tr><td>Memory:      </td><td>6.3/30.8 GiB       </td></tr>\n",
       "</tbody>\n",
       "</table>\n",
       "    </div>\n",
       "    <div class=\"vDivider\"></div>\n",
       "    <div class=\"systemInfo\">\n",
       "      <h3>System Info</h3>\n",
       "      Using FIFO scheduling algorithm.<br>Logical resource usage: 0/12 CPUs, 0/0 GPUs\n",
       "    </div>\n",
       "    \n",
       "  </div>\n",
       "  <div class=\"hDivider\"></div>\n",
       "  <div class=\"trialStatus\">\n",
       "    <h3>Trial Status</h3>\n",
       "    <table>\n",
       "<thead>\n",
       "<tr><th>Trial name            </th><th>status    </th><th>loc              </th><th style=\"text-align: right;\">       eta</th><th style=\"text-align: right;\">  max_depth</th><th style=\"text-align: right;\">  iter</th><th style=\"text-align: right;\">  total time (s)</th><th style=\"text-align: right;\">  train-logloss</th><th style=\"text-align: right;\">  train-error</th><th style=\"text-align: right;\">  val-logloss</th></tr>\n",
       "</thead>\n",
       "<tbody>\n",
       "<tr><td>my_trainer_2008c_00000</td><td>TERMINATED</td><td>100.64.87.68:5803</td><td style=\"text-align: right;\">0.0124453 </td><td style=\"text-align: right;\">          4</td><td style=\"text-align: right;\">    50</td><td style=\"text-align: right;\">         51.9124</td><td style=\"text-align: right;\">       0.51829 </td><td style=\"text-align: right;\">    0.16232  </td><td style=\"text-align: right;\">     0.506702</td></tr>\n",
       "<tr><td>my_trainer_2008c_00001</td><td>TERMINATED</td><td>100.64.87.68:5803</td><td style=\"text-align: right;\">0.0116609 </td><td style=\"text-align: right;\">          5</td><td style=\"text-align: right;\">    50</td><td style=\"text-align: right;\">         51.3826</td><td style=\"text-align: right;\">       0.491184</td><td style=\"text-align: right;\">    0.120569 </td><td style=\"text-align: right;\">     0.480641</td></tr>\n",
       "<tr><td>my_trainer_2008c_00002</td><td>TERMINATED</td><td>100.64.87.68:5803</td><td style=\"text-align: right;\">0.139819  </td><td style=\"text-align: right;\">          3</td><td style=\"text-align: right;\">    50</td><td style=\"text-align: right;\">         49.8352</td><td style=\"text-align: right;\">       0.260514</td><td style=\"text-align: right;\">    0.08034  </td><td style=\"text-align: right;\">     0.249884</td></tr>\n",
       "<tr><td>my_trainer_2008c_00003</td><td>TERMINATED</td><td>100.64.87.68:5803</td><td style=\"text-align: right;\">0.0212907 </td><td style=\"text-align: right;\">          2</td><td style=\"text-align: right;\">    50</td><td style=\"text-align: right;\">         49.4427</td><td style=\"text-align: right;\">       0.548803</td><td style=\"text-align: right;\">    0.228507 </td><td style=\"text-align: right;\">     0.541303</td></tr>\n",
       "<tr><td>my_trainer_2008c_00004</td><td>TERMINATED</td><td>100.64.87.68:5803</td><td style=\"text-align: right;\">0.0173977 </td><td style=\"text-align: right;\">          2</td><td style=\"text-align: right;\">    50</td><td style=\"text-align: right;\">         49.5382</td><td style=\"text-align: right;\">       0.565581</td><td style=\"text-align: right;\">    0.222753 </td><td style=\"text-align: right;\">     0.558579</td></tr>\n",
       "<tr><td>my_trainer_2008c_00005</td><td>TERMINATED</td><td>100.64.87.68:5803</td><td style=\"text-align: right;\">0.169785  </td><td style=\"text-align: right;\">          2</td><td style=\"text-align: right;\">    50</td><td style=\"text-align: right;\">         49.6153</td><td style=\"text-align: right;\">       0.328622</td><td style=\"text-align: right;\">    0.12087  </td><td style=\"text-align: right;\">     0.316401</td></tr>\n",
       "<tr><td>my_trainer_2008c_00006</td><td>TERMINATED</td><td>100.64.87.68:5803</td><td style=\"text-align: right;\">0.069616  </td><td style=\"text-align: right;\">          5</td><td style=\"text-align: right;\">    50</td><td style=\"text-align: right;\">         51.3135</td><td style=\"text-align: right;\">       0.201696</td><td style=\"text-align: right;\">    0.0319224</td><td style=\"text-align: right;\">     0.189177</td></tr>\n",
       "<tr><td>my_trainer_2008c_00007</td><td>TERMINATED</td><td>100.64.87.68:5803</td><td style=\"text-align: right;\">0.0253027 </td><td style=\"text-align: right;\">          4</td><td style=\"text-align: right;\">    50</td><td style=\"text-align: right;\">         51.2018</td><td style=\"text-align: right;\">       0.424951</td><td style=\"text-align: right;\">    0.131297 </td><td style=\"text-align: right;\">     0.41062 </td></tr>\n",
       "<tr><td>my_trainer_2008c_00008</td><td>TERMINATED</td><td>100.64.87.68:5803</td><td style=\"text-align: right;\">0.0629852 </td><td style=\"text-align: right;\">          3</td><td style=\"text-align: right;\">    50</td><td style=\"text-align: right;\">         49.8953</td><td style=\"text-align: right;\">       0.362612</td><td style=\"text-align: right;\">    0.119561 </td><td style=\"text-align: right;\">     0.349547</td></tr>\n",
       "<tr><td>my_trainer_2008c_00009</td><td>TERMINATED</td><td>100.64.87.68:5803</td><td style=\"text-align: right;\">0.00525399</td><td style=\"text-align: right;\">          3</td><td style=\"text-align: right;\">    50</td><td style=\"text-align: right;\">         50.3417</td><td style=\"text-align: right;\">       0.619566</td><td style=\"text-align: right;\">    0.20728  </td><td style=\"text-align: right;\">     0.611969</td></tr>\n",
       "</tbody>\n",
       "</table>\n",
       "  </div>\n",
       "</div>\n",
       "<style>\n",
       ".tuneStatus {\n",
       "  color: var(--jp-ui-font-color1);\n",
       "}\n",
       ".tuneStatus .systemInfo {\n",
       "  display: flex;\n",
       "  flex-direction: column;\n",
       "}\n",
       ".tuneStatus td {\n",
       "  white-space: nowrap;\n",
       "}\n",
       ".tuneStatus .trialStatus {\n",
       "  display: flex;\n",
       "  flex-direction: column;\n",
       "}\n",
       ".tuneStatus h3 {\n",
       "  font-weight: bold;\n",
       "}\n",
       ".tuneStatus .hDivider {\n",
       "  border-bottom-width: var(--jp-border-width);\n",
       "  border-bottom-color: var(--jp-border-color0);\n",
       "  border-bottom-style: solid;\n",
       "}\n",
       ".tuneStatus .vDivider {\n",
       "  border-left-width: var(--jp-border-width);\n",
       "  border-left-color: var(--jp-border-color0);\n",
       "  border-left-style: solid;\n",
       "  margin: 0.5em 1em 0.5em 1em;\n",
       "}\n",
       "</style>\n"
      ],
      "text/plain": [
       "<IPython.core.display.HTML object>"
      ]
     },
     "metadata": {},
     "output_type": "display_data"
    },
    {
     "name": "stderr",
     "output_type": "stream",
     "text": [
      "\u001b[2m\u001b[36m(run pid=66576)\u001b[0m UserWarning: The `local_dir` argument of `Experiment is deprecated. Use `storage_path` or set the `TUNE_RESULT_DIR` environment variable instead.\n",
      "\u001b[2m\u001b[36m(_RemoteRayXGBoostActor pid=6079, ip=100.64.46.131)\u001b[0m [15:36:32] task [xgboost.ray]:126663990542400 got new rank 0\n",
      "\u001b[2m\u001b[36m(_RemoteRayXGBoostActor pid=5059, ip=100.64.79.49)\u001b[0m [15:36:32] task [xgboost.ray]:139443266082752 got new rank 1\n",
      "\u001b[2m\u001b[36m(_RemoteRayXGBoostActor pid=5847, ip=100.64.87.68)\u001b[0m [15:36:32] task [xgboost.ray]:130165726890832 got new rank 2\n"
     ]
    },
    {
     "name": "stdout",
     "output_type": "stream",
     "text": [
      "\u001b[2m\u001b[36m(my_trainer pid=5803, ip=100.64.87.68)\u001b[0m [0]\ttrain-logloss:0.68768\ttrain-error:0.20367\tval-logloss:0.68746\tval-error:0.19787\n",
      "\u001b[2m\u001b[36m(my_trainer pid=5803, ip=100.64.87.68)\u001b[0m [1]\ttrain-logloss:0.68234\ttrain-error:0.20367\tval-logloss:0.68192\tval-error:0.19787\n",
      "\u001b[2m\u001b[36m(my_trainer pid=5803, ip=100.64.87.68)\u001b[0m [2]\ttrain-logloss:0.67713\ttrain-error:0.20367\tval-logloss:0.67647\tval-error:0.19787\n",
      "\u001b[2m\u001b[36m(my_trainer pid=5803, ip=100.64.87.68)\u001b[0m [3]\ttrain-logloss:0.67215\ttrain-error:0.19528\tval-logloss:0.67106\tval-error:0.18459\n",
      "\u001b[2m\u001b[36m(my_trainer pid=5803, ip=100.64.87.68)\u001b[0m [4]\ttrain-logloss:0.66728\ttrain-error:0.19621\tval-logloss:0.66580\tval-error:0.18534\n",
      "\u001b[2m\u001b[36m(my_trainer pid=5803, ip=100.64.87.68)\u001b[0m [5]\ttrain-logloss:0.66258\ttrain-error:0.19508\tval-logloss:0.66062\tval-error:0.18378\n",
      "\u001b[2m\u001b[36m(my_trainer pid=5803, ip=100.64.87.68)\u001b[0m [6]\ttrain-logloss:0.65779\ttrain-error:0.19442\tval-logloss:0.65564\tval-error:0.18218\n",
      "\u001b[2m\u001b[36m(my_trainer pid=5803, ip=100.64.87.68)\u001b[0m [7]\ttrain-logloss:0.65323\ttrain-error:0.19625\tval-logloss:0.65070\tval-error:0.18854\n",
      "\u001b[2m\u001b[36m(my_trainer pid=5803, ip=100.64.87.68)\u001b[0m [8]\ttrain-logloss:0.64880\ttrain-error:0.18111\tval-logloss:0.64593\tval-error:0.16674\n",
      "\u001b[2m\u001b[36m(my_trainer pid=5803, ip=100.64.87.68)\u001b[0m [9]\ttrain-logloss:0.64442\ttrain-error:0.18215\tval-logloss:0.64124\tval-error:0.16912\n",
      "\u001b[2m\u001b[36m(my_trainer pid=5803, ip=100.64.87.68)\u001b[0m [10]\ttrain-logloss:0.64018\ttrain-error:0.18607\tval-logloss:0.63662\tval-error:0.17380\n",
      "\u001b[2m\u001b[36m(my_trainer pid=5803, ip=100.64.87.68)\u001b[0m [11]\ttrain-logloss:0.63598\ttrain-error:0.18607\tval-logloss:0.63213\tval-error:0.17380\n",
      "\u001b[2m\u001b[36m(my_trainer pid=5803, ip=100.64.87.68)\u001b[0m [12]\ttrain-logloss:0.63181\ttrain-error:0.18384\tval-logloss:0.62774\tval-error:0.16442\n",
      "\u001b[2m\u001b[36m(my_trainer pid=5803, ip=100.64.87.68)\u001b[0m [13]\ttrain-logloss:0.62782\ttrain-error:0.17897\tval-logloss:0.62336\tval-error:0.15976\n",
      "\u001b[2m\u001b[36m(my_trainer pid=5803, ip=100.64.87.68)\u001b[0m [14]\ttrain-logloss:0.62382\ttrain-error:0.18240\tval-logloss:0.61919\tval-error:0.16208\n",
      "\u001b[2m\u001b[36m(my_trainer pid=5803, ip=100.64.87.68)\u001b[0m [15]\ttrain-logloss:0.61998\ttrain-error:0.17980\tval-logloss:0.61505\tval-error:0.16052\n",
      "\u001b[2m\u001b[36m(my_trainer pid=5803, ip=100.64.87.68)\u001b[0m [16]\ttrain-logloss:0.61613\ttrain-error:0.18172\tval-logloss:0.61098\tval-error:0.16284\n",
      "\u001b[2m\u001b[36m(my_trainer pid=5803, ip=100.64.87.68)\u001b[0m [17]\ttrain-logloss:0.61243\ttrain-error:0.17890\tval-logloss:0.60696\tval-error:0.15975\n",
      "\u001b[2m\u001b[36m(my_trainer pid=5803, ip=100.64.87.68)\u001b[0m [18]\ttrain-logloss:0.60873\ttrain-error:0.18216\tval-logloss:0.60309\tval-error:0.16674\n",
      "\u001b[2m\u001b[36m(my_trainer pid=5803, ip=100.64.87.68)\u001b[0m [19]\ttrain-logloss:0.60494\ttrain-error:0.17879\tval-logloss:0.59900\tval-error:0.16281\n",
      "\u001b[2m\u001b[36m(my_trainer pid=5803, ip=100.64.87.68)\u001b[0m [20]\ttrain-logloss:0.60146\ttrain-error:0.17993\tval-logloss:0.59511\tval-error:0.16126\n",
      "\u001b[2m\u001b[36m(my_trainer pid=5803, ip=100.64.87.68)\u001b[0m [21]\ttrain-logloss:0.59782\ttrain-error:0.18026\tval-logloss:0.59123\tval-error:0.16283\n",
      "\u001b[2m\u001b[36m(my_trainer pid=5803, ip=100.64.87.68)\u001b[0m [22]\ttrain-logloss:0.59436\ttrain-error:0.17791\tval-logloss:0.58740\tval-error:0.15970\n",
      "\u001b[2m\u001b[36m(my_trainer pid=5803, ip=100.64.87.68)\u001b[0m [23]\ttrain-logloss:0.59097\ttrain-error:0.17575\tval-logloss:0.58385\tval-error:0.16122\n",
      "\u001b[2m\u001b[36m(my_trainer pid=5803, ip=100.64.87.68)\u001b[0m [24]\ttrain-logloss:0.58775\ttrain-error:0.18004\tval-logloss:0.58022\tval-error:0.16126\n",
      "\u001b[2m\u001b[36m(my_trainer pid=5803, ip=100.64.87.68)\u001b[0m [25]\ttrain-logloss:0.58447\ttrain-error:0.17880\tval-logloss:0.57666\tval-error:0.15975\n",
      "\u001b[2m\u001b[36m(my_trainer pid=5803, ip=100.64.87.68)\u001b[0m [26]\ttrain-logloss:0.58112\ttrain-error:0.17645\tval-logloss:0.57303\tval-error:0.15582\n",
      "\u001b[2m\u001b[36m(my_trainer pid=5803, ip=100.64.87.68)\u001b[0m [27]\ttrain-logloss:0.57800\ttrain-error:0.17396\tval-logloss:0.56977\tval-error:0.15893\n",
      "\u001b[2m\u001b[36m(my_trainer pid=5803, ip=100.64.87.68)\u001b[0m [28]\ttrain-logloss:0.57496\ttrain-error:0.17936\tval-logloss:0.56643\tval-error:0.16279\n",
      "\u001b[2m\u001b[36m(my_trainer pid=5803, ip=100.64.87.68)\u001b[0m [29]\ttrain-logloss:0.57197\ttrain-error:0.17646\tval-logloss:0.56315\tval-error:0.15661\n",
      "\u001b[2m\u001b[36m(my_trainer pid=5803, ip=100.64.87.68)\u001b[0m [30]\ttrain-logloss:0.56897\ttrain-error:0.17528\tval-logloss:0.55997\tval-error:0.16128\n",
      "\u001b[2m\u001b[36m(my_trainer pid=5803, ip=100.64.87.68)\u001b[0m [31]\ttrain-logloss:0.56602\ttrain-error:0.17462\tval-logloss:0.55680\tval-error:0.15972\n"
     ]
    },
    {
     "name": "stderr",
     "output_type": "stream",
     "text": [
      "\u001b[2m\u001b[36m(my_trainer pid=5803, ip=100.64.87.68)\u001b[0m 2025-07-21 15:37:02,867\tINFO main.py:1175 -- Training in progress (31 seconds since last restart).\n"
     ]
    },
    {
     "name": "stdout",
     "output_type": "stream",
     "text": [
      "\u001b[2m\u001b[36m(my_trainer pid=5803, ip=100.64.87.68)\u001b[0m [32]\ttrain-logloss:0.56304\ttrain-error:0.17563\tval-logloss:0.55371\tval-error:0.16048\n",
      "\u001b[2m\u001b[36m(my_trainer pid=5803, ip=100.64.87.68)\u001b[0m [33]\ttrain-logloss:0.56009\ttrain-error:0.17146\tval-logloss:0.55064\tval-error:0.15734\n",
      "\u001b[2m\u001b[36m(my_trainer pid=5803, ip=100.64.87.68)\u001b[0m [34]\ttrain-logloss:0.55714\ttrain-error:0.17113\tval-logloss:0.54765\tval-error:0.15658\n",
      "\u001b[2m\u001b[36m(my_trainer pid=5803, ip=100.64.87.68)\u001b[0m [35]\ttrain-logloss:0.55451\ttrain-error:0.17136\tval-logloss:0.54489\tval-error:0.15968\n",
      "\u001b[2m\u001b[36m(my_trainer pid=5803, ip=100.64.87.68)\u001b[0m [36]\ttrain-logloss:0.55166\ttrain-error:0.17282\tval-logloss:0.54200\tval-error:0.16047\n",
      "\u001b[2m\u001b[36m(my_trainer pid=5803, ip=100.64.87.68)\u001b[0m [37]\ttrain-logloss:0.54881\ttrain-error:0.16944\tval-logloss:0.53898\tval-error:0.15658\n",
      "\u001b[2m\u001b[36m(my_trainer pid=5803, ip=100.64.87.68)\u001b[0m [38]\ttrain-logloss:0.54614\ttrain-error:0.17306\tval-logloss:0.53615\tval-error:0.15968\n",
      "\u001b[2m\u001b[36m(my_trainer pid=5803, ip=100.64.87.68)\u001b[0m [39]\ttrain-logloss:0.54353\ttrain-error:0.16988\tval-logloss:0.53338\tval-error:0.15577\n",
      "\u001b[2m\u001b[36m(my_trainer pid=5803, ip=100.64.87.68)\u001b[0m [40]\ttrain-logloss:0.54087\ttrain-error:0.17147\tval-logloss:0.53068\tval-error:0.15733\n",
      "\u001b[2m\u001b[36m(my_trainer pid=5803, ip=100.64.87.68)\u001b[0m [41]\ttrain-logloss:0.53835\ttrain-error:0.16988\tval-logloss:0.52801\tval-error:0.15577\n",
      "\u001b[2m\u001b[36m(my_trainer pid=5803, ip=100.64.87.68)\u001b[0m [42]\ttrain-logloss:0.53585\ttrain-error:0.17112\tval-logloss:0.52534\tval-error:0.15730\n",
      "\u001b[2m\u001b[36m(my_trainer pid=5803, ip=100.64.87.68)\u001b[0m [43]\ttrain-logloss:0.53315\ttrain-error:0.16874\tval-logloss:0.52244\tval-error:0.15572\n",
      "\u001b[2m\u001b[36m(my_trainer pid=5803, ip=100.64.87.68)\u001b[0m [44]\ttrain-logloss:0.53073\ttrain-error:0.16944\tval-logloss:0.51986\tval-error:0.15258\n",
      "\u001b[2m\u001b[36m(my_trainer pid=5803, ip=100.64.87.68)\u001b[0m [45]\ttrain-logloss:0.52812\ttrain-error:0.16761\tval-logloss:0.51710\tval-error:0.14944\n",
      "\u001b[2m\u001b[36m(my_trainer pid=5803, ip=100.64.87.68)\u001b[0m [46]\ttrain-logloss:0.52572\ttrain-error:0.16615\tval-logloss:0.51466\tval-error:0.15021\n",
      "\u001b[2m\u001b[36m(my_trainer pid=5803, ip=100.64.87.68)\u001b[0m [47]\ttrain-logloss:0.52319\ttrain-error:0.16604\tval-logloss:0.51193\tval-error:0.14786\n",
      "\u001b[2m\u001b[36m(my_trainer pid=5803, ip=100.64.87.68)\u001b[0m [48]\ttrain-logloss:0.52074\ttrain-error:0.16548\tval-logloss:0.50934\tval-error:0.14786\n",
      "\u001b[2m\u001b[36m(my_trainer pid=5803, ip=100.64.87.68)\u001b[0m [49]\ttrain-logloss:0.51829\ttrain-error:0.16232\tval-logloss:0.50670\tval-error:0.14398\n"
     ]
    },
    {
     "name": "stderr",
     "output_type": "stream",
     "text": [
      "\u001b[2m\u001b[36m(_RemoteRayXGBoostActor pid=6201, ip=100.64.46.131)\u001b[0m [15:37:23] task [xgboost.ray]:135866403616512 got new rank 0\n",
      "\u001b[2m\u001b[36m(_RemoteRayXGBoostActor pid=5142, ip=100.64.79.49)\u001b[0m [15:37:23] task [xgboost.ray]:126360230668272 got new rank 1\n",
      "\u001b[2m\u001b[36m(_RemoteRayXGBoostActor pid=6029, ip=100.64.87.68)\u001b[0m [15:37:23] task [xgboost.ray]:128386867501040 got new rank 2\n"
     ]
    },
    {
     "name": "stdout",
     "output_type": "stream",
     "text": [
      "\u001b[2m\u001b[36m(my_trainer pid=5803, ip=100.64.87.68)\u001b[0m [0]\ttrain-logloss:0.68699\ttrain-error:0.16109\tval-logloss:0.68691\tval-error:0.15954\n",
      "\u001b[2m\u001b[36m(my_trainer pid=5803, ip=100.64.87.68)\u001b[0m [1]\ttrain-logloss:0.68097\ttrain-error:0.16109\tval-logloss:0.68087\tval-error:0.15954\n",
      "\u001b[2m\u001b[36m(my_trainer pid=5803, ip=100.64.87.68)\u001b[0m [2]\ttrain-logloss:0.67512\ttrain-error:0.15846\tval-logloss:0.67492\tval-error:0.15730\n",
      "\u001b[2m\u001b[36m(my_trainer pid=5803, ip=100.64.87.68)\u001b[0m [3]\ttrain-logloss:0.66940\ttrain-error:0.15846\tval-logloss:0.66918\tval-error:0.15730\n",
      "\u001b[2m\u001b[36m(my_trainer pid=5803, ip=100.64.87.68)\u001b[0m [4]\ttrain-logloss:0.66374\ttrain-error:0.15846\tval-logloss:0.66343\tval-error:0.15730\n",
      "\u001b[2m\u001b[36m(my_trainer pid=5803, ip=100.64.87.68)\u001b[0m [5]\ttrain-logloss:0.65836\ttrain-error:0.16153\tval-logloss:0.65763\tval-error:0.15960\n",
      "\u001b[2m\u001b[36m(my_trainer pid=5803, ip=100.64.87.68)\u001b[0m [6]\ttrain-logloss:0.65309\ttrain-error:0.15848\tval-logloss:0.65198\tval-error:0.15649\n",
      "\u001b[2m\u001b[36m(my_trainer pid=5803, ip=100.64.87.68)\u001b[0m [7]\ttrain-logloss:0.64791\ttrain-error:0.15635\tval-logloss:0.64638\tval-error:0.15176\n",
      "\u001b[2m\u001b[36m(my_trainer pid=5803, ip=100.64.87.68)\u001b[0m [8]\ttrain-logloss:0.64267\ttrain-error:0.15886\tval-logloss:0.64106\tval-error:0.15341\n",
      "\u001b[2m\u001b[36m(my_trainer pid=5803, ip=100.64.87.68)\u001b[0m [9]\ttrain-logloss:0.63766\ttrain-error:0.14692\tval-logloss:0.63573\tval-error:0.13701\n",
      "\u001b[2m\u001b[36m(my_trainer pid=5803, ip=100.64.87.68)\u001b[0m [10]\ttrain-logloss:0.63273\ttrain-error:0.14874\tval-logloss:0.63043\tval-error:0.13774\n",
      "\u001b[2m\u001b[36m(my_trainer pid=5803, ip=100.64.87.68)\u001b[0m [11]\ttrain-logloss:0.62792\ttrain-error:0.14571\tval-logloss:0.62529\tval-error:0.13151\n",
      "\u001b[2m\u001b[36m(my_trainer pid=5803, ip=100.64.87.68)\u001b[0m [12]\ttrain-logloss:0.62299\ttrain-error:0.14636\tval-logloss:0.62026\tval-error:0.13462\n",
      "\u001b[2m\u001b[36m(my_trainer pid=5803, ip=100.64.87.68)\u001b[0m [13]\ttrain-logloss:0.61839\ttrain-error:0.14636\tval-logloss:0.61537\tval-error:0.13462\n",
      "\u001b[2m\u001b[36m(my_trainer pid=5803, ip=100.64.87.68)\u001b[0m [14]\ttrain-logloss:0.61381\ttrain-error:0.14467\tval-logloss:0.61050\tval-error:0.13148\n",
      "\u001b[2m\u001b[36m(my_trainer pid=5803, ip=100.64.87.68)\u001b[0m [15]\ttrain-logloss:0.60940\ttrain-error:0.14388\tval-logloss:0.60579\tval-error:0.12838\n",
      "\u001b[2m\u001b[36m(my_trainer pid=5803, ip=100.64.87.68)\u001b[0m [16]\ttrain-logloss:0.60490\ttrain-error:0.13848\tval-logloss:0.60089\tval-error:0.12137\n",
      "\u001b[2m\u001b[36m(my_trainer pid=5803, ip=100.64.87.68)\u001b[0m [17]\ttrain-logloss:0.60054\ttrain-error:0.13984\tval-logloss:0.59638\tval-error:0.12290\n",
      "\u001b[2m\u001b[36m(my_trainer pid=5803, ip=100.64.87.68)\u001b[0m [18]\ttrain-logloss:0.59619\ttrain-error:0.13261\tval-logloss:0.59191\tval-error:0.11515\n",
      "\u001b[2m\u001b[36m(my_trainer pid=5803, ip=100.64.87.68)\u001b[0m [19]\ttrain-logloss:0.59191\ttrain-error:0.13249\tval-logloss:0.58744\tval-error:0.11515\n",
      "\u001b[2m\u001b[36m(my_trainer pid=5803, ip=100.64.87.68)\u001b[0m [20]\ttrain-logloss:0.58765\ttrain-error:0.13296\tval-logloss:0.58294\tval-error:0.11594\n",
      "\u001b[2m\u001b[36m(my_trainer pid=5803, ip=100.64.87.68)\u001b[0m [21]\ttrain-logloss:0.58361\ttrain-error:0.13084\tval-logloss:0.57850\tval-error:0.11442\n",
      "\u001b[2m\u001b[36m(my_trainer pid=5803, ip=100.64.87.68)\u001b[0m [22]\ttrain-logloss:0.57950\ttrain-error:0.13455\tval-logloss:0.57419\tval-error:0.11675\n",
      "\u001b[2m\u001b[36m(my_trainer pid=5803, ip=100.64.87.68)\u001b[0m [23]\ttrain-logloss:0.57558\ttrain-error:0.13376\tval-logloss:0.57014\tval-error:0.11676\n",
      "\u001b[2m\u001b[36m(my_trainer pid=5803, ip=100.64.87.68)\u001b[0m [24]\ttrain-logloss:0.57168\ttrain-error:0.13050\tval-logloss:0.56582\tval-error:0.11443\n",
      "\u001b[2m\u001b[36m(my_trainer pid=5803, ip=100.64.87.68)\u001b[0m [25]\ttrain-logloss:0.56789\ttrain-error:0.13421\tval-logloss:0.56193\tval-error:0.12145\n",
      "\u001b[2m\u001b[36m(my_trainer pid=5803, ip=100.64.87.68)\u001b[0m [26]\ttrain-logloss:0.56400\ttrain-error:0.13421\tval-logloss:0.55788\tval-error:0.12145\n",
      "\u001b[2m\u001b[36m(my_trainer pid=5803, ip=100.64.87.68)\u001b[0m [27]\ttrain-logloss:0.56024\ttrain-error:0.13375\tval-logloss:0.55399\tval-error:0.12064\n",
      "\u001b[2m\u001b[36m(my_trainer pid=5803, ip=100.64.87.68)\u001b[0m [28]\ttrain-logloss:0.55663\ttrain-error:0.12993\tval-logloss:0.55005\tval-error:0.11752\n",
      "\u001b[2m\u001b[36m(my_trainer pid=5803, ip=100.64.87.68)\u001b[0m [29]\ttrain-logloss:0.55299\ttrain-error:0.12857\tval-logloss:0.54627\tval-error:0.11594\n",
      "\u001b[2m\u001b[36m(my_trainer pid=5803, ip=100.64.87.68)\u001b[0m [30]\ttrain-logloss:0.54954\ttrain-error:0.12756\tval-logloss:0.54257\tval-error:0.11594\n",
      "\u001b[2m\u001b[36m(my_trainer pid=5803, ip=100.64.87.68)\u001b[0m [31]\ttrain-logloss:0.54609\ttrain-error:0.12936\tval-logloss:0.53902\tval-error:0.11827\n"
     ]
    },
    {
     "name": "stderr",
     "output_type": "stream",
     "text": [
      "\u001b[2m\u001b[36m(my_trainer pid=5803, ip=100.64.87.68)\u001b[0m 2025-07-21 15:37:54,458\tINFO main.py:1175 -- Training in progress (31 seconds since last restart).\n"
     ]
    },
    {
     "name": "stdout",
     "output_type": "stream",
     "text": [
      "\u001b[2m\u001b[36m(my_trainer pid=5803, ip=100.64.87.68)\u001b[0m [32]\ttrain-logloss:0.54267\ttrain-error:0.12969\tval-logloss:0.53547\tval-error:0.11749\n",
      "\u001b[2m\u001b[36m(my_trainer pid=5803, ip=100.64.87.68)\u001b[0m [33]\ttrain-logloss:0.53942\ttrain-error:0.13036\tval-logloss:0.53198\tval-error:0.11829\n",
      "\u001b[2m\u001b[36m(my_trainer pid=5803, ip=100.64.87.68)\u001b[0m [34]\ttrain-logloss:0.53616\ttrain-error:0.13047\tval-logloss:0.52856\tval-error:0.11829\n",
      "\u001b[2m\u001b[36m(my_trainer pid=5803, ip=100.64.87.68)\u001b[0m [35]\ttrain-logloss:0.53290\ttrain-error:0.13002\tval-logloss:0.52500\tval-error:0.11668\n",
      "\u001b[2m\u001b[36m(my_trainer pid=5803, ip=100.64.87.68)\u001b[0m [36]\ttrain-logloss:0.52975\ttrain-error:0.12858\tval-logloss:0.52157\tval-error:0.11514\n",
      "\u001b[2m\u001b[36m(my_trainer pid=5803, ip=100.64.87.68)\u001b[0m [37]\ttrain-logloss:0.52660\ttrain-error:0.13016\tval-logloss:0.51805\tval-error:0.11514\n",
      "\u001b[2m\u001b[36m(my_trainer pid=5803, ip=100.64.87.68)\u001b[0m [38]\ttrain-logloss:0.52352\ttrain-error:0.12892\tval-logloss:0.51488\tval-error:0.11356\n",
      "\u001b[2m\u001b[36m(my_trainer pid=5803, ip=100.64.87.68)\u001b[0m [39]\ttrain-logloss:0.52034\ttrain-error:0.12700\tval-logloss:0.51154\tval-error:0.11277\n",
      "\u001b[2m\u001b[36m(my_trainer pid=5803, ip=100.64.87.68)\u001b[0m [40]\ttrain-logloss:0.51721\ttrain-error:0.12779\tval-logloss:0.50834\tval-error:0.11435\n",
      "\u001b[2m\u001b[36m(my_trainer pid=5803, ip=100.64.87.68)\u001b[0m [41]\ttrain-logloss:0.51427\ttrain-error:0.12487\tval-logloss:0.50511\tval-error:0.11200\n",
      "\u001b[2m\u001b[36m(my_trainer pid=5803, ip=100.64.87.68)\u001b[0m [42]\ttrain-logloss:0.51138\ttrain-error:0.12555\tval-logloss:0.50207\tval-error:0.11121\n",
      "\u001b[2m\u001b[36m(my_trainer pid=5803, ip=100.64.87.68)\u001b[0m [43]\ttrain-logloss:0.50849\ttrain-error:0.12599\tval-logloss:0.49895\tval-error:0.11121\n",
      "\u001b[2m\u001b[36m(my_trainer pid=5803, ip=100.64.87.68)\u001b[0m [44]\ttrain-logloss:0.50564\ttrain-error:0.12487\tval-logloss:0.49598\tval-error:0.11042\n",
      "\u001b[2m\u001b[36m(my_trainer pid=5803, ip=100.64.87.68)\u001b[0m [45]\ttrain-logloss:0.50287\ttrain-error:0.12487\tval-logloss:0.49304\tval-error:0.11042\n",
      "\u001b[2m\u001b[36m(my_trainer pid=5803, ip=100.64.87.68)\u001b[0m [46]\ttrain-logloss:0.50002\ttrain-error:0.12487\tval-logloss:0.48993\tval-error:0.11042\n",
      "\u001b[2m\u001b[36m(my_trainer pid=5803, ip=100.64.87.68)\u001b[0m [47]\ttrain-logloss:0.49704\ttrain-error:0.12453\tval-logloss:0.48675\tval-error:0.10962\n",
      "\u001b[2m\u001b[36m(my_trainer pid=5803, ip=100.64.87.68)\u001b[0m [48]\ttrain-logloss:0.49409\ttrain-error:0.12351\tval-logloss:0.48375\tval-error:0.10886\n",
      "\u001b[2m\u001b[36m(my_trainer pid=5803, ip=100.64.87.68)\u001b[0m [49]\ttrain-logloss:0.49118\ttrain-error:0.12057\tval-logloss:0.48064\tval-error:0.10569\n"
     ]
    },
    {
     "name": "stderr",
     "output_type": "stream",
     "text": [
      "\u001b[2m\u001b[36m(_RemoteRayXGBoostActor pid=6285, ip=100.64.46.131)\u001b[0m [15:38:15] task [xgboost.ray]:136802920961984 got new rank 0\n",
      "\u001b[2m\u001b[36m(_RemoteRayXGBoostActor pid=5261, ip=100.64.79.49)\u001b[0m [15:38:15] task [xgboost.ray]:130190621894592 got new rank 1\n",
      "\u001b[2m\u001b[36m(_RemoteRayXGBoostActor pid=6212, ip=100.64.87.68)\u001b[0m [15:38:15] task [xgboost.ray]:138726984250464 got new rank 2\n"
     ]
    },
    {
     "name": "stdout",
     "output_type": "stream",
     "text": [
      "\u001b[2m\u001b[36m(my_trainer pid=5803, ip=100.64.87.68)\u001b[0m [0]\ttrain-logloss:0.64626\ttrain-error:0.22747\tval-logloss:0.64266\tval-error:0.20883\n",
      "\u001b[2m\u001b[36m(my_trainer pid=5803, ip=100.64.87.68)\u001b[0m [1]\ttrain-logloss:0.61047\ttrain-error:0.22322\tval-logloss:0.60262\tval-error:0.20100\n",
      "\u001b[2m\u001b[36m(my_trainer pid=5803, ip=100.64.87.68)\u001b[0m [2]\ttrain-logloss:0.58320\ttrain-error:0.21867\tval-logloss:0.57439\tval-error:0.20415\n",
      "\u001b[2m\u001b[36m(my_trainer pid=5803, ip=100.64.87.68)\u001b[0m [3]\ttrain-logloss:0.55660\ttrain-error:0.18310\tval-logloss:0.54493\tval-error:0.16032\n",
      "\u001b[2m\u001b[36m(my_trainer pid=5803, ip=100.64.87.68)\u001b[0m [4]\ttrain-logloss:0.53512\ttrain-error:0.19760\tval-logloss:0.52268\tval-error:0.17819\n",
      "\u001b[2m\u001b[36m(my_trainer pid=5803, ip=100.64.87.68)\u001b[0m [5]\ttrain-logloss:0.51608\ttrain-error:0.18392\tval-logloss:0.50246\tval-error:0.16039\n",
      "\u001b[2m\u001b[36m(my_trainer pid=5803, ip=100.64.87.68)\u001b[0m [6]\ttrain-logloss:0.50023\ttrain-error:0.17469\tval-logloss:0.48667\tval-error:0.15033\n",
      "\u001b[2m\u001b[36m(my_trainer pid=5803, ip=100.64.87.68)\u001b[0m [7]\ttrain-logloss:0.48613\ttrain-error:0.17654\tval-logloss:0.47344\tval-error:0.16277\n",
      "\u001b[2m\u001b[36m(my_trainer pid=5803, ip=100.64.87.68)\u001b[0m [8]\ttrain-logloss:0.47280\ttrain-error:0.15835\tval-logloss:0.45940\tval-error:0.14872\n",
      "\u001b[2m\u001b[36m(my_trainer pid=5803, ip=100.64.87.68)\u001b[0m [9]\ttrain-logloss:0.46020\ttrain-error:0.15922\tval-logloss:0.44658\tval-error:0.14945\n",
      "\u001b[2m\u001b[36m(my_trainer pid=5803, ip=100.64.87.68)\u001b[0m [10]\ttrain-logloss:0.44853\ttrain-error:0.14841\tval-logloss:0.43550\tval-error:0.14015\n",
      "\u001b[2m\u001b[36m(my_trainer pid=5803, ip=100.64.87.68)\u001b[0m [11]\ttrain-logloss:0.43936\ttrain-error:0.15115\tval-logloss:0.42642\tval-error:0.14554\n",
      "\u001b[2m\u001b[36m(my_trainer pid=5803, ip=100.64.87.68)\u001b[0m [12]\ttrain-logloss:0.42703\ttrain-error:0.15047\tval-logloss:0.41421\tval-error:0.14321\n",
      "\u001b[2m\u001b[36m(my_trainer pid=5803, ip=100.64.87.68)\u001b[0m [13]\ttrain-logloss:0.41773\ttrain-error:0.14279\tval-logloss:0.40545\tval-error:0.13465\n",
      "\u001b[2m\u001b[36m(my_trainer pid=5803, ip=100.64.87.68)\u001b[0m [14]\ttrain-logloss:0.40911\ttrain-error:0.14352\tval-logloss:0.39668\tval-error:0.13705\n",
      "\u001b[2m\u001b[36m(my_trainer pid=5803, ip=100.64.87.68)\u001b[0m [15]\ttrain-logloss:0.39897\ttrain-error:0.13881\tval-logloss:0.38768\tval-error:0.13393\n",
      "\u001b[2m\u001b[36m(my_trainer pid=5803, ip=100.64.87.68)\u001b[0m [16]\ttrain-logloss:0.39131\ttrain-error:0.13235\tval-logloss:0.37978\tval-error:0.12843\n",
      "\u001b[2m\u001b[36m(my_trainer pid=5803, ip=100.64.87.68)\u001b[0m [17]\ttrain-logloss:0.38613\ttrain-error:0.13158\tval-logloss:0.37403\tval-error:0.12764\n",
      "\u001b[2m\u001b[36m(my_trainer pid=5803, ip=100.64.87.68)\u001b[0m [18]\ttrain-logloss:0.37584\ttrain-error:0.12287\tval-logloss:0.36285\tval-error:0.11585\n",
      "\u001b[2m\u001b[36m(my_trainer pid=5803, ip=100.64.87.68)\u001b[0m [19]\ttrain-logloss:0.36809\ttrain-error:0.11555\tval-logloss:0.35576\tval-error:0.10961\n",
      "\u001b[2m\u001b[36m(my_trainer pid=5803, ip=100.64.87.68)\u001b[0m [20]\ttrain-logloss:0.36244\ttrain-error:0.11919\tval-logloss:0.35019\tval-error:0.11119\n",
      "\u001b[2m\u001b[36m(my_trainer pid=5803, ip=100.64.87.68)\u001b[0m [21]\ttrain-logloss:0.35675\ttrain-error:0.11692\tval-logloss:0.34405\tval-error:0.10956\n",
      "\u001b[2m\u001b[36m(my_trainer pid=5803, ip=100.64.87.68)\u001b[0m [22]\ttrain-logloss:0.35122\ttrain-error:0.11318\tval-logloss:0.33882\tval-error:0.10565\n",
      "\u001b[2m\u001b[36m(my_trainer pid=5803, ip=100.64.87.68)\u001b[0m [23]\ttrain-logloss:0.34575\ttrain-error:0.11370\tval-logloss:0.33307\tval-error:0.10567\n",
      "\u001b[2m\u001b[36m(my_trainer pid=5803, ip=100.64.87.68)\u001b[0m [24]\ttrain-logloss:0.33846\ttrain-error:0.11248\tval-logloss:0.32681\tval-error:0.10804\n",
      "\u001b[2m\u001b[36m(my_trainer pid=5803, ip=100.64.87.68)\u001b[0m [25]\ttrain-logloss:0.33499\ttrain-error:0.11104\tval-logloss:0.32355\tval-error:0.10564\n",
      "\u001b[2m\u001b[36m(my_trainer pid=5803, ip=100.64.87.68)\u001b[0m [26]\ttrain-logloss:0.32999\ttrain-error:0.10424\tval-logloss:0.31782\tval-error:0.09781\n",
      "\u001b[2m\u001b[36m(my_trainer pid=5803, ip=100.64.87.68)\u001b[0m [27]\ttrain-logloss:0.32459\ttrain-error:0.10355\tval-logloss:0.31231\tval-error:0.09777\n",
      "\u001b[2m\u001b[36m(my_trainer pid=5803, ip=100.64.87.68)\u001b[0m [28]\ttrain-logloss:0.32074\ttrain-error:0.10143\tval-logloss:0.30813\tval-error:0.09543\n",
      "\u001b[2m\u001b[36m(my_trainer pid=5803, ip=100.64.87.68)\u001b[0m [29]\ttrain-logloss:0.31694\ttrain-error:0.10065\tval-logloss:0.30487\tval-error:0.09310\n",
      "\u001b[2m\u001b[36m(my_trainer pid=5803, ip=100.64.87.68)\u001b[0m [30]\ttrain-logloss:0.31297\ttrain-error:0.09873\tval-logloss:0.30078\tval-error:0.09232\n",
      "\u001b[2m\u001b[36m(my_trainer pid=5803, ip=100.64.87.68)\u001b[0m [31]\ttrain-logloss:0.31018\ttrain-error:0.09936\tval-logloss:0.29819\tval-error:0.09387\n",
      "\u001b[2m\u001b[36m(my_trainer pid=5803, ip=100.64.87.68)\u001b[0m [32]\ttrain-logloss:0.30712\ttrain-error:0.09811\tval-logloss:0.29477\tval-error:0.09149\n"
     ]
    },
    {
     "name": "stderr",
     "output_type": "stream",
     "text": [
      "\u001b[2m\u001b[36m(my_trainer pid=5803, ip=100.64.87.68)\u001b[0m 2025-07-21 15:38:45,952\tINFO main.py:1175 -- Training in progress (31 seconds since last restart).\n"
     ]
    },
    {
     "name": "stdout",
     "output_type": "stream",
     "text": [
      "\u001b[2m\u001b[36m(my_trainer pid=5803, ip=100.64.87.68)\u001b[0m [33]\ttrain-logloss:0.30351\ttrain-error:0.09855\tval-logloss:0.29132\tval-error:0.09305\n",
      "\u001b[2m\u001b[36m(my_trainer pid=5803, ip=100.64.87.68)\u001b[0m [34]\ttrain-logloss:0.30045\ttrain-error:0.09576\tval-logloss:0.28886\tval-error:0.08917\n",
      "\u001b[2m\u001b[36m(my_trainer pid=5803, ip=100.64.87.68)\u001b[0m [35]\ttrain-logloss:0.29807\ttrain-error:0.09756\tval-logloss:0.28661\tval-error:0.09075\n",
      "\u001b[2m\u001b[36m(my_trainer pid=5803, ip=100.64.87.68)\u001b[0m [36]\ttrain-logloss:0.29556\ttrain-error:0.09418\tval-logloss:0.28391\tval-error:0.08682\n",
      "\u001b[2m\u001b[36m(my_trainer pid=5803, ip=100.64.87.68)\u001b[0m [37]\ttrain-logloss:0.29168\ttrain-error:0.08941\tval-logloss:0.27952\tval-error:0.08286\n",
      "\u001b[2m\u001b[36m(my_trainer pid=5803, ip=100.64.87.68)\u001b[0m [38]\ttrain-logloss:0.28960\ttrain-error:0.08883\tval-logloss:0.27728\tval-error:0.08286\n",
      "\u001b[2m\u001b[36m(my_trainer pid=5803, ip=100.64.87.68)\u001b[0m [39]\ttrain-logloss:0.28647\ttrain-error:0.08865\tval-logloss:0.27445\tval-error:0.08364\n",
      "\u001b[2m\u001b[36m(my_trainer pid=5803, ip=100.64.87.68)\u001b[0m [40]\ttrain-logloss:0.28406\ttrain-error:0.08854\tval-logloss:0.27214\tval-error:0.08443\n",
      "\u001b[2m\u001b[36m(my_trainer pid=5803, ip=100.64.87.68)\u001b[0m [41]\ttrain-logloss:0.28159\ttrain-error:0.08890\tval-logloss:0.26997\tval-error:0.08361\n",
      "\u001b[2m\u001b[36m(my_trainer pid=5803, ip=100.64.87.68)\u001b[0m [42]\ttrain-logloss:0.27986\ttrain-error:0.08810\tval-logloss:0.26812\tval-error:0.08208\n",
      "\u001b[2m\u001b[36m(my_trainer pid=5803, ip=100.64.87.68)\u001b[0m [43]\ttrain-logloss:0.27632\ttrain-error:0.08355\tval-logloss:0.26500\tval-error:0.07975\n",
      "\u001b[2m\u001b[36m(my_trainer pid=5803, ip=100.64.87.68)\u001b[0m [44]\ttrain-logloss:0.27292\ttrain-error:0.08346\tval-logloss:0.26195\tval-error:0.07899\n",
      "\u001b[2m\u001b[36m(my_trainer pid=5803, ip=100.64.87.68)\u001b[0m [45]\ttrain-logloss:0.27086\ttrain-error:0.08360\tval-logloss:0.25983\tval-error:0.07822\n",
      "\u001b[2m\u001b[36m(my_trainer pid=5803, ip=100.64.87.68)\u001b[0m [46]\ttrain-logloss:0.26845\ttrain-error:0.08552\tval-logloss:0.25760\tval-error:0.07978\n",
      "\u001b[2m\u001b[36m(my_trainer pid=5803, ip=100.64.87.68)\u001b[0m [47]\ttrain-logloss:0.26652\ttrain-error:0.08596\tval-logloss:0.25592\tval-error:0.08134\n",
      "\u001b[2m\u001b[36m(my_trainer pid=5803, ip=100.64.87.68)\u001b[0m [48]\ttrain-logloss:0.26355\ttrain-error:0.08068\tval-logloss:0.25308\tval-error:0.07666\n",
      "\u001b[2m\u001b[36m(my_trainer pid=5803, ip=100.64.87.68)\u001b[0m [49]\ttrain-logloss:0.26051\ttrain-error:0.08034\tval-logloss:0.24988\tval-error:0.07821\n"
     ]
    },
    {
     "name": "stderr",
     "output_type": "stream",
     "text": [
      "\u001b[2m\u001b[36m(_RemoteRayXGBoostActor pid=6449, ip=100.64.46.131)\u001b[0m [15:39:05] task [xgboost.ray]:123672054639488 got new rank 0\n",
      "\u001b[2m\u001b[36m(_RemoteRayXGBoostActor pid=5341, ip=100.64.79.49)\u001b[0m [15:39:05] task [xgboost.ray]:139177580742496 got new rank 1\n",
      "\u001b[2m\u001b[36m(_RemoteRayXGBoostActor pid=6396, ip=100.64.87.68)\u001b[0m [15:39:05] task [xgboost.ray]:138800305416080 got new rank 2\n"
     ]
    },
    {
     "name": "stdout",
     "output_type": "stream",
     "text": [
      "\u001b[2m\u001b[36m(my_trainer pid=5803, ip=100.64.87.68)\u001b[0m [0]\ttrain-logloss:0.68793\ttrain-error:0.30285\tval-logloss:0.68763\tval-error:0.29079\n",
      "\u001b[2m\u001b[36m(my_trainer pid=5803, ip=100.64.87.68)\u001b[0m [1]\ttrain-logloss:0.68292\ttrain-error:0.26686\tval-logloss:0.68226\tval-error:0.24841\n",
      "\u001b[2m\u001b[36m(my_trainer pid=5803, ip=100.64.87.68)\u001b[0m [2]\ttrain-logloss:0.67809\ttrain-error:0.26686\tval-logloss:0.67714\tval-error:0.24841\n",
      "\u001b[2m\u001b[36m(my_trainer pid=5803, ip=100.64.87.68)\u001b[0m [3]\ttrain-logloss:0.67345\ttrain-error:0.26686\tval-logloss:0.67215\tval-error:0.24841\n",
      "\u001b[2m\u001b[36m(my_trainer pid=5803, ip=100.64.87.68)\u001b[0m [4]\ttrain-logloss:0.66897\ttrain-error:0.26686\tval-logloss:0.66740\tval-error:0.24841\n",
      "\u001b[2m\u001b[36m(my_trainer pid=5803, ip=100.64.87.68)\u001b[0m [5]\ttrain-logloss:0.66466\ttrain-error:0.26686\tval-logloss:0.66275\tval-error:0.24841\n",
      "\u001b[2m\u001b[36m(my_trainer pid=5803, ip=100.64.87.68)\u001b[0m [6]\ttrain-logloss:0.66050\ttrain-error:0.26686\tval-logloss:0.65832\tval-error:0.24841\n",
      "\u001b[2m\u001b[36m(my_trainer pid=5803, ip=100.64.87.68)\u001b[0m [7]\ttrain-logloss:0.65649\ttrain-error:0.26686\tval-logloss:0.65408\tval-error:0.24841\n",
      "\u001b[2m\u001b[36m(my_trainer pid=5803, ip=100.64.87.68)\u001b[0m [8]\ttrain-logloss:0.65261\ttrain-error:0.26686\tval-logloss:0.64985\tval-error:0.24841\n",
      "\u001b[2m\u001b[36m(my_trainer pid=5803, ip=100.64.87.68)\u001b[0m [9]\ttrain-logloss:0.64885\ttrain-error:0.26686\tval-logloss:0.64585\tval-error:0.24841\n",
      "\u001b[2m\u001b[36m(my_trainer pid=5803, ip=100.64.87.68)\u001b[0m [10]\ttrain-logloss:0.64523\ttrain-error:0.26686\tval-logloss:0.64191\tval-error:0.24841\n",
      "\u001b[2m\u001b[36m(my_trainer pid=5803, ip=100.64.87.68)\u001b[0m [11]\ttrain-logloss:0.64172\ttrain-error:0.27810\tval-logloss:0.63807\tval-error:0.26415\n",
      "\u001b[2m\u001b[36m(my_trainer pid=5803, ip=100.64.87.68)\u001b[0m [12]\ttrain-logloss:0.63807\ttrain-error:0.26627\tval-logloss:0.63411\tval-error:0.25401\n",
      "\u001b[2m\u001b[36m(my_trainer pid=5803, ip=100.64.87.68)\u001b[0m [13]\ttrain-logloss:0.63473\ttrain-error:0.26627\tval-logloss:0.63057\tval-error:0.25401\n",
      "\u001b[2m\u001b[36m(my_trainer pid=5803, ip=100.64.87.68)\u001b[0m [14]\ttrain-logloss:0.63131\ttrain-error:0.26502\tval-logloss:0.62691\tval-error:0.24606\n",
      "\u001b[2m\u001b[36m(my_trainer pid=5803, ip=100.64.87.68)\u001b[0m [15]\ttrain-logloss:0.62811\ttrain-error:0.26008\tval-logloss:0.62352\tval-error:0.24538\n",
      "\u001b[2m\u001b[36m(my_trainer pid=5803, ip=100.64.87.68)\u001b[0m [16]\ttrain-logloss:0.62485\ttrain-error:0.26122\tval-logloss:0.62004\tval-error:0.24774\n",
      "\u001b[2m\u001b[36m(my_trainer pid=5803, ip=100.64.87.68)\u001b[0m [17]\ttrain-logloss:0.62181\ttrain-error:0.26122\tval-logloss:0.61669\tval-error:0.24774\n",
      "\u001b[2m\u001b[36m(my_trainer pid=5803, ip=100.64.87.68)\u001b[0m [18]\ttrain-logloss:0.61871\ttrain-error:0.26380\tval-logloss:0.61338\tval-error:0.24935\n",
      "\u001b[2m\u001b[36m(my_trainer pid=5803, ip=100.64.87.68)\u001b[0m [19]\ttrain-logloss:0.61574\ttrain-error:0.25961\tval-logloss:0.61020\tval-error:0.24623\n",
      "\u001b[2m\u001b[36m(my_trainer pid=5803, ip=100.64.87.68)\u001b[0m [20]\ttrain-logloss:0.61286\ttrain-error:0.25565\tval-logloss:0.60725\tval-error:0.23999\n",
      "\u001b[2m\u001b[36m(my_trainer pid=5803, ip=100.64.87.68)\u001b[0m [21]\ttrain-logloss:0.60998\ttrain-error:0.25018\tval-logloss:0.60410\tval-error:0.23064\n",
      "\u001b[2m\u001b[36m(my_trainer pid=5803, ip=100.64.87.68)\u001b[0m [22]\ttrain-logloss:0.60722\ttrain-error:0.25018\tval-logloss:0.60116\tval-error:0.23064\n",
      "\u001b[2m\u001b[36m(my_trainer pid=5803, ip=100.64.87.68)\u001b[0m [23]\ttrain-logloss:0.60432\ttrain-error:0.25018\tval-logloss:0.59829\tval-error:0.23064\n",
      "\u001b[2m\u001b[36m(my_trainer pid=5803, ip=100.64.87.68)\u001b[0m [24]\ttrain-logloss:0.60161\ttrain-error:0.25018\tval-logloss:0.59534\tval-error:0.23064\n",
      "\u001b[2m\u001b[36m(my_trainer pid=5803, ip=100.64.87.68)\u001b[0m [25]\ttrain-logloss:0.59887\ttrain-error:0.24804\tval-logloss:0.59262\tval-error:0.22834\n",
      "\u001b[2m\u001b[36m(my_trainer pid=5803, ip=100.64.87.68)\u001b[0m [26]\ttrain-logloss:0.59630\ttrain-error:0.24771\tval-logloss:0.58982\tval-error:0.22831\n",
      "\u001b[2m\u001b[36m(my_trainer pid=5803, ip=100.64.87.68)\u001b[0m [27]\ttrain-logloss:0.59378\ttrain-error:0.24894\tval-logloss:0.58714\tval-error:0.23061\n",
      "\u001b[2m\u001b[36m(my_trainer pid=5803, ip=100.64.87.68)\u001b[0m [28]\ttrain-logloss:0.59122\ttrain-error:0.24894\tval-logloss:0.58461\tval-error:0.23061\n",
      "\u001b[2m\u001b[36m(my_trainer pid=5803, ip=100.64.87.68)\u001b[0m [29]\ttrain-logloss:0.58883\ttrain-error:0.24894\tval-logloss:0.58201\tval-error:0.23061\n",
      "\u001b[2m\u001b[36m(my_trainer pid=5803, ip=100.64.87.68)\u001b[0m [30]\ttrain-logloss:0.58640\ttrain-error:0.24894\tval-logloss:0.57961\tval-error:0.23061\n",
      "\u001b[2m\u001b[36m(my_trainer pid=5803, ip=100.64.87.68)\u001b[0m [31]\ttrain-logloss:0.58414\ttrain-error:0.24894\tval-logloss:0.57715\tval-error:0.23061\n",
      "\u001b[2m\u001b[36m(my_trainer pid=5803, ip=100.64.87.68)\u001b[0m [32]\ttrain-logloss:0.58183\ttrain-error:0.24894\tval-logloss:0.57469\tval-error:0.23061\n",
      "\u001b[2m\u001b[36m(my_trainer pid=5803, ip=100.64.87.68)\u001b[0m [33]\ttrain-logloss:0.57956\ttrain-error:0.24894\tval-logloss:0.57245\tval-error:0.23061\n"
     ]
    },
    {
     "name": "stderr",
     "output_type": "stream",
     "text": [
      "\u001b[2m\u001b[36m(my_trainer pid=5803, ip=100.64.87.68)\u001b[0m 2025-07-21 15:39:35,976\tINFO main.py:1175 -- Training in progress (31 seconds since last restart).\n"
     ]
    },
    {
     "name": "stdout",
     "output_type": "stream",
     "text": [
      "\u001b[2m\u001b[36m(my_trainer pid=5803, ip=100.64.87.68)\u001b[0m [34]\ttrain-logloss:0.57742\ttrain-error:0.23637\tval-logloss:0.57026\tval-error:0.21971\n",
      "\u001b[2m\u001b[36m(my_trainer pid=5803, ip=100.64.87.68)\u001b[0m [35]\ttrain-logloss:0.57523\ttrain-error:0.23637\tval-logloss:0.56814\tval-error:0.21971\n",
      "\u001b[2m\u001b[36m(my_trainer pid=5803, ip=100.64.87.68)\u001b[0m [36]\ttrain-logloss:0.57318\ttrain-error:0.23637\tval-logloss:0.56590\tval-error:0.21971\n",
      "\u001b[2m\u001b[36m(my_trainer pid=5803, ip=100.64.87.68)\u001b[0m [37]\ttrain-logloss:0.57117\ttrain-error:0.23637\tval-logloss:0.56381\tval-error:0.21971\n",
      "\u001b[2m\u001b[36m(my_trainer pid=5803, ip=100.64.87.68)\u001b[0m [38]\ttrain-logloss:0.56911\ttrain-error:0.23403\tval-logloss:0.56181\tval-error:0.21971\n",
      "\u001b[2m\u001b[36m(my_trainer pid=5803, ip=100.64.87.68)\u001b[0m [39]\ttrain-logloss:0.56710\ttrain-error:0.22265\tval-logloss:0.55994\tval-error:0.20556\n",
      "\u001b[2m\u001b[36m(my_trainer pid=5803, ip=100.64.87.68)\u001b[0m [40]\ttrain-logloss:0.56507\ttrain-error:0.23291\tval-logloss:0.55776\tval-error:0.21893\n",
      "\u001b[2m\u001b[36m(my_trainer pid=5803, ip=100.64.87.68)\u001b[0m [41]\ttrain-logloss:0.56318\ttrain-error:0.23314\tval-logloss:0.55569\tval-error:0.21971\n",
      "\u001b[2m\u001b[36m(my_trainer pid=5803, ip=100.64.87.68)\u001b[0m [42]\ttrain-logloss:0.56124\ttrain-error:0.23291\tval-logloss:0.55373\tval-error:0.21893\n",
      "\u001b[2m\u001b[36m(my_trainer pid=5803, ip=100.64.87.68)\u001b[0m [43]\ttrain-logloss:0.55936\ttrain-error:0.23201\tval-logloss:0.55198\tval-error:0.21893\n",
      "\u001b[2m\u001b[36m(my_trainer pid=5803, ip=100.64.87.68)\u001b[0m [44]\ttrain-logloss:0.55755\ttrain-error:0.21826\tval-logloss:0.55014\tval-error:0.20320\n",
      "\u001b[2m\u001b[36m(my_trainer pid=5803, ip=100.64.87.68)\u001b[0m [45]\ttrain-logloss:0.55575\ttrain-error:0.21837\tval-logloss:0.54839\tval-error:0.20320\n",
      "\u001b[2m\u001b[36m(my_trainer pid=5803, ip=100.64.87.68)\u001b[0m [46]\ttrain-logloss:0.55400\ttrain-error:0.21747\tval-logloss:0.54654\tval-error:0.20320\n",
      "\u001b[2m\u001b[36m(my_trainer pid=5803, ip=100.64.87.68)\u001b[0m [47]\ttrain-logloss:0.55220\ttrain-error:0.23065\tval-logloss:0.54472\tval-error:0.21810\n",
      "\u001b[2m\u001b[36m(my_trainer pid=5803, ip=100.64.87.68)\u001b[0m [48]\ttrain-logloss:0.55047\ttrain-error:0.21792\tval-logloss:0.54304\tval-error:0.20395\n",
      "\u001b[2m\u001b[36m(my_trainer pid=5803, ip=100.64.87.68)\u001b[0m [49]\ttrain-logloss:0.54880\ttrain-error:0.22851\tval-logloss:0.54130\tval-error:0.21731\n"
     ]
    },
    {
     "name": "stderr",
     "output_type": "stream",
     "text": [
      "\u001b[2m\u001b[36m(_RemoteRayXGBoostActor pid=6571, ip=100.64.46.131)\u001b[0m [15:39:55] task [xgboost.ray]:132639134487648 got new rank 0\n",
      "\u001b[2m\u001b[36m(_RemoteRayXGBoostActor pid=5424, ip=100.64.79.49)\u001b[0m [15:39:55] task [xgboost.ray]:130557305894416 got new rank 1\n",
      "\u001b[2m\u001b[36m(_RemoteRayXGBoostActor pid=6618, ip=100.64.87.68)\u001b[0m [15:39:55] task [xgboost.ray]:130869324896240 got new rank 2\n"
     ]
    },
    {
     "name": "stdout",
     "output_type": "stream",
     "text": [
      "\u001b[2m\u001b[36m(my_trainer pid=5803, ip=100.64.87.68)\u001b[0m [0]\ttrain-logloss:0.68888\ttrain-error:0.30285\tval-logloss:0.68863\tval-error:0.29079\n",
      "\u001b[2m\u001b[36m(my_trainer pid=5803, ip=100.64.87.68)\u001b[0m [1]\ttrain-logloss:0.68475\ttrain-error:0.30285\tval-logloss:0.68427\tval-error:0.29079\n",
      "\u001b[2m\u001b[36m(my_trainer pid=5803, ip=100.64.87.68)\u001b[0m [2]\ttrain-logloss:0.68074\ttrain-error:0.26686\tval-logloss:0.67996\tval-error:0.24841\n",
      "\u001b[2m\u001b[36m(my_trainer pid=5803, ip=100.64.87.68)\u001b[0m [3]\ttrain-logloss:0.67686\ttrain-error:0.26686\tval-logloss:0.67586\tval-error:0.24841\n",
      "\u001b[2m\u001b[36m(my_trainer pid=5803, ip=100.64.87.68)\u001b[0m [4]\ttrain-logloss:0.67309\ttrain-error:0.26686\tval-logloss:0.67180\tval-error:0.24841\n",
      "\u001b[2m\u001b[36m(my_trainer pid=5803, ip=100.64.87.68)\u001b[0m [5]\ttrain-logloss:0.66944\ttrain-error:0.26686\tval-logloss:0.66793\tval-error:0.24841\n",
      "\u001b[2m\u001b[36m(my_trainer pid=5803, ip=100.64.87.68)\u001b[0m [6]\ttrain-logloss:0.66589\ttrain-error:0.26686\tval-logloss:0.66410\tval-error:0.24841\n",
      "\u001b[2m\u001b[36m(my_trainer pid=5803, ip=100.64.87.68)\u001b[0m [7]\ttrain-logloss:0.66246\ttrain-error:0.26686\tval-logloss:0.66045\tval-error:0.24841\n",
      "\u001b[2m\u001b[36m(my_trainer pid=5803, ip=100.64.87.68)\u001b[0m [8]\ttrain-logloss:0.65912\ttrain-error:0.26686\tval-logloss:0.65683\tval-error:0.24841\n",
      "\u001b[2m\u001b[36m(my_trainer pid=5803, ip=100.64.87.68)\u001b[0m [9]\ttrain-logloss:0.65587\ttrain-error:0.26686\tval-logloss:0.65330\tval-error:0.24841\n",
      "\u001b[2m\u001b[36m(my_trainer pid=5803, ip=100.64.87.68)\u001b[0m [10]\ttrain-logloss:0.65271\ttrain-error:0.26686\tval-logloss:0.64996\tval-error:0.24841\n",
      "\u001b[2m\u001b[36m(my_trainer pid=5803, ip=100.64.87.68)\u001b[0m [11]\ttrain-logloss:0.64964\ttrain-error:0.26686\tval-logloss:0.64668\tval-error:0.24841\n",
      "\u001b[2m\u001b[36m(my_trainer pid=5803, ip=100.64.87.68)\u001b[0m [12]\ttrain-logloss:0.64665\ttrain-error:0.27810\tval-logloss:0.64342\tval-error:0.26415\n",
      "\u001b[2m\u001b[36m(my_trainer pid=5803, ip=100.64.87.68)\u001b[0m [13]\ttrain-logloss:0.64374\ttrain-error:0.26627\tval-logloss:0.64042\tval-error:0.25401\n",
      "\u001b[2m\u001b[36m(my_trainer pid=5803, ip=100.64.87.68)\u001b[0m [14]\ttrain-logloss:0.64091\ttrain-error:0.26627\tval-logloss:0.63741\tval-error:0.25401\n",
      "\u001b[2m\u001b[36m(my_trainer pid=5803, ip=100.64.87.68)\u001b[0m [15]\ttrain-logloss:0.63795\ttrain-error:0.26627\tval-logloss:0.63420\tval-error:0.25401\n",
      "\u001b[2m\u001b[36m(my_trainer pid=5803, ip=100.64.87.68)\u001b[0m [16]\ttrain-logloss:0.63523\ttrain-error:0.26627\tval-logloss:0.63122\tval-error:0.25401\n",
      "\u001b[2m\u001b[36m(my_trainer pid=5803, ip=100.64.87.68)\u001b[0m [17]\ttrain-logloss:0.63241\ttrain-error:0.26122\tval-logloss:0.62821\tval-error:0.24774\n",
      "\u001b[2m\u001b[36m(my_trainer pid=5803, ip=100.64.87.68)\u001b[0m [18]\ttrain-logloss:0.62978\ttrain-error:0.26008\tval-logloss:0.62544\tval-error:0.24538\n",
      "\u001b[2m\u001b[36m(my_trainer pid=5803, ip=100.64.87.68)\u001b[0m [19]\ttrain-logloss:0.62709\ttrain-error:0.26380\tval-logloss:0.62256\tval-error:0.24935\n",
      "\u001b[2m\u001b[36m(my_trainer pid=5803, ip=100.64.87.68)\u001b[0m [20]\ttrain-logloss:0.62456\ttrain-error:0.26122\tval-logloss:0.61978\tval-error:0.24774\n",
      "\u001b[2m\u001b[36m(my_trainer pid=5803, ip=100.64.87.68)\u001b[0m [21]\ttrain-logloss:0.62198\ttrain-error:0.26380\tval-logloss:0.61702\tval-error:0.24935\n",
      "\u001b[2m\u001b[36m(my_trainer pid=5803, ip=100.64.87.68)\u001b[0m [22]\ttrain-logloss:0.61954\ttrain-error:0.26380\tval-logloss:0.61452\tval-error:0.24935\n",
      "\u001b[2m\u001b[36m(my_trainer pid=5803, ip=100.64.87.68)\u001b[0m [23]\ttrain-logloss:0.61707\ttrain-error:0.26118\tval-logloss:0.61187\tval-error:0.24781\n",
      "\u001b[2m\u001b[36m(my_trainer pid=5803, ip=100.64.87.68)\u001b[0m [24]\ttrain-logloss:0.61471\ttrain-error:0.26346\tval-logloss:0.60936\tval-error:0.24932\n",
      "\u001b[2m\u001b[36m(my_trainer pid=5803, ip=100.64.87.68)\u001b[0m [25]\ttrain-logloss:0.61223\ttrain-error:0.26300\tval-logloss:0.60691\tval-error:0.24935\n",
      "\u001b[2m\u001b[36m(my_trainer pid=5803, ip=100.64.87.68)\u001b[0m [26]\ttrain-logloss:0.60989\ttrain-error:0.26038\tval-logloss:0.60440\tval-error:0.24781\n",
      "\u001b[2m\u001b[36m(my_trainer pid=5803, ip=100.64.87.68)\u001b[0m [27]\ttrain-logloss:0.60756\ttrain-error:0.25654\tval-logloss:0.60186\tval-error:0.24151\n",
      "\u001b[2m\u001b[36m(my_trainer pid=5803, ip=100.64.87.68)\u001b[0m [28]\ttrain-logloss:0.60522\ttrain-error:0.25688\tval-logloss:0.59954\tval-error:0.24154\n",
      "\u001b[2m\u001b[36m(my_trainer pid=5803, ip=100.64.87.68)\u001b[0m [29]\ttrain-logloss:0.60300\ttrain-error:0.25474\tval-logloss:0.59711\tval-error:0.23996\n",
      "\u001b[2m\u001b[36m(my_trainer pid=5803, ip=100.64.87.68)\u001b[0m [30]\ttrain-logloss:0.60083\ttrain-error:0.24961\tval-logloss:0.59481\tval-error:0.23064\n",
      "\u001b[2m\u001b[36m(my_trainer pid=5803, ip=100.64.87.68)\u001b[0m [31]\ttrain-logloss:0.59862\ttrain-error:0.24771\tval-logloss:0.59262\tval-error:0.22831\n",
      "\u001b[2m\u001b[36m(my_trainer pid=5803, ip=100.64.87.68)\u001b[0m [32]\ttrain-logloss:0.59651\ttrain-error:0.24771\tval-logloss:0.59031\tval-error:0.22831\n"
     ]
    },
    {
     "name": "stderr",
     "output_type": "stream",
     "text": [
      "\u001b[2m\u001b[36m(my_trainer pid=5803, ip=100.64.87.68)\u001b[0m 2025-07-21 15:40:25,870\tINFO main.py:1175 -- Training in progress (31 seconds since last restart).\n"
     ]
    },
    {
     "name": "stdout",
     "output_type": "stream",
     "text": [
      "\u001b[2m\u001b[36m(my_trainer pid=5803, ip=100.64.87.68)\u001b[0m [33]\ttrain-logloss:0.59439\ttrain-error:0.24771\tval-logloss:0.58822\tval-error:0.22831\n",
      "\u001b[2m\u001b[36m(my_trainer pid=5803, ip=100.64.87.68)\u001b[0m [34]\ttrain-logloss:0.59238\ttrain-error:0.24894\tval-logloss:0.58603\tval-error:0.23061\n",
      "\u001b[2m\u001b[36m(my_trainer pid=5803, ip=100.64.87.68)\u001b[0m [35]\ttrain-logloss:0.59037\ttrain-error:0.24894\tval-logloss:0.58388\tval-error:0.23061\n",
      "\u001b[2m\u001b[36m(my_trainer pid=5803, ip=100.64.87.68)\u001b[0m [36]\ttrain-logloss:0.58837\ttrain-error:0.24894\tval-logloss:0.58191\tval-error:0.23061\n",
      "\u001b[2m\u001b[36m(my_trainer pid=5803, ip=100.64.87.68)\u001b[0m [37]\ttrain-logloss:0.58645\ttrain-error:0.24894\tval-logloss:0.57982\tval-error:0.23061\n",
      "\u001b[2m\u001b[36m(my_trainer pid=5803, ip=100.64.87.68)\u001b[0m [38]\ttrain-logloss:0.58460\ttrain-error:0.23760\tval-logloss:0.57781\tval-error:0.22206\n",
      "\u001b[2m\u001b[36m(my_trainer pid=5803, ip=100.64.87.68)\u001b[0m [39]\ttrain-logloss:0.58271\ttrain-error:0.23760\tval-logloss:0.57594\tval-error:0.22206\n",
      "\u001b[2m\u001b[36m(my_trainer pid=5803, ip=100.64.87.68)\u001b[0m [40]\ttrain-logloss:0.58094\ttrain-error:0.23760\tval-logloss:0.57411\tval-error:0.22206\n",
      "\u001b[2m\u001b[36m(my_trainer pid=5803, ip=100.64.87.68)\u001b[0m [41]\ttrain-logloss:0.57910\ttrain-error:0.23760\tval-logloss:0.57232\tval-error:0.22206\n",
      "\u001b[2m\u001b[36m(my_trainer pid=5803, ip=100.64.87.68)\u001b[0m [42]\ttrain-logloss:0.57737\ttrain-error:0.23760\tval-logloss:0.57053\tval-error:0.22206\n",
      "\u001b[2m\u001b[36m(my_trainer pid=5803, ip=100.64.87.68)\u001b[0m [43]\ttrain-logloss:0.57557\ttrain-error:0.23637\tval-logloss:0.56860\tval-error:0.21971\n",
      "\u001b[2m\u001b[36m(my_trainer pid=5803, ip=100.64.87.68)\u001b[0m [44]\ttrain-logloss:0.57383\ttrain-error:0.23637\tval-logloss:0.56698\tval-error:0.21971\n",
      "\u001b[2m\u001b[36m(my_trainer pid=5803, ip=100.64.87.68)\u001b[0m [45]\ttrain-logloss:0.57212\ttrain-error:0.23760\tval-logloss:0.56531\tval-error:0.22206\n",
      "\u001b[2m\u001b[36m(my_trainer pid=5803, ip=100.64.87.68)\u001b[0m [46]\ttrain-logloss:0.57048\ttrain-error:0.23526\tval-logloss:0.56353\tval-error:0.22206\n",
      "\u001b[2m\u001b[36m(my_trainer pid=5803, ip=100.64.87.68)\u001b[0m [47]\ttrain-logloss:0.56877\ttrain-error:0.23526\tval-logloss:0.56170\tval-error:0.22206\n",
      "\u001b[2m\u001b[36m(my_trainer pid=5803, ip=100.64.87.68)\u001b[0m [48]\ttrain-logloss:0.56719\ttrain-error:0.23291\tval-logloss:0.56008\tval-error:0.21893\n",
      "\u001b[2m\u001b[36m(my_trainer pid=5803, ip=100.64.87.68)\u001b[0m [49]\ttrain-logloss:0.56558\ttrain-error:0.22275\tval-logloss:0.55858\tval-error:0.20712\n"
     ]
    },
    {
     "name": "stderr",
     "output_type": "stream",
     "text": [
      "\u001b[2m\u001b[36m(_RemoteRayXGBoostActor pid=6653, ip=100.64.46.131)\u001b[0m [15:40:44] task [xgboost.ray]:140216223127152 got new rank 0\n",
      "\u001b[2m\u001b[36m(_RemoteRayXGBoostActor pid=5548, ip=100.64.79.49)\u001b[0m [15:40:44] task [xgboost.ray]:138559575607088 got new rank 1\n",
      "\u001b[2m\u001b[36m(_RemoteRayXGBoostActor pid=6842, ip=100.64.87.68)\u001b[0m [15:40:44] task [xgboost.ray]:124078209783264 got new rank 2\n"
     ]
    },
    {
     "name": "stdout",
     "output_type": "stream",
     "text": [
      "\u001b[2m\u001b[36m(my_trainer pid=5803, ip=100.64.87.68)\u001b[0m [0]\ttrain-logloss:0.65465\ttrain-error:0.30285\tval-logloss:0.65232\tval-error:0.29079\n",
      "\u001b[2m\u001b[36m(my_trainer pid=5803, ip=100.64.87.68)\u001b[0m [1]\ttrain-logloss:0.62568\ttrain-error:0.26686\tval-logloss:0.62069\tval-error:0.24841\n",
      "\u001b[2m\u001b[36m(my_trainer pid=5803, ip=100.64.87.68)\u001b[0m [2]\ttrain-logloss:0.60095\ttrain-error:0.25756\tval-logloss:0.59370\tval-error:0.23594\n",
      "\u001b[2m\u001b[36m(my_trainer pid=5803, ip=100.64.87.68)\u001b[0m [3]\ttrain-logloss:0.58025\ttrain-error:0.25677\tval-logloss:0.57155\tval-error:0.23913\n",
      "\u001b[2m\u001b[36m(my_trainer pid=5803, ip=100.64.87.68)\u001b[0m [4]\ttrain-logloss:0.56193\ttrain-error:0.23152\tval-logloss:0.55392\tval-error:0.21095\n",
      "\u001b[2m\u001b[36m(my_trainer pid=5803, ip=100.64.87.68)\u001b[0m [5]\ttrain-logloss:0.54804\ttrain-error:0.22816\tval-logloss:0.54040\tval-error:0.21329\n",
      "\u001b[2m\u001b[36m(my_trainer pid=5803, ip=100.64.87.68)\u001b[0m [6]\ttrain-logloss:0.53504\ttrain-error:0.22870\tval-logloss:0.52681\tval-error:0.21724\n",
      "\u001b[2m\u001b[36m(my_trainer pid=5803, ip=100.64.87.68)\u001b[0m [7]\ttrain-logloss:0.51927\ttrain-error:0.21893\tval-logloss:0.51056\tval-error:0.20329\n",
      "\u001b[2m\u001b[36m(my_trainer pid=5803, ip=100.64.87.68)\u001b[0m [8]\ttrain-logloss:0.50697\ttrain-error:0.21532\tval-logloss:0.49672\tval-error:0.19854\n",
      "\u001b[2m\u001b[36m(my_trainer pid=5803, ip=100.64.87.68)\u001b[0m [9]\ttrain-logloss:0.49682\ttrain-error:0.20061\tval-logloss:0.48617\tval-error:0.18205\n",
      "\u001b[2m\u001b[36m(my_trainer pid=5803, ip=100.64.87.68)\u001b[0m [10]\ttrain-logloss:0.48751\ttrain-error:0.19798\tval-logloss:0.47648\tval-error:0.18053\n",
      "\u001b[2m\u001b[36m(my_trainer pid=5803, ip=100.64.87.68)\u001b[0m [11]\ttrain-logloss:0.47883\ttrain-error:0.19469\tval-logloss:0.46869\tval-error:0.18204\n",
      "\u001b[2m\u001b[36m(my_trainer pid=5803, ip=100.64.87.68)\u001b[0m [12]\ttrain-logloss:0.47187\ttrain-error:0.19448\tval-logloss:0.46253\tval-error:0.17982\n",
      "\u001b[2m\u001b[36m(my_trainer pid=5803, ip=100.64.87.68)\u001b[0m [13]\ttrain-logloss:0.46499\ttrain-error:0.19177\tval-logloss:0.45561\tval-error:0.17589\n",
      "\u001b[2m\u001b[36m(my_trainer pid=5803, ip=100.64.87.68)\u001b[0m [14]\ttrain-logloss:0.45542\ttrain-error:0.18687\tval-logloss:0.44527\tval-error:0.16971\n",
      "\u001b[2m\u001b[36m(my_trainer pid=5803, ip=100.64.87.68)\u001b[0m [15]\ttrain-logloss:0.44559\ttrain-error:0.17193\tval-logloss:0.43478\tval-error:0.16110\n",
      "\u001b[2m\u001b[36m(my_trainer pid=5803, ip=100.64.87.68)\u001b[0m [16]\ttrain-logloss:0.43957\ttrain-error:0.17006\tval-logloss:0.42904\tval-error:0.15409\n",
      "\u001b[2m\u001b[36m(my_trainer pid=5803, ip=100.64.87.68)\u001b[0m [17]\ttrain-logloss:0.43221\ttrain-error:0.16545\tval-logloss:0.42108\tval-error:0.15329\n",
      "\u001b[2m\u001b[36m(my_trainer pid=5803, ip=100.64.87.68)\u001b[0m [18]\ttrain-logloss:0.42615\ttrain-error:0.16293\tval-logloss:0.41415\tval-error:0.15097\n",
      "\u001b[2m\u001b[36m(my_trainer pid=5803, ip=100.64.87.68)\u001b[0m [19]\ttrain-logloss:0.41996\ttrain-error:0.16384\tval-logloss:0.40748\tval-error:0.14946\n",
      "\u001b[2m\u001b[36m(my_trainer pid=5803, ip=100.64.87.68)\u001b[0m [20]\ttrain-logloss:0.41587\ttrain-error:0.15921\tval-logloss:0.40329\tval-error:0.15100\n",
      "\u001b[2m\u001b[36m(my_trainer pid=5803, ip=100.64.87.68)\u001b[0m [21]\ttrain-logloss:0.41216\ttrain-error:0.16319\tval-logloss:0.39975\tval-error:0.15330\n",
      "\u001b[2m\u001b[36m(my_trainer pid=5803, ip=100.64.87.68)\u001b[0m [22]\ttrain-logloss:0.40780\ttrain-error:0.15553\tval-logloss:0.39560\tval-error:0.14473\n",
      "\u001b[2m\u001b[36m(my_trainer pid=5803, ip=100.64.87.68)\u001b[0m [23]\ttrain-logloss:0.40276\ttrain-error:0.15745\tval-logloss:0.39032\tval-error:0.14477\n",
      "\u001b[2m\u001b[36m(my_trainer pid=5803, ip=100.64.87.68)\u001b[0m [24]\ttrain-logloss:0.39792\ttrain-error:0.14654\tval-logloss:0.38603\tval-error:0.13849\n",
      "\u001b[2m\u001b[36m(my_trainer pid=5803, ip=100.64.87.68)\u001b[0m [25]\ttrain-logloss:0.39429\ttrain-error:0.14497\tval-logloss:0.38298\tval-error:0.13539\n",
      "\u001b[2m\u001b[36m(my_trainer pid=5803, ip=100.64.87.68)\u001b[0m [26]\ttrain-logloss:0.39012\ttrain-error:0.14171\tval-logloss:0.37937\tval-error:0.13069\n",
      "\u001b[2m\u001b[36m(my_trainer pid=5803, ip=100.64.87.68)\u001b[0m [27]\ttrain-logloss:0.38455\ttrain-error:0.14126\tval-logloss:0.37261\tval-error:0.12992\n",
      "\u001b[2m\u001b[36m(my_trainer pid=5803, ip=100.64.87.68)\u001b[0m [28]\ttrain-logloss:0.38002\ttrain-error:0.14349\tval-logloss:0.36744\tval-error:0.12994\n",
      "\u001b[2m\u001b[36m(my_trainer pid=5803, ip=100.64.87.68)\u001b[0m [29]\ttrain-logloss:0.37697\ttrain-error:0.14257\tval-logloss:0.36466\tval-error:0.12990\n",
      "\u001b[2m\u001b[36m(my_trainer pid=5803, ip=100.64.87.68)\u001b[0m [30]\ttrain-logloss:0.37351\ttrain-error:0.14554\tval-logloss:0.36063\tval-error:0.13223\n",
      "\u001b[2m\u001b[36m(my_trainer pid=5803, ip=100.64.87.68)\u001b[0m [31]\ttrain-logloss:0.37114\ttrain-error:0.14045\tval-logloss:0.35812\tval-error:0.12986\n",
      "\u001b[2m\u001b[36m(my_trainer pid=5803, ip=100.64.87.68)\u001b[0m [32]\ttrain-logloss:0.36830\ttrain-error:0.14193\tval-logloss:0.35528\tval-error:0.12906\n"
     ]
    },
    {
     "name": "stderr",
     "output_type": "stream",
     "text": [
      "\u001b[2m\u001b[36m(my_trainer pid=5803, ip=100.64.87.68)\u001b[0m 2025-07-21 15:41:15,492\tINFO main.py:1175 -- Training in progress (31 seconds since last restart).\n"
     ]
    },
    {
     "name": "stdout",
     "output_type": "stream",
     "text": [
      "\u001b[2m\u001b[36m(my_trainer pid=5803, ip=100.64.87.68)\u001b[0m [33]\ttrain-logloss:0.36517\ttrain-error:0.13751\tval-logloss:0.35241\tval-error:0.12828\n",
      "\u001b[2m\u001b[36m(my_trainer pid=5803, ip=100.64.87.68)\u001b[0m [34]\ttrain-logloss:0.36164\ttrain-error:0.13479\tval-logloss:0.34837\tval-error:0.12670\n",
      "\u001b[2m\u001b[36m(my_trainer pid=5803, ip=100.64.87.68)\u001b[0m [35]\ttrain-logloss:0.35901\ttrain-error:0.13513\tval-logloss:0.34639\tval-error:0.12670\n",
      "\u001b[2m\u001b[36m(my_trainer pid=5803, ip=100.64.87.68)\u001b[0m [36]\ttrain-logloss:0.35720\ttrain-error:0.13433\tval-logloss:0.34456\tval-error:0.12596\n",
      "\u001b[2m\u001b[36m(my_trainer pid=5803, ip=100.64.87.68)\u001b[0m [37]\ttrain-logloss:0.35484\ttrain-error:0.13549\tval-logloss:0.34314\tval-error:0.12593\n",
      "\u001b[2m\u001b[36m(my_trainer pid=5803, ip=100.64.87.68)\u001b[0m [38]\ttrain-logloss:0.35217\ttrain-error:0.13404\tval-logloss:0.34067\tval-error:0.12514\n",
      "\u001b[2m\u001b[36m(my_trainer pid=5803, ip=100.64.87.68)\u001b[0m [39]\ttrain-logloss:0.35000\ttrain-error:0.13643\tval-logloss:0.33792\tval-error:0.12749\n",
      "\u001b[2m\u001b[36m(my_trainer pid=5803, ip=100.64.87.68)\u001b[0m [40]\ttrain-logloss:0.34809\ttrain-error:0.13395\tval-logloss:0.33577\tval-error:0.12359\n",
      "\u001b[2m\u001b[36m(my_trainer pid=5803, ip=100.64.87.68)\u001b[0m [41]\ttrain-logloss:0.34662\ttrain-error:0.13327\tval-logloss:0.33469\tval-error:0.12356\n",
      "\u001b[2m\u001b[36m(my_trainer pid=5803, ip=100.64.87.68)\u001b[0m [42]\ttrain-logloss:0.34415\ttrain-error:0.12930\tval-logloss:0.33217\tval-error:0.12122\n",
      "\u001b[2m\u001b[36m(my_trainer pid=5803, ip=100.64.87.68)\u001b[0m [43]\ttrain-logloss:0.34099\ttrain-error:0.12760\tval-logloss:0.32842\tval-error:0.11970\n",
      "\u001b[2m\u001b[36m(my_trainer pid=5803, ip=100.64.87.68)\u001b[0m [44]\ttrain-logloss:0.33866\ttrain-error:0.12831\tval-logloss:0.32566\tval-error:0.12048\n",
      "\u001b[2m\u001b[36m(my_trainer pid=5803, ip=100.64.87.68)\u001b[0m [45]\ttrain-logloss:0.33641\ttrain-error:0.12220\tval-logloss:0.32400\tval-error:0.11342\n",
      "\u001b[2m\u001b[36m(my_trainer pid=5803, ip=100.64.87.68)\u001b[0m [46]\ttrain-logloss:0.33439\ttrain-error:0.12017\tval-logloss:0.32143\tval-error:0.11110\n",
      "\u001b[2m\u001b[36m(my_trainer pid=5803, ip=100.64.87.68)\u001b[0m [47]\ttrain-logloss:0.33255\ttrain-error:0.12166\tval-logloss:0.32012\tval-error:0.11580\n",
      "\u001b[2m\u001b[36m(my_trainer pid=5803, ip=100.64.87.68)\u001b[0m [48]\ttrain-logloss:0.33046\ttrain-error:0.12030\tval-logloss:0.31782\tval-error:0.11269\n",
      "\u001b[2m\u001b[36m(my_trainer pid=5803, ip=100.64.87.68)\u001b[0m [49]\ttrain-logloss:0.32862\ttrain-error:0.12087\tval-logloss:0.31640\tval-error:0.11349\n"
     ]
    },
    {
     "name": "stderr",
     "output_type": "stream",
     "text": [
      "\u001b[2m\u001b[36m(_RemoteRayXGBoostActor pid=6735, ip=100.64.46.131)\u001b[0m [15:41:34] task [xgboost.ray]:139538044626640 got new rank 0\n",
      "\u001b[2m\u001b[36m(_RemoteRayXGBoostActor pid=5667, ip=100.64.79.49)\u001b[0m [15:41:34] task [xgboost.ray]:123657932037760 got new rank 1\n",
      "\u001b[2m\u001b[36m(_RemoteRayXGBoostActor pid=7067, ip=100.64.87.68)\u001b[0m [15:41:34] task [xgboost.ray]:136075459069696 got new rank 2\n"
     ]
    },
    {
     "name": "stdout",
     "output_type": "stream",
     "text": [
      "\u001b[2m\u001b[36m(my_trainer pid=5803, ip=100.64.87.68)\u001b[0m [0]\ttrain-logloss:0.65745\ttrain-error:0.16109\tval-logloss:0.65698\tval-error:0.15954\n",
      "\u001b[2m\u001b[36m(my_trainer pid=5803, ip=100.64.87.68)\u001b[0m [1]\ttrain-logloss:0.62691\ttrain-error:0.15153\tval-logloss:0.62406\tval-error:0.13858\n",
      "\u001b[2m\u001b[36m(my_trainer pid=5803, ip=100.64.87.68)\u001b[0m [2]\ttrain-logloss:0.59917\ttrain-error:0.14010\tval-logloss:0.59424\tval-error:0.11905\n",
      "\u001b[2m\u001b[36m(my_trainer pid=5803, ip=100.64.87.68)\u001b[0m [3]\ttrain-logloss:0.57402\ttrain-error:0.13543\tval-logloss:0.56792\tval-error:0.11752\n",
      "\u001b[2m\u001b[36m(my_trainer pid=5803, ip=100.64.87.68)\u001b[0m [4]\ttrain-logloss:0.55141\ttrain-error:0.13663\tval-logloss:0.54443\tval-error:0.12843\n",
      "\u001b[2m\u001b[36m(my_trainer pid=5803, ip=100.64.87.68)\u001b[0m [5]\ttrain-logloss:0.53064\ttrain-error:0.13833\tval-logloss:0.52286\tval-error:0.12914\n",
      "\u001b[2m\u001b[36m(my_trainer pid=5803, ip=100.64.87.68)\u001b[0m [6]\ttrain-logloss:0.51236\ttrain-error:0.12966\tval-logloss:0.50297\tval-error:0.12062\n",
      "\u001b[2m\u001b[36m(my_trainer pid=5803, ip=100.64.87.68)\u001b[0m [7]\ttrain-logloss:0.49521\ttrain-error:0.12550\tval-logloss:0.48491\tval-error:0.11513\n",
      "\u001b[2m\u001b[36m(my_trainer pid=5803, ip=100.64.87.68)\u001b[0m [8]\ttrain-logloss:0.47692\ttrain-error:0.11953\tval-logloss:0.46647\tval-error:0.10805\n",
      "\u001b[2m\u001b[36m(my_trainer pid=5803, ip=100.64.87.68)\u001b[0m [9]\ttrain-logloss:0.46124\ttrain-error:0.11961\tval-logloss:0.45032\tval-error:0.10331\n",
      "\u001b[2m\u001b[36m(my_trainer pid=5803, ip=100.64.87.68)\u001b[0m [10]\ttrain-logloss:0.44717\ttrain-error:0.11176\tval-logloss:0.43577\tval-error:0.09637\n",
      "\u001b[2m\u001b[36m(my_trainer pid=5803, ip=100.64.87.68)\u001b[0m [11]\ttrain-logloss:0.43330\ttrain-error:0.10759\tval-logloss:0.42159\tval-error:0.09171\n",
      "\u001b[2m\u001b[36m(my_trainer pid=5803, ip=100.64.87.68)\u001b[0m [12]\ttrain-logloss:0.42082\ttrain-error:0.10604\tval-logloss:0.40891\tval-error:0.09167\n",
      "\u001b[2m\u001b[36m(my_trainer pid=5803, ip=100.64.87.68)\u001b[0m [13]\ttrain-logloss:0.40875\ttrain-error:0.10368\tval-logloss:0.39628\tval-error:0.08772\n",
      "\u001b[2m\u001b[36m(my_trainer pid=5803, ip=100.64.87.68)\u001b[0m [14]\ttrain-logloss:0.39787\ttrain-error:0.09592\tval-logloss:0.38484\tval-error:0.08231\n",
      "\u001b[2m\u001b[36m(my_trainer pid=5803, ip=100.64.87.68)\u001b[0m [15]\ttrain-logloss:0.38691\ttrain-error:0.09581\tval-logloss:0.37324\tval-error:0.08000\n",
      "\u001b[2m\u001b[36m(my_trainer pid=5803, ip=100.64.87.68)\u001b[0m [16]\ttrain-logloss:0.37697\ttrain-error:0.09467\tval-logloss:0.36304\tval-error:0.07760\n",
      "\u001b[2m\u001b[36m(my_trainer pid=5803, ip=100.64.87.68)\u001b[0m [17]\ttrain-logloss:0.36817\ttrain-error:0.09344\tval-logloss:0.35443\tval-error:0.07916\n",
      "\u001b[2m\u001b[36m(my_trainer pid=5803, ip=100.64.87.68)\u001b[0m [18]\ttrain-logloss:0.35913\ttrain-error:0.08739\tval-logloss:0.34551\tval-error:0.07290\n",
      "\u001b[2m\u001b[36m(my_trainer pid=5803, ip=100.64.87.68)\u001b[0m [19]\ttrain-logloss:0.35101\ttrain-error:0.08625\tval-logloss:0.33723\tval-error:0.07055\n",
      "\u001b[2m\u001b[36m(my_trainer pid=5803, ip=100.64.87.68)\u001b[0m [20]\ttrain-logloss:0.34325\ttrain-error:0.08346\tval-logloss:0.32954\tval-error:0.06977\n",
      "\u001b[2m\u001b[36m(my_trainer pid=5803, ip=100.64.87.68)\u001b[0m [21]\ttrain-logloss:0.33567\ttrain-error:0.08254\tval-logloss:0.32215\tval-error:0.07054\n",
      "\u001b[2m\u001b[36m(my_trainer pid=5803, ip=100.64.87.68)\u001b[0m [22]\ttrain-logloss:0.32737\ttrain-error:0.07915\tval-logloss:0.31382\tval-error:0.06743\n",
      "\u001b[2m\u001b[36m(my_trainer pid=5803, ip=100.64.87.68)\u001b[0m [23]\ttrain-logloss:0.31996\ttrain-error:0.07848\tval-logloss:0.30662\tval-error:0.06581\n",
      "\u001b[2m\u001b[36m(my_trainer pid=5803, ip=100.64.87.68)\u001b[0m [24]\ttrain-logloss:0.31286\ttrain-error:0.07834\tval-logloss:0.29961\tval-error:0.06739\n",
      "\u001b[2m\u001b[36m(my_trainer pid=5803, ip=100.64.87.68)\u001b[0m [25]\ttrain-logloss:0.30626\ttrain-error:0.07889\tval-logloss:0.29362\tval-error:0.06895\n",
      "\u001b[2m\u001b[36m(my_trainer pid=5803, ip=100.64.87.68)\u001b[0m [26]\ttrain-logloss:0.29946\ttrain-error:0.07324\tval-logloss:0.28675\tval-error:0.06266\n",
      "\u001b[2m\u001b[36m(my_trainer pid=5803, ip=100.64.87.68)\u001b[0m [27]\ttrain-logloss:0.29409\ttrain-error:0.07247\tval-logloss:0.28070\tval-error:0.06186\n",
      "\u001b[2m\u001b[36m(my_trainer pid=5803, ip=100.64.87.68)\u001b[0m [28]\ttrain-logloss:0.28784\ttrain-error:0.07279\tval-logloss:0.27486\tval-error:0.06264\n",
      "\u001b[2m\u001b[36m(my_trainer pid=5803, ip=100.64.87.68)\u001b[0m [29]\ttrain-logloss:0.28241\ttrain-error:0.07311\tval-logloss:0.26947\tval-error:0.06418\n",
      "\u001b[2m\u001b[36m(my_trainer pid=5803, ip=100.64.87.68)\u001b[0m [30]\ttrain-logloss:0.27705\ttrain-error:0.06919\tval-logloss:0.26396\tval-error:0.06105\n",
      "\u001b[2m\u001b[36m(my_trainer pid=5803, ip=100.64.87.68)\u001b[0m [31]\ttrain-logloss:0.27143\ttrain-error:0.06558\tval-logloss:0.25838\tval-error:0.05870\n"
     ]
    },
    {
     "name": "stderr",
     "output_type": "stream",
     "text": [
      "\u001b[2m\u001b[36m(my_trainer pid=5803, ip=100.64.87.68)\u001b[0m 2025-07-21 15:42:04,985\tINFO main.py:1175 -- Training in progress (31 seconds since last restart).\n"
     ]
    },
    {
     "name": "stdout",
     "output_type": "stream",
     "text": [
      "\u001b[2m\u001b[36m(my_trainer pid=5803, ip=100.64.87.68)\u001b[0m [32]\ttrain-logloss:0.26640\ttrain-error:0.06524\tval-logloss:0.25340\tval-error:0.05794\n",
      "\u001b[2m\u001b[36m(my_trainer pid=5803, ip=100.64.87.68)\u001b[0m [33]\ttrain-logloss:0.26225\ttrain-error:0.06151\tval-logloss:0.24931\tval-error:0.05166\n",
      "\u001b[2m\u001b[36m(my_trainer pid=5803, ip=100.64.87.68)\u001b[0m [34]\ttrain-logloss:0.25775\ttrain-error:0.06196\tval-logloss:0.24456\tval-error:0.05321\n",
      "\u001b[2m\u001b[36m(my_trainer pid=5803, ip=100.64.87.68)\u001b[0m [35]\ttrain-logloss:0.25354\ttrain-error:0.06205\tval-logloss:0.24032\tval-error:0.05166\n",
      "\u001b[2m\u001b[36m(my_trainer pid=5803, ip=100.64.87.68)\u001b[0m [36]\ttrain-logloss:0.24935\ttrain-error:0.06013\tval-logloss:0.23639\tval-error:0.05087\n",
      "\u001b[2m\u001b[36m(my_trainer pid=5803, ip=100.64.87.68)\u001b[0m [37]\ttrain-logloss:0.24453\ttrain-error:0.05741\tval-logloss:0.23131\tval-error:0.05085\n",
      "\u001b[2m\u001b[36m(my_trainer pid=5803, ip=100.64.87.68)\u001b[0m [38]\ttrain-logloss:0.24079\ttrain-error:0.05504\tval-logloss:0.22747\tval-error:0.04614\n",
      "\u001b[2m\u001b[36m(my_trainer pid=5803, ip=100.64.87.68)\u001b[0m [39]\ttrain-logloss:0.23653\ttrain-error:0.05246\tval-logloss:0.22374\tval-error:0.04306\n",
      "\u001b[2m\u001b[36m(my_trainer pid=5803, ip=100.64.87.68)\u001b[0m [40]\ttrain-logloss:0.23168\ttrain-error:0.04896\tval-logloss:0.21884\tval-error:0.03988\n",
      "\u001b[2m\u001b[36m(my_trainer pid=5803, ip=100.64.87.68)\u001b[0m [41]\ttrain-logloss:0.22802\ttrain-error:0.04828\tval-logloss:0.21552\tval-error:0.03756\n",
      "\u001b[2m\u001b[36m(my_trainer pid=5803, ip=100.64.87.68)\u001b[0m [42]\ttrain-logloss:0.22491\ttrain-error:0.04627\tval-logloss:0.21235\tval-error:0.03366\n",
      "\u001b[2m\u001b[36m(my_trainer pid=5803, ip=100.64.87.68)\u001b[0m [43]\ttrain-logloss:0.22088\ttrain-error:0.04457\tval-logloss:0.20866\tval-error:0.03366\n",
      "\u001b[2m\u001b[36m(my_trainer pid=5803, ip=100.64.87.68)\u001b[0m [44]\ttrain-logloss:0.21695\ttrain-error:0.04469\tval-logloss:0.20439\tval-error:0.03211\n",
      "\u001b[2m\u001b[36m(my_trainer pid=5803, ip=100.64.87.68)\u001b[0m [45]\ttrain-logloss:0.21422\ttrain-error:0.04368\tval-logloss:0.20157\tval-error:0.03053\n",
      "\u001b[2m\u001b[36m(my_trainer pid=5803, ip=100.64.87.68)\u001b[0m [46]\ttrain-logloss:0.21115\ttrain-error:0.03859\tval-logloss:0.19856\tval-error:0.02662\n",
      "\u001b[2m\u001b[36m(my_trainer pid=5803, ip=100.64.87.68)\u001b[0m [47]\ttrain-logloss:0.20696\ttrain-error:0.03624\tval-logloss:0.19459\tval-error:0.02427\n",
      "\u001b[2m\u001b[36m(my_trainer pid=5803, ip=100.64.87.68)\u001b[0m [48]\ttrain-logloss:0.20482\ttrain-error:0.03408\tval-logloss:0.19261\tval-error:0.02348\n",
      "\u001b[2m\u001b[36m(my_trainer pid=5803, ip=100.64.87.68)\u001b[0m [49]\ttrain-logloss:0.20170\ttrain-error:0.03192\tval-logloss:0.18918\tval-error:0.02111\n"
     ]
    },
    {
     "name": "stderr",
     "output_type": "stream",
     "text": [
      "\u001b[2m\u001b[36m(_RemoteRayXGBoostActor pid=6818, ip=100.64.46.131)\u001b[0m [15:42:25] task [xgboost.ray]:132870091432000 got new rank 0\n",
      "\u001b[2m\u001b[36m(_RemoteRayXGBoostActor pid=5747, ip=100.64.79.49)\u001b[0m [15:42:25] task [xgboost.ray]:139249222571632 got new rank 1\n",
      "\u001b[2m\u001b[36m(_RemoteRayXGBoostActor pid=7251, ip=100.64.87.68)\u001b[0m [15:42:25] task [xgboost.ray]:137314903033744 got new rank 2\n"
     ]
    },
    {
     "name": "stdout",
     "output_type": "stream",
     "text": [
      "\u001b[2m\u001b[36m(my_trainer pid=5803, ip=100.64.87.68)\u001b[0m [0]\ttrain-logloss:0.68210\ttrain-error:0.20367\tval-logloss:0.68167\tval-error:0.19787\n",
      "\u001b[2m\u001b[36m(my_trainer pid=5803, ip=100.64.87.68)\u001b[0m [1]\ttrain-logloss:0.67159\ttrain-error:0.20367\tval-logloss:0.67067\tval-error:0.19787\n",
      "\u001b[2m\u001b[36m(my_trainer pid=5803, ip=100.64.87.68)\u001b[0m [2]\ttrain-logloss:0.66175\ttrain-error:0.19528\tval-logloss:0.66003\tval-error:0.18459\n",
      "\u001b[2m\u001b[36m(my_trainer pid=5803, ip=100.64.87.68)\u001b[0m [3]\ttrain-logloss:0.65246\ttrain-error:0.18700\tval-logloss:0.64979\tval-error:0.17361\n",
      "\u001b[2m\u001b[36m(my_trainer pid=5803, ip=100.64.87.68)\u001b[0m [4]\ttrain-logloss:0.64343\ttrain-error:0.19051\tval-logloss:0.64021\tval-error:0.17686\n",
      "\u001b[2m\u001b[36m(my_trainer pid=5803, ip=100.64.87.68)\u001b[0m [5]\ttrain-logloss:0.63490\ttrain-error:0.18656\tval-logloss:0.63088\tval-error:0.17227\n",
      "\u001b[2m\u001b[36m(my_trainer pid=5803, ip=100.64.87.68)\u001b[0m [6]\ttrain-logloss:0.62652\ttrain-error:0.17880\tval-logloss:0.62215\tval-error:0.16290\n",
      "\u001b[2m\u001b[36m(my_trainer pid=5803, ip=100.64.87.68)\u001b[0m [7]\ttrain-logloss:0.61856\ttrain-error:0.17977\tval-logloss:0.61358\tval-error:0.16284\n",
      "\u001b[2m\u001b[36m(my_trainer pid=5803, ip=100.64.87.68)\u001b[0m [8]\ttrain-logloss:0.61084\ttrain-error:0.18407\tval-logloss:0.60552\tval-error:0.16829\n",
      "\u001b[2m\u001b[36m(my_trainer pid=5803, ip=100.64.87.68)\u001b[0m [9]\ttrain-logloss:0.60327\ttrain-error:0.18011\tval-logloss:0.59742\tval-error:0.16905\n",
      "\u001b[2m\u001b[36m(my_trainer pid=5803, ip=100.64.87.68)\u001b[0m [10]\ttrain-logloss:0.59628\ttrain-error:0.18138\tval-logloss:0.58941\tval-error:0.16518\n",
      "\u001b[2m\u001b[36m(my_trainer pid=5803, ip=100.64.87.68)\u001b[0m [11]\ttrain-logloss:0.58908\ttrain-error:0.18126\tval-logloss:0.58173\tval-error:0.16593\n",
      "\u001b[2m\u001b[36m(my_trainer pid=5803, ip=100.64.87.68)\u001b[0m [12]\ttrain-logloss:0.58243\ttrain-error:0.17381\tval-logloss:0.57470\tval-error:0.16124\n",
      "\u001b[2m\u001b[36m(my_trainer pid=5803, ip=100.64.87.68)\u001b[0m [13]\ttrain-logloss:0.57598\ttrain-error:0.17347\tval-logloss:0.56769\tval-error:0.15969\n",
      "\u001b[2m\u001b[36m(my_trainer pid=5803, ip=100.64.87.68)\u001b[0m [14]\ttrain-logloss:0.56991\ttrain-error:0.17699\tval-logloss:0.56090\tval-error:0.15896\n",
      "\u001b[2m\u001b[36m(my_trainer pid=5803, ip=100.64.87.68)\u001b[0m [15]\ttrain-logloss:0.56393\ttrain-error:0.17608\tval-logloss:0.55443\tval-error:0.15816\n",
      "\u001b[2m\u001b[36m(my_trainer pid=5803, ip=100.64.87.68)\u001b[0m [16]\ttrain-logloss:0.55784\ttrain-error:0.17674\tval-logloss:0.54825\tval-error:0.16121\n",
      "\u001b[2m\u001b[36m(my_trainer pid=5803, ip=100.64.87.68)\u001b[0m [17]\ttrain-logloss:0.55217\ttrain-error:0.17396\tval-logloss:0.54224\tval-error:0.15810\n",
      "\u001b[2m\u001b[36m(my_trainer pid=5803, ip=100.64.87.68)\u001b[0m [18]\ttrain-logloss:0.54667\ttrain-error:0.17451\tval-logloss:0.53645\tval-error:0.15267\n",
      "\u001b[2m\u001b[36m(my_trainer pid=5803, ip=100.64.87.68)\u001b[0m [19]\ttrain-logloss:0.54122\ttrain-error:0.17338\tval-logloss:0.53089\tval-error:0.15731\n",
      "\u001b[2m\u001b[36m(my_trainer pid=5803, ip=100.64.87.68)\u001b[0m [20]\ttrain-logloss:0.53595\ttrain-error:0.16943\tval-logloss:0.52506\tval-error:0.15259\n",
      "\u001b[2m\u001b[36m(my_trainer pid=5803, ip=100.64.87.68)\u001b[0m [21]\ttrain-logloss:0.53049\ttrain-error:0.16739\tval-logloss:0.51917\tval-error:0.14785\n",
      "\u001b[2m\u001b[36m(my_trainer pid=5803, ip=100.64.87.68)\u001b[0m [22]\ttrain-logloss:0.52554\ttrain-error:0.16524\tval-logloss:0.51415\tval-error:0.14784\n",
      "\u001b[2m\u001b[36m(my_trainer pid=5803, ip=100.64.87.68)\u001b[0m [23]\ttrain-logloss:0.52041\ttrain-error:0.16344\tval-logloss:0.50874\tval-error:0.14470\n",
      "\u001b[2m\u001b[36m(my_trainer pid=5803, ip=100.64.87.68)\u001b[0m [24]\ttrain-logloss:0.51584\ttrain-error:0.16438\tval-logloss:0.50397\tval-error:0.14472\n",
      "\u001b[2m\u001b[36m(my_trainer pid=5803, ip=100.64.87.68)\u001b[0m [25]\ttrain-logloss:0.51103\ttrain-error:0.16254\tval-logloss:0.49877\tval-error:0.14314\n",
      "\u001b[2m\u001b[36m(my_trainer pid=5803, ip=100.64.87.68)\u001b[0m [26]\ttrain-logloss:0.50667\ttrain-error:0.16492\tval-logloss:0.49421\tval-error:0.14551\n",
      "\u001b[2m\u001b[36m(my_trainer pid=5803, ip=100.64.87.68)\u001b[0m [27]\ttrain-logloss:0.50212\ttrain-error:0.16312\tval-logloss:0.48938\tval-error:0.14002\n",
      "\u001b[2m\u001b[36m(my_trainer pid=5803, ip=100.64.87.68)\u001b[0m [28]\ttrain-logloss:0.49777\ttrain-error:0.16186\tval-logloss:0.48511\tval-error:0.14318\n",
      "\u001b[2m\u001b[36m(my_trainer pid=5803, ip=100.64.87.68)\u001b[0m [29]\ttrain-logloss:0.49341\ttrain-error:0.15805\tval-logloss:0.48043\tval-error:0.13925\n",
      "\u001b[2m\u001b[36m(my_trainer pid=5803, ip=100.64.87.68)\u001b[0m [30]\ttrain-logloss:0.48932\ttrain-error:0.15545\tval-logloss:0.47622\tval-error:0.13614\n",
      "\u001b[2m\u001b[36m(my_trainer pid=5803, ip=100.64.87.68)\u001b[0m [31]\ttrain-logloss:0.48539\ttrain-error:0.15512\tval-logloss:0.47212\tval-error:0.13614\n"
     ]
    },
    {
     "name": "stderr",
     "output_type": "stream",
     "text": [
      "\u001b[2m\u001b[36m(my_trainer pid=5803, ip=100.64.87.68)\u001b[0m 2025-07-21 15:42:56,426\tINFO main.py:1175 -- Training in progress (31 seconds since last restart).\n"
     ]
    },
    {
     "name": "stdout",
     "output_type": "stream",
     "text": [
      "\u001b[2m\u001b[36m(my_trainer pid=5803, ip=100.64.87.68)\u001b[0m [32]\ttrain-logloss:0.48167\ttrain-error:0.15444\tval-logloss:0.46817\tval-error:0.13459\n",
      "\u001b[2m\u001b[36m(my_trainer pid=5803, ip=100.64.87.68)\u001b[0m [33]\ttrain-logloss:0.47794\ttrain-error:0.15207\tval-logloss:0.46435\tval-error:0.13301\n",
      "\u001b[2m\u001b[36m(my_trainer pid=5803, ip=100.64.87.68)\u001b[0m [34]\ttrain-logloss:0.47444\ttrain-error:0.15242\tval-logloss:0.46067\tval-error:0.13301\n",
      "\u001b[2m\u001b[36m(my_trainer pid=5803, ip=100.64.87.68)\u001b[0m [35]\ttrain-logloss:0.47050\ttrain-error:0.15549\tval-logloss:0.45670\tval-error:0.13459\n",
      "\u001b[2m\u001b[36m(my_trainer pid=5803, ip=100.64.87.68)\u001b[0m [36]\ttrain-logloss:0.46700\ttrain-error:0.14791\tval-logloss:0.45314\tval-error:0.13300\n",
      "\u001b[2m\u001b[36m(my_trainer pid=5803, ip=100.64.87.68)\u001b[0m [37]\ttrain-logloss:0.46307\ttrain-error:0.14625\tval-logloss:0.44915\tval-error:0.13144\n",
      "\u001b[2m\u001b[36m(my_trainer pid=5803, ip=100.64.87.68)\u001b[0m [38]\ttrain-logloss:0.45981\ttrain-error:0.14569\tval-logloss:0.44578\tval-error:0.13144\n",
      "\u001b[2m\u001b[36m(my_trainer pid=5803, ip=100.64.87.68)\u001b[0m [39]\ttrain-logloss:0.45624\ttrain-error:0.14448\tval-logloss:0.44197\tval-error:0.13064\n",
      "\u001b[2m\u001b[36m(my_trainer pid=5803, ip=100.64.87.68)\u001b[0m [40]\ttrain-logloss:0.45283\ttrain-error:0.13894\tval-logloss:0.43861\tval-error:0.12677\n",
      "\u001b[2m\u001b[36m(my_trainer pid=5803, ip=100.64.87.68)\u001b[0m [41]\ttrain-logloss:0.44932\ttrain-error:0.13724\tval-logloss:0.43484\tval-error:0.12520\n",
      "\u001b[2m\u001b[36m(my_trainer pid=5803, ip=100.64.87.68)\u001b[0m [42]\ttrain-logloss:0.44632\ttrain-error:0.13636\tval-logloss:0.43181\tval-error:0.12601\n",
      "\u001b[2m\u001b[36m(my_trainer pid=5803, ip=100.64.87.68)\u001b[0m [43]\ttrain-logloss:0.44296\ttrain-error:0.13735\tval-logloss:0.42846\tval-error:0.12362\n",
      "\u001b[2m\u001b[36m(my_trainer pid=5803, ip=100.64.87.68)\u001b[0m [44]\ttrain-logloss:0.43973\ttrain-error:0.13712\tval-logloss:0.42547\tval-error:0.12362\n",
      "\u001b[2m\u001b[36m(my_trainer pid=5803, ip=100.64.87.68)\u001b[0m [45]\ttrain-logloss:0.43655\ttrain-error:0.13478\tval-logloss:0.42219\tval-error:0.12209\n",
      "\u001b[2m\u001b[36m(my_trainer pid=5803, ip=100.64.87.68)\u001b[0m [46]\ttrain-logloss:0.43380\ttrain-error:0.13252\tval-logloss:0.41941\tval-error:0.12051\n",
      "\u001b[2m\u001b[36m(my_trainer pid=5803, ip=100.64.87.68)\u001b[0m [47]\ttrain-logloss:0.43078\ttrain-error:0.12995\tval-logloss:0.41636\tval-error:0.11817\n",
      "\u001b[2m\u001b[36m(my_trainer pid=5803, ip=100.64.87.68)\u001b[0m [48]\ttrain-logloss:0.42774\ttrain-error:0.13004\tval-logloss:0.41341\tval-error:0.11817\n",
      "\u001b[2m\u001b[36m(my_trainer pid=5803, ip=100.64.87.68)\u001b[0m [49]\ttrain-logloss:0.42495\ttrain-error:0.13130\tval-logloss:0.41062\tval-error:0.11893\n"
     ]
    },
    {
     "name": "stderr",
     "output_type": "stream",
     "text": [
      "\u001b[2m\u001b[36m(_RemoteRayXGBoostActor pid=6941, ip=100.64.46.131)\u001b[0m [15:43:17] task [xgboost.ray]:134043499335632 got new rank 0\n",
      "\u001b[2m\u001b[36m(_RemoteRayXGBoostActor pid=5830, ip=100.64.79.49)\u001b[0m [15:43:17] task [xgboost.ray]:128391080052336 got new rank 1\n",
      "\u001b[2m\u001b[36m(_RemoteRayXGBoostActor pid=7434, ip=100.64.87.68)\u001b[0m [15:43:17] task [xgboost.ray]:129918352029584 got new rank 2\n"
     ]
    },
    {
     "name": "stdout",
     "output_type": "stream",
     "text": [
      "\u001b[2m\u001b[36m(my_trainer pid=5803, ip=100.64.87.68)\u001b[0m [0]\ttrain-logloss:0.67116\ttrain-error:0.22747\tval-logloss:0.66952\tval-error:0.20883\n",
      "\u001b[2m\u001b[36m(my_trainer pid=5803, ip=100.64.87.68)\u001b[0m [1]\ttrain-logloss:0.65220\ttrain-error:0.22331\tval-logloss:0.64835\tval-error:0.20021\n",
      "\u001b[2m\u001b[36m(my_trainer pid=5803, ip=100.64.87.68)\u001b[0m [2]\ttrain-logloss:0.63537\ttrain-error:0.21105\tval-logloss:0.62943\tval-error:0.18852\n",
      "\u001b[2m\u001b[36m(my_trainer pid=5803, ip=100.64.87.68)\u001b[0m [3]\ttrain-logloss:0.62070\ttrain-error:0.20920\tval-logloss:0.61353\tval-error:0.19554\n",
      "\u001b[2m\u001b[36m(my_trainer pid=5803, ip=100.64.87.68)\u001b[0m [4]\ttrain-logloss:0.60642\ttrain-error:0.21429\tval-logloss:0.59734\tval-error:0.19787\n",
      "\u001b[2m\u001b[36m(my_trainer pid=5803, ip=100.64.87.68)\u001b[0m [5]\ttrain-logloss:0.59404\ttrain-error:0.20525\tval-logloss:0.58428\tval-error:0.18924\n",
      "\u001b[2m\u001b[36m(my_trainer pid=5803, ip=100.64.87.68)\u001b[0m [6]\ttrain-logloss:0.58135\ttrain-error:0.19486\tval-logloss:0.57088\tval-error:0.18224\n",
      "\u001b[2m\u001b[36m(my_trainer pid=5803, ip=100.64.87.68)\u001b[0m [7]\ttrain-logloss:0.57054\ttrain-error:0.19733\tval-logloss:0.55868\tval-error:0.17672\n",
      "\u001b[2m\u001b[36m(my_trainer pid=5803, ip=100.64.87.68)\u001b[0m [8]\ttrain-logloss:0.56028\ttrain-error:0.20049\tval-logloss:0.54801\tval-error:0.18601\n",
      "\u001b[2m\u001b[36m(my_trainer pid=5803, ip=100.64.87.68)\u001b[0m [9]\ttrain-logloss:0.55104\ttrain-error:0.19315\tval-logloss:0.53846\tval-error:0.17674\n",
      "\u001b[2m\u001b[36m(my_trainer pid=5803, ip=100.64.87.68)\u001b[0m [10]\ttrain-logloss:0.54223\ttrain-error:0.19947\tval-logloss:0.52926\tval-error:0.18289\n",
      "\u001b[2m\u001b[36m(my_trainer pid=5803, ip=100.64.87.68)\u001b[0m [11]\ttrain-logloss:0.53408\ttrain-error:0.19502\tval-logloss:0.52101\tval-error:0.18292\n",
      "\u001b[2m\u001b[36m(my_trainer pid=5803, ip=100.64.87.68)\u001b[0m [12]\ttrain-logloss:0.52588\ttrain-error:0.19122\tval-logloss:0.51264\tval-error:0.17747\n",
      "\u001b[2m\u001b[36m(my_trainer pid=5803, ip=100.64.87.68)\u001b[0m [13]\ttrain-logloss:0.51743\ttrain-error:0.18965\tval-logloss:0.50369\tval-error:0.17434\n",
      "\u001b[2m\u001b[36m(my_trainer pid=5803, ip=100.64.87.68)\u001b[0m [14]\ttrain-logloss:0.50987\ttrain-error:0.17560\tval-logloss:0.49561\tval-error:0.15888\n",
      "\u001b[2m\u001b[36m(my_trainer pid=5803, ip=100.64.87.68)\u001b[0m [15]\ttrain-logloss:0.50306\ttrain-error:0.17693\tval-logloss:0.48948\tval-error:0.16040\n",
      "\u001b[2m\u001b[36m(my_trainer pid=5803, ip=100.64.87.68)\u001b[0m [16]\ttrain-logloss:0.49645\ttrain-error:0.18097\tval-logloss:0.48261\tval-error:0.16424\n",
      "\u001b[2m\u001b[36m(my_trainer pid=5803, ip=100.64.87.68)\u001b[0m [17]\ttrain-logloss:0.49058\ttrain-error:0.17157\tval-logloss:0.47662\tval-error:0.15326\n",
      "\u001b[2m\u001b[36m(my_trainer pid=5803, ip=100.64.87.68)\u001b[0m [18]\ttrain-logloss:0.48377\ttrain-error:0.17142\tval-logloss:0.46985\tval-error:0.15499\n",
      "\u001b[2m\u001b[36m(my_trainer pid=5803, ip=100.64.87.68)\u001b[0m [19]\ttrain-logloss:0.47807\ttrain-error:0.17411\tval-logloss:0.46390\tval-error:0.15255\n",
      "\u001b[2m\u001b[36m(my_trainer pid=5803, ip=100.64.87.68)\u001b[0m [20]\ttrain-logloss:0.47214\ttrain-error:0.16354\tval-logloss:0.45759\tval-error:0.14712\n",
      "\u001b[2m\u001b[36m(my_trainer pid=5803, ip=100.64.87.68)\u001b[0m [21]\ttrain-logloss:0.46660\ttrain-error:0.16081\tval-logloss:0.45220\tval-error:0.14483\n",
      "\u001b[2m\u001b[36m(my_trainer pid=5803, ip=100.64.87.68)\u001b[0m [22]\ttrain-logloss:0.46125\ttrain-error:0.16232\tval-logloss:0.44654\tval-error:0.14719\n",
      "\u001b[2m\u001b[36m(my_trainer pid=5803, ip=100.64.87.68)\u001b[0m [23]\ttrain-logloss:0.45545\ttrain-error:0.15901\tval-logloss:0.44030\tval-error:0.14719\n",
      "\u001b[2m\u001b[36m(my_trainer pid=5803, ip=100.64.87.68)\u001b[0m [24]\ttrain-logloss:0.45075\ttrain-error:0.15484\tval-logloss:0.43622\tval-error:0.14404\n",
      "\u001b[2m\u001b[36m(my_trainer pid=5803, ip=100.64.87.68)\u001b[0m [25]\ttrain-logloss:0.44563\ttrain-error:0.15431\tval-logloss:0.43132\tval-error:0.14252\n",
      "\u001b[2m\u001b[36m(my_trainer pid=5803, ip=100.64.87.68)\u001b[0m [26]\ttrain-logloss:0.44145\ttrain-error:0.15477\tval-logloss:0.42741\tval-error:0.14403\n",
      "\u001b[2m\u001b[36m(my_trainer pid=5803, ip=100.64.87.68)\u001b[0m [27]\ttrain-logloss:0.43591\ttrain-error:0.15756\tval-logloss:0.42153\tval-error:0.14715\n",
      "\u001b[2m\u001b[36m(my_trainer pid=5803, ip=100.64.87.68)\u001b[0m [28]\ttrain-logloss:0.43030\ttrain-error:0.15124\tval-logloss:0.41591\tval-error:0.13773\n",
      "\u001b[2m\u001b[36m(my_trainer pid=5803, ip=100.64.87.68)\u001b[0m [29]\ttrain-logloss:0.42568\ttrain-error:0.14970\tval-logloss:0.41151\tval-error:0.13544\n",
      "\u001b[2m\u001b[36m(my_trainer pid=5803, ip=100.64.87.68)\u001b[0m [30]\ttrain-logloss:0.42191\ttrain-error:0.14248\tval-logloss:0.40761\tval-error:0.12760\n",
      "\u001b[2m\u001b[36m(my_trainer pid=5803, ip=100.64.87.68)\u001b[0m [31]\ttrain-logloss:0.41784\ttrain-error:0.14759\tval-logloss:0.40374\tval-error:0.13543\n",
      "\u001b[2m\u001b[36m(my_trainer pid=5803, ip=100.64.87.68)\u001b[0m [32]\ttrain-logloss:0.41411\ttrain-error:0.14351\tval-logloss:0.40059\tval-error:0.13308\n"
     ]
    },
    {
     "name": "stderr",
     "output_type": "stream",
     "text": [
      "\u001b[2m\u001b[36m(my_trainer pid=5803, ip=100.64.87.68)\u001b[0m 2025-07-21 15:43:48,228\tINFO main.py:1175 -- Training in progress (31 seconds since last restart).\n"
     ]
    },
    {
     "name": "stdout",
     "output_type": "stream",
     "text": [
      "\u001b[2m\u001b[36m(my_trainer pid=5803, ip=100.64.87.68)\u001b[0m [33]\ttrain-logloss:0.40983\ttrain-error:0.14100\tval-logloss:0.39603\tval-error:0.13306\n",
      "\u001b[2m\u001b[36m(my_trainer pid=5803, ip=100.64.87.68)\u001b[0m [34]\ttrain-logloss:0.40599\ttrain-error:0.13853\tval-logloss:0.39248\tval-error:0.12834\n",
      "\u001b[2m\u001b[36m(my_trainer pid=5803, ip=100.64.87.68)\u001b[0m [35]\ttrain-logloss:0.40288\ttrain-error:0.13778\tval-logloss:0.38923\tval-error:0.12757\n",
      "\u001b[2m\u001b[36m(my_trainer pid=5803, ip=100.64.87.68)\u001b[0m [36]\ttrain-logloss:0.39927\ttrain-error:0.13606\tval-logloss:0.38549\tval-error:0.12755\n",
      "\u001b[2m\u001b[36m(my_trainer pid=5803, ip=100.64.87.68)\u001b[0m [37]\ttrain-logloss:0.39577\ttrain-error:0.13527\tval-logloss:0.38201\tval-error:0.12440\n",
      "\u001b[2m\u001b[36m(my_trainer pid=5803, ip=100.64.87.68)\u001b[0m [38]\ttrain-logloss:0.39273\ttrain-error:0.13764\tval-logloss:0.37951\tval-error:0.12757\n",
      "\u001b[2m\u001b[36m(my_trainer pid=5803, ip=100.64.87.68)\u001b[0m [39]\ttrain-logloss:0.38967\ttrain-error:0.13549\tval-logloss:0.37662\tval-error:0.12674\n",
      "\u001b[2m\u001b[36m(my_trainer pid=5803, ip=100.64.87.68)\u001b[0m [40]\ttrain-logloss:0.38684\ttrain-error:0.13198\tval-logloss:0.37396\tval-error:0.12592\n",
      "\u001b[2m\u001b[36m(my_trainer pid=5803, ip=100.64.87.68)\u001b[0m [41]\ttrain-logloss:0.38368\ttrain-error:0.12950\tval-logloss:0.37054\tval-error:0.12283\n",
      "\u001b[2m\u001b[36m(my_trainer pid=5803, ip=100.64.87.68)\u001b[0m [42]\ttrain-logloss:0.38049\ttrain-error:0.12950\tval-logloss:0.36716\tval-error:0.12365\n",
      "\u001b[2m\u001b[36m(my_trainer pid=5803, ip=100.64.87.68)\u001b[0m [43]\ttrain-logloss:0.37795\ttrain-error:0.12701\tval-logloss:0.36443\tval-error:0.11894\n",
      "\u001b[2m\u001b[36m(my_trainer pid=5803, ip=100.64.87.68)\u001b[0m [44]\ttrain-logloss:0.37532\ttrain-error:0.12569\tval-logloss:0.36200\tval-error:0.11736\n",
      "\u001b[2m\u001b[36m(my_trainer pid=5803, ip=100.64.87.68)\u001b[0m [45]\ttrain-logloss:0.37267\ttrain-error:0.12905\tval-logloss:0.35950\tval-error:0.12047\n",
      "\u001b[2m\u001b[36m(my_trainer pid=5803, ip=100.64.87.68)\u001b[0m [46]\ttrain-logloss:0.37028\ttrain-error:0.12476\tval-logloss:0.35703\tval-error:0.11738\n",
      "\u001b[2m\u001b[36m(my_trainer pid=5803, ip=100.64.87.68)\u001b[0m [47]\ttrain-logloss:0.36735\ttrain-error:0.12317\tval-logloss:0.35399\tval-error:0.11735\n",
      "\u001b[2m\u001b[36m(my_trainer pid=5803, ip=100.64.87.68)\u001b[0m [48]\ttrain-logloss:0.36475\ttrain-error:0.12227\tval-logloss:0.35171\tval-error:0.11573\n",
      "\u001b[2m\u001b[36m(my_trainer pid=5803, ip=100.64.87.68)\u001b[0m [49]\ttrain-logloss:0.36261\ttrain-error:0.11956\tval-logloss:0.34955\tval-error:0.11415\n"
     ]
    },
    {
     "name": "stderr",
     "output_type": "stream",
     "text": [
      "\u001b[2m\u001b[36m(_RemoteRayXGBoostActor pid=7060, ip=100.64.46.131)\u001b[0m [15:44:08] task [xgboost.ray]:124197357360992 got new rank 0\n",
      "\u001b[2m\u001b[36m(_RemoteRayXGBoostActor pid=5954, ip=100.64.79.49)\u001b[0m [15:44:08] task [xgboost.ray]:127629912913856 got new rank 1\n",
      "\u001b[2m\u001b[36m(_RemoteRayXGBoostActor pid=7619, ip=100.64.87.68)\u001b[0m [15:44:08] task [xgboost.ray]:138450837593728 got new rank 2\n"
     ]
    },
    {
     "name": "stdout",
     "output_type": "stream",
     "text": [
      "\u001b[2m\u001b[36m(my_trainer pid=5803, ip=100.64.87.68)\u001b[0m [0]\ttrain-logloss:0.69126\ttrain-error:0.22747\tval-logloss:0.69112\tval-error:0.20883\n",
      "\u001b[2m\u001b[36m(my_trainer pid=5803, ip=100.64.87.68)\u001b[0m [1]\ttrain-logloss:0.68939\ttrain-error:0.22747\tval-logloss:0.68911\tval-error:0.20883\n",
      "\u001b[2m\u001b[36m(my_trainer pid=5803, ip=100.64.87.68)\u001b[0m [2]\ttrain-logloss:0.68754\ttrain-error:0.22747\tval-logloss:0.68713\tval-error:0.20883\n",
      "\u001b[2m\u001b[36m(my_trainer pid=5803, ip=100.64.87.68)\u001b[0m [3]\ttrain-logloss:0.68571\ttrain-error:0.22747\tval-logloss:0.68516\tval-error:0.20883\n",
      "\u001b[2m\u001b[36m(my_trainer pid=5803, ip=100.64.87.68)\u001b[0m [4]\ttrain-logloss:0.68390\ttrain-error:0.22747\tval-logloss:0.68322\tval-error:0.20883\n",
      "\u001b[2m\u001b[36m(my_trainer pid=5803, ip=100.64.87.68)\u001b[0m [5]\ttrain-logloss:0.68217\ttrain-error:0.22747\tval-logloss:0.68130\tval-error:0.20883\n",
      "\u001b[2m\u001b[36m(my_trainer pid=5803, ip=100.64.87.68)\u001b[0m [6]\ttrain-logloss:0.68046\ttrain-error:0.22555\tval-logloss:0.67939\tval-error:0.20647\n",
      "\u001b[2m\u001b[36m(my_trainer pid=5803, ip=100.64.87.68)\u001b[0m [7]\ttrain-logloss:0.67876\ttrain-error:0.22331\tval-logloss:0.67751\tval-error:0.20021\n",
      "\u001b[2m\u001b[36m(my_trainer pid=5803, ip=100.64.87.68)\u001b[0m [8]\ttrain-logloss:0.67701\ttrain-error:0.22331\tval-logloss:0.67563\tval-error:0.20021\n",
      "\u001b[2m\u001b[36m(my_trainer pid=5803, ip=100.64.87.68)\u001b[0m [9]\ttrain-logloss:0.67535\ttrain-error:0.22331\tval-logloss:0.67377\tval-error:0.20021\n",
      "\u001b[2m\u001b[36m(my_trainer pid=5803, ip=100.64.87.68)\u001b[0m [10]\ttrain-logloss:0.67371\ttrain-error:0.22331\tval-logloss:0.67194\tval-error:0.20021\n",
      "\u001b[2m\u001b[36m(my_trainer pid=5803, ip=100.64.87.68)\u001b[0m [11]\ttrain-logloss:0.67200\ttrain-error:0.22331\tval-logloss:0.67011\tval-error:0.20021\n",
      "\u001b[2m\u001b[36m(my_trainer pid=5803, ip=100.64.87.68)\u001b[0m [12]\ttrain-logloss:0.67039\ttrain-error:0.22331\tval-logloss:0.66829\tval-error:0.20021\n",
      "\u001b[2m\u001b[36m(my_trainer pid=5803, ip=100.64.87.68)\u001b[0m [13]\ttrain-logloss:0.66879\ttrain-error:0.22331\tval-logloss:0.66651\tval-error:0.20021\n",
      "\u001b[2m\u001b[36m(my_trainer pid=5803, ip=100.64.87.68)\u001b[0m [14]\ttrain-logloss:0.66720\ttrain-error:0.21686\tval-logloss:0.66473\tval-error:0.19396\n",
      "\u001b[2m\u001b[36m(my_trainer pid=5803, ip=100.64.87.68)\u001b[0m [15]\ttrain-logloss:0.66555\ttrain-error:0.22331\tval-logloss:0.66295\tval-error:0.20021\n",
      "\u001b[2m\u001b[36m(my_trainer pid=5803, ip=100.64.87.68)\u001b[0m [16]\ttrain-logloss:0.66400\ttrain-error:0.21686\tval-logloss:0.66122\tval-error:0.19396\n",
      "\u001b[2m\u001b[36m(my_trainer pid=5803, ip=100.64.87.68)\u001b[0m [17]\ttrain-logloss:0.66246\ttrain-error:0.21686\tval-logloss:0.65948\tval-error:0.19396\n",
      "\u001b[2m\u001b[36m(my_trainer pid=5803, ip=100.64.87.68)\u001b[0m [18]\ttrain-logloss:0.66093\ttrain-error:0.21686\tval-logloss:0.65778\tval-error:0.19396\n",
      "\u001b[2m\u001b[36m(my_trainer pid=5803, ip=100.64.87.68)\u001b[0m [19]\ttrain-logloss:0.65934\ttrain-error:0.21686\tval-logloss:0.65606\tval-error:0.19396\n",
      "\u001b[2m\u001b[36m(my_trainer pid=5803, ip=100.64.87.68)\u001b[0m [20]\ttrain-logloss:0.65784\ttrain-error:0.21686\tval-logloss:0.65440\tval-error:0.19396\n",
      "\u001b[2m\u001b[36m(my_trainer pid=5803, ip=100.64.87.68)\u001b[0m [21]\ttrain-logloss:0.65635\ttrain-error:0.21686\tval-logloss:0.65273\tval-error:0.19396\n",
      "\u001b[2m\u001b[36m(my_trainer pid=5803, ip=100.64.87.68)\u001b[0m [22]\ttrain-logloss:0.65479\ttrain-error:0.21686\tval-logloss:0.65105\tval-error:0.19396\n",
      "\u001b[2m\u001b[36m(my_trainer pid=5803, ip=100.64.87.68)\u001b[0m [23]\ttrain-logloss:0.65333\ttrain-error:0.21686\tval-logloss:0.64943\tval-error:0.19396\n",
      "\u001b[2m\u001b[36m(my_trainer pid=5803, ip=100.64.87.68)\u001b[0m [24]\ttrain-logloss:0.65189\ttrain-error:0.21105\tval-logloss:0.64781\tval-error:0.18852\n",
      "\u001b[2m\u001b[36m(my_trainer pid=5803, ip=100.64.87.68)\u001b[0m [25]\ttrain-logloss:0.65050\ttrain-error:0.21105\tval-logloss:0.64631\tval-error:0.18852\n",
      "\u001b[2m\u001b[36m(my_trainer pid=5803, ip=100.64.87.68)\u001b[0m [26]\ttrain-logloss:0.64908\ttrain-error:0.20924\tval-logloss:0.64473\tval-error:0.18772\n",
      "\u001b[2m\u001b[36m(my_trainer pid=5803, ip=100.64.87.68)\u001b[0m [27]\ttrain-logloss:0.64772\ttrain-error:0.21105\tval-logloss:0.64326\tval-error:0.18852\n",
      "\u001b[2m\u001b[36m(my_trainer pid=5803, ip=100.64.87.68)\u001b[0m [28]\ttrain-logloss:0.64632\ttrain-error:0.21105\tval-logloss:0.64169\tval-error:0.18852\n",
      "\u001b[2m\u001b[36m(my_trainer pid=5803, ip=100.64.87.68)\u001b[0m [29]\ttrain-logloss:0.64498\ttrain-error:0.21047\tval-logloss:0.64024\tval-error:0.19396\n",
      "\u001b[2m\u001b[36m(my_trainer pid=5803, ip=100.64.87.68)\u001b[0m [30]\ttrain-logloss:0.64361\ttrain-error:0.21047\tval-logloss:0.63871\tval-error:0.19396\n",
      "\u001b[2m\u001b[36m(my_trainer pid=5803, ip=100.64.87.68)\u001b[0m [31]\ttrain-logloss:0.64230\ttrain-error:0.20920\tval-logloss:0.63729\tval-error:0.19554\n",
      "\u001b[2m\u001b[36m(my_trainer pid=5803, ip=100.64.87.68)\u001b[0m [32]\ttrain-logloss:0.64095\ttrain-error:0.20739\tval-logloss:0.63579\tval-error:0.19475\n"
     ]
    },
    {
     "name": "stderr",
     "output_type": "stream",
     "text": [
      "\u001b[2m\u001b[36m(my_trainer pid=5803, ip=100.64.87.68)\u001b[0m 2025-07-21 15:44:38,962\tINFO main.py:1175 -- Training in progress (31 seconds since last restart).\n"
     ]
    },
    {
     "name": "stdout",
     "output_type": "stream",
     "text": [
      "\u001b[2m\u001b[36m(my_trainer pid=5803, ip=100.64.87.68)\u001b[0m [33]\ttrain-logloss:0.63961\ttrain-error:0.20739\tval-logloss:0.63429\tval-error:0.19475\n",
      "\u001b[2m\u001b[36m(my_trainer pid=5803, ip=100.64.87.68)\u001b[0m [34]\ttrain-logloss:0.63833\ttrain-error:0.20920\tval-logloss:0.63290\tval-error:0.19554\n",
      "\u001b[2m\u001b[36m(my_trainer pid=5803, ip=100.64.87.68)\u001b[0m [35]\ttrain-logloss:0.63702\ttrain-error:0.20739\tval-logloss:0.63144\tval-error:0.19475\n",
      "\u001b[2m\u001b[36m(my_trainer pid=5803, ip=100.64.87.68)\u001b[0m [36]\ttrain-logloss:0.63566\ttrain-error:0.20920\tval-logloss:0.62991\tval-error:0.19554\n",
      "\u001b[2m\u001b[36m(my_trainer pid=5803, ip=100.64.87.68)\u001b[0m [37]\ttrain-logloss:0.63441\ttrain-error:0.20920\tval-logloss:0.62855\tval-error:0.19554\n",
      "\u001b[2m\u001b[36m(my_trainer pid=5803, ip=100.64.87.68)\u001b[0m [38]\ttrain-logloss:0.63307\ttrain-error:0.20920\tval-logloss:0.62705\tval-error:0.19554\n",
      "\u001b[2m\u001b[36m(my_trainer pid=5803, ip=100.64.87.68)\u001b[0m [39]\ttrain-logloss:0.63180\ttrain-error:0.20920\tval-logloss:0.62562\tval-error:0.19554\n",
      "\u001b[2m\u001b[36m(my_trainer pid=5803, ip=100.64.87.68)\u001b[0m [40]\ttrain-logloss:0.63048\ttrain-error:0.20920\tval-logloss:0.62414\tval-error:0.19554\n",
      "\u001b[2m\u001b[36m(my_trainer pid=5803, ip=100.64.87.68)\u001b[0m [41]\ttrain-logloss:0.62926\ttrain-error:0.20920\tval-logloss:0.62280\tval-error:0.19554\n",
      "\u001b[2m\u001b[36m(my_trainer pid=5803, ip=100.64.87.68)\u001b[0m [42]\ttrain-logloss:0.62797\ttrain-error:0.20784\tval-logloss:0.62134\tval-error:0.19475\n",
      "\u001b[2m\u001b[36m(my_trainer pid=5803, ip=100.64.87.68)\u001b[0m [43]\ttrain-logloss:0.62678\ttrain-error:0.20920\tval-logloss:0.62005\tval-error:0.19554\n",
      "\u001b[2m\u001b[36m(my_trainer pid=5803, ip=100.64.87.68)\u001b[0m [44]\ttrain-logloss:0.62556\ttrain-error:0.20920\tval-logloss:0.61869\tval-error:0.19554\n",
      "\u001b[2m\u001b[36m(my_trainer pid=5803, ip=100.64.87.68)\u001b[0m [45]\ttrain-logloss:0.62430\ttrain-error:0.20784\tval-logloss:0.61726\tval-error:0.19475\n",
      "\u001b[2m\u001b[36m(my_trainer pid=5803, ip=100.64.87.68)\u001b[0m [46]\ttrain-logloss:0.62313\ttrain-error:0.20784\tval-logloss:0.61597\tval-error:0.19475\n",
      "\u001b[2m\u001b[36m(my_trainer pid=5803, ip=100.64.87.68)\u001b[0m [47]\ttrain-logloss:0.62190\ttrain-error:0.20728\tval-logloss:0.61458\tval-error:0.19241\n",
      "\u001b[2m\u001b[36m(my_trainer pid=5803, ip=100.64.87.68)\u001b[0m [48]\ttrain-logloss:0.62072\ttrain-error:0.20728\tval-logloss:0.61325\tval-error:0.19241\n",
      "\u001b[2m\u001b[36m(my_trainer pid=5803, ip=100.64.87.68)\u001b[0m [49]\ttrain-logloss:0.61957\ttrain-error:0.20728\tval-logloss:0.61197\tval-error:0.19241\n"
     ]
    },
    {
     "name": "stderr",
     "output_type": "stream",
     "text": [
      "\u001b[2m\u001b[36m(run pid=66576)\u001b[0m 2025-07-21 15:44:55,413\tINFO tune.py:945 -- Total run time: 514.15 seconds (510.20 seconds for the tuning loop).\n"
     ]
    }
   ],
   "source": [
    "    # Run hyperparameter tuning within the parent run context\n",
    "    import warnings\n",
    "    warnings.filterwarnings(\"ignore\", message=\"The `local_dir` argument of `Experiment is deprecated\")\n",
    "    \n",
    "    analysis = tune.run(\n",
    "        my_trainer,\n",
    "        config=config,\n",
    "        resources_per_trial=xgb_tune_resources,\n",
    "        local_dir=TUNE_ROOT,  # Keep using local_dir for compatibility\n",
    "        metric=\"val-error\",  # Use the metric name that XGBoost reports (with hyphen)\n",
    "        mode=\"min\",\n",
    "        num_samples=10,\n",
    "        verbose=1,\n",
    "        progress_reporter=tune.JupyterNotebookReporter(overwrite=True)\n",
    "    )"
   ]
  },
  {
   "cell_type": "code",
   "execution_count": 177,
   "id": "8kwfu6lw04c",
   "metadata": {},
   "outputs": [
    {
     "name": "stderr",
     "output_type": "stream",
     "text": [
      "/opt/conda/lib/python3.9/site-packages/mlflow/models/signature.py:137: UserWarning: Hint: Inferred schema contains integer column(s). Integer columns in Python cannot represent missing values. If your input data contains missing values at inference time, it will be encoded as floats and will cause a schema enforcement error. The best way to avoid this problem is to infer the model schema based on a realistic data sample (training dataset) that includes missing values. Alternatively, you can declare integer columns as doubles (float64) whenever these columns may have missing values. See `Handling Integers With Missing Values <https://www.mlflow.org/docs/latest/models.html#handling-integers-with-missing-values>`_ for more details.\n",
      "  inputs = _infer_schema(model_input)\n",
      "/opt/conda/lib/python3.9/site-packages/mlflow/models/signature.py:137: UserWarning: Hint: Inferred schema contains integer column(s). Integer columns in Python cannot represent missing values. If your input data contains missing values at inference time, it will be encoded as floats and will cause a schema enforcement error. The best way to avoid this problem is to infer the model schema based on a realistic data sample (training dataset) that includes missing values. Alternatively, you can declare integer columns as doubles (float64) whenever these columns may have missing values. See `Handling Integers With Missing Values <https://www.mlflow.org/docs/latest/models.html#handling-integers-with-missing-values>`_ for more details.\n",
      "  inputs = _infer_schema(model_input)\n",
      "/opt/conda/lib/python3.9/site-packages/mlflow/models/signature.py:137: UserWarning: Hint: Inferred schema contains integer column(s). Integer columns in Python cannot represent missing values. If your input data contains missing values at inference time, it will be encoded as floats and will cause a schema enforcement error. The best way to avoid this problem is to infer the model schema based on a realistic data sample (training dataset) that includes missing values. Alternatively, you can declare integer columns as doubles (float64) whenever these columns may have missing values. See `Handling Integers With Missing Values <https://www.mlflow.org/docs/latest/models.html#handling-integers-with-missing-values>`_ for more details.\n",
      "  inputs = _infer_schema(model_input)\n",
      "/opt/conda/lib/python3.9/site-packages/mlflow/models/signature.py:137: UserWarning: Hint: Inferred schema contains integer column(s). Integer columns in Python cannot represent missing values. If your input data contains missing values at inference time, it will be encoded as floats and will cause a schema enforcement error. The best way to avoid this problem is to infer the model schema based on a realistic data sample (training dataset) that includes missing values. Alternatively, you can declare integer columns as doubles (float64) whenever these columns may have missing values. See `Handling Integers With Missing Values <https://www.mlflow.org/docs/latest/models.html#handling-integers-with-missing-values>`_ for more details.\n",
      "  inputs = _infer_schema(model_input)\n",
      "/opt/conda/lib/python3.9/site-packages/mlflow/models/signature.py:137: UserWarning: Hint: Inferred schema contains integer column(s). Integer columns in Python cannot represent missing values. If your input data contains missing values at inference time, it will be encoded as floats and will cause a schema enforcement error. The best way to avoid this problem is to infer the model schema based on a realistic data sample (training dataset) that includes missing values. Alternatively, you can declare integer columns as doubles (float64) whenever these columns may have missing values. See `Handling Integers With Missing Values <https://www.mlflow.org/docs/latest/models.html#handling-integers-with-missing-values>`_ for more details.\n",
      "  inputs = _infer_schema(model_input)\n",
      "/opt/conda/lib/python3.9/site-packages/mlflow/models/signature.py:137: UserWarning: Hint: Inferred schema contains integer column(s). Integer columns in Python cannot represent missing values. If your input data contains missing values at inference time, it will be encoded as floats and will cause a schema enforcement error. The best way to avoid this problem is to infer the model schema based on a realistic data sample (training dataset) that includes missing values. Alternatively, you can declare integer columns as doubles (float64) whenever these columns may have missing values. See `Handling Integers With Missing Values <https://www.mlflow.org/docs/latest/models.html#handling-integers-with-missing-values>`_ for more details.\n",
      "  inputs = _infer_schema(model_input)\n",
      "/opt/conda/lib/python3.9/site-packages/mlflow/models/signature.py:137: UserWarning: Hint: Inferred schema contains integer column(s). Integer columns in Python cannot represent missing values. If your input data contains missing values at inference time, it will be encoded as floats and will cause a schema enforcement error. The best way to avoid this problem is to infer the model schema based on a realistic data sample (training dataset) that includes missing values. Alternatively, you can declare integer columns as doubles (float64) whenever these columns may have missing values. See `Handling Integers With Missing Values <https://www.mlflow.org/docs/latest/models.html#handling-integers-with-missing-values>`_ for more details.\n",
      "  inputs = _infer_schema(model_input)\n",
      "/opt/conda/lib/python3.9/site-packages/mlflow/models/signature.py:137: UserWarning: Hint: Inferred schema contains integer column(s). Integer columns in Python cannot represent missing values. If your input data contains missing values at inference time, it will be encoded as floats and will cause a schema enforcement error. The best way to avoid this problem is to infer the model schema based on a realistic data sample (training dataset) that includes missing values. Alternatively, you can declare integer columns as doubles (float64) whenever these columns may have missing values. See `Handling Integers With Missing Values <https://www.mlflow.org/docs/latest/models.html#handling-integers-with-missing-values>`_ for more details.\n",
      "  inputs = _infer_schema(model_input)\n",
      "/opt/conda/lib/python3.9/site-packages/mlflow/models/signature.py:137: UserWarning: Hint: Inferred schema contains integer column(s). Integer columns in Python cannot represent missing values. If your input data contains missing values at inference time, it will be encoded as floats and will cause a schema enforcement error. The best way to avoid this problem is to infer the model schema based on a realistic data sample (training dataset) that includes missing values. Alternatively, you can declare integer columns as doubles (float64) whenever these columns may have missing values. See `Handling Integers With Missing Values <https://www.mlflow.org/docs/latest/models.html#handling-integers-with-missing-values>`_ for more details.\n",
      "  inputs = _infer_schema(model_input)\n",
      "/opt/conda/lib/python3.9/site-packages/mlflow/models/signature.py:137: UserWarning: Hint: Inferred schema contains integer column(s). Integer columns in Python cannot represent missing values. If your input data contains missing values at inference time, it will be encoded as floats and will cause a schema enforcement error. The best way to avoid this problem is to infer the model schema based on a realistic data sample (training dataset) that includes missing values. Alternatively, you can declare integer columns as doubles (float64) whenever these columns may have missing values. See `Handling Integers With Missing Values <https://www.mlflow.org/docs/latest/models.html#handling-integers-with-missing-values>`_ for more details.\n",
      "  inputs = _infer_schema(model_input)\n"
     ]
    },
    {
     "name": "stdout",
     "output_type": "stream",
     "text": [
      "Best trial: my_trainer_2008c_00006\n",
      "Best config: {'seed': 1234, 'eta': 0.06961601858510012, 'max_depth': 5, 'objective': 'binary:logistic', 'eval_metric': ['logloss', 'error']}\n",
      "Best validation error: 0.0211\n"
     ]
    }
   ],
   "source": [
    "    # Log best trial results to parent run\n",
    "    best_trial = analysis.best_trial\n",
    "    best_config = analysis.best_config\n",
    "    best_result = analysis.best_result\n",
    "\n",
    "    mlflow.log_params({f\"best_{k}\": v for k, v in best_config.items()})\n",
    "    mlflow.log_metric(\"best_val_error\", best_result[\"val-error\"])\n",
    "    \n",
    "    # Log metrics for the best trial (using hyphen format from XGBoost)\n",
    "    if \"train-error\" in best_result:\n",
    "        mlflow.log_metric(\"best_train_error\", best_result[\"train-error\"])\n",
    "    if \"val-logloss\" in best_result:\n",
    "        mlflow.log_metric(\"best_val_logloss\", best_result[\"val-logloss\"])\n",
    "    if \"train-logloss\" in best_result:\n",
    "        mlflow.log_metric(\"best_train_logloss\", best_result[\"train-logloss\"])\n",
    "\n",
    "    # Log trial results summary and individual trial metrics as child runs\n",
    "    trial_results = []\n",
    "    for i, trial in enumerate(analysis.trials):\n",
    "        if trial.last_result:\n",
    "            # Create a child run for each trial\n",
    "            with mlflow.start_run(nested=True, run_name=f\"trial_{i+1}_eta_{trial.config['eta']:.4f}_depth_{trial.config['max_depth']}\"):\n",
    "                # Log trial parameters\n",
    "                mlflow.log_params(trial.config)\n",
    "                \n",
    "                # Log trial metrics (using hyphen format from XGBoost)\n",
    "                result = trial.last_result\n",
    "                mlflow.log_metric(\"val_error\", result.get(\"val-error\", 0))\n",
    "                if \"train-error\" in result:\n",
    "                    mlflow.log_metric(\"train_error\", result[\"train-error\"])\n",
    "                if \"val-logloss\" in result:\n",
    "                    mlflow.log_metric(\"val_logloss\", result[\"val-logloss\"])\n",
    "                if \"train-logloss\" in result:\n",
    "                    mlflow.log_metric(\"train_logloss\", result[\"train-logloss\"])\n",
    "                \n",
    "                # Try to log the model from this trial\n",
    "                try:\n",
    "                    trial_model_path = os.path.join(trial.logdir, \"model.xgb\")\n",
    "                    if os.path.exists(trial_model_path):\n",
    "                        trial_model = xgb.Booster(model_file=trial_model_path)\n",
    "                        sample_input = df_test.drop(target_col, axis=1).head(3)\n",
    "                        sample_predictions = trial_model.predict(xgb.DMatrix(sample_input))\n",
    "                        signature = infer_signature(sample_input, sample_predictions)\n",
    "                        \n",
    "                        mlflow.xgboost.log_model(\n",
    "                            trial_model,\n",
    "                            \"model\", \n",
    "                            signature=signature,\n",
    "                            input_example=sample_input\n",
    "                        )\n",
    "                except Exception as e:\n",
    "                    print(f\"Could not log model for trial {i+1}: {e}\")\n",
    "            \n",
    "            # Add to summary (using hyphen format from XGBoost)\n",
    "            trial_results.append({\n",
    "                \"trial_id\": trial.trial_id,\n",
    "                \"eta\": trial.config[\"eta\"],\n",
    "                \"max_depth\": trial.config[\"max_depth\"],\n",
    "                \"val_error\": result.get(\"val-error\", None),\n",
    "                \"train_error\": result.get(\"train-error\", None),\n",
    "                \"val_logloss\": result.get(\"val-logloss\", None),\n",
    "                \"train_logloss\": result.get(\"train-logloss\", None)\n",
    "            })\n",
    "\n",
    "    # Save trial results as JSON artifact\n",
    "    trial_results_path = os.path.join(MODEL_ROOT, \"trial_results.json\")\n",
    "    with open(trial_results_path, 'w') as f:\n",
    "        json.dump(trial_results, f, indent=2)\n",
    "    mlflow.log_artifact(trial_results_path)\n",
    "\n",
    "    print(f\"Best trial: {best_trial}\")\n",
    "    print(f\"Best config: {best_config}\")\n",
    "    print(f\"Best validation error: {best_result['val-error']:.4f}\")\n",
    "\n",
    "# End the hyperparameter tuning parent run (this should be outside the with block)"
   ]
  },
  {
   "cell_type": "code",
   "execution_count": 178,
   "id": "mjvwbkvq0hc",
   "metadata": {},
   "outputs": [
    {
     "name": "stdout",
     "output_type": "stream",
     "text": [
      "Started hyperparameter tuning parent run: 1cd1238538324f7c88598f0596a7b4a4\n"
     ]
    }
   ],
   "source": [
    "# End any existing MLFlow runs to avoid conflicts\n",
    "mlflow.end_run()\n",
    "\n",
    "# Start MLFlow parent run for hyperparameter tuning\n",
    "with mlflow.start_run(experiment_id=experiment_id, run_name=\"hyperparameter_tuning\") as tune_parent_run:\n",
    "    print(f\"Started hyperparameter tuning parent run: {tune_parent_run.info.run_id}\")\n",
    "\n",
    "    # Log hyperparameter tuning configuration\n",
    "    mlflow.log_param(\"num_samples\", 10)\n",
    "    mlflow.log_param(\"search_space_eta_min\", 3e-3)\n",
    "    mlflow.log_param(\"search_space_eta_max\", 3e-1)\n",
    "    mlflow.log_param(\"search_space_max_depth_min\", 2)\n",
    "    mlflow.log_param(\"search_space_max_depth_max\", 6)\n",
    "    mlflow.log_param(\"metric\", \"val-error\")\n",
    "    mlflow.log_param(\"mode\", \"min\")\n",
    "    \n",
    "    # Store parent run ID for use in trainer function\n",
    "    parent_run_id = tune_parent_run.info.run_id"
   ]
  },
  {
   "cell_type": "markdown",
   "id": "3b298667-ce7a-4248-bdc2-8fd5376fa9d2",
   "metadata": {},
   "source": [
    "Ray Tune returns an `ExperimentAnalysis` object which contains the results of the trials. We are only interested in its `best_config` property, which provides information on the best performing trial (according to our evaluation criteria)."
   ]
  },
  {
   "cell_type": "code",
   "execution_count": 179,
   "id": "43cde0e8-c048-4da2-abb2-c52198d83ad7",
   "metadata": {
    "tags": []
   },
   "outputs": [
    {
     "data": {
      "text/plain": [
       "{'seed': 1234,\n",
       " 'eta': 0.06961601858510012,\n",
       " 'max_depth': 5,\n",
       " 'objective': 'binary:logistic',\n",
       " 'eval_metric': ['logloss', 'error']}"
      ]
     },
     "execution_count": 179,
     "metadata": {},
     "output_type": "execute_result"
    }
   ],
   "source": [
    "analysis.best_config"
   ]
  },
  {
   "cell_type": "markdown",
   "id": "796209b3-72f0-474a-b703-0afd89959975",
   "metadata": {},
   "source": [
    "We now have the hyperparameters (*depth* and *learing rate*) that produce the best model. Luckily, we don't have to use them to train it from scratch as our training function automatically persists each attempted model. All we need to do now is to move the already trained variant to `/mnt` and ignore the others. We'll name the selected model `tune_best.xgb`."
   ]
  },
  {
   "cell_type": "code",
   "execution_count": 180,
   "id": "cb64dccd-415a-4d63-bd28-dcdf02879bc3",
   "metadata": {
    "tags": []
   },
   "outputs": [
    {
     "name": "stderr",
     "output_type": "stream",
     "text": [
      "/opt/conda/lib/python3.9/site-packages/mlflow/models/signature.py:137: UserWarning: Hint: Inferred schema contains integer column(s). Integer columns in Python cannot represent missing values. If your input data contains missing values at inference time, it will be encoded as floats and will cause a schema enforcement error. The best way to avoid this problem is to infer the model schema based on a realistic data sample (training dataset) that includes missing values. Alternatively, you can declare integer columns as doubles (float64) whenever these columns may have missing values. See `Handling Integers With Missing Values <https://www.mlflow.org/docs/latest/models.html#handling-integers-with-missing-values>`_ for more details.\n",
      "  inputs = _infer_schema(model_input)\n",
      "Successfully registered model 'Credit_Risk_Model_20250721_223516_best_tuned_model'.\n",
      "2025/07/21 22:45:38 INFO mlflow.tracking._model_registry.client: Waiting up to 300 seconds for model version to finish creation. Model name: Credit_Risk_Model_20250721_223516_best_tuned_model, version 1\n"
     ]
    },
    {
     "name": "stdout",
     "output_type": "stream",
     "text": [
      "Best model saved to: /mnt/artifacts/tune_best.xgb\n",
      "Best model logged to MLFlow with validation error: 0.0211\n"
     ]
    },
    {
     "name": "stderr",
     "output_type": "stream",
     "text": [
      "Created version '1' of model 'Credit_Risk_Model_20250721_223516_best_tuned_model'.\n"
     ]
    }
   ],
   "source": [
    "# End any existing MLFlow runs to avoid conflicts\n",
    "mlflow.end_run()\n",
    "\n",
    "import shutil\n",
    "\n",
    "# Copy best model locally (keep existing functionality)\n",
    "shutil.copy(\n",
    "    os.path.join(analysis.best_logdir, \"model.xgb\"),\n",
    "    os.path.join(MODEL_ROOT, \"tune_best.xgb\")\n",
    ")\n",
    "\n",
    "# Start a run for the final best model\n",
    "with mlflow.start_run(experiment_id=experiment_id, run_name=\"best_tuned_model\"):\n",
    "    # Log the best hyperparameters\n",
    "    mlflow.log_params(best_config)\n",
    "    mlflow.log_metric(\"best_val_error\", best_result[\"val-error\"])  # Fixed: use hyphen format\n",
    "    \n",
    "    # Load and log the best model to MLFlow\n",
    "    best_model = xgb.Booster(model_file=os.path.join(MODEL_ROOT, \"tune_best.xgb\"))\n",
    "    \n",
    "    # Prepare sample data for signature inference\n",
    "    sample_input = df_test.drop(target_col, axis=1).head(5)\n",
    "    sample_predictions = best_model.predict(xgb.DMatrix(sample_input))\n",
    "    signature = infer_signature(sample_input, sample_predictions)\n",
    "    \n",
    "    mlflow.xgboost.log_model(\n",
    "        best_model, \n",
    "        \"best_tuned_model\",\n",
    "        signature=signature,\n",
    "        input_example=sample_input,\n",
    "        registered_model_name=f\"{experiment_name}_best_tuned_model\"\n",
    "    )\n",
    "    \n",
    "    print(f\"Best model saved to: {os.path.join(MODEL_ROOT, 'tune_best.xgb')}\")\n",
    "    print(f\"Best model logged to MLFlow with validation error: {best_result['val-error']:.4f}\")  # Fixed: use hyphen format"
   ]
  },
  {
   "cell_type": "markdown",
   "id": "05a4be6b-d53d-4e94-988b-6b0917132922",
   "metadata": {},
   "source": [
    "Recall, that the model was selected using a validation set. We don't know its actual generalisation capability until we measure it on the test set.\n",
    "Let's go ahead and test how well it performs on unseen data. Note, that here we are also using Ray for the inference. This is not necessary. Later you will see that we can just unpickle the model and use standard XGBoost for the purposes of operationalisation."
   ]
  },
  {
   "cell_type": "code",
   "execution_count": 181,
   "id": "1cd5ad21-73a5-4410-b972-92ebbf6b21ed",
   "metadata": {
    "tags": []
   },
   "outputs": [
    {
     "name": "stderr",
     "output_type": "stream",
     "text": [
      "\u001b[2m\u001b[36m(predict pid=88144)\u001b[0m 2025-07-21 15:45:41,054\tINFO main.py:1632 -- [RayXGBoost] Created 3 remote actors.\n",
      "\u001b[2m\u001b[36m(predict pid=88144)\u001b[0m 2025-07-21 15:45:43,121\tINFO main.py:1649 -- [RayXGBoost] Starting XGBoost prediction.\n"
     ]
    },
    {
     "name": "stdout",
     "output_type": "stream",
     "text": [
      "Accuracy on test: 0.71\n"
     ]
    }
   ],
   "source": [
    "# End any existing MLFlow runs to avoid conflicts\n",
    "mlflow.end_run()\n",
    "\n",
    "# Inference using Ray - with MLFlow logging\n",
    "with mlflow.start_run(experiment_id=experiment_id, run_name=\"model_evaluation\"):\n",
    "    # Load the serialized model\n",
    "    bst = xgb.Booster(model_file=os.path.join(MODEL_ROOT, \"tune_best.xgb\"))\n",
    "\n",
    "    xgb_ray_params = xgbr.RayParams(\n",
    "        num_actors=RAY_ACTORS,\n",
    "        cpus_per_actor=RAY_CPUS_PER_ACTOR\n",
    "    )\n",
    "\n",
    "    # Make predictions on the test data\n",
    "    predictions = xgbr.predict(bst, rdm_test, ray_params=xgb_ray_params)\n",
    "    pred_class = (predictions > 0.5).astype(\"int\") \n",
    "    actuals = df_test[target_col]\n",
    "    test_accuracy = accuracy_score(pred_class, actuals)\n",
    "    \n",
    "    # Log test metrics to MLFlow\n",
    "    mlflow.log_metric(\"test_accuracy\", test_accuracy)\n",
    "    mlflow.log_param(\"prediction_threshold\", 0.5)\n",
    "    mlflow.log_param(\"test_samples\", len(actuals))\n",
    "    \n",
    "    # Save predictions as artifacts\n",
    "    predictions_df = pd.DataFrame({\n",
    "        'predictions': predictions,\n",
    "        'predicted_class': pred_class,\n",
    "        'actual': actuals\n",
    "    })\n",
    "    predictions_path = os.path.join(MODEL_ROOT, \"test_predictions.csv\")\n",
    "    predictions_df.to_csv(predictions_path, index=False)\n",
    "    mlflow.log_artifact(predictions_path)\n",
    "    \n",
    "    print(\"Accuracy on test: {:.2f}\".format(test_accuracy))"
   ]
  },
  {
   "cell_type": "code",
   "execution_count": 182,
   "id": "d9355849-d587-4e72-bc97-c50bf6e75549",
   "metadata": {
    "tags": []
   },
   "outputs": [
    {
     "data": {
      "text/plain": [
       "[0.47350216,\n",
       " 0.93903214,\n",
       " 0.4076877,\n",
       " 0.94276434,\n",
       " 0.9515921,\n",
       " 0.704536,\n",
       " 0.6700678,\n",
       " 0.79714274,\n",
       " 0.6295886,\n",
       " 0.81823826,\n",
       " 0.87695193,\n",
       " 0.5538367,\n",
       " 0.6241429,\n",
       " 0.79546547,\n",
       " 0.42948553,\n",
       " 0.3905483,\n",
       " 0.69984794,\n",
       " 0.72721076,\n",
       " 0.90739644,\n",
       " 0.84662485,\n",
       " 0.4048166,\n",
       " 0.8619992,\n",
       " 0.40432873,\n",
       " 0.96639943,\n",
       " 0.6404993,\n",
       " 0.90984863,\n",
       " 0.25590676,\n",
       " 0.38272187,\n",
       " 0.93371266,\n",
       " 0.2702973,\n",
       " 0.9142516,\n",
       " 0.3077441,\n",
       " 0.76642364,\n",
       " 0.8966203,\n",
       " 0.83162665,\n",
       " 0.43084443,\n",
       " 0.9666804,\n",
       " 0.9067092,\n",
       " 0.66214865,\n",
       " 0.802511,\n",
       " 0.27918446,\n",
       " 0.9492917,\n",
       " 0.5187675,\n",
       " 0.21597439,\n",
       " 0.7214699,\n",
       " 0.69165295,\n",
       " 0.8884732,\n",
       " 0.6607408,\n",
       " 0.65944725,\n",
       " 0.9542367,\n",
       " 0.6881351,\n",
       " 0.9660127,\n",
       " 0.6393249,\n",
       " 0.96357286,\n",
       " 0.93550175,\n",
       " 0.10275674,\n",
       " 0.9240862,\n",
       " 0.7813513,\n",
       " 0.8963366,\n",
       " 0.9331238,\n",
       " 0.5339795,\n",
       " 0.778567,\n",
       " 0.8560217,\n",
       " 0.4076877,\n",
       " 0.93764466,\n",
       " 0.6041215,\n",
       " 0.5594855,\n",
       " 0.32609382,\n",
       " 0.12599334,\n",
       " 0.45576137,\n",
       " 0.8571837,\n",
       " 0.4078764,\n",
       " 0.21025096,\n",
       " 0.98106855,\n",
       " 0.8458415,\n",
       " 0.85996544,\n",
       " 0.51511496,\n",
       " 0.3261457,\n",
       " 0.92645776,\n",
       " 0.8854089,\n",
       " 0.77874964,\n",
       " 0.65285915,\n",
       " 0.9332408,\n",
       " 0.383562,\n",
       " 0.56423885,\n",
       " 0.37254164,\n",
       " 0.97462034,\n",
       " 0.75446486,\n",
       " 0.9648887,\n",
       " 0.8143502,\n",
       " 0.7605885,\n",
       " 0.8568125,\n",
       " 0.59931934,\n",
       " 0.7971346,\n",
       " 0.9610865,\n",
       " 0.53938645,\n",
       " 0.48641104,\n",
       " 0.5756865,\n",
       " 0.8855198,\n",
       " 0.88648576,\n",
       " 0.6393109,\n",
       " 0.35421014,\n",
       " 0.2957725,\n",
       " 0.87490714,\n",
       " 0.13906392,\n",
       " 0.3983443,\n",
       " 0.9649042,\n",
       " 0.44434294,\n",
       " 0.88597745,\n",
       " 0.80492646,\n",
       " 0.9698873,\n",
       " 0.93733263,\n",
       " 0.41207534,\n",
       " 0.64797074,\n",
       " 0.44873083,\n",
       " 0.7626465,\n",
       " 0.78544587,\n",
       " 0.30974507,\n",
       " 0.95953685,\n",
       " 0.7547255,\n",
       " 0.66183084,\n",
       " 0.7288685,\n",
       " 0.69783264,\n",
       " 0.36239395,\n",
       " 0.87844855,\n",
       " 0.80039823,\n",
       " 0.8069986,\n",
       " 0.7335354,\n",
       " 0.6372361,\n",
       " 0.94957584,\n",
       " 0.76489073,\n",
       " 0.9041282,\n",
       " 0.7946671,\n",
       " 0.45343602,\n",
       " 0.80021256,\n",
       " 0.9730294,\n",
       " 0.73123103,\n",
       " 0.6429516,\n",
       " 0.43523103,\n",
       " 0.67597806,\n",
       " 0.3730531,\n",
       " 0.90993243,\n",
       " 0.8528937,\n",
       " 0.38805482,\n",
       " 0.8913334,\n",
       " 0.50748545,\n",
       " 0.82983565,\n",
       " 0.47937652,\n",
       " 0.7273837,\n",
       " 0.77469844,\n",
       " 0.3107489,\n",
       " 0.19988191,\n",
       " 0.38668922,\n",
       " 0.92917246,\n",
       " 0.4984332,\n",
       " 0.51088583,\n",
       " 0.6395091,\n",
       " 0.8226074,\n",
       " 0.9000692,\n",
       " 0.4378234,\n",
       " 0.8868794,\n",
       " 0.94916445,\n",
       " 0.8868328,\n",
       " 0.8141449,\n",
       " 0.28593737,\n",
       " 0.55580574,\n",
       " 0.15211038,\n",
       " 0.7069685,\n",
       " 0.9320343,\n",
       " 0.25552878,\n",
       " 0.22150402,\n",
       " 0.28465316,\n",
       " 0.8404769,\n",
       " 0.5067877,\n",
       " 0.9199188,\n",
       " 0.5751888,\n",
       " 0.9593097,\n",
       " 0.87908787,\n",
       " 0.90227336,\n",
       " 0.6186276,\n",
       " 0.7087069,\n",
       " 0.8098136,\n",
       " 0.8480959,\n",
       " 0.75491637,\n",
       " 0.63884646,\n",
       " 0.66004145,\n",
       " 0.9521516,\n",
       " 0.48172745,\n",
       " 0.7209373,\n",
       " 0.84349996,\n",
       " 0.8108477,\n",
       " 0.9725748,\n",
       " 0.97042733,\n",
       " 0.57041526,\n",
       " 0.97666204,\n",
       " 0.8879367,\n",
       " 0.9317293,\n",
       " 0.70085186,\n",
       " 0.96182704,\n",
       " 0.20480417,\n",
       " 0.3711769,\n",
       " 0.58379227,\n",
       " 0.840323,\n",
       " 0.38250864,\n",
       " 0.49899814,\n",
       " 0.91343313,\n",
       " 0.8016855,\n",
       " 0.6116245,\n",
       " 0.48901337,\n",
       " 0.5459012,\n",
       " 0.9138851,\n",
       " 0.9132558,\n",
       " 0.20699202,\n",
       " 0.875809,\n",
       " 0.8040626,\n",
       " 0.8745672,\n",
       " 0.5444325,\n",
       " 0.9097131,\n",
       " 0.494765]"
      ]
     },
     "execution_count": 182,
     "metadata": {},
     "output_type": "execute_result"
    }
   ],
   "source": [
    "list(predictions)"
   ]
  },
  {
   "cell_type": "markdown",
   "id": "078e0d5c-81d3-4020-9a92-67aedf31f4eb",
   "metadata": {},
   "source": [
    "## Model explainability"
   ]
  },
  {
   "cell_type": "markdown",
   "id": "ed87bd5c-276e-47dd-bf92-16a9744e3a85",
   "metadata": {},
   "source": [
    "The interest in interpretation of machine learning has been rapidly accelerating in the last decade. This can be attributed to the popularity that machine learning algorithms, and more specifically deep learning, has been gaining in various domains.\n",
    "\n",
    "According to Fox et al. (2017), the need for explainable AI is mainly motivated by the following three reasons:\n",
    "\n",
    "* The need for **trust** - if a doctor is recommending a treatment protocol based on a prediction from a neural network, this doctor must have absolute trust in the network's capability. This trust must be paramount when human lives are at stake.\n",
    "* The need for **interaction** - complex decision making systems often rely on Human–Autonomy Teaming (HAT), where the outcome is produced by joint efforts of one or more humans and one or more autonomous agents. This form of cooperation requires that the human operator is able to interact with the model for the purposes of better understanding or improving the automated recommendations.\n",
    "* The need for **transparency** - if a network makes an inappropriate recommendation or disagrees with a human expert, its behaviour must be explainable. There should be mechanisms that allow us to inspect the inner workings of the model's decision making process and get insight on what this decision was based on.\n",
    "\n",
    "In addition, regulators are introducing legal requirements around the use of automated decision making. For example, [article 22 of the General Data Protection Regulation](https://gdpr-info.eu/art-22-gdpr/) (GDPR) introduces the right of explanation - the power of an individual to demand an explanation on the reasons behind a model-based decision and to challenge the decision if it leads to a negative impact for the individual. The Defence Advanced Research Projects Agency (DARPA) in the US is supporting a major effort that seeks to facilitate AI explainability (see Turek, DARPA XAI).\n",
    "\n",
    "In this section of the notebook, we'll look into interpreting the inner workings of the model to better understand the encoded inductive biases."
   ]
  },
  {
   "cell_type": "markdown",
   "id": "eea426eb-01c6-469a-a06a-a0c3cf6e3e10",
   "metadata": {},
   "source": [
    "Let's begin by loading the model as a normal XGBoost model. We are no longer using Ray, as the model itself and the inference don't process large amounts of data.\n",
    "\n",
    "We'll also run another accuracy calculation on the test set (this time using a pure Pandas data frame) and make sure that the numbers agree."
   ]
  },
  {
   "cell_type": "code",
   "execution_count": 183,
   "id": "cb91a4b8-cd84-4cbf-acf8-d04ff0e72605",
   "metadata": {
    "tags": []
   },
   "outputs": [
    {
     "name": "stdout",
     "output_type": "stream",
     "text": [
      "Accuracy on test: 0.71\n"
     ]
    }
   ],
   "source": [
    "xgc = xgb.Booster(model_file=os.path.join(MODEL_ROOT, \"tune_best.xgb\"))\n",
    "df_test_X = df_test.drop(target_col, axis=1)\n",
    "xgtest = xgb.DMatrix(df_test_X)\n",
    "\n",
    "predictions = xgc.predict(xgtest)\n",
    "\n",
    "pred_class = (predictions > 0.5).astype(\"int\") \n",
    "actuals = df_test[target_col]\n",
    "print(\"Accuracy on test: {:.2f}\".format(accuracy_score(pred_class, actuals)))"
   ]
  },
  {
   "cell_type": "markdown",
   "id": "57233054-6905-46e1-83b3-88f610542c3f",
   "metadata": {},
   "source": [
    "Generally speaking, feature importance quantifies how useful each feature was in the construction of the model. We can interrogate a fitted XGBoost model on the feature importance and get the numbers for each one of the individual features.\n",
    "\n",
    "Indirectly, this tells us how much each feature contributes to the model predictions. There is a method called `plot_importance`, which. plots the attribute importance based on the fitted trees. This method accepts an argument named `importance_type`, which takes one of the following values and controls how importance is calculated:\n",
    "\n",
    "* gain --- average gain of splits which use the feature. When looking at two features, the one with the higher gain is more important for generating a prediction. Typically, Gain is the most relevant attribute to interpret the relative importance of each feature.\n",
    "* weight --- number of times a feature appears in a tree. \n",
    "* cover --- average coverage of splits which use the feature where coverage is defined as the number of samples affected by the split. This basically gives us the relative number of observations related to a feature."
   ]
  },
  {
   "cell_type": "code",
   "execution_count": 184,
   "id": "0b70efce-7f69-434b-80c0-afe6fc181aff",
   "metadata": {
    "tags": []
   },
   "outputs": [
    {
     "data": {
      "image/png": "[encoded data removed]",
      "text/plain": [
       "<Figure size 1000x800 with 1 Axes>"
      ]
     },
     "metadata": {},
     "output_type": "display_data"
    }
   ],
   "source": [
    "# End any existing MLFlow runs to avoid conflicts\n",
    "mlflow.end_run()\n",
    "\n",
    "# Start MLFlow run for model explainability\n",
    "with mlflow.start_run(experiment_id=experiment_id, run_name=\"model_explainability\"):\n",
    "    # Load the model for explainability analysis\n",
    "    xgc = xgb.Booster(model_file=os.path.join(MODEL_ROOT, \"tune_best.xgb\"))\n",
    "    \n",
    "    # Generate and save feature importance plots\n",
    "    fig, ax = plt.subplots(figsize=(10, 8))\n",
    "    xgb.plot_importance(xgc, importance_type=\"gain\", max_num_features=10, show_values=False, ax=ax)\n",
    "    plt.title(\"Feature Importance (Gain)\")\n",
    "    plt.tight_layout()\n",
    "    \n",
    "    # Save the plot as local artifact\n",
    "    importance_plot_path = os.path.join(MODEL_ROOT, \"feature_importance_gain.png\")\n",
    "    plt.savefig(importance_plot_path, dpi=300, bbox_inches='tight')\n",
    "    mlflow.log_artifact(importance_plot_path)\n",
    "    plt.show()\n",
    "    \n",
    "    # Get feature importance scores and log as metrics\n",
    "    importance_dict = xgc.get_score(importance_type='gain')\n",
    "    for feature, importance in importance_dict.items():\n",
    "        mlflow.log_metric(f\"feature_importance_{feature}\", importance)\n",
    "    \n",
    "    # Save feature importance as JSON artifact\n",
    "    importance_json_path = os.path.join(MODEL_ROOT, \"feature_importance.json\")\n",
    "    with open(importance_json_path, 'w') as f:\n",
    "        json.dump(importance_dict, f, indent=2)\n",
    "    mlflow.log_artifact(importance_json_path)"
   ]
  },
  {
   "cell_type": "markdown",
   "id": "0c01786c-8b0f-40b5-acaf-ac84665fb01f",
   "metadata": {},
   "source": [
    "Based on the above we see that the top three features driving the predictions of the model are:\n",
    "\n",
    "* checking_account_A14 - lack of a checking account\n",
    "* credit_history_A34 - critical account / has credits outside of the bank\n",
    "* property_A121 - real estate\n",
    "\n",
    "We could also look at the other importance metrics, just for completeness."
   ]
  },
  {
   "cell_type": "code",
   "execution_count": 185,
   "id": "1090c363-4df5-4962-8362-da0573a52125",
   "metadata": {
    "tags": []
   },
   "outputs": [
    {
     "data": {
      "image/png": "[encoded data removed]",
      "text/plain": [
       "<Figure size 1000x800 with 1 Axes>"
      ]
     },
     "metadata": {},
     "output_type": "display_data"
    }
   ],
   "source": [
    "    # Generate weight importance plot\n",
    "    fig, ax = plt.subplots(figsize=(10, 8))\n",
    "    xgb.plot_importance(xgc, importance_type=\"weight\", max_num_features=10, ax=ax)\n",
    "    plt.title(\"Feature Importance (Weight)\")\n",
    "    plt.tight_layout()\n",
    "    \n",
    "    # Save the plot as local artifact\n",
    "    weight_plot_path = os.path.join(MODEL_ROOT, \"feature_importance_weight.png\")\n",
    "    plt.savefig(weight_plot_path, dpi=300, bbox_inches='tight')\n",
    "    mlflow.log_artifact(weight_plot_path)\n",
    "    plt.show()"
   ]
  },
  {
   "cell_type": "code",
   "execution_count": 186,
   "id": "f6fff081-cbad-4099-857b-0930ddb3d988",
   "metadata": {
    "tags": []
   },
   "outputs": [
    {
     "data": {
      "image/png": "[encoded data removed]",
      "text/plain": [
       "<Figure size 1000x800 with 1 Axes>"
      ]
     },
     "metadata": {},
     "output_type": "display_data"
    }
   ],
   "source": [
    "    # Generate cover importance plot\n",
    "    fig, ax = plt.subplots(figsize=(10, 8))\n",
    "    xgb.plot_importance(xgc, importance_type=\"cover\", max_num_features=10, show_values=False, ax=ax)\n",
    "    plt.title(\"Feature Importance (Cover)\")\n",
    "    plt.tight_layout()\n",
    "    \n",
    "    # Save the plot as local artifact\n",
    "    cover_plot_path = os.path.join(MODEL_ROOT, \"feature_importance_cover.png\")\n",
    "    plt.savefig(cover_plot_path, dpi=300, bbox_inches='tight')\n",
    "    mlflow.log_artifact(cover_plot_path)\n",
    "    plt.show()"
   ]
  },
  {
   "cell_type": "markdown",
   "id": "9c28032c-a5b6-4342-b473-4e963e6bc43a",
   "metadata": {},
   "source": [
    "ELI5 is another popular libarary for model explainability. This package is used to debug machine learning classifiers and explain their predictions. \n",
    "\n",
    "Unlike XGBoost, which is confined to explaining its own models only, ELI5 provides support for other frameworks like *scikit-learn*, *Keras*, *LightGBM* and others. It can also explain black-box models (i.e. Neural Networks) using [LIME](https://www.dominodatalab.com/blog/explaining-black-box-models-using-attribute-importance-pdps-and-lime).\n",
    "\n",
    "First, ELI5 also provides a way of calculating the feature importance. Let's test it and make sure it agrees with the original XGBoost calculation (based on gain)."
   ]
  },
  {
   "cell_type": "code",
   "execution_count": 187,
   "id": "097b3060-29af-4f93-b541-eeb7742ac2d6",
   "metadata": {
    "tags": []
   },
   "outputs": [],
   "source": [
    "    # Generate ELI5 feature weights explanation\n",
    "    # Use a simpler approach to avoid feature name mismatches\n",
    "    import io\n",
    "    from contextlib import redirect_stdout\n",
    "    \n",
    "    # Capture ELI5 output as string\n",
    "    f = io.StringIO()\n",
    "    with redirect_stdout(f):\n",
    "        try:\n",
    "            eli5_display = eli5.show_weights(xgc)\n",
    "            eli5_html = eli5_display.data\n",
    "        except:\n",
    "            # If ELI5 fails, create a simple HTML with feature importance from XGBoost\n",
    "            importance_dict = xgc.get_score(importance_type='gain')\n",
    "            eli5_html = f\"<html><body><h2>Feature Importance (XGBoost Gain)</h2>\"\n",
    "            for feature, importance in sorted(importance_dict.items(), key=lambda x: x[1], reverse=True):\n",
    "                eli5_html += f\"<p>{feature}: {importance:.4f}</p>\"\n",
    "            eli5_html += \"</body></html>\"\n",
    "    \n",
    "    # Save ELI5 weights explanation as HTML\n",
    "    eli5_weights_path = os.path.join(MODEL_ROOT, \"eli5_feature_weights.html\")\n",
    "    with open(eli5_weights_path, 'w') as f:\n",
    "        f.write(eli5_html)\n",
    "    mlflow.log_artifact(eli5_weights_path)\n",
    "    \n",
    "    # Display the weights\n",
    "    try:\n",
    "        eli5.show_weights(xgc)\n",
    "    except Exception as e:\n",
    "        print(f\"ELI5 feature weights display failed: {e}\")\n",
    "        print(\"Showing XGBoost feature importance instead:\")\n",
    "        importance_dict = xgc.get_score(importance_type='gain')\n",
    "        for feature, importance in sorted(importance_dict.items(), key=lambda x: x[1], reverse=True)[:10]:\n",
    "            print(f\"{feature}: {importance:.4f}\")"
   ]
  },
  {
   "cell_type": "markdown",
   "id": "de3dcac3-26b7-475a-ae48-2a8e7763c745",
   "metadata": {},
   "source": [
    "A more interesting function is `show_predictions`, which returns an explanation of the decision behind individual predictions. In other words, we can see what features drove the model to predict one outcome or the other.\n",
    "\n",
    "Feel free to experiment with the code below, changing the `id` value and observing what features the model uses to calculate its prediction, and if the prediction agrees with the actual value. The `id` variable represents an observation number from the test dataset."
   ]
  },
  {
   "cell_type": "code",
   "execution_count": 188,
   "id": "13857734-246a-455b-bda9-fc59891227c9",
   "metadata": {
    "tags": []
   },
   "outputs": [
    {
     "name": "stdout",
     "output_type": "stream",
     "text": [
      "Actual Label: 1\n",
      "Predicted: 1\n",
      "ELI5 prediction explanation failed: 'checking_account_A14'\n"
     ]
    }
   ],
   "source": [
    "    # Individual prediction explanation with ELI5\n",
    "    df_test_X = df_test.drop(target_col, axis=1)\n",
    "    id = 3 # <- change this to see results for different observations  \n",
    "\n",
    "    print(\"Actual Label: %s\" % actuals.iloc[id])\n",
    "    print(\"Predicted: %s\" % pred_class[id])\n",
    "    \n",
    "    # Try ELI5 prediction explanation with fallback\n",
    "    try:\n",
    "        eli5_display = eli5.show_prediction(xgc, df_test_X.iloc[id], \n",
    "                             feature_names=list(df_test_X.columns),\n",
    "                             show_feature_values=True)\n",
    "        eli5_prediction_html = eli5_display.data\n",
    "    except Exception as e:\n",
    "        print(f\"ELI5 prediction explanation failed: {e}\")\n",
    "        # Create a simple fallback HTML\n",
    "        eli5_prediction_html = f\"\"\"<html><body>\n",
    "        <h2>Prediction Explanation for Sample {id}</h2>\n",
    "        <p>Actual Label: {actuals.iloc[id]}</p>\n",
    "        <p>Predicted: {pred_class[id]}</p>\n",
    "        <p>Prediction Probability: {predictions[id]:.4f}</p>\n",
    "        <p>ELI5 explanation failed due to feature name mismatch.</p>\n",
    "        </body></html>\"\"\"\n",
    "    \n",
    "    # Save individual prediction explanation as HTML\n",
    "    eli5_prediction_path = os.path.join(MODEL_ROOT, f\"eli5_prediction_sample_{id}.html\")\n",
    "    with open(eli5_prediction_path, 'w') as f:\n",
    "        f.write(eli5_prediction_html)\n",
    "    mlflow.log_artifact(eli5_prediction_path)\n",
    "    \n",
    "    # Display the prediction explanation\n",
    "    try:\n",
    "        eli5.show_prediction(xgc, df_test_X.iloc[id], \n",
    "                             feature_names=list(df_test_X.columns),\n",
    "                             show_feature_values=True)\n",
    "    except Exception as e:\n",
    "        print(f\"ELI5 prediction display failed: {e}\")\n",
    "        print(f\"Sample features: {df_test_X.iloc[id].to_dict()}\")"
   ]
  },
  {
   "cell_type": "markdown",
   "id": "4cc4438f-81d2-4567-8f36-d583b5376b7e",
   "metadata": {},
   "source": [
    "This concludes the model training notebook demo."
   ]
  },
  {
   "cell_type": "code",
   "execution_count": 189,
   "id": "1fd20567-0c83-4678-969a-e110d70dde31",
   "metadata": {
    "tags": []
   },
   "outputs": [],
   "source": [
    "# Set some default values\n",
    "column_names_all = ['duration', 'credit_amount', 'installment_rate', 'residence', 'age', 'credits', 'dependents', 'checking_account_A11', 'checking_account_A12', 'checking_account_A13', 'checking_account_A14', 'credit_history_A30', 'credit_history_A31',\n",
    "                    'credit_history_A32', 'credit_history_A33', 'credit_history_A34', 'purpose_A40', 'purpose_A41', 'purpose_A410', 'purpose_A42', 'purpose_A43', 'purpose_A44', 'purpose_A45', 'purpose_A46', 'purpose_A48', 'purpose_A49', 'savings_A61', \n",
    "                    'savings_A62', 'savings_A63', 'savings_A64', 'savings_A65', 'employment_since_A71', 'employment_since_A72', 'employment_since_A73', 'employment_since_A74', 'employment_since_A75', 'status_A91', 'status_A92', 'status_A93', 'status_A94', \n",
    "                    'debtors_guarantors_A101', 'debtors_guarantors_A102', 'debtors_guarantors_A103', 'property_A121', 'property_A122', 'property_A123', 'property_A124', 'other_installments_A141', 'other_installments_A142', 'other_installments_A143', 'housing_A151', \n",
    "                    'housing_A152', 'housing_A153', 'job_A171', 'job_A172', 'job_A173', 'job_A174', 'telephone_A191', 'telephone_A192', 'foreign_worker_A201', 'foreign_worker_A202']\n",
    "\n",
    "sample_data = [[0.4705882352941176, 0.3685484758446132, 0.3333333333333333, 0.3333333333333333, \n",
    "                0.2857142857142857, 0.0, 1.0, 0.0, 1.0, 0.0, 0.0, 0.0, 0.0, 1.0, 0.0, 0.0, 0.0, \n",
    "                1.0, 0.0, 0.0, 0.0, 0.0, 0.0, 0.0, 0.0, 0.0, 1.0, 0.0, 0.0, 0.0, 0.0, 0.0, 0.0, \n",
    "                1.0, 0.0, 0.0, 0.0, 0.0, 1.0, 0.0, 1.0, 0.0, 0.0, 0.0, 0.0, 1.0, 0.0, 0.0, 0.0, \n",
    "                1.0, 1.0, 0.0, 0.0, 0.0, 0.0, 0.0, 1.0, 0.0, 1.0, 1.0, 0.0]]"
   ]
  },
  {
   "cell_type": "code",
   "execution_count": 190,
   "id": "ca28ce09-fcba-416d-9c12-1297f0e10b8f",
   "metadata": {
    "tags": []
   },
   "outputs": [],
   "source": [
    "df_all = pd.DataFrame(sample_data, columns=column_names_all)"
   ]
  },
  {
   "cell_type": "code",
   "execution_count": 191,
   "id": "e98984cd-4370-40e7-ae19-b0514c7acd3e",
   "metadata": {
    "tags": []
   },
   "outputs": [],
   "source": [
    "for col in ['checking_account_A11', 'checking_account_A12', 'checking_account_A13', 'checking_account_A14', \n",
    "                'credit_history_A30', 'credit_history_A31', 'credit_history_A32', 'credit_history_A33', \n",
    "                'credit_history_A34', 'purpose_A40', 'purpose_A41', 'purpose_A410', 'purpose_A42', 'purpose_A43', \n",
    "                'purpose_A44', 'purpose_A45', 'purpose_A46', 'purpose_A48', 'purpose_A49', 'savings_A61', \n",
    "                'savings_A62', 'savings_A63', 'savings_A64', 'savings_A65', 'employment_since_A71', \n",
    "                'employment_since_A72', 'employment_since_A73', 'employment_since_A74', 'employment_since_A75', \n",
    "                'status_A91', 'status_A92', 'status_A93', 'status_A94', 'debtors_guarantors_A101', \n",
    "                'debtors_guarantors_A102', 'debtors_guarantors_A103', 'property_A121', 'property_A122', \n",
    "                'property_A123', 'property_A124', 'other_installments_A141', 'other_installments_A142', \n",
    "                'other_installments_A143', 'housing_A151', 'housing_A152', 'housing_A153', 'job_A171', 'job_A172', \n",
    "                'job_A173', 'job_A174', 'telephone_A191', 'telephone_A192', 'foreign_worker_A201', 'foreign_worker_A202']:\n",
    "    df_all[col] = df_all[col].astype('int')\n"
   ]
  },
  {
   "cell_type": "code",
   "execution_count": 192,
   "id": "fefa566f-d8df-4e0b-afbd-4c572f5d6373",
   "metadata": {
    "tags": []
   },
   "outputs": [
    {
     "data": {
      "text/html": [
       "\n",
       "    <style>\n",
       "    table.eli5-weights tr:hover {\n",
       "        filter: brightness(85%);\n",
       "    }\n",
       "</style>\n",
       "\n",
       "\n",
       "\n",
       "    \n",
       "\n",
       "    \n",
       "\n",
       "    \n",
       "\n",
       "    \n",
       "\n",
       "    \n",
       "\n",
       "    \n",
       "\n",
       "\n",
       "    \n",
       "\n",
       "    \n",
       "\n",
       "    \n",
       "\n",
       "    \n",
       "        \n",
       "\n",
       "    \n",
       "\n",
       "        \n",
       "            \n",
       "                \n",
       "                \n",
       "    \n",
       "        <p style=\"margin-bottom: 0.5em; margin-top: 0em\">\n",
       "            <b>\n",
       "    \n",
       "        y\n",
       "    \n",
       "</b>\n",
       "\n",
       "    \n",
       "    (score <b>-0.106</b>)\n",
       "\n",
       "top features\n",
       "        </p>\n",
       "    \n",
       "    <table class=\"eli5-weights\"\n",
       "           style=\"border-collapse: collapse; border: none; margin-top: 0em; table-layout: auto; margin-bottom: 2em;\">\n",
       "        <thead>\n",
       "        <tr style=\"border: none;\">\n",
       "            \n",
       "                <th style=\"padding: 0 1em 0 0.5em; text-align: right; border: none;\" title=\"Feature contribution already accounts for the feature value (for linear models, contribution = weight * feature value), and the sum of feature contributions is equal to the score or, for some classifiers, to the probability. Feature values are shown if &quot;show_feature_values&quot; is True.\">\n",
       "                    Contribution<sup>?</sup>\n",
       "                </th>\n",
       "            \n",
       "            <th style=\"padding: 0 0.5em 0 0.5em; text-align: left; border: none;\">Feature</th>\n",
       "            \n",
       "                <th style=\"padding: 0 0.5em 0 1em; text-align: right; border: none;\">Value</th>\n",
       "            \n",
       "        </tr>\n",
       "        </thead>\n",
       "        <tbody>\n",
       "        \n",
       "            <tr style=\"background-color: hsl(120, 100.00%, 80.00%); border: none;\">\n",
       "    <td style=\"padding: 0 1em 0 0.5em; text-align: right; border: none;\">\n",
       "        +0.582\n",
       "    </td>\n",
       "    <td style=\"padding: 0 0.5em 0 0.5em; text-align: left; border: none;\">\n",
       "        credit_amount\n",
       "    </td>\n",
       "    \n",
       "        <td style=\"padding: 0 0.5em 0 1em; text-align: right; border: none;\">\n",
       "            0.369\n",
       "        </td>\n",
       "    \n",
       "</tr>\n",
       "        \n",
       "            <tr style=\"background-color: hsl(120, 100.00%, 83.52%); border: none;\">\n",
       "    <td style=\"padding: 0 1em 0 0.5em; text-align: right; border: none;\">\n",
       "        +0.441\n",
       "    </td>\n",
       "    <td style=\"padding: 0 0.5em 0 0.5em; text-align: left; border: none;\">\n",
       "        purpose_A41\n",
       "    </td>\n",
       "    \n",
       "        <td style=\"padding: 0 0.5em 0 1em; text-align: right; border: none;\">\n",
       "            1.000\n",
       "        </td>\n",
       "    \n",
       "</tr>\n",
       "        \n",
       "            <tr style=\"background-color: hsl(120, 100.00%, 84.52%); border: none;\">\n",
       "    <td style=\"padding: 0 1em 0 0.5em; text-align: right; border: none;\">\n",
       "        +0.403\n",
       "    </td>\n",
       "    <td style=\"padding: 0 0.5em 0 0.5em; text-align: left; border: none;\">\n",
       "        age\n",
       "    </td>\n",
       "    \n",
       "        <td style=\"padding: 0 0.5em 0 1em; text-align: right; border: none;\">\n",
       "            0.286\n",
       "        </td>\n",
       "    \n",
       "</tr>\n",
       "        \n",
       "            <tr style=\"background-color: hsl(120, 100.00%, 95.09%); border: none;\">\n",
       "    <td style=\"padding: 0 1em 0 0.5em; text-align: right; border: none;\">\n",
       "        +0.078\n",
       "    </td>\n",
       "    <td style=\"padding: 0 0.5em 0 0.5em; text-align: left; border: none;\">\n",
       "        status_A93\n",
       "    </td>\n",
       "    \n",
       "        <td style=\"padding: 0 0.5em 0 1em; text-align: right; border: none;\">\n",
       "            1.000\n",
       "        </td>\n",
       "    \n",
       "</tr>\n",
       "        \n",
       "            <tr style=\"background-color: hsl(120, 100.00%, 95.50%); border: none;\">\n",
       "    <td style=\"padding: 0 1em 0 0.5em; text-align: right; border: none;\">\n",
       "        +0.069\n",
       "    </td>\n",
       "    <td style=\"padding: 0 0.5em 0 0.5em; text-align: left; border: none;\">\n",
       "        telephone_A192\n",
       "    </td>\n",
       "    \n",
       "        <td style=\"padding: 0 0.5em 0 1em; text-align: right; border: none;\">\n",
       "            1.000\n",
       "        </td>\n",
       "    \n",
       "</tr>\n",
       "        \n",
       "            <tr style=\"background-color: hsl(120, 100.00%, 96.53%); border: none;\">\n",
       "    <td style=\"padding: 0 1em 0 0.5em; text-align: right; border: none;\">\n",
       "        +0.048\n",
       "    </td>\n",
       "    <td style=\"padding: 0 0.5em 0 0.5em; text-align: left; border: none;\">\n",
       "        employment_since_A73\n",
       "    </td>\n",
       "    \n",
       "        <td style=\"padding: 0 0.5em 0 1em; text-align: right; border: none;\">\n",
       "            1.000\n",
       "        </td>\n",
       "    \n",
       "</tr>\n",
       "        \n",
       "            <tr style=\"background-color: hsl(120, 100.00%, 96.55%); border: none;\">\n",
       "    <td style=\"padding: 0 1em 0 0.5em; text-align: right; border: none;\">\n",
       "        +0.047\n",
       "    </td>\n",
       "    <td style=\"padding: 0 0.5em 0 0.5em; text-align: left; border: none;\">\n",
       "        property_A123\n",
       "    </td>\n",
       "    \n",
       "        <td style=\"padding: 0 0.5em 0 1em; text-align: right; border: none;\">\n",
       "            1.000\n",
       "        </td>\n",
       "    \n",
       "</tr>\n",
       "        \n",
       "            <tr style=\"background-color: hsl(120, 100.00%, 96.62%); border: none;\">\n",
       "    <td style=\"padding: 0 1em 0 0.5em; text-align: right; border: none;\">\n",
       "        +0.046\n",
       "    </td>\n",
       "    <td style=\"padding: 0 0.5em 0 0.5em; text-align: left; border: none;\">\n",
       "        checking_account_A11\n",
       "    </td>\n",
       "    \n",
       "        <td style=\"padding: 0 0.5em 0 1em; text-align: right; border: none;\">\n",
       "            0.000\n",
       "        </td>\n",
       "    \n",
       "</tr>\n",
       "        \n",
       "            <tr style=\"background-color: hsl(120, 100.00%, 97.66%); border: none;\">\n",
       "    <td style=\"padding: 0 1em 0 0.5em; text-align: right; border: none;\">\n",
       "        +0.027\n",
       "    </td>\n",
       "    <td style=\"padding: 0 0.5em 0 0.5em; text-align: left; border: none;\">\n",
       "        job_A173\n",
       "    </td>\n",
       "    \n",
       "        <td style=\"padding: 0 0.5em 0 1em; text-align: right; border: none;\">\n",
       "            0.000\n",
       "        </td>\n",
       "    \n",
       "</tr>\n",
       "        \n",
       "            <tr style=\"background-color: hsl(120, 100.00%, 97.98%); border: none;\">\n",
       "    <td style=\"padding: 0 1em 0 0.5em; text-align: right; border: none;\">\n",
       "        +0.022\n",
       "    </td>\n",
       "    <td style=\"padding: 0 0.5em 0 0.5em; text-align: left; border: none;\">\n",
       "        installment_rate\n",
       "    </td>\n",
       "    \n",
       "        <td style=\"padding: 0 0.5em 0 1em; text-align: right; border: none;\">\n",
       "            0.333\n",
       "        </td>\n",
       "    \n",
       "</tr>\n",
       "        \n",
       "            <tr style=\"background-color: hsl(120, 100.00%, 98.64%); border: none;\">\n",
       "    <td style=\"padding: 0 1em 0 0.5em; text-align: right; border: none;\">\n",
       "        +0.013\n",
       "    </td>\n",
       "    <td style=\"padding: 0 0.5em 0 0.5em; text-align: left; border: none;\">\n",
       "        employment_since_A72\n",
       "    </td>\n",
       "    \n",
       "        <td style=\"padding: 0 0.5em 0 1em; text-align: right; border: none;\">\n",
       "            0.000\n",
       "        </td>\n",
       "    \n",
       "</tr>\n",
       "        \n",
       "            <tr style=\"background-color: hsl(120, 100.00%, 99.38%); border: none;\">\n",
       "    <td style=\"padding: 0 1em 0 0.5em; text-align: right; border: none;\">\n",
       "        +0.004\n",
       "    </td>\n",
       "    <td style=\"padding: 0 0.5em 0 0.5em; text-align: left; border: none;\">\n",
       "        &lt;BIAS&gt;\n",
       "    </td>\n",
       "    \n",
       "        <td style=\"padding: 0 0.5em 0 1em; text-align: right; border: none;\">\n",
       "            1.000\n",
       "        </td>\n",
       "    \n",
       "</tr>\n",
       "        \n",
       "        \n",
       "\n",
       "        \n",
       "        \n",
       "            <tr style=\"background-color: hsl(0, 100.00%, 99.00%); border: none;\">\n",
       "    <td style=\"padding: 0 1em 0 0.5em; text-align: right; border: none;\">\n",
       "        -0.008\n",
       "    </td>\n",
       "    <td style=\"padding: 0 0.5em 0 0.5em; text-align: left; border: none;\">\n",
       "        job_A172\n",
       "    </td>\n",
       "    \n",
       "        <td style=\"padding: 0 0.5em 0 1em; text-align: right; border: none;\">\n",
       "            0.000\n",
       "        </td>\n",
       "    \n",
       "</tr>\n",
       "        \n",
       "            <tr style=\"background-color: hsl(0, 100.00%, 98.74%); border: none;\">\n",
       "    <td style=\"padding: 0 1em 0 0.5em; text-align: right; border: none;\">\n",
       "        -0.011\n",
       "    </td>\n",
       "    <td style=\"padding: 0 0.5em 0 0.5em; text-align: left; border: none;\">\n",
       "        credit_history_A33\n",
       "    </td>\n",
       "    \n",
       "        <td style=\"padding: 0 0.5em 0 1em; text-align: right; border: none;\">\n",
       "            0.000\n",
       "        </td>\n",
       "    \n",
       "</tr>\n",
       "        \n",
       "            <tr style=\"background-color: hsl(0, 100.00%, 98.70%); border: none;\">\n",
       "    <td style=\"padding: 0 1em 0 0.5em; text-align: right; border: none;\">\n",
       "        -0.012\n",
       "    </td>\n",
       "    <td style=\"padding: 0 0.5em 0 0.5em; text-align: left; border: none;\">\n",
       "        purpose_A43\n",
       "    </td>\n",
       "    \n",
       "        <td style=\"padding: 0 0.5em 0 1em; text-align: right; border: none;\">\n",
       "            0.000\n",
       "        </td>\n",
       "    \n",
       "</tr>\n",
       "        \n",
       "            <tr style=\"background-color: hsl(0, 100.00%, 98.46%); border: none;\">\n",
       "    <td style=\"padding: 0 1em 0 0.5em; text-align: right; border: none;\">\n",
       "        -0.015\n",
       "    </td>\n",
       "    <td style=\"padding: 0 0.5em 0 0.5em; text-align: left; border: none;\">\n",
       "        employment_since_A75\n",
       "    </td>\n",
       "    \n",
       "        <td style=\"padding: 0 0.5em 0 1em; text-align: right; border: none;\">\n",
       "            0.000\n",
       "        </td>\n",
       "    \n",
       "</tr>\n",
       "        \n",
       "            <tr style=\"background-color: hsl(0, 100.00%, 98.13%); border: none;\">\n",
       "    <td style=\"padding: 0 1em 0 0.5em; text-align: right; border: none;\">\n",
       "        -0.020\n",
       "    </td>\n",
       "    <td style=\"padding: 0 0.5em 0 0.5em; text-align: left; border: none;\">\n",
       "        foreign_worker_A201\n",
       "    </td>\n",
       "    \n",
       "        <td style=\"padding: 0 0.5em 0 1em; text-align: right; border: none;\">\n",
       "            1.000\n",
       "        </td>\n",
       "    \n",
       "</tr>\n",
       "        \n",
       "            <tr style=\"background-color: hsl(0, 100.00%, 98.11%); border: none;\">\n",
       "    <td style=\"padding: 0 1em 0 0.5em; text-align: right; border: none;\">\n",
       "        -0.020\n",
       "    </td>\n",
       "    <td style=\"padding: 0 0.5em 0 0.5em; text-align: left; border: none;\">\n",
       "        debtors_guarantors_A101\n",
       "    </td>\n",
       "    \n",
       "        <td style=\"padding: 0 0.5em 0 1em; text-align: right; border: none;\">\n",
       "            1.000\n",
       "        </td>\n",
       "    \n",
       "</tr>\n",
       "        \n",
       "            <tr style=\"background-color: hsl(0, 100.00%, 97.86%); border: none;\">\n",
       "    <td style=\"padding: 0 1em 0 0.5em; text-align: right; border: none;\">\n",
       "        -0.024\n",
       "    </td>\n",
       "    <td style=\"padding: 0 0.5em 0 0.5em; text-align: left; border: none;\">\n",
       "        residence\n",
       "    </td>\n",
       "    \n",
       "        <td style=\"padding: 0 0.5em 0 1em; text-align: right; border: none;\">\n",
       "            0.333\n",
       "        </td>\n",
       "    \n",
       "</tr>\n",
       "        \n",
       "            <tr style=\"background-color: hsl(0, 100.00%, 97.79%); border: none;\">\n",
       "    <td style=\"padding: 0 1em 0 0.5em; text-align: right; border: none;\">\n",
       "        -0.025\n",
       "    </td>\n",
       "    <td style=\"padding: 0 0.5em 0 0.5em; text-align: left; border: none;\">\n",
       "        employment_since_A71\n",
       "    </td>\n",
       "    \n",
       "        <td style=\"padding: 0 0.5em 0 1em; text-align: right; border: none;\">\n",
       "            0.000\n",
       "        </td>\n",
       "    \n",
       "</tr>\n",
       "        \n",
       "            <tr style=\"background-color: hsl(0, 100.00%, 96.65%); border: none;\">\n",
       "    <td style=\"padding: 0 1em 0 0.5em; text-align: right; border: none;\">\n",
       "        -0.045\n",
       "    </td>\n",
       "    <td style=\"padding: 0 0.5em 0 0.5em; text-align: left; border: none;\">\n",
       "        checking_account_A13\n",
       "    </td>\n",
       "    \n",
       "        <td style=\"padding: 0 0.5em 0 1em; text-align: right; border: none;\">\n",
       "            0.000\n",
       "        </td>\n",
       "    \n",
       "</tr>\n",
       "        \n",
       "            <tr style=\"background-color: hsl(0, 100.00%, 96.44%); border: none;\">\n",
       "    <td style=\"padding: 0 1em 0 0.5em; text-align: right; border: none;\">\n",
       "        -0.049\n",
       "    </td>\n",
       "    <td style=\"padding: 0 0.5em 0 0.5em; text-align: left; border: none;\">\n",
       "        debtors_guarantors_A103\n",
       "    </td>\n",
       "    \n",
       "        <td style=\"padding: 0 0.5em 0 1em; text-align: right; border: none;\">\n",
       "            0.000\n",
       "        </td>\n",
       "    \n",
       "</tr>\n",
       "        \n",
       "            <tr style=\"background-color: hsl(0, 100.00%, 96.28%); border: none;\">\n",
       "    <td style=\"padding: 0 1em 0 0.5em; text-align: right; border: none;\">\n",
       "        -0.053\n",
       "    </td>\n",
       "    <td style=\"padding: 0 0.5em 0 0.5em; text-align: left; border: none;\">\n",
       "        housing_A151\n",
       "    </td>\n",
       "    \n",
       "        <td style=\"padding: 0 0.5em 0 1em; text-align: right; border: none;\">\n",
       "            1.000\n",
       "        </td>\n",
       "    \n",
       "</tr>\n",
       "        \n",
       "            <tr style=\"background-color: hsl(0, 100.00%, 96.10%); border: none;\">\n",
       "    <td style=\"padding: 0 1em 0 0.5em; text-align: right; border: none;\">\n",
       "        -0.056\n",
       "    </td>\n",
       "    <td style=\"padding: 0 0.5em 0 0.5em; text-align: left; border: none;\">\n",
       "        employment_since_A74\n",
       "    </td>\n",
       "    \n",
       "        <td style=\"padding: 0 0.5em 0 1em; text-align: right; border: none;\">\n",
       "            0.000\n",
       "        </td>\n",
       "    \n",
       "</tr>\n",
       "        \n",
       "            <tr style=\"background-color: hsl(0, 100.00%, 94.35%); border: none;\">\n",
       "    <td style=\"padding: 0 1em 0 0.5em; text-align: right; border: none;\">\n",
       "        -0.096\n",
       "    </td>\n",
       "    <td style=\"padding: 0 0.5em 0 0.5em; text-align: left; border: none;\">\n",
       "        property_A121\n",
       "    </td>\n",
       "    \n",
       "        <td style=\"padding: 0 0.5em 0 1em; text-align: right; border: none;\">\n",
       "            0.000\n",
       "        </td>\n",
       "    \n",
       "</tr>\n",
       "        \n",
       "            <tr style=\"background-color: hsl(0, 100.00%, 93.58%); border: none;\">\n",
       "    <td style=\"padding: 0 1em 0 0.5em; text-align: right; border: none;\">\n",
       "        -0.115\n",
       "    </td>\n",
       "    <td style=\"padding: 0 0.5em 0 0.5em; text-align: left; border: none;\">\n",
       "        savings_A65\n",
       "    </td>\n",
       "    \n",
       "        <td style=\"padding: 0 0.5em 0 1em; text-align: right; border: none;\">\n",
       "            0.000\n",
       "        </td>\n",
       "    \n",
       "</tr>\n",
       "        \n",
       "            <tr style=\"background-color: hsl(0, 100.00%, 92.03%); border: none;\">\n",
       "    <td style=\"padding: 0 1em 0 0.5em; text-align: right; border: none;\">\n",
       "        -0.156\n",
       "    </td>\n",
       "    <td style=\"padding: 0 0.5em 0 0.5em; text-align: left; border: none;\">\n",
       "        savings_A61\n",
       "    </td>\n",
       "    \n",
       "        <td style=\"padding: 0 0.5em 0 1em; text-align: right; border: none;\">\n",
       "            1.000\n",
       "        </td>\n",
       "    \n",
       "</tr>\n",
       "        \n",
       "            <tr style=\"background-color: hsl(0, 100.00%, 89.78%); border: none;\">\n",
       "    <td style=\"padding: 0 1em 0 0.5em; text-align: right; border: none;\">\n",
       "        -0.223\n",
       "    </td>\n",
       "    <td style=\"padding: 0 0.5em 0 0.5em; text-align: left; border: none;\">\n",
       "        credit_history_A34\n",
       "    </td>\n",
       "    \n",
       "        <td style=\"padding: 0 0.5em 0 1em; text-align: right; border: none;\">\n",
       "            0.000\n",
       "        </td>\n",
       "    \n",
       "</tr>\n",
       "        \n",
       "            <tr style=\"background-color: hsl(0, 100.00%, 83.07%); border: none;\">\n",
       "    <td style=\"padding: 0 1em 0 0.5em; text-align: right; border: none;\">\n",
       "        -0.459\n",
       "    </td>\n",
       "    <td style=\"padding: 0 0.5em 0 0.5em; text-align: left; border: none;\">\n",
       "        duration\n",
       "    </td>\n",
       "    \n",
       "        <td style=\"padding: 0 0.5em 0 1em; text-align: right; border: none;\">\n",
       "            0.471\n",
       "        </td>\n",
       "    \n",
       "</tr>\n",
       "        \n",
       "            <tr style=\"background-color: hsl(0, 100.00%, 82.02%); border: none;\">\n",
       "    <td style=\"padding: 0 1em 0 0.5em; text-align: right; border: none;\">\n",
       "        -0.499\n",
       "    </td>\n",
       "    <td style=\"padding: 0 0.5em 0 0.5em; text-align: left; border: none;\">\n",
       "        checking_account_A14\n",
       "    </td>\n",
       "    \n",
       "        <td style=\"padding: 0 0.5em 0 1em; text-align: right; border: none;\">\n",
       "            0.000\n",
       "        </td>\n",
       "    \n",
       "</tr>\n",
       "        \n",
       "\n",
       "        </tbody>\n",
       "    </table>\n",
       "\n",
       "            \n",
       "        \n",
       "\n",
       "        \n",
       "\n",
       "\n",
       "\n",
       "    \n",
       "\n",
       "    \n",
       "\n",
       "    \n",
       "\n",
       "    \n",
       "\n",
       "\n",
       "    \n",
       "\n",
       "    \n",
       "\n",
       "    \n",
       "\n",
       "    \n",
       "\n",
       "    \n",
       "\n",
       "    \n",
       "\n",
       "\n",
       "    \n",
       "\n",
       "    \n",
       "\n",
       "    \n",
       "\n",
       "    \n",
       "\n",
       "    \n",
       "\n",
       "    \n",
       "\n",
       "\n",
       "\n"
      ],
      "text/plain": [
       "<IPython.core.display.HTML object>"
      ]
     },
     "execution_count": 192,
     "metadata": {},
     "output_type": "execute_result"
    }
   ],
   "source": [
    "eli5.show_prediction(xgc, df_all.iloc[0], \n",
    "                         feature_names=list(df_all.columns),\n",
    "                         show_feature_values=True)"
   ]
  },
  {
   "cell_type": "code",
   "execution_count": 193,
   "id": "b22065cd-e32d-4125-bcfe-ffebe5afde04",
   "metadata": {
    "tags": []
   },
   "outputs": [
    {
     "data": {
      "text/plain": [
       "duration               0.470588\n",
       "credit_amount          0.368548\n",
       "installment_rate       0.333333\n",
       "residence              0.333333\n",
       "age                    0.285714\n",
       "                         ...   \n",
       "job_A174               1.000000\n",
       "telephone_A191         0.000000\n",
       "telephone_A192         1.000000\n",
       "foreign_worker_A201    1.000000\n",
       "foreign_worker_A202    0.000000\n",
       "Name: 0, Length: 61, dtype: float64"
      ]
     },
     "execution_count": 193,
     "metadata": {},
     "output_type": "execute_result"
    }
   ],
   "source": [
    "df_all.iloc[0]"
   ]
  },
  {
   "cell_type": "code",
   "execution_count": 194,
   "id": "cd93de67-305c-4216-bdba-e4e62fe6bf59",
   "metadata": {
    "tags": []
   },
   "outputs": [
    {
     "data": {
      "text/plain": [
       "0.0"
      ]
     },
     "execution_count": 194,
     "metadata": {},
     "output_type": "execute_result"
    }
   ],
   "source": [
    "df_all.iloc[0][\"checking_account_A14\"]"
   ]
  },
  {
   "cell_type": "code",
   "execution_count": 195,
   "id": "57b2922c-1200-4973-a537-799b74236270",
   "metadata": {
    "tags": []
   },
   "outputs": [],
   "source": [
    "df_prediction = eli5.explain_prediction_df(xgc, df_all.iloc[0], \n",
    "                         feature_names=list(df_all.columns))"
   ]
  },
  {
   "cell_type": "code",
   "execution_count": 196,
   "id": "1b849c9f-10d8-4c8c-8592-ffc883e2022d",
   "metadata": {
    "tags": []
   },
   "outputs": [
    {
     "data": {
      "text/html": [
       "<style type=\"text/css\">\n",
       "#T_dee54_row0_col2, #T_dee54_row1_col3, #T_dee54_row3_col3, #T_dee54_row4_col3, #T_dee54_row5_col3, #T_dee54_row6_col3 {\n",
       "  background-color: #00441b;\n",
       "  color: #f1f1f1;\n",
       "}\n",
       "#T_dee54_row0_col3 {\n",
       "  background-color: #a3da9d;\n",
       "  color: #000000;\n",
       "}\n",
       "#T_dee54_row1_col2 {\n",
       "  background-color: #238b45;\n",
       "  color: #f1f1f1;\n",
       "}\n",
       "#T_dee54_row2_col2 {\n",
       "  background-color: #339c52;\n",
       "  color: #f1f1f1;\n",
       "}\n",
       "#T_dee54_row2_col3 {\n",
       "  background-color: #bce4b5;\n",
       "  color: #000000;\n",
       "}\n",
       "#T_dee54_row3_col2 {\n",
       "  background-color: #e9f7e5;\n",
       "  color: #000000;\n",
       "}\n",
       "#T_dee54_row4_col2 {\n",
       "  background-color: #ebf7e7;\n",
       "  color: #000000;\n",
       "}\n",
       "#T_dee54_row5_col2, #T_dee54_row6_col2, #T_dee54_row7_col2 {\n",
       "  background-color: #f1faee;\n",
       "  color: #000000;\n",
       "}\n",
       "#T_dee54_row7_col3, #T_dee54_row8_col3, #T_dee54_row9_col2 {\n",
       "  background-color: #f7fcf5;\n",
       "  color: #000000;\n",
       "}\n",
       "#T_dee54_row8_col2 {\n",
       "  background-color: #f6fcf4;\n",
       "  color: #000000;\n",
       "}\n",
       "#T_dee54_row9_col3 {\n",
       "  background-color: #aedea7;\n",
       "  color: #000000;\n",
       "}\n",
       "</style>\n",
       "<table id=\"T_dee54\">\n",
       "  <thead>\n",
       "    <tr>\n",
       "      <th id=\"T_dee54_level0_col0\" class=\"col_heading level0 col0\" >target</th>\n",
       "      <th id=\"T_dee54_level0_col1\" class=\"col_heading level0 col1\" >feature</th>\n",
       "      <th id=\"T_dee54_level0_col2\" class=\"col_heading level0 col2\" >weight</th>\n",
       "      <th id=\"T_dee54_level0_col3\" class=\"col_heading level0 col3\" >value</th>\n",
       "    </tr>\n",
       "  </thead>\n",
       "  <tbody>\n",
       "    <tr>\n",
       "      <td id=\"T_dee54_row0_col0\" class=\"data row0 col0\" >y</td>\n",
       "      <td id=\"T_dee54_row0_col1\" class=\"data row0 col1\" >credit_amount</td>\n",
       "      <td id=\"T_dee54_row0_col2\" class=\"data row0 col2\" >0.581611</td>\n",
       "      <td id=\"T_dee54_row0_col3\" class=\"data row0 col3\" >0.368548</td>\n",
       "    </tr>\n",
       "    <tr>\n",
       "      <td id=\"T_dee54_row1_col0\" class=\"data row1 col0\" >y</td>\n",
       "      <td id=\"T_dee54_row1_col1\" class=\"data row1 col1\" >purpose_A41</td>\n",
       "      <td id=\"T_dee54_row1_col2\" class=\"data row1 col2\" >0.440962</td>\n",
       "      <td id=\"T_dee54_row1_col3\" class=\"data row1 col3\" >1.000000</td>\n",
       "    </tr>\n",
       "    <tr>\n",
       "      <td id=\"T_dee54_row2_col0\" class=\"data row2 col0\" >y</td>\n",
       "      <td id=\"T_dee54_row2_col1\" class=\"data row2 col1\" >age</td>\n",
       "      <td id=\"T_dee54_row2_col2\" class=\"data row2 col2\" >0.403189</td>\n",
       "      <td id=\"T_dee54_row2_col3\" class=\"data row2 col3\" >0.285714</td>\n",
       "    </tr>\n",
       "    <tr>\n",
       "      <td id=\"T_dee54_row3_col0\" class=\"data row3 col0\" >y</td>\n",
       "      <td id=\"T_dee54_row3_col1\" class=\"data row3 col1\" >status_A93</td>\n",
       "      <td id=\"T_dee54_row3_col2\" class=\"data row3 col2\" >0.078115</td>\n",
       "      <td id=\"T_dee54_row3_col3\" class=\"data row3 col3\" >1.000000</td>\n",
       "    </tr>\n",
       "    <tr>\n",
       "      <td id=\"T_dee54_row4_col0\" class=\"data row4 col0\" >y</td>\n",
       "      <td id=\"T_dee54_row4_col1\" class=\"data row4 col1\" >telephone_A192</td>\n",
       "      <td id=\"T_dee54_row4_col2\" class=\"data row4 col2\" >0.069136</td>\n",
       "      <td id=\"T_dee54_row4_col3\" class=\"data row4 col3\" >1.000000</td>\n",
       "    </tr>\n",
       "    <tr>\n",
       "      <td id=\"T_dee54_row5_col0\" class=\"data row5 col0\" >y</td>\n",
       "      <td id=\"T_dee54_row5_col1\" class=\"data row5 col1\" >employment_since_A73</td>\n",
       "      <td id=\"T_dee54_row5_col2\" class=\"data row5 col2\" >0.047671</td>\n",
       "      <td id=\"T_dee54_row5_col3\" class=\"data row5 col3\" >1.000000</td>\n",
       "    </tr>\n",
       "    <tr>\n",
       "      <td id=\"T_dee54_row6_col0\" class=\"data row6 col0\" >y</td>\n",
       "      <td id=\"T_dee54_row6_col1\" class=\"data row6 col1\" >property_A123</td>\n",
       "      <td id=\"T_dee54_row6_col2\" class=\"data row6 col2\" >0.047316</td>\n",
       "      <td id=\"T_dee54_row6_col3\" class=\"data row6 col3\" >1.000000</td>\n",
       "    </tr>\n",
       "    <tr>\n",
       "      <td id=\"T_dee54_row7_col0\" class=\"data row7 col0\" >y</td>\n",
       "      <td id=\"T_dee54_row7_col1\" class=\"data row7 col1\" >checking_account_A11</td>\n",
       "      <td id=\"T_dee54_row7_col2\" class=\"data row7 col2\" >0.045892</td>\n",
       "      <td id=\"T_dee54_row7_col3\" class=\"data row7 col3\" >0.000000</td>\n",
       "    </tr>\n",
       "    <tr>\n",
       "      <td id=\"T_dee54_row8_col0\" class=\"data row8 col0\" >y</td>\n",
       "      <td id=\"T_dee54_row8_col1\" class=\"data row8 col1\" >job_A173</td>\n",
       "      <td id=\"T_dee54_row8_col2\" class=\"data row8 col2\" >0.027161</td>\n",
       "      <td id=\"T_dee54_row8_col3\" class=\"data row8 col3\" >0.000000</td>\n",
       "    </tr>\n",
       "    <tr>\n",
       "      <td id=\"T_dee54_row9_col0\" class=\"data row9 col0\" >y</td>\n",
       "      <td id=\"T_dee54_row9_col1\" class=\"data row9 col1\" >installment_rate</td>\n",
       "      <td id=\"T_dee54_row9_col2\" class=\"data row9 col2\" >0.022013</td>\n",
       "      <td id=\"T_dee54_row9_col3\" class=\"data row9 col3\" >0.333333</td>\n",
       "    </tr>\n",
       "  </tbody>\n",
       "</table>\n"
      ],
      "text/plain": [
       "<pandas.io.formats.style.Styler at 0x7b39ca273a00>"
      ]
     },
     "execution_count": 196,
     "metadata": {},
     "output_type": "execute_result"
    }
   ],
   "source": [
    "df_prediction.head(10).style.background_gradient(cmap = \"Greens\").hide()"
   ]
  },
  {
   "cell_type": "code",
   "execution_count": 197,
   "id": "hhoe0dhkmot",
   "metadata": {
    "tags": []
   },
   "outputs": [
    {
     "name": "stdout",
     "output_type": "stream",
     "text": [
      "Model explainability analysis completed and logged to MLFlow\n"
     ]
    }
   ],
   "source": [
    "    # Generate explanation for sample data with fallback\n",
    "    try:\n",
    "        eli5_display = eli5.show_prediction(xgc, df_all.iloc[0], \n",
    "                                 feature_names=list(df_all.columns),\n",
    "                                 show_feature_values=True)\n",
    "        sample_prediction_html = eli5_display.data\n",
    "    except Exception as e:\n",
    "        print(f\"ELI5 sample prediction explanation failed: {e}\")\n",
    "        # Create a simple fallback HTML\n",
    "        sample_prediction_html = f\"\"\"<html><body>\n",
    "        <h2>Sample Prediction Explanation</h2>\n",
    "        <p>ELI5 explanation failed due to feature name mismatch.</p>\n",
    "        <p>Sample data shape: {df_all.iloc[0].shape}</p>\n",
    "        </body></html>\"\"\"\n",
    "    \n",
    "    # Save sample prediction explanation\n",
    "    sample_prediction_path = os.path.join(MODEL_ROOT, \"eli5_sample_prediction.html\")\n",
    "    with open(sample_prediction_path, 'w') as f:\n",
    "        f.write(sample_prediction_html)\n",
    "    mlflow.log_artifact(sample_prediction_path)\n",
    "    \n",
    "    # Try to save the prediction dataframe from ELI5\n",
    "    try:\n",
    "        df_prediction = eli5.explain_prediction_df(xgc, df_all.iloc[0], \n",
    "                                 feature_names=list(df_all.columns))\n",
    "        prediction_df_path = os.path.join(MODEL_ROOT, \"eli5_prediction_df.csv\")\n",
    "        df_prediction.to_csv(prediction_df_path, index=False)\n",
    "        mlflow.log_artifact(prediction_df_path)\n",
    "    except Exception as e:\n",
    "        print(f\"ELI5 prediction dataframe generation failed: {e}\")\n",
    "        # Create a simple alternative\n",
    "        simple_df = pd.DataFrame({\n",
    "            'feature': list(df_all.columns)[:10],\n",
    "            'value': df_all.iloc[0].values[:10]\n",
    "        })\n",
    "        prediction_df_path = os.path.join(MODEL_ROOT, \"simple_prediction_df.csv\")\n",
    "        simple_df.to_csv(prediction_df_path, index=False)\n",
    "        mlflow.log_artifact(prediction_df_path)\n",
    "    \n",
    "    print(\"Model explainability analysis completed and logged to MLFlow\")"
   ]
  },
  {
   "cell_type": "markdown",
   "id": "fhcei2sbjj9",
   "metadata": {},
   "source": [
    "## MLFlow Integration Summary\n",
    "\n",
    "This notebook has been enhanced with comprehensive MLFlow experiment tracking. Here's what gets logged:\n",
    "\n",
    "### MLFlow Experiments and Runs:\n",
    "- **Parent Experiment**: Credit_Risk_Model_[timestamp]\n",
    "- **Single Model Training Run**: Parameters, metrics, model artifacts\n",
    "- **Hyperparameter Tuning Run**: Parent run with child runs for each trial\n",
    "- **Best Model Run**: Final best performing model\n",
    "- **Model Evaluation Run**: Test set performance metrics\n",
    "- **Model Explainability Run**: Feature importance and prediction explanations\n",
    "\n",
    "### Local Artifacts Created (in `/mnt/artifacts/`):\n",
    "- `single_model.xgb` - Initial trained model\n",
    "- `tune_best.xgb` - Best hyperparameter tuned model\n",
    "- `trial_results.json` - Summary of all hyperparameter trials\n",
    "- `test_predictions.csv` - Test set predictions and actual values\n",
    "- `feature_importance_gain.png` - Feature importance plot (gain)\n",
    "- `feature_importance_weight.png` - Feature importance plot (weight)\n",
    "- `feature_importance_cover.png` - Feature importance plot (cover)\n",
    "- `feature_importance.json` - Feature importance scores\n",
    "- `eli5_feature_weights.html` - ELI5 feature weights explanation\n",
    "- `eli5_prediction_sample_[id].html` - Individual prediction explanation\n",
    "- `eli5_sample_prediction.html` - Sample data prediction explanation\n",
    "- `eli5_prediction_df.csv` - ELI5 prediction dataframe\n",
    "\n",
    "### MLFlow Artifacts:\n",
    "All local artifacts are also logged to MLFlow along with models, parameters, and metrics for complete experiment tracking and reproducibility."
   ]
  },
  {
   "cell_type": "code",
   "execution_count": null,
   "id": "b37623a2-b79b-498c-ac35-7c9caf4a93d1",
   "metadata": {},
   "outputs": [],
   "source": []
  }
 ],
 "metadata": {
  "dca-init": "true",
  "kernelspec": {
   "display_name": "Python 3 (ipykernel)",
   "language": "python",
   "name": "python3"
  },
  "language_info": {
   "codemirror_mode": {
    "name": "ipython",
    "version": 3
   },
   "file_extension": ".py",
   "mimetype": "text/x-python",
   "name": "python",
   "nbconvert_exporter": "python",
   "pygments_lexer": "ipython3",
   "version": "3.9.15"
  }
 },
 "nbformat": 4,
 "nbformat_minor": 5
}
