{
 "cells": [
  {
   "cell_type": "markdown",
   "id": "67696567-2a05-4457-8235-961fc882cfd2",
   "metadata": {},
   "source": [
    "# Model training\n",
    "\n",
    "For this demo we'll use the freely available Statlog (German Credit Data) Data Set, which can be downloaded from [Kaggle](https://archive.ics.uci.edu/ml/datasets/statlog+(german+credit+data)). This dataset classifies customers based on a set of attributes into two credit risk groups - good or bad. The majority of the attributes in this data set are categorical, and they are symbolically encoded. For example, attribute 1 represents the status of an existing checking account and can take one of the following values:\n",
    "\n",
    "A11 : ... < 0 DM\n",
    "\n",
    "A12 : 0 <= ... < 200 DM\n",
    "\n",
    "A13 : ... >= 200 DM / salary assignments for at least 1 year\n",
    "\n",
    "A14 : no checking account\n",
    "\n",
    "A comprehensive list of all attributes and symbol codes is given in the [document](https://archive.ics.uci.edu/ml/machine-learning-databases/statlog/german/german.doc) that accompanies the original dataset. \n",
    "\n",
    "The data we use in this demo has also been balanced and upsampled (see the [Data Generation](./data_generation.ipynb) notebook for reference)."
   ]
  },
  {
   "cell_type": "markdown",
   "id": "99567b3f-2224-40eb-9abe-0be5747553a1",
   "metadata": {},
   "source": [
    "## Seting up and connecting to Ray\n",
    "\n",
    "\n",
    "Let's start by loading all the libraries needed for the notebook and by setting up default data paths.\n"
   ]
  },
  {
   "cell_type": "code",
   "execution_count": 1,
   "id": "b90dacfb-7731-4433-a91d-6bd2b79c81c3",
   "metadata": {
    "tags": []
   },
   "outputs": [],
   "source": [
    "import os\n",
    "import ray\n",
    "import glob\n",
    "import eli5\n",
    "\n",
    "import xgboost_ray as xgbr\n",
    "import xgboost as xgb\n",
    "import pandas as pd\n",
    "\n",
    "from sklearn.metrics import accuracy_score\n",
    "from sklearn.metrics import mean_absolute_error\n",
    "from ray import tune\n",
    "\n",
    "DATA_ROOT = os.path.join(\"/mnt/data\", os.environ[\"DOMINO_PROJECT_NAME\"], \"data\") \n",
    "MODEL_ROOT = \"/mnt/artifacts\"\n",
    "TUNE_ROOT = os.path.join(\"/mnt/data\", os.environ[\"DOMINO_PROJECT_NAME\"], \"ray_results\")"
   ]
  },
  {
   "cell_type": "markdown",
   "id": "bbc47b91-d8f6-49b6-915e-244688dc9d64",
   "metadata": {},
   "source": [
    "In this demo we'll use a dataset of a modest size (approx. 700 MB). Unfortunately, the standard Python libraries for data processing and machine learning Pandas and NumPy have never been designed with large datasets in mind. They rely on being able to fit the entire data in-memory with Pandas data frames having a hard theoretical limit of 100GB. In practice, the amount of data these libraries can handle is also restricted by the amount of physical memory available to the container that runs them, thus they'll have challenges handling even the 700 MB needed for our demo dataset. Trying to load our training data into a simple Pandas data frame using the code below will likely crash the Jupyter kernel.\n",
    "\n",
    "``` \n",
    "# Do not run this code - it will likely crash the Jupyter kernel \n",
    "# (depending on the HW tier running the kernel)\n",
    "\n",
    "import pandas as pd\n",
    "import glob\n",
    "import os\n",
    "\n",
    "all_files = glob.glob(DATA_ROOT + \"/train_data_*.csv\")\n",
    "\n",
    "li = []\n",
    "\n",
    "for filename in all_files:\n",
    "    df = pd.read_csv(filename, index_col=None, header=0)\n",
    "    li.append(df)\n",
    "\n",
    "training_df = pd.concat(li, axis=0, ignore_index=True)\n",
    "training_df.head()\n",
    "```\n",
    "\n",
    "To circumvent these restrictions Domino provides support for a number of industry-standard distributed computing frameworks like Ray, Dask, and Spark. In this demo we will use [On-Demand Ray](https://docs.dominodatalab.com/en/latest/user_guide/d13903/on-demand-ray-overview/). \n",
    "\n",
    "Ray is a general framework that enables you to quickly parallelize existing Python code, but it is also talked about as a \"framework for building frameworks\". Indeed, there are a growing number of domain-specific libraries that work on top of Ray.\n",
    "\n",
    "![Ray](./images/ray.png)\n",
    "\n",
    "For example:\n",
    "\n",
    "* RaySGD - a library for distributed deep learning, which provides wrappers around PyTorch and TensorFlow\n",
    "* RLlib - a library for reinforcement learning, which also natively supports TensorFlow, TensorFlow Eager, and PyTorch\n",
    "* RayServe - a scalable, model-serving library\n",
    "* Ray Tune - a hyperparameter optimization framework, most commonly used for deep and reinforcement learning\n",
    "\n",
    "In this demo we'll use [Ray Tune](https://docs.ray.io/en/latest/tune/index.html) for hyperparameter optimisation and [XGBoost on Ray](https://github.com/ray-project/xgboost_ray) for model training."
   ]
  },
  {
   "cell_type": "code",
   "execution_count": 2,
   "id": "1aea8db6-c2cf-4e87-bc36-ef30a6c6f223",
   "metadata": {
    "tags": []
   },
   "outputs": [],
   "source": [
    "# We'll set up Ray for 2 workers, 4 CPUs each (12 CPUs in total, counting the head node).\n",
    "\n",
    "RAY_ACTORS = 3\n",
    "RAY_CPUS_PER_ACTOR = 4"
   ]
  },
  {
   "cell_type": "markdown",
   "id": "e5adb8cb-2d41-43fc-8e2a-023ba669ec83",
   "metadata": {},
   "source": [
    "Let's connect to Ray."
   ]
  },
  {
   "cell_type": "code",
   "execution_count": 3,
   "id": "ab834d1d-8734-403b-abf1-485b9952bb17",
   "metadata": {
    "tags": []
   },
   "outputs": [],
   "source": [
    "if ray.is_initialized() == False:\n",
    "    service_host = os.environ[\"RAY_HEAD_SERVICE_HOST\"]\n",
    "    service_port = os.environ[\"RAY_HEAD_SERVICE_PORT\"]\n",
    "    ray.init(f\"ray://{service_host}:{service_port}\")"
   ]
  },
  {
   "cell_type": "markdown",
   "id": "b03916af-831e-4934-84f6-1814a86ec6fb",
   "metadata": {},
   "source": [
    "Let's confirm we have the expected cluster configuration."
   ]
  },
  {
   "cell_type": "code",
   "execution_count": 4,
   "id": "b6fc390a-ee65-4abf-bc25-71985b921289",
   "metadata": {
    "tags": []
   },
   "outputs": [
    {
     "data": {
      "text/plain": [
       "[{'NodeID': '5ac62f74ae8cb9722a46aa5f8763fc6c2ce81350cda268e0d302fe8d',\n",
       "  'Alive': True,\n",
       "  'NodeManagerAddress': '100.64.71.114',\n",
       "  'NodeManagerHostname': 'ray-6793bb629cb041514b9307ed-ray-head-0',\n",
       "  'NodeManagerPort': 2385,\n",
       "  'ObjectManagerPort': 2384,\n",
       "  'ObjectStoreSocketName': '/tmp/ray/session_2025-01-24_08-10-18_441645_1/sockets/plasma_store',\n",
       "  'RayletSocketName': '/tmp/ray/session_2025-01-24_08-10-18_441645_1/sockets/raylet',\n",
       "  'MetricsExportPort': 64793,\n",
       "  'NodeName': '100.64.71.114',\n",
       "  'alive': True,\n",
       "  'Resources': {'object_store_memory': 4753630003.0,\n",
       "   'memory': 9507260007.0,\n",
       "   'node:100.64.71.114': 1.0}}]"
      ]
     },
     "execution_count": 4,
     "metadata": {},
     "output_type": "execute_result"
    }
   ],
   "source": [
    "ray.nodes()"
   ]
  },
  {
   "cell_type": "markdown",
   "id": "239b2e73-b9d9-486e-baba-f456b8c7e6b1",
   "metadata": {},
   "source": [
    "Now let's create a list of all the shards for our training, validation, and test sets."
   ]
  },
  {
   "cell_type": "code",
   "execution_count": 5,
   "id": "716569f8-6838-4571-b7da-7494fef8ad80",
   "metadata": {
    "tags": []
   },
   "outputs": [],
   "source": [
    "train_files = glob.glob(os.path.join(DATA_ROOT, \"train_data*\"))\n",
    "val_files = glob.glob(os.path.join(DATA_ROOT, \"validation_data*\"))\n",
    "\n",
    "test_file = os.path.join(DATA_ROOT, \"test_data.csv\")\n",
    "\n",
    "target_col = \"credit\""
   ]
  },
  {
   "cell_type": "markdown",
   "id": "d4aef485-c29e-478b-b5b7-a3e05ee027e4",
   "metadata": {},
   "source": [
    "XGBoost-Ray provides a drop-in replacement for XGBoost's train function. To pass data, instead of using xgb.DMatrix we will have to use xgboost_ray.RayDMatrix. The RayDMatrix lazy loads data and stores it sharded in the Ray object store. The Ray XGBoost actors then access these shards to run their training on. Let's wrap our training, validation, and test sets into RayDMatrix objects."
   ]
  },
  {
   "cell_type": "code",
   "execution_count": 6,
   "id": "6b0ae7ab-9c91-4b89-aa65-acb27f759bcb",
   "metadata": {
    "tags": []
   },
   "outputs": [],
   "source": [
    "# Although it is possible to specify the number of Actors when initializing the RayDMatrix, it is not necessary,\n",
    "#  and can cause a conflict if different from the number of Actors chosen for training.\n",
    "\n",
    "rdm_train = xgbr.RayDMatrix(train_files, label=target_col)\n",
    "rdm_val = xgbr.RayDMatrix(val_files, label=target_col)\n",
    "\n",
    "df_test = pd.read_csv(test_file)\n",
    "rdm_test = xgbr.RayDMatrix(df_test, label=target_col)"
   ]
  },
  {
   "cell_type": "code",
   "execution_count": 7,
   "id": "2e415ace-8763-4d9d-8f45-6ae9b7d6e5a6",
   "metadata": {
    "tags": []
   },
   "outputs": [],
   "source": [
    "# This function verifies whether the data will support splitting into a given number of shards.\n",
    "# We use this to validate that our splits are compatible with the selected Ray cluster configuraiton (i.e. number of Ray nodes)\n",
    "\n",
    "rdm_train.assert_enough_shards_for_actors(len(train_files))\n",
    "rdm_train.assert_enough_shards_for_actors(len(val_files))"
   ]
  },
  {
   "cell_type": "code",
   "execution_count": 8,
   "id": "2f64ba99-513d-437e-ad62-6ffc5e746739",
   "metadata": {
    "tags": []
   },
   "outputs": [
    {
     "name": "stdout",
     "output_type": "stream",
     "text": [
      "Will the read be distributed? True\n",
      "Has any data been read yet? False\n"
     ]
    }
   ],
   "source": [
    "print(\"Will the read be distributed?\", rdm_train.distributed)\n",
    "print(\"Has any data been read yet?\", rdm_train.loaded) # Remember, lazy loading"
   ]
  },
  {
   "cell_type": "markdown",
   "id": "08c7a689-f25f-413c-80ad-de95790b5550",
   "metadata": {},
   "source": [
    "## Model training"
   ]
  },
  {
   "cell_type": "markdown",
   "id": "e232a826-3f39-43fe-8a05-a9f521642324",
   "metadata": {},
   "source": [
    "Let's first try to train a single model in order to validate our setup. Feel free to switch to the Ray Web UI tab and observe the distribution of workload among the individual Ray nodes.\n",
    "\n",
    "A few things to note:\n",
    "\n",
    "* We are using “binary:logistic” – logistic regression for binary classification (*credit* is in {0,1}), which outputs probability\n",
    "* We are calculating both logloss and error as evaluation metrics. They don't impact the model fitting\n",
    "* We are passing the cluster topology via the xgb_ray_params objects so that the workload can be correctly distributed\n"
   ]
  },
  {
   "cell_type": "code",
   "execution_count": 9,
   "id": "023dbe3e-5cba-44b0-a0dd-275b126a2261",
   "metadata": {
    "tags": []
   },
   "outputs": [
    {
     "name": "stderr",
     "output_type": "stream",
     "text": [
      "/opt/conda/lib/python3.9/site-packages/xgboost_ray/util.py:89: RayDeprecationWarning: This API is deprecated and may be removed in future Ray releases. You could suppress this warning by setting env variable PYTHONWARNINGS=\"ignore::DeprecationWarning\"\n",
      "Use get_node_id() instead\n",
      "  current_node_id = ray.get_runtime_context().node_id.hex()\n"
     ]
    },
    {
     "name": "stdout",
     "output_type": "stream",
     "text": [
      "\u001b[2m\u001b[1m\u001b[36m(autoscaler +4s)\u001b[0m Tip: use `ray status` to view detailed cluster status. To disable these messages, set RAY_SCHEDULER_EVENTS=0.\n",
      "\u001b[2m\u001b[1m\u001b[33m(autoscaler +4s)\u001b[0m Error: No available node types can fulfill resource request {'CPU': 4.0}. Add suitable node types to this cluster to resolve this issue.\n"
     ]
    },
    {
     "name": "stderr",
     "output_type": "stream",
     "text": [
      "\u001b[2m\u001b[36m(_wrapped pid=454)\u001b[0m 2025-01-24 08:12:35,485\tINFO main.py:1047 -- [RayXGBoost] Created 3 new actors (3 total actors). Waiting until actors are ready for training.\n",
      "\u001b[2m\u001b[36m(_wrapped pid=454)\u001b[0m 2025-01-24 08:12:49,201\tINFO main.py:1092 -- [RayXGBoost] Starting XGBoost training.\n",
      "\u001b[2m\u001b[36m(_RemoteRayXGBoostActor pid=171, ip=100.64.32.41)\u001b[0m [08:12:49] task [xgboost.ray]:131061809247136 got new rank 0\n",
      "\u001b[2m\u001b[36m(_RemoteRayXGBoostActor pid=171, ip=100.64.59.160)\u001b[0m [08:12:49] task [xgboost.ray]:136176507720224 got new rank 1\n",
      "\u001b[2m\u001b[36m(_RemoteRayXGBoostActor pid=211, ip=100.64.77.77)\u001b[0m [08:12:49] task [xgboost.ray]:130504528101488 got new rank 2\n"
     ]
    },
    {
     "name": "stdout",
     "output_type": "stream",
     "text": [
      "\u001b[2m\u001b[36m(_wrapped pid=454)\u001b[0m [0]\ttrain-logloss:0.65890\ttrain-error:0.22747\tval-logloss:0.65631\tval-error:0.20883\n",
      "\u001b[2m\u001b[36m(_wrapped pid=454)\u001b[0m [1]\ttrain-logloss:0.63109\ttrain-error:0.22331\tval-logloss:0.62514\tval-error:0.20021\n",
      "\u001b[2m\u001b[36m(_wrapped pid=454)\u001b[0m [2]\ttrain-logloss:0.60870\ttrain-error:0.22340\tval-logloss:0.60081\tval-error:0.20959\n",
      "\u001b[2m\u001b[36m(_wrapped pid=454)\u001b[0m [3]\ttrain-logloss:0.58690\ttrain-error:0.18629\tval-logloss:0.57680\tval-error:0.15792\n",
      "\u001b[2m\u001b[36m(_wrapped pid=454)\u001b[0m [4]\ttrain-logloss:0.56898\ttrain-error:0.19034\tval-logloss:0.55650\tval-error:0.16499\n",
      "\u001b[2m\u001b[36m(_wrapped pid=454)\u001b[0m [5]\ttrain-logloss:0.55210\ttrain-error:0.20139\tval-logloss:0.53913\tval-error:0.17972\n",
      "\u001b[2m\u001b[36m(_wrapped pid=454)\u001b[0m [6]\ttrain-logloss:0.53646\ttrain-error:0.18746\tval-logloss:0.52258\tval-error:0.16193\n",
      "\u001b[2m\u001b[36m(_wrapped pid=454)\u001b[0m [7]\ttrain-logloss:0.52353\ttrain-error:0.18899\tval-logloss:0.50922\tval-error:0.16659\n",
      "\u001b[2m\u001b[36m(_wrapped pid=454)\u001b[0m [8]\ttrain-logloss:0.51097\ttrain-error:0.17833\tval-logloss:0.49647\tval-error:0.15485\n",
      "\u001b[2m\u001b[36m(_wrapped pid=454)\u001b[0m [9]\ttrain-logloss:0.50000\ttrain-error:0.16964\tval-logloss:0.48488\tval-error:0.14864\n",
      "\u001b[2m\u001b[36m(_wrapped pid=454)\u001b[0m [10]\ttrain-logloss:0.48907\ttrain-error:0.17604\tval-logloss:0.47422\tval-error:0.15407\n",
      "\u001b[2m\u001b[36m(_wrapped pid=454)\u001b[0m [11]\ttrain-logloss:0.47958\ttrain-error:0.16847\tval-logloss:0.46584\tval-error:0.15177\n",
      "\u001b[2m\u001b[36m(_wrapped pid=454)\u001b[0m [12]\ttrain-logloss:0.47029\ttrain-error:0.16078\tval-logloss:0.45612\tval-error:0.14937\n",
      "\u001b[2m\u001b[36m(_wrapped pid=454)\u001b[0m [13]\ttrain-logloss:0.46178\ttrain-error:0.15817\tval-logloss:0.44821\tval-error:0.14318\n",
      "\u001b[2m\u001b[36m(_wrapped pid=454)\u001b[0m [14]\ttrain-logloss:0.45434\ttrain-error:0.15810\tval-logloss:0.44076\tval-error:0.14472\n",
      "\u001b[2m\u001b[36m(_wrapped pid=454)\u001b[0m [15]\ttrain-logloss:0.44655\ttrain-error:0.15260\tval-logloss:0.43282\tval-error:0.14318\n",
      "\u001b[2m\u001b[36m(_wrapped pid=454)\u001b[0m [16]\ttrain-logloss:0.43730\ttrain-error:0.15222\tval-logloss:0.42301\tval-error:0.13769\n",
      "\u001b[2m\u001b[36m(_wrapped pid=454)\u001b[0m [17]\ttrain-logloss:0.43032\ttrain-error:0.15077\tval-logloss:0.41620\tval-error:0.13851\n",
      "\u001b[2m\u001b[36m(_wrapped pid=454)\u001b[0m [18]\ttrain-logloss:0.42397\ttrain-error:0.15001\tval-logloss:0.41004\tval-error:0.13851\n",
      "\u001b[2m\u001b[36m(_wrapped pid=454)\u001b[0m [19]\ttrain-logloss:0.41736\ttrain-error:0.14292\tval-logloss:0.40320\tval-error:0.13227\n",
      "\u001b[2m\u001b[36m(_wrapped pid=454)\u001b[0m [20]\ttrain-logloss:0.41217\ttrain-error:0.14372\tval-logloss:0.39834\tval-error:0.13232\n",
      "\u001b[2m\u001b[36m(_wrapped pid=454)\u001b[0m [21]\ttrain-logloss:0.40661\ttrain-error:0.14114\tval-logloss:0.39309\tval-error:0.12839\n",
      "\u001b[2m\u001b[36m(_wrapped pid=454)\u001b[0m [22]\ttrain-logloss:0.40050\ttrain-error:0.14146\tval-logloss:0.38700\tval-error:0.13227\n",
      "\u001b[2m\u001b[36m(_wrapped pid=454)\u001b[0m [23]\ttrain-logloss:0.39205\ttrain-error:0.13223\tval-logloss:0.37814\tval-error:0.12055\n",
      "\u001b[2m\u001b[36m(_wrapped pid=454)\u001b[0m [24]\ttrain-logloss:0.38539\ttrain-error:0.13143\tval-logloss:0.37213\tval-error:0.12212\n",
      "\u001b[2m\u001b[36m(_wrapped pid=454)\u001b[0m [25]\ttrain-logloss:0.38187\ttrain-error:0.12851\tval-logloss:0.36846\tval-error:0.11823\n",
      "\u001b[2m\u001b[36m(_wrapped pid=454)\u001b[0m [26]\ttrain-logloss:0.37518\ttrain-error:0.12725\tval-logloss:0.36113\tval-error:0.11739\n",
      "\u001b[2m\u001b[36m(_wrapped pid=454)\u001b[0m [27]\ttrain-logloss:0.37013\ttrain-error:0.12735\tval-logloss:0.35584\tval-error:0.11820\n",
      "\u001b[2m\u001b[36m(_wrapped pid=454)\u001b[0m [28]\ttrain-logloss:0.36639\ttrain-error:0.12081\tval-logloss:0.35223\tval-error:0.11037\n",
      "\u001b[2m\u001b[36m(_wrapped pid=454)\u001b[0m [29]\ttrain-logloss:0.36194\ttrain-error:0.12386\tval-logloss:0.34761\tval-error:0.11433\n",
      "\u001b[2m\u001b[36m(_wrapped pid=454)\u001b[0m [30]\ttrain-logloss:0.35791\ttrain-error:0.12588\tval-logloss:0.34378\tval-error:0.11668\n",
      "\u001b[2m\u001b[36m(_wrapped pid=454)\u001b[0m [31]\ttrain-logloss:0.35449\ttrain-error:0.12364\tval-logloss:0.34068\tval-error:0.11434\n",
      "\u001b[2m\u001b[36m(_wrapped pid=454)\u001b[0m [32]\ttrain-logloss:0.35040\ttrain-error:0.11787\tval-logloss:0.33605\tval-error:0.10798\n"
     ]
    },
    {
     "name": "stderr",
     "output_type": "stream",
     "text": [
      "\u001b[2m\u001b[36m(_wrapped pid=454)\u001b[0m 2025-01-24 08:13:19,846\tINFO main.py:1175 -- Training in progress (31 seconds since last restart).\n"
     ]
    },
    {
     "name": "stdout",
     "output_type": "stream",
     "text": [
      "\u001b[2m\u001b[36m(_wrapped pid=454)\u001b[0m [33]\ttrain-logloss:0.34684\ttrain-error:0.11448\tval-logloss:0.33241\tval-error:0.10723\n",
      "\u001b[2m\u001b[36m(_wrapped pid=454)\u001b[0m [34]\ttrain-logloss:0.34377\ttrain-error:0.11517\tval-logloss:0.32920\tval-error:0.10568\n",
      "\u001b[2m\u001b[36m(_wrapped pid=454)\u001b[0m [35]\ttrain-logloss:0.33971\ttrain-error:0.11360\tval-logloss:0.32577\tval-error:0.10412\n",
      "\u001b[2m\u001b[36m(_wrapped pid=454)\u001b[0m [36]\ttrain-logloss:0.33605\ttrain-error:0.10761\tval-logloss:0.32224\tval-error:0.10097\n",
      "\u001b[2m\u001b[36m(_wrapped pid=454)\u001b[0m [37]\ttrain-logloss:0.33335\ttrain-error:0.10382\tval-logloss:0.31979\tval-error:0.09627\n",
      "\u001b[2m\u001b[36m(_wrapped pid=454)\u001b[0m [38]\ttrain-logloss:0.32945\ttrain-error:0.10460\tval-logloss:0.31619\tval-error:0.09786\n",
      "\u001b[2m\u001b[36m(_wrapped pid=454)\u001b[0m [39]\ttrain-logloss:0.32654\ttrain-error:0.10505\tval-logloss:0.31294\tval-error:0.09787\n",
      "\u001b[2m\u001b[36m(_wrapped pid=454)\u001b[0m [40]\ttrain-logloss:0.32362\ttrain-error:0.10278\tval-logloss:0.31013\tval-error:0.09549\n",
      "\u001b[2m\u001b[36m(_wrapped pid=454)\u001b[0m [41]\ttrain-logloss:0.32094\ttrain-error:0.10403\tval-logloss:0.30769\tval-error:0.09625\n",
      "\u001b[2m\u001b[36m(_wrapped pid=454)\u001b[0m [42]\ttrain-logloss:0.31872\ttrain-error:0.10445\tval-logloss:0.30540\tval-error:0.09625\n",
      "\u001b[2m\u001b[36m(_wrapped pid=454)\u001b[0m [43]\ttrain-logloss:0.31621\ttrain-error:0.10007\tval-logloss:0.30290\tval-error:0.09464\n",
      "\u001b[2m\u001b[36m(_wrapped pid=454)\u001b[0m [44]\ttrain-logloss:0.31294\ttrain-error:0.09748\tval-logloss:0.29985\tval-error:0.09074\n",
      "\u001b[2m\u001b[36m(_wrapped pid=454)\u001b[0m [45]\ttrain-logloss:0.30965\ttrain-error:0.09973\tval-logloss:0.29604\tval-error:0.09308\n",
      "\u001b[2m\u001b[36m(_wrapped pid=454)\u001b[0m [46]\ttrain-logloss:0.30799\ttrain-error:0.10017\tval-logloss:0.29447\tval-error:0.09229\n",
      "\u001b[2m\u001b[36m(_wrapped pid=454)\u001b[0m [47]\ttrain-logloss:0.30534\ttrain-error:0.09666\tval-logloss:0.29205\tval-error:0.08917\n",
      "\u001b[2m\u001b[36m(_wrapped pid=454)\u001b[0m [48]\ttrain-logloss:0.30380\ttrain-error:0.09397\tval-logloss:0.29036\tval-error:0.08603\n",
      "\u001b[2m\u001b[36m(_wrapped pid=454)\u001b[0m [49]\ttrain-logloss:0.30177\ttrain-error:0.09410\tval-logloss:0.28866\tval-error:0.08762\n",
      "Final training error: 0.0941\n",
      "Final validation error: 0.0876\n"
     ]
    },
    {
     "name": "stderr",
     "output_type": "stream",
     "text": [
      "\u001b[2m\u001b[36m(_wrapped pid=454)\u001b[0m 2025-01-24 08:13:32,659\tINFO main.py:1587 -- [RayXGBoost] Finished XGBoost training on training data with total N=2,100,000 in 82.53 seconds (43.45 pure XGBoost training time).\n"
     ]
    }
   ],
   "source": [
    "# Set a few hyperparameters to specific values\n",
    "param = {\n",
    "    \"seed\":1234,\n",
    "    \"max_depth\":3,\n",
    "    \"eta\":0.1,\n",
    "    \"objective\": \"binary:logistic\",\n",
    "    \"eval_metric\": [\"logloss\", \"error\"]\n",
    "}\n",
    "\n",
    "xgb_ray_params = xgbr.RayParams(\n",
    "    num_actors=RAY_ACTORS,\n",
    "    cpus_per_actor=RAY_CPUS_PER_ACTOR\n",
    ")\n",
    "\n",
    "# Train the model\n",
    "evals_result = {}\n",
    "\n",
    "bst = xgbr.train(\n",
    "    param,\n",
    "    rdm_train,\n",
    "    num_boost_round=50,\n",
    "    verbose_eval=True,\n",
    "    evals_result=evals_result,\n",
    "    evals =[(rdm_train, \"train\"), (rdm_val, \"val\")],\n",
    "    ray_params=xgb_ray_params\n",
    ")\n",
    "\n",
    "print(\"Final training error: {:.4f}\".format(evals_result[\"train\"][\"error\"][-1]))\n",
    "print(\"Final validation error: {:.4f}\".format(evals_result[\"val\"][\"error\"][-1]))"
   ]
  },
  {
   "cell_type": "markdown",
   "id": "6f4f8914-984b-4011-845d-9cf5c90ccb54",
   "metadata": {},
   "source": [
    "Now that we've confirmed the pipeline we can move onto performing some hyperparameter tuning for finding an optimal model."
   ]
  },
  {
   "cell_type": "markdown",
   "id": "fe710a68-72ee-4bda-9a3b-c5b0a71f0215",
   "metadata": {},
   "source": [
    "## Hyperparameter tuning\n",
    "\n",
    "Hyperparameter tuning requires training many copies of a model, each with a different set of hyperparameters, and seeing which one performs the best. Each time we train a model, that is one trial. To do this in our Ray cluster, we can specify what resources to use:\n",
    "\n",
    "* Required CPU, Memory, and/or GPU per trial\n",
    "* Where to store intermediate results\n",
    "\n",
    "The `xgboost_ray` library includes a built-in method for generating a `PlacementGroupFactory` to pass to Ray Tune, based on the `RayParams` object used for XGBoost training. Resources can also be requested in a simpler dictionary format, e.g. `{\"cpu\": 2.0}`. As described in the [Tune docs](https://docs.ray.io/en/latest/tune/tutorials/tune-resources.html), by default Ray Tune will schedule N concurrent trials, using 1 CPU per trial, where N is the total number of CPUs available in the cluster."
   ]
  },
  {
   "cell_type": "code",
   "execution_count": 10,
   "id": "5014bbd6-42cb-4177-ba0a-5842ab77915d",
   "metadata": {
    "tags": []
   },
   "outputs": [
    {
     "name": "stdout",
     "output_type": "stream",
     "text": [
      "We will pass a <class 'ray.tune.execution.placement_groups.PlacementGroupFactory'> to Ray Tune.\n",
      "It will request {'CPU': 12.0} per trial.\n",
      "The cluster has 12.0 CPU total.\n"
     ]
    }
   ],
   "source": [
    "# Get the placement group factory to pass to Ray Tune\n",
    "# Notice how the tune resources are 1 CPU greater!\n",
    "xgb_tune_resources = xgb_ray_params.get_tune_resources()\n",
    "print(f\"We will pass a {type(xgb_tune_resources)} to Ray Tune.\")\n",
    "print(f\"It will request {xgb_tune_resources.required_resources} per trial.\")\n",
    "print(f\"The cluster has {ray.cluster_resources()['CPU']} CPU total.\")"
   ]
  },
  {
   "cell_type": "code",
   "execution_count": 11,
   "id": "04cd6a9a-346d-4170-bbc3-180450e06410",
   "metadata": {
    "tags": []
   },
   "outputs": [
    {
     "name": "stdout",
     "output_type": "stream",
     "text": [
      "Saving intermediate tune results to /mnt/data/Demo-Credit-Default-Model/ray_results\n"
     ]
    }
   ],
   "source": [
    "print(\"Saving intermediate tune results to\", TUNE_ROOT)"
   ]
  },
  {
   "cell_type": "markdown",
   "id": "8e2959e8-ef2a-4a5a-8e6e-c627a3be5b7e",
   "metadata": {},
   "source": [
    "In this demo we will use a very simple search strategy called *a grid search*. This involves searching over a predefined grid of hyperparameter choices - and it's easy to imaging writing a simple for loop to implement it. However, for $n$ choices each of $k$ hyperparameters, a full grid search requires $O(n^k)$ trials and quickly becomes prohibitively expensive.\n",
    "\n",
    "Ray Tune provides much more sophisticated options for optimization. Instead of pre-defining a fixed grid to search over, Ray Tune allows specifying a [search space](https://docs.ray.io/en/releases-1.11.0/tune/key-concepts.html#search-spaces) with distributions of parameters. The number of trials over the search space is specified at a later stage in the `run()` function."
   ]
  },
  {
   "cell_type": "code",
   "execution_count": 12,
   "id": "a9f6f30f-1349-47d3-8582-66a42b62aa39",
   "metadata": {
    "tags": []
   },
   "outputs": [],
   "source": [
    "config = {\n",
    "    \"seed\": 1234,\n",
    "    \"eta\": tune.loguniform(3e-3, 3e-1),\n",
    "    \"max_depth\": tune.randint(2, 6),\n",
    "    \"objective\": \"binary:logistic\",\n",
    "    \"eval_metric\": [\"logloss\", \"error\"]\n",
    "}"
   ]
  },
  {
   "cell_type": "markdown",
   "id": "4a5b99f3-f8d7-4eb2-a592-fa35953fb522",
   "metadata": {},
   "source": [
    "For each trial, a config dictionary like the one we just defined, with the single value for each hyperparameter chosen for that trial, will be passed into a [trainable](https://docs.ray.io/en/releases-1.11.0/tune/key-concepts.html#search-algorithms) that we define and pass to Ray Tune. Below we have defined such a function to wrap training a single XGBoost model on Ray."
   ]
  },
  {
   "cell_type": "code",
   "execution_count": 13,
   "id": "ba984d1f-46dd-41c7-9a31-08ec441bf14c",
   "metadata": {
    "tags": []
   },
   "outputs": [],
   "source": [
    "def my_trainer(config):\n",
    "    evals_result = {}\n",
    "    bst = xgbr.train(\n",
    "        params=config,\n",
    "        dtrain=rdm_train,\n",
    "        num_boost_round=50,\n",
    "        evals_result=evals_result,\n",
    "        evals=[(rdm_train, \"train\"), (rdm_val, \"val\")],\n",
    "        ray_params=xgb_ray_params\n",
    "    )\n",
    "    bst.save_model(\"model.xgb\") # This will go into the TUNE_ROOT directory"
   ]
  },
  {
   "cell_type": "markdown",
   "id": "53cd84a0-0ab6-4c8a-b531-0578603f373a",
   "metadata": {},
   "source": [
    "Finally, we can now run our trials. Here we bring together the previous few sections:\n",
    "\n",
    "* The training function\n",
    "* The search space defined in the config\n",
    "* The resources per trial and results location\n",
    "\n",
    "We control the number of trials over the search space via the `num_samples` argument (currently set to 10). We also rank the models based on the lowest validation set error."
   ]
  },
  {
   "cell_type": "code",
   "execution_count": 14,
   "id": "6ca740c1-c875-4d2b-9676-bbe415e30429",
   "metadata": {
    "tags": []
   },
   "outputs": [
    {
     "data": {
      "text/html": [
       "<div class=\"tuneStatus\">\n",
       "  <div style=\"display: flex;flex-direction: row\">\n",
       "    <div style=\"display: flex;flex-direction: column;\">\n",
       "      <h3>Tune Status</h3>\n",
       "      <table>\n",
       "<tbody>\n",
       "<tr><td>Current time:</td><td>2025-01-24 08:21:32</td></tr>\n",
       "<tr><td>Running for: </td><td>00:07:56.39        </td></tr>\n",
       "<tr><td>Memory:      </td><td>7.8/30.8 GiB       </td></tr>\n",
       "</tbody>\n",
       "</table>\n",
       "    </div>\n",
       "    <div class=\"vDivider\"></div>\n",
       "    <div class=\"systemInfo\">\n",
       "      <h3>System Info</h3>\n",
       "      Using FIFO scheduling algorithm.<br>Logical resource usage: 0/12 CPUs, 0/0 GPUs\n",
       "    </div>\n",
       "    <div class=\"vDivider\"></div>\n",
       "<div class=\"messages\">\n",
       "  <h3>Messages</h3>\n",
       "  \n",
       "  \n",
       "  Number of errored trials: 1<br><table>\n",
       "<thead>\n",
       "<tr><th>Trial name            </th><th style=\"text-align: right;\">  # failures</th><th>error file                                                                                                                                                  </th></tr>\n",
       "</thead>\n",
       "<tbody>\n",
       "<tr><td>my_trainer_28b6d_00005</td><td style=\"text-align: right;\">           1</td><td>/mnt/data/Demo-Credit-Default-Model/ray_results/my_trainer_2025-01-24_08-13-33/my_trainer_28b6d_00005_5_eta=0.0105,max_depth=3_2025-01-24_08-17-56/error.txt</td></tr>\n",
       "</tbody>\n",
       "</table>\n",
       "</div>\n",
       "<style>\n",
       ".messages {\n",
       "  color: var(--jp-ui-font-color1);\n",
       "  display: flex;\n",
       "  flex-direction: column;\n",
       "  padding-left: 1em;\n",
       "  overflow-y: auto;\n",
       "}\n",
       ".messages h3 {\n",
       "  font-weight: bold;\n",
       "}\n",
       ".vDivider {\n",
       "  border-left-width: var(--jp-border-width);\n",
       "  border-left-color: var(--jp-border-color0);\n",
       "  border-left-style: solid;\n",
       "  margin: 0.5em 1em 0.5em 1em;\n",
       "}\n",
       "</style>\n",
       "\n",
       "  </div>\n",
       "  <div class=\"hDivider\"></div>\n",
       "  <div class=\"trialStatus\">\n",
       "    <h3>Trial Status</h3>\n",
       "    <table>\n",
       "<thead>\n",
       "<tr><th>Trial name            </th><th>status    </th><th>loc              </th><th style=\"text-align: right;\">       eta</th><th style=\"text-align: right;\">  max_depth</th><th style=\"text-align: right;\">  iter</th><th style=\"text-align: right;\">  total time (s)</th><th style=\"text-align: right;\">  train-logloss</th><th style=\"text-align: right;\">  train-error</th><th style=\"text-align: right;\">  val-logloss</th></tr>\n",
       "</thead>\n",
       "<tbody>\n",
       "<tr><td>my_trainer_28b6d_00000</td><td>TERMINATED</td><td>100.64.77.77:295 </td><td style=\"text-align: right;\">0.00429871</td><td style=\"text-align: right;\">          5</td><td style=\"text-align: right;\">    50</td><td style=\"text-align: right;\">         51.3373</td><td style=\"text-align: right;\">      0.598943 </td><td style=\"text-align: right;\">   0.12756   </td><td style=\"text-align: right;\">    0.594395 </td></tr>\n",
       "<tr><td>my_trainer_28b6d_00001</td><td>TERMINATED</td><td>100.64.77.77:295 </td><td style=\"text-align: right;\">0.0125163 </td><td style=\"text-align: right;\">          5</td><td style=\"text-align: right;\">    50</td><td style=\"text-align: right;\">         51.9643</td><td style=\"text-align: right;\">      0.481246 </td><td style=\"text-align: right;\">   0.118656  </td><td style=\"text-align: right;\">    0.470189 </td></tr>\n",
       "<tr><td>my_trainer_28b6d_00002</td><td>TERMINATED</td><td>100.64.77.77:295 </td><td style=\"text-align: right;\">0.108287  </td><td style=\"text-align: right;\">          2</td><td style=\"text-align: right;\">    50</td><td style=\"text-align: right;\">         49.6379</td><td style=\"text-align: right;\">      0.375754 </td><td style=\"text-align: right;\">   0.139993  </td><td style=\"text-align: right;\">    0.363039 </td></tr>\n",
       "<tr><td>my_trainer_28b6d_00003</td><td>TERMINATED</td><td>100.64.77.77:295 </td><td style=\"text-align: right;\">0.207217  </td><td style=\"text-align: right;\">          5</td><td style=\"text-align: right;\">    50</td><td style=\"text-align: right;\">         50.6038</td><td style=\"text-align: right;\">      0.0757972</td><td style=\"text-align: right;\">   0.00486095</td><td style=\"text-align: right;\">    0.0705301</td></tr>\n",
       "<tr><td>my_trainer_28b6d_00004</td><td>TERMINATED</td><td>100.64.77.77:295 </td><td style=\"text-align: right;\">0.0664882 </td><td style=\"text-align: right;\">          5</td><td style=\"text-align: right;\">    50</td><td style=\"text-align: right;\">         51.4298</td><td style=\"text-align: right;\">      0.212149 </td><td style=\"text-align: right;\">   0.0441219 </td><td style=\"text-align: right;\">    0.199608 </td></tr>\n",
       "<tr><td>my_trainer_28b6d_00006</td><td>TERMINATED</td><td>100.64.77.77:1478</td><td style=\"text-align: right;\">0.00450201</td><td style=\"text-align: right;\">          2</td><td style=\"text-align: right;\">    50</td><td style=\"text-align: right;\">         49.8746</td><td style=\"text-align: right;\">      0.647064 </td><td style=\"text-align: right;\">   0.266268  </td><td style=\"text-align: right;\">    0.643892 </td></tr>\n",
       "<tr><td>my_trainer_28b6d_00007</td><td>TERMINATED</td><td>100.64.77.77:1478</td><td style=\"text-align: right;\">0.0521433 </td><td style=\"text-align: right;\">          3</td><td style=\"text-align: right;\">    50</td><td style=\"text-align: right;\">         49.9487</td><td style=\"text-align: right;\">      0.385515 </td><td style=\"text-align: right;\">   0.126247  </td><td style=\"text-align: right;\">    0.372188 </td></tr>\n",
       "<tr><td>my_trainer_28b6d_00008</td><td>TERMINATED</td><td>100.64.77.77:1478</td><td style=\"text-align: right;\">0.00564319</td><td style=\"text-align: right;\">          5</td><td style=\"text-align: right;\">    50</td><td style=\"text-align: right;\">         51.6142</td><td style=\"text-align: right;\">      0.57524  </td><td style=\"text-align: right;\">   0.127462  </td><td style=\"text-align: right;\">    0.569507 </td></tr>\n",
       "<tr><td>my_trainer_28b6d_00009</td><td>TERMINATED</td><td>100.64.77.77:1478</td><td style=\"text-align: right;\">0.00459217</td><td style=\"text-align: right;\">          2</td><td style=\"text-align: right;\">    50</td><td style=\"text-align: right;\">         49.3611</td><td style=\"text-align: right;\">      0.646307 </td><td style=\"text-align: right;\">   0.266268  </td><td style=\"text-align: right;\">    0.643061 </td></tr>\n",
       "<tr><td>my_trainer_28b6d_00005</td><td>ERROR     </td><td>100.64.77.77:295 </td><td style=\"text-align: right;\">0.0105371 </td><td style=\"text-align: right;\">          3</td><td style=\"text-align: right;\">      </td><td style=\"text-align: right;\">                </td><td style=\"text-align: right;\">               </td><td style=\"text-align: right;\">             </td><td style=\"text-align: right;\">             </td></tr>\n",
       "</tbody>\n",
       "</table>\n",
       "  </div>\n",
       "</div>\n",
       "<style>\n",
       ".tuneStatus {\n",
       "  color: var(--jp-ui-font-color1);\n",
       "}\n",
       ".tuneStatus .systemInfo {\n",
       "  display: flex;\n",
       "  flex-direction: column;\n",
       "}\n",
       ".tuneStatus td {\n",
       "  white-space: nowrap;\n",
       "}\n",
       ".tuneStatus .trialStatus {\n",
       "  display: flex;\n",
       "  flex-direction: column;\n",
       "}\n",
       ".tuneStatus h3 {\n",
       "  font-weight: bold;\n",
       "}\n",
       ".tuneStatus .hDivider {\n",
       "  border-bottom-width: var(--jp-border-width);\n",
       "  border-bottom-color: var(--jp-border-color0);\n",
       "  border-bottom-style: solid;\n",
       "}\n",
       ".tuneStatus .vDivider {\n",
       "  border-left-width: var(--jp-border-width);\n",
       "  border-left-color: var(--jp-border-color0);\n",
       "  border-left-style: solid;\n",
       "  margin: 0.5em 1em 0.5em 1em;\n",
       "}\n",
       "</style>\n"
      ],
      "text/plain": [
       "<IPython.core.display.HTML object>"
      ]
     },
     "metadata": {},
     "output_type": "display_data"
    },
    {
     "name": "stderr",
     "output_type": "stream",
     "text": [
      "\u001b[2m\u001b[36m(run pid=454)\u001b[0m UserWarning: The `local_dir` argument of `Experiment is deprecated. Use `storage_path` or set the `TUNE_RESULT_DIR` environment variable instead.\n",
      "\u001b[2m\u001b[36m(_RemoteRayXGBoostActor pid=255, ip=100.64.32.41)\u001b[0m [08:13:46] task [xgboost.ray]:124607901438736 got new rank 0\n",
      "\u001b[2m\u001b[36m(_RemoteRayXGBoostActor pid=253, ip=100.64.59.160)\u001b[0m [08:13:46] task [xgboost.ray]:123804710577056 got new rank 1\n",
      "\u001b[2m\u001b[36m(_RemoteRayXGBoostActor pid=338, ip=100.64.77.77)\u001b[0m [08:13:46] task [xgboost.ray]:130961744736112 got new rank 2\n"
     ]
    },
    {
     "name": "stdout",
     "output_type": "stream",
     "text": [
      "\u001b[2m\u001b[36m(my_trainer pid=295, ip=100.64.77.77)\u001b[0m [0]\ttrain-logloss:0.69087\ttrain-error:0.16109\tval-logloss:0.69084\tval-error:0.15954\n",
      "\u001b[2m\u001b[36m(my_trainer pid=295, ip=100.64.77.77)\u001b[0m [1]\ttrain-logloss:0.68861\ttrain-error:0.16109\tval-logloss:0.68855\tval-error:0.15954\n",
      "\u001b[2m\u001b[36m(my_trainer pid=295, ip=100.64.77.77)\u001b[0m [2]\ttrain-logloss:0.68637\ttrain-error:0.16109\tval-logloss:0.68630\tval-error:0.15954\n",
      "\u001b[2m\u001b[36m(my_trainer pid=295, ip=100.64.77.77)\u001b[0m [3]\ttrain-logloss:0.68415\ttrain-error:0.16109\tval-logloss:0.68405\tval-error:0.15954\n",
      "\u001b[2m\u001b[36m(my_trainer pid=295, ip=100.64.77.77)\u001b[0m [4]\ttrain-logloss:0.68196\ttrain-error:0.15997\tval-logloss:0.68185\tval-error:0.15799\n",
      "\u001b[2m\u001b[36m(my_trainer pid=295, ip=100.64.77.77)\u001b[0m [5]\ttrain-logloss:0.67977\ttrain-error:0.15997\tval-logloss:0.67963\tval-error:0.15799\n",
      "\u001b[2m\u001b[36m(my_trainer pid=295, ip=100.64.77.77)\u001b[0m [6]\ttrain-logloss:0.67762\ttrain-error:0.15997\tval-logloss:0.67746\tval-error:0.15799\n",
      "\u001b[2m\u001b[36m(my_trainer pid=295, ip=100.64.77.77)\u001b[0m [7]\ttrain-logloss:0.67548\ttrain-error:0.15846\tval-logloss:0.67529\tval-error:0.15730\n",
      "\u001b[2m\u001b[36m(my_trainer pid=295, ip=100.64.77.77)\u001b[0m [8]\ttrain-logloss:0.67335\ttrain-error:0.15846\tval-logloss:0.67315\tval-error:0.15730\n",
      "\u001b[2m\u001b[36m(my_trainer pid=295, ip=100.64.77.77)\u001b[0m [9]\ttrain-logloss:0.67124\ttrain-error:0.15846\tval-logloss:0.67100\tval-error:0.15730\n",
      "\u001b[2m\u001b[36m(my_trainer pid=295, ip=100.64.77.77)\u001b[0m [10]\ttrain-logloss:0.66916\ttrain-error:0.15846\tval-logloss:0.66887\tval-error:0.15730\n",
      "\u001b[2m\u001b[36m(my_trainer pid=295, ip=100.64.77.77)\u001b[0m [11]\ttrain-logloss:0.66706\ttrain-error:0.15846\tval-logloss:0.66674\tval-error:0.15730\n",
      "\u001b[2m\u001b[36m(my_trainer pid=295, ip=100.64.77.77)\u001b[0m [12]\ttrain-logloss:0.66505\ttrain-error:0.15815\tval-logloss:0.66458\tval-error:0.15489\n",
      "\u001b[2m\u001b[36m(my_trainer pid=295, ip=100.64.77.77)\u001b[0m [13]\ttrain-logloss:0.66305\ttrain-error:0.15815\tval-logloss:0.66243\tval-error:0.15489\n",
      "\u001b[2m\u001b[36m(my_trainer pid=295, ip=100.64.77.77)\u001b[0m [14]\ttrain-logloss:0.66100\ttrain-error:0.15623\tval-logloss:0.66035\tval-error:0.15334\n",
      "\u001b[2m\u001b[36m(my_trainer pid=295, ip=100.64.77.77)\u001b[0m [15]\ttrain-logloss:0.65904\ttrain-error:0.16153\tval-logloss:0.65823\tval-error:0.15960\n",
      "\u001b[2m\u001b[36m(my_trainer pid=295, ip=100.64.77.77)\u001b[0m [16]\ttrain-logloss:0.65708\ttrain-error:0.16052\tval-logloss:0.65613\tval-error:0.15881\n",
      "\u001b[2m\u001b[36m(my_trainer pid=295, ip=100.64.77.77)\u001b[0m [17]\ttrain-logloss:0.65515\ttrain-error:0.15928\tval-logloss:0.65405\tval-error:0.15649\n",
      "\u001b[2m\u001b[36m(my_trainer pid=295, ip=100.64.77.77)\u001b[0m [18]\ttrain-logloss:0.65323\ttrain-error:0.15928\tval-logloss:0.65199\tval-error:0.15649\n",
      "\u001b[2m\u001b[36m(my_trainer pid=295, ip=100.64.77.77)\u001b[0m [19]\ttrain-logloss:0.65132\ttrain-error:0.15929\tval-logloss:0.64994\tval-error:0.15496\n",
      "\u001b[2m\u001b[36m(my_trainer pid=295, ip=100.64.77.77)\u001b[0m [20]\ttrain-logloss:0.64942\ttrain-error:0.15714\tval-logloss:0.64788\tval-error:0.15176\n",
      "\u001b[2m\u001b[36m(my_trainer pid=295, ip=100.64.77.77)\u001b[0m [21]\ttrain-logloss:0.64747\ttrain-error:0.15919\tval-logloss:0.64590\tval-error:0.15494\n",
      "\u001b[2m\u001b[36m(my_trainer pid=295, ip=100.64.77.77)\u001b[0m [22]\ttrain-logloss:0.64561\ttrain-error:0.15624\tval-logloss:0.64391\tval-error:0.15176\n",
      "\u001b[2m\u001b[36m(my_trainer pid=295, ip=100.64.77.77)\u001b[0m [23]\ttrain-logloss:0.64373\ttrain-error:0.15646\tval-logloss:0.64188\tval-error:0.14792\n",
      "\u001b[2m\u001b[36m(my_trainer pid=295, ip=100.64.77.77)\u001b[0m [24]\ttrain-logloss:0.64190\ttrain-error:0.14994\tval-logloss:0.63991\tval-error:0.13778\n",
      "\u001b[2m\u001b[36m(my_trainer pid=295, ip=100.64.77.77)\u001b[0m [25]\ttrain-logloss:0.64006\ttrain-error:0.14892\tval-logloss:0.63793\tval-error:0.13698\n",
      "\u001b[2m\u001b[36m(my_trainer pid=295, ip=100.64.77.77)\u001b[0m [26]\ttrain-logloss:0.63818\ttrain-error:0.15208\tval-logloss:0.63601\tval-error:0.14008\n",
      "\u001b[2m\u001b[36m(my_trainer pid=295, ip=100.64.77.77)\u001b[0m [27]\ttrain-logloss:0.63636\ttrain-error:0.14838\tval-logloss:0.63404\tval-error:0.13306\n",
      "\u001b[2m\u001b[36m(my_trainer pid=295, ip=100.64.77.77)\u001b[0m [28]\ttrain-logloss:0.63454\ttrain-error:0.14838\tval-logloss:0.63207\tval-error:0.13308\n",
      "\u001b[2m\u001b[36m(my_trainer pid=295, ip=100.64.77.77)\u001b[0m [29]\ttrain-logloss:0.63276\ttrain-error:0.14838\tval-logloss:0.63014\tval-error:0.13308\n",
      "\u001b[2m\u001b[36m(my_trainer pid=295, ip=100.64.77.77)\u001b[0m [30]\ttrain-logloss:0.63090\ttrain-error:0.14838\tval-logloss:0.62825\tval-error:0.13308\n"
     ]
    },
    {
     "name": "stderr",
     "output_type": "stream",
     "text": [
      "\u001b[2m\u001b[36m(my_trainer pid=295, ip=100.64.77.77)\u001b[0m 2025-01-24 08:14:16,959\tINFO main.py:1175 -- Training in progress (31 seconds since last restart).\n"
     ]
    },
    {
     "name": "stdout",
     "output_type": "stream",
     "text": [
      "\u001b[2m\u001b[36m(my_trainer pid=295, ip=100.64.77.77)\u001b[0m [31]\ttrain-logloss:0.62914\ttrain-error:0.14940\tval-logloss:0.62632\tval-error:0.13385\n",
      "\u001b[2m\u001b[36m(my_trainer pid=295, ip=100.64.77.77)\u001b[0m [32]\ttrain-logloss:0.62737\ttrain-error:0.14906\tval-logloss:0.62440\tval-error:0.13308\n",
      "\u001b[2m\u001b[36m(my_trainer pid=295, ip=100.64.77.77)\u001b[0m [33]\ttrain-logloss:0.62565\ttrain-error:0.14759\tval-logloss:0.62255\tval-error:0.12998\n",
      "\u001b[2m\u001b[36m(my_trainer pid=295, ip=100.64.77.77)\u001b[0m [34]\ttrain-logloss:0.62384\ttrain-error:0.14838\tval-logloss:0.62066\tval-error:0.13153\n",
      "\u001b[2m\u001b[36m(my_trainer pid=295, ip=100.64.77.77)\u001b[0m [35]\ttrain-logloss:0.62213\ttrain-error:0.14692\tval-logloss:0.61885\tval-error:0.12998\n",
      "\u001b[2m\u001b[36m(my_trainer pid=295, ip=100.64.77.77)\u001b[0m [36]\ttrain-logloss:0.62040\ttrain-error:0.14366\tval-logloss:0.61699\tval-error:0.12765\n",
      "\u001b[2m\u001b[36m(my_trainer pid=295, ip=100.64.77.77)\u001b[0m [37]\ttrain-logloss:0.61866\ttrain-error:0.14366\tval-logloss:0.61520\tval-error:0.12765\n",
      "\u001b[2m\u001b[36m(my_trainer pid=295, ip=100.64.77.77)\u001b[0m [38]\ttrain-logloss:0.61696\ttrain-error:0.14255\tval-logloss:0.61339\tval-error:0.12765\n",
      "\u001b[2m\u001b[36m(my_trainer pid=295, ip=100.64.77.77)\u001b[0m [39]\ttrain-logloss:0.61531\ttrain-error:0.14255\tval-logloss:0.61163\tval-error:0.12765\n",
      "\u001b[2m\u001b[36m(my_trainer pid=295, ip=100.64.77.77)\u001b[0m [40]\ttrain-logloss:0.61359\ttrain-error:0.14479\tval-logloss:0.60983\tval-error:0.12842\n",
      "\u001b[2m\u001b[36m(my_trainer pid=295, ip=100.64.77.77)\u001b[0m [41]\ttrain-logloss:0.61194\ttrain-error:0.14097\tval-logloss:0.60806\tval-error:0.12530\n",
      "\u001b[2m\u001b[36m(my_trainer pid=295, ip=100.64.77.77)\u001b[0m [42]\ttrain-logloss:0.61024\ttrain-error:0.13848\tval-logloss:0.60629\tval-error:0.12144\n",
      "\u001b[2m\u001b[36m(my_trainer pid=295, ip=100.64.77.77)\u001b[0m [43]\ttrain-logloss:0.60861\ttrain-error:0.13995\tval-logloss:0.60455\tval-error:0.12375\n",
      "\u001b[2m\u001b[36m(my_trainer pid=295, ip=100.64.77.77)\u001b[0m [44]\ttrain-logloss:0.60693\ttrain-error:0.13758\tval-logloss:0.60281\tval-error:0.11989\n",
      "\u001b[2m\u001b[36m(my_trainer pid=295, ip=100.64.77.77)\u001b[0m [45]\ttrain-logloss:0.60534\ttrain-error:0.13758\tval-logloss:0.60112\tval-error:0.11989\n",
      "\u001b[2m\u001b[36m(my_trainer pid=295, ip=100.64.77.77)\u001b[0m [46]\ttrain-logloss:0.60373\ttrain-error:0.13634\tval-logloss:0.59941\tval-error:0.11910\n",
      "\u001b[2m\u001b[36m(my_trainer pid=295, ip=100.64.77.77)\u001b[0m [47]\ttrain-logloss:0.60213\ttrain-error:0.13298\tval-logloss:0.59775\tval-error:0.11672\n",
      "\u001b[2m\u001b[36m(my_trainer pid=295, ip=100.64.77.77)\u001b[0m [48]\ttrain-logloss:0.60051\ttrain-error:0.12711\tval-logloss:0.59607\tval-error:0.11125\n",
      "\u001b[2m\u001b[36m(my_trainer pid=295, ip=100.64.77.77)\u001b[0m [49]\ttrain-logloss:0.59894\ttrain-error:0.12756\tval-logloss:0.59439\tval-error:0.11205\n"
     ]
    },
    {
     "name": "stderr",
     "output_type": "stream",
     "text": [
      "\u001b[2m\u001b[36m(_RemoteRayXGBoostActor pid=377, ip=100.64.32.41)\u001b[0m [08:14:38] task [xgboost.ray]:130079426449856 got new rank 0\n",
      "\u001b[2m\u001b[36m(_RemoteRayXGBoostActor pid=373, ip=100.64.59.160)\u001b[0m [08:14:38] task [xgboost.ray]:138372102857536 got new rank 1\n",
      "\u001b[2m\u001b[36m(_RemoteRayXGBoostActor pid=484, ip=100.64.77.77)\u001b[0m [08:14:38] task [xgboost.ray]:126805135118400 got new rank 2\n"
     ]
    },
    {
     "name": "stdout",
     "output_type": "stream",
     "text": [
      "\u001b[2m\u001b[36m(my_trainer pid=295, ip=100.64.77.77)\u001b[0m [0]\ttrain-logloss:0.68654\ttrain-error:0.16109\tval-logloss:0.68645\tval-error:0.15954\n",
      "\u001b[2m\u001b[36m(my_trainer pid=295, ip=100.64.77.77)\u001b[0m [1]\ttrain-logloss:0.68009\ttrain-error:0.16109\tval-logloss:0.67999\tval-error:0.15954\n",
      "\u001b[2m\u001b[36m(my_trainer pid=295, ip=100.64.77.77)\u001b[0m [2]\ttrain-logloss:0.67384\ttrain-error:0.15846\tval-logloss:0.67362\tval-error:0.15730\n",
      "\u001b[2m\u001b[36m(my_trainer pid=295, ip=100.64.77.77)\u001b[0m [3]\ttrain-logloss:0.66773\ttrain-error:0.15846\tval-logloss:0.66749\tval-error:0.15730\n",
      "\u001b[2m\u001b[36m(my_trainer pid=295, ip=100.64.77.77)\u001b[0m [4]\ttrain-logloss:0.66170\ttrain-error:0.15846\tval-logloss:0.66136\tval-error:0.15730\n",
      "\u001b[2m\u001b[36m(my_trainer pid=295, ip=100.64.77.77)\u001b[0m [5]\ttrain-logloss:0.65596\ttrain-error:0.16153\tval-logloss:0.65518\tval-error:0.15960\n",
      "\u001b[2m\u001b[36m(my_trainer pid=295, ip=100.64.77.77)\u001b[0m [6]\ttrain-logloss:0.65034\ttrain-error:0.15814\tval-logloss:0.64911\tval-error:0.15729\n",
      "\u001b[2m\u001b[36m(my_trainer pid=295, ip=100.64.77.77)\u001b[0m [7]\ttrain-logloss:0.64486\ttrain-error:0.15635\tval-logloss:0.64322\tval-error:0.15176\n",
      "\u001b[2m\u001b[36m(my_trainer pid=295, ip=100.64.77.77)\u001b[0m [8]\ttrain-logloss:0.63947\ttrain-error:0.15230\tval-logloss:0.63743\tval-error:0.14007\n",
      "\u001b[2m\u001b[36m(my_trainer pid=295, ip=100.64.77.77)\u001b[0m [9]\ttrain-logloss:0.63402\ttrain-error:0.14908\tval-logloss:0.63189\tval-error:0.14169\n",
      "\u001b[2m\u001b[36m(my_trainer pid=295, ip=100.64.77.77)\u001b[0m [10]\ttrain-logloss:0.62885\ttrain-error:0.14916\tval-logloss:0.62631\tval-error:0.13462\n",
      "\u001b[2m\u001b[36m(my_trainer pid=295, ip=100.64.77.77)\u001b[0m [11]\ttrain-logloss:0.62373\ttrain-error:0.14849\tval-logloss:0.62075\tval-error:0.13308\n",
      "\u001b[2m\u001b[36m(my_trainer pid=295, ip=100.64.77.77)\u001b[0m [12]\ttrain-logloss:0.61874\ttrain-error:0.14582\tval-logloss:0.61541\tval-error:0.13156\n",
      "\u001b[2m\u001b[36m(my_trainer pid=295, ip=100.64.77.77)\u001b[0m [13]\ttrain-logloss:0.61365\ttrain-error:0.14412\tval-logloss:0.61015\tval-error:0.13001\n",
      "\u001b[2m\u001b[36m(my_trainer pid=295, ip=100.64.77.77)\u001b[0m [14]\ttrain-logloss:0.60889\ttrain-error:0.14142\tval-logloss:0.60511\tval-error:0.12608\n",
      "\u001b[2m\u001b[36m(my_trainer pid=295, ip=100.64.77.77)\u001b[0m [15]\ttrain-logloss:0.60417\ttrain-error:0.13532\tval-logloss:0.60006\tval-error:0.11831\n",
      "\u001b[2m\u001b[36m(my_trainer pid=295, ip=100.64.77.77)\u001b[0m [16]\ttrain-logloss:0.59950\ttrain-error:0.13082\tval-logloss:0.59524\tval-error:0.11438\n",
      "\u001b[2m\u001b[36m(my_trainer pid=295, ip=100.64.77.77)\u001b[0m [17]\ttrain-logloss:0.59491\ttrain-error:0.12869\tval-logloss:0.59030\tval-error:0.11282\n",
      "\u001b[2m\u001b[36m(my_trainer pid=295, ip=100.64.77.77)\u001b[0m [18]\ttrain-logloss:0.59043\ttrain-error:0.12756\tval-logloss:0.58570\tval-error:0.11126\n",
      "\u001b[2m\u001b[36m(my_trainer pid=295, ip=100.64.77.77)\u001b[0m [19]\ttrain-logloss:0.58597\ttrain-error:0.12654\tval-logloss:0.58108\tval-error:0.10971\n",
      "\u001b[2m\u001b[36m(my_trainer pid=295, ip=100.64.77.77)\u001b[0m [20]\ttrain-logloss:0.58167\ttrain-error:0.12428\tval-logloss:0.57638\tval-error:0.10971\n",
      "\u001b[2m\u001b[36m(my_trainer pid=295, ip=100.64.77.77)\u001b[0m [21]\ttrain-logloss:0.57727\ttrain-error:0.12509\tval-logloss:0.57176\tval-error:0.11050\n",
      "\u001b[2m\u001b[36m(my_trainer pid=295, ip=100.64.77.77)\u001b[0m [22]\ttrain-logloss:0.57303\ttrain-error:0.12656\tval-logloss:0.56725\tval-error:0.11129\n",
      "\u001b[2m\u001b[36m(my_trainer pid=295, ip=100.64.77.77)\u001b[0m [23]\ttrain-logloss:0.56882\ttrain-error:0.12915\tval-logloss:0.56281\tval-error:0.11208\n",
      "\u001b[2m\u001b[36m(my_trainer pid=295, ip=100.64.77.77)\u001b[0m [24]\ttrain-logloss:0.56481\ttrain-error:0.13488\tval-logloss:0.55869\tval-error:0.11987\n",
      "\u001b[2m\u001b[36m(my_trainer pid=295, ip=100.64.77.77)\u001b[0m [25]\ttrain-logloss:0.56086\ttrain-error:0.13712\tval-logloss:0.55442\tval-error:0.12143\n",
      "\u001b[2m\u001b[36m(my_trainer pid=295, ip=100.64.77.77)\u001b[0m [26]\ttrain-logloss:0.55700\ttrain-error:0.13028\tval-logloss:0.55014\tval-error:0.11439\n",
      "\u001b[2m\u001b[36m(my_trainer pid=295, ip=100.64.77.77)\u001b[0m [27]\ttrain-logloss:0.55319\ttrain-error:0.13194\tval-logloss:0.54621\tval-error:0.11829\n",
      "\u001b[2m\u001b[36m(my_trainer pid=295, ip=100.64.77.77)\u001b[0m [28]\ttrain-logloss:0.54928\ttrain-error:0.13251\tval-logloss:0.54214\tval-error:0.11829\n",
      "\u001b[2m\u001b[36m(my_trainer pid=295, ip=100.64.77.77)\u001b[0m [29]\ttrain-logloss:0.54564\ttrain-error:0.13093\tval-logloss:0.53819\tval-error:0.11749\n",
      "\u001b[2m\u001b[36m(my_trainer pid=295, ip=100.64.77.77)\u001b[0m [30]\ttrain-logloss:0.54197\ttrain-error:0.12924\tval-logloss:0.53439\tval-error:0.11591\n"
     ]
    },
    {
     "name": "stderr",
     "output_type": "stream",
     "text": [
      "\u001b[2m\u001b[36m(my_trainer pid=295, ip=100.64.77.77)\u001b[0m 2025-01-24 08:15:09,252\tINFO main.py:1175 -- Training in progress (31 seconds since last restart).\n"
     ]
    },
    {
     "name": "stdout",
     "output_type": "stream",
     "text": [
      "\u001b[2m\u001b[36m(my_trainer pid=295, ip=100.64.77.77)\u001b[0m [31]\ttrain-logloss:0.53831\ttrain-error:0.12846\tval-logloss:0.53062\tval-error:0.11591\n",
      "\u001b[2m\u001b[36m(my_trainer pid=295, ip=100.64.77.77)\u001b[0m [32]\ttrain-logloss:0.53483\ttrain-error:0.12879\tval-logloss:0.52686\tval-error:0.11592\n",
      "\u001b[2m\u001b[36m(my_trainer pid=295, ip=100.64.77.77)\u001b[0m [33]\ttrain-logloss:0.53141\ttrain-error:0.12791\tval-logloss:0.52329\tval-error:0.11513\n",
      "\u001b[2m\u001b[36m(my_trainer pid=295, ip=100.64.77.77)\u001b[0m [34]\ttrain-logloss:0.52800\ttrain-error:0.13015\tval-logloss:0.51956\tval-error:0.11669\n",
      "\u001b[2m\u001b[36m(my_trainer pid=295, ip=100.64.77.77)\u001b[0m [35]\ttrain-logloss:0.52470\ttrain-error:0.12846\tval-logloss:0.51608\tval-error:0.11511\n",
      "\u001b[2m\u001b[36m(my_trainer pid=295, ip=100.64.77.77)\u001b[0m [36]\ttrain-logloss:0.52143\ttrain-error:0.12712\tval-logloss:0.51252\tval-error:0.11355\n",
      "\u001b[2m\u001b[36m(my_trainer pid=295, ip=100.64.77.77)\u001b[0m [37]\ttrain-logloss:0.51823\ttrain-error:0.12542\tval-logloss:0.50920\tval-error:0.11280\n",
      "\u001b[2m\u001b[36m(my_trainer pid=295, ip=100.64.77.77)\u001b[0m [38]\ttrain-logloss:0.51504\ttrain-error:0.12674\tval-logloss:0.50569\tval-error:0.11435\n",
      "\u001b[2m\u001b[36m(my_trainer pid=295, ip=100.64.77.77)\u001b[0m [39]\ttrain-logloss:0.51198\ttrain-error:0.12743\tval-logloss:0.50226\tval-error:0.11356\n",
      "\u001b[2m\u001b[36m(my_trainer pid=295, ip=100.64.77.77)\u001b[0m [40]\ttrain-logloss:0.50887\ttrain-error:0.12504\tval-logloss:0.49901\tval-error:0.11277\n",
      "\u001b[2m\u001b[36m(my_trainer pid=295, ip=100.64.77.77)\u001b[0m [41]\ttrain-logloss:0.50562\ttrain-error:0.12520\tval-logloss:0.49566\tval-error:0.11121\n",
      "\u001b[2m\u001b[36m(my_trainer pid=295, ip=100.64.77.77)\u001b[0m [42]\ttrain-logloss:0.50259\ttrain-error:0.12550\tval-logloss:0.49249\tval-error:0.11198\n",
      "\u001b[2m\u001b[36m(my_trainer pid=295, ip=100.64.77.77)\u001b[0m [43]\ttrain-logloss:0.49966\ttrain-error:0.12391\tval-logloss:0.48939\tval-error:0.11118\n",
      "\u001b[2m\u001b[36m(my_trainer pid=295, ip=100.64.77.77)\u001b[0m [44]\ttrain-logloss:0.49645\ttrain-error:0.12113\tval-logloss:0.48605\tval-error:0.10806\n",
      "\u001b[2m\u001b[36m(my_trainer pid=295, ip=100.64.77.77)\u001b[0m [45]\ttrain-logloss:0.49332\ttrain-error:0.12091\tval-logloss:0.48288\tval-error:0.10809\n",
      "\u001b[2m\u001b[36m(my_trainer pid=295, ip=100.64.77.77)\u001b[0m [46]\ttrain-logloss:0.49024\ttrain-error:0.11899\tval-logloss:0.47956\tval-error:0.10648\n",
      "\u001b[2m\u001b[36m(my_trainer pid=295, ip=100.64.77.77)\u001b[0m [47]\ttrain-logloss:0.48717\ttrain-error:0.11977\tval-logloss:0.47638\tval-error:0.10567\n",
      "\u001b[2m\u001b[36m(my_trainer pid=295, ip=100.64.77.77)\u001b[0m [48]\ttrain-logloss:0.48420\ttrain-error:0.11977\tval-logloss:0.47319\tval-error:0.10567\n",
      "\u001b[2m\u001b[36m(my_trainer pid=295, ip=100.64.77.77)\u001b[0m [49]\ttrain-logloss:0.48125\ttrain-error:0.11866\tval-logloss:0.47019\tval-error:0.10570\n"
     ]
    },
    {
     "name": "stderr",
     "output_type": "stream",
     "text": [
      "\u001b[2m\u001b[36m(_RemoteRayXGBoostActor pid=460, ip=100.64.32.41)\u001b[0m [08:15:30] task [xgboost.ray]:127364996489808 got new rank 0\n",
      "\u001b[2m\u001b[36m(_RemoteRayXGBoostActor pid=496, ip=100.64.59.160)\u001b[0m [08:15:30] task [xgboost.ray]:125295200031072 got new rank 1\n",
      "\u001b[2m\u001b[36m(_RemoteRayXGBoostActor pid=709, ip=100.64.77.77)\u001b[0m [08:15:31] task [xgboost.ray]:133228812800448 got new rank 2\n"
     ]
    },
    {
     "name": "stdout",
     "output_type": "stream",
     "text": [
      "\u001b[2m\u001b[36m(my_trainer pid=295, ip=100.64.77.77)\u001b[0m [0]\ttrain-logloss:0.66778\ttrain-error:0.30285\tval-logloss:0.66628\tval-error:0.29079\n",
      "\u001b[2m\u001b[36m(my_trainer pid=295, ip=100.64.77.77)\u001b[0m [1]\ttrain-logloss:0.64664\ttrain-error:0.26686\tval-logloss:0.64339\tval-error:0.24841\n",
      "\u001b[2m\u001b[36m(my_trainer pid=295, ip=100.64.77.77)\u001b[0m [2]\ttrain-logloss:0.62921\ttrain-error:0.27810\tval-logloss:0.62424\tval-error:0.26415\n",
      "\u001b[2m\u001b[36m(my_trainer pid=295, ip=100.64.77.77)\u001b[0m [3]\ttrain-logloss:0.61223\ttrain-error:0.26346\tval-logloss:0.60586\tval-error:0.24932\n",
      "\u001b[2m\u001b[36m(my_trainer pid=295, ip=100.64.77.77)\u001b[0m [4]\ttrain-logloss:0.59764\ttrain-error:0.25796\tval-logloss:0.59144\tval-error:0.24541\n",
      "\u001b[2m\u001b[36m(my_trainer pid=295, ip=100.64.77.77)\u001b[0m [5]\ttrain-logloss:0.58507\ttrain-error:0.25029\tval-logloss:0.57784\tval-error:0.22892\n",
      "\u001b[2m\u001b[36m(my_trainer pid=295, ip=100.64.77.77)\u001b[0m [6]\ttrain-logloss:0.57321\ttrain-error:0.24804\tval-logloss:0.56515\tval-error:0.23061\n",
      "\u001b[2m\u001b[36m(my_trainer pid=295, ip=100.64.77.77)\u001b[0m [7]\ttrain-logloss:0.56280\ttrain-error:0.23905\tval-logloss:0.55485\tval-error:0.22180\n",
      "\u001b[2m\u001b[36m(my_trainer pid=295, ip=100.64.77.77)\u001b[0m [8]\ttrain-logloss:0.55340\ttrain-error:0.21543\tval-logloss:0.54526\tval-error:0.20005\n",
      "\u001b[2m\u001b[36m(my_trainer pid=295, ip=100.64.77.77)\u001b[0m [9]\ttrain-logloss:0.54414\ttrain-error:0.21418\tval-logloss:0.53591\tval-error:0.20078\n",
      "\u001b[2m\u001b[36m(my_trainer pid=295, ip=100.64.77.77)\u001b[0m [10]\ttrain-logloss:0.53591\ttrain-error:0.21160\tval-logloss:0.52849\tval-error:0.19842\n",
      "\u001b[2m\u001b[36m(my_trainer pid=295, ip=100.64.77.77)\u001b[0m [11]\ttrain-logloss:0.52820\ttrain-error:0.21567\tval-logloss:0.52033\tval-error:0.20229\n",
      "\u001b[2m\u001b[36m(my_trainer pid=295, ip=100.64.77.77)\u001b[0m [12]\ttrain-logloss:0.52090\ttrain-error:0.20848\tval-logloss:0.51238\tval-error:0.19217\n",
      "\u001b[2m\u001b[36m(my_trainer pid=295, ip=100.64.77.77)\u001b[0m [13]\ttrain-logloss:0.51298\ttrain-error:0.20895\tval-logloss:0.50349\tval-error:0.19301\n",
      "\u001b[2m\u001b[36m(my_trainer pid=295, ip=100.64.77.77)\u001b[0m [14]\ttrain-logloss:0.50673\ttrain-error:0.19911\tval-logloss:0.49782\tval-error:0.18206\n",
      "\u001b[2m\u001b[36m(my_trainer pid=295, ip=100.64.77.77)\u001b[0m [15]\ttrain-logloss:0.50030\ttrain-error:0.19799\tval-logloss:0.49113\tval-error:0.17973\n",
      "\u001b[2m\u001b[36m(my_trainer pid=295, ip=100.64.77.77)\u001b[0m [16]\ttrain-logloss:0.49483\ttrain-error:0.19407\tval-logloss:0.48586\tval-error:0.18042\n",
      "\u001b[2m\u001b[36m(my_trainer pid=295, ip=100.64.77.77)\u001b[0m [17]\ttrain-logloss:0.48521\ttrain-error:0.19504\tval-logloss:0.47526\tval-error:0.18213\n",
      "\u001b[2m\u001b[36m(my_trainer pid=295, ip=100.64.77.77)\u001b[0m [18]\ttrain-logloss:0.47969\ttrain-error:0.19460\tval-logloss:0.46956\tval-error:0.17900\n",
      "\u001b[2m\u001b[36m(my_trainer pid=295, ip=100.64.77.77)\u001b[0m [19]\ttrain-logloss:0.47429\ttrain-error:0.19291\tval-logloss:0.46375\tval-error:0.17514\n",
      "\u001b[2m\u001b[36m(my_trainer pid=295, ip=100.64.77.77)\u001b[0m [20]\ttrain-logloss:0.46892\ttrain-error:0.19359\tval-logloss:0.45839\tval-error:0.17755\n",
      "\u001b[2m\u001b[36m(my_trainer pid=295, ip=100.64.77.77)\u001b[0m [21]\ttrain-logloss:0.46443\ttrain-error:0.18651\tval-logloss:0.45365\tval-error:0.17597\n",
      "\u001b[2m\u001b[36m(my_trainer pid=295, ip=100.64.77.77)\u001b[0m [22]\ttrain-logloss:0.45977\ttrain-error:0.18309\tval-logloss:0.44956\tval-error:0.17129\n",
      "\u001b[2m\u001b[36m(my_trainer pid=295, ip=100.64.77.77)\u001b[0m [23]\ttrain-logloss:0.45322\ttrain-error:0.17461\tval-logloss:0.44220\tval-error:0.15879\n",
      "\u001b[2m\u001b[36m(my_trainer pid=295, ip=100.64.77.77)\u001b[0m [24]\ttrain-logloss:0.44889\ttrain-error:0.17047\tval-logloss:0.43786\tval-error:0.15487\n",
      "\u001b[2m\u001b[36m(my_trainer pid=295, ip=100.64.77.77)\u001b[0m [25]\ttrain-logloss:0.44434\ttrain-error:0.16901\tval-logloss:0.43287\tval-error:0.15652\n",
      "\u001b[2m\u001b[36m(my_trainer pid=295, ip=100.64.77.77)\u001b[0m [26]\ttrain-logloss:0.43949\ttrain-error:0.17073\tval-logloss:0.42765\tval-error:0.15802\n",
      "\u001b[2m\u001b[36m(my_trainer pid=295, ip=100.64.77.77)\u001b[0m [27]\ttrain-logloss:0.43622\ttrain-error:0.16592\tval-logloss:0.42422\tval-error:0.15648\n",
      "\u001b[2m\u001b[36m(my_trainer pid=295, ip=100.64.77.77)\u001b[0m [28]\ttrain-logloss:0.43267\ttrain-error:0.16133\tval-logloss:0.42116\tval-error:0.14709\n",
      "\u001b[2m\u001b[36m(my_trainer pid=295, ip=100.64.77.77)\u001b[0m [29]\ttrain-logloss:0.42889\ttrain-error:0.15994\tval-logloss:0.41695\tval-error:0.15179\n",
      "\u001b[2m\u001b[36m(my_trainer pid=295, ip=100.64.77.77)\u001b[0m [30]\ttrain-logloss:0.42567\ttrain-error:0.15915\tval-logloss:0.41422\tval-error:0.15100\n",
      "\u001b[2m\u001b[36m(my_trainer pid=295, ip=100.64.77.77)\u001b[0m [31]\ttrain-logloss:0.42216\ttrain-error:0.15576\tval-logloss:0.40994\tval-error:0.14870\n",
      "\u001b[2m\u001b[36m(my_trainer pid=295, ip=100.64.77.77)\u001b[0m [32]\ttrain-logloss:0.41920\ttrain-error:0.15453\tval-logloss:0.40706\tval-error:0.14557\n"
     ]
    },
    {
     "name": "stderr",
     "output_type": "stream",
     "text": [
      "\u001b[2m\u001b[36m(my_trainer pid=295, ip=100.64.77.77)\u001b[0m 2025-01-24 08:16:01,473\tINFO main.py:1175 -- Training in progress (31 seconds since last restart).\n"
     ]
    },
    {
     "name": "stdout",
     "output_type": "stream",
     "text": [
      "\u001b[2m\u001b[36m(my_trainer pid=295, ip=100.64.77.77)\u001b[0m [33]\ttrain-logloss:0.41660\ttrain-error:0.15396\tval-logloss:0.40467\tval-error:0.14480\n",
      "\u001b[2m\u001b[36m(my_trainer pid=295, ip=100.64.77.77)\u001b[0m [34]\ttrain-logloss:0.41414\ttrain-error:0.15375\tval-logloss:0.40213\tval-error:0.14479\n",
      "\u001b[2m\u001b[36m(my_trainer pid=295, ip=100.64.77.77)\u001b[0m [35]\ttrain-logloss:0.40999\ttrain-error:0.14842\tval-logloss:0.39734\tval-error:0.13926\n",
      "\u001b[2m\u001b[36m(my_trainer pid=295, ip=100.64.77.77)\u001b[0m [36]\ttrain-logloss:0.40665\ttrain-error:0.15058\tval-logloss:0.39398\tval-error:0.13925\n",
      "\u001b[2m\u001b[36m(my_trainer pid=295, ip=100.64.77.77)\u001b[0m [37]\ttrain-logloss:0.40393\ttrain-error:0.15340\tval-logloss:0.39082\tval-error:0.14160\n",
      "\u001b[2m\u001b[36m(my_trainer pid=295, ip=100.64.77.77)\u001b[0m [38]\ttrain-logloss:0.40090\ttrain-error:0.15014\tval-logloss:0.38813\tval-error:0.14236\n",
      "\u001b[2m\u001b[36m(my_trainer pid=295, ip=100.64.77.77)\u001b[0m [39]\ttrain-logloss:0.39808\ttrain-error:0.14630\tval-logloss:0.38537\tval-error:0.13612\n",
      "\u001b[2m\u001b[36m(my_trainer pid=295, ip=100.64.77.77)\u001b[0m [40]\ttrain-logloss:0.39508\ttrain-error:0.14437\tval-logloss:0.38212\tval-error:0.13141\n",
      "\u001b[2m\u001b[36m(my_trainer pid=295, ip=100.64.77.77)\u001b[0m [41]\ttrain-logloss:0.39312\ttrain-error:0.14592\tval-logloss:0.38010\tval-error:0.13613\n",
      "\u001b[2m\u001b[36m(my_trainer pid=295, ip=100.64.77.77)\u001b[0m [42]\ttrain-logloss:0.39072\ttrain-error:0.14706\tval-logloss:0.37765\tval-error:0.13848\n",
      "\u001b[2m\u001b[36m(my_trainer pid=295, ip=100.64.77.77)\u001b[0m [43]\ttrain-logloss:0.38848\ttrain-error:0.14722\tval-logloss:0.37503\tval-error:0.13690\n",
      "\u001b[2m\u001b[36m(my_trainer pid=295, ip=100.64.77.77)\u001b[0m [44]\ttrain-logloss:0.38628\ttrain-error:0.14620\tval-logloss:0.37255\tval-error:0.13455\n",
      "\u001b[2m\u001b[36m(my_trainer pid=295, ip=100.64.77.77)\u001b[0m [45]\ttrain-logloss:0.38380\ttrain-error:0.14608\tval-logloss:0.36994\tval-error:0.13534\n",
      "\u001b[2m\u001b[36m(my_trainer pid=295, ip=100.64.77.77)\u001b[0m [46]\ttrain-logloss:0.38213\ttrain-error:0.14395\tval-logloss:0.36828\tval-error:0.13300\n",
      "\u001b[2m\u001b[36m(my_trainer pid=295, ip=100.64.77.77)\u001b[0m [47]\ttrain-logloss:0.37985\ttrain-error:0.14236\tval-logloss:0.36610\tval-error:0.13145\n",
      "\u001b[2m\u001b[36m(my_trainer pid=295, ip=100.64.77.77)\u001b[0m [48]\ttrain-logloss:0.37770\ttrain-error:0.14169\tval-logloss:0.36451\tval-error:0.13145\n",
      "\u001b[2m\u001b[36m(my_trainer pid=295, ip=100.64.77.77)\u001b[0m [49]\ttrain-logloss:0.37575\ttrain-error:0.13999\tval-logloss:0.36304\tval-error:0.13148\n"
     ]
    },
    {
     "name": "stderr",
     "output_type": "stream",
     "text": [
      "\u001b[2m\u001b[36m(_RemoteRayXGBoostActor pid=585, ip=100.64.32.41)\u001b[0m [08:16:20] task [xgboost.ray]:132773705380768 got new rank 0\n",
      "\u001b[2m\u001b[36m(_RemoteRayXGBoostActor pid=616, ip=100.64.59.160)\u001b[0m [08:16:20] task [xgboost.ray]:139949385659248 got new rank 1\n",
      "\u001b[2m\u001b[36m(_RemoteRayXGBoostActor pid=892, ip=100.64.77.77)\u001b[0m [08:16:20] task [xgboost.ray]:137329241047536 got new rank 2\n"
     ]
    },
    {
     "name": "stdout",
     "output_type": "stream",
     "text": [
      "\u001b[2m\u001b[36m(my_trainer pid=295, ip=100.64.77.77)\u001b[0m [0]\ttrain-logloss:0.59439\ttrain-error:0.16109\tval-logloss:0.59310\tval-error:0.15954\n",
      "\u001b[2m\u001b[36m(my_trainer pid=295, ip=100.64.77.77)\u001b[0m [1]\ttrain-logloss:0.52654\ttrain-error:0.14589\tval-logloss:0.51986\tval-error:0.13769\n",
      "\u001b[2m\u001b[36m(my_trainer pid=295, ip=100.64.77.77)\u001b[0m [2]\ttrain-logloss:0.47541\ttrain-error:0.12346\tval-logloss:0.46558\tval-error:0.11588\n",
      "\u001b[2m\u001b[36m(my_trainer pid=295, ip=100.64.77.77)\u001b[0m [3]\ttrain-logloss:0.42880\ttrain-error:0.10766\tval-logloss:0.41875\tval-error:0.10165\n",
      "\u001b[2m\u001b[36m(my_trainer pid=295, ip=100.64.77.77)\u001b[0m [4]\ttrain-logloss:0.39274\ttrain-error:0.09594\tval-logloss:0.38196\tval-error:0.08763\n",
      "\u001b[2m\u001b[36m(my_trainer pid=295, ip=100.64.77.77)\u001b[0m [5]\ttrain-logloss:0.36400\ttrain-error:0.09249\tval-logloss:0.35204\tval-error:0.08380\n",
      "\u001b[2m\u001b[36m(my_trainer pid=295, ip=100.64.77.77)\u001b[0m [6]\ttrain-logloss:0.33944\ttrain-error:0.08536\tval-logloss:0.32608\tval-error:0.07436\n",
      "\u001b[2m\u001b[36m(my_trainer pid=295, ip=100.64.77.77)\u001b[0m [7]\ttrain-logloss:0.31919\ttrain-error:0.07261\tval-logloss:0.30547\tval-error:0.06656\n",
      "\u001b[2m\u001b[36m(my_trainer pid=295, ip=100.64.77.77)\u001b[0m [8]\ttrain-logloss:0.29704\ttrain-error:0.07038\tval-logloss:0.28404\tval-error:0.05872\n",
      "\u001b[2m\u001b[36m(my_trainer pid=295, ip=100.64.77.77)\u001b[0m [9]\ttrain-logloss:0.27903\ttrain-error:0.06707\tval-logloss:0.26775\tval-error:0.06034\n",
      "\u001b[2m\u001b[36m(my_trainer pid=295, ip=100.64.77.77)\u001b[0m [10]\ttrain-logloss:0.26233\ttrain-error:0.05929\tval-logloss:0.25093\tval-error:0.05402\n",
      "\u001b[2m\u001b[36m(my_trainer pid=295, ip=100.64.77.77)\u001b[0m [11]\ttrain-logloss:0.25160\ttrain-error:0.05603\tval-logloss:0.24019\tval-error:0.04697\n",
      "\u001b[2m\u001b[36m(my_trainer pid=295, ip=100.64.77.77)\u001b[0m [12]\ttrain-logloss:0.23971\ttrain-error:0.05392\tval-logloss:0.22716\tval-error:0.04461\n",
      "\u001b[2m\u001b[36m(my_trainer pid=295, ip=100.64.77.77)\u001b[0m [13]\ttrain-logloss:0.22933\ttrain-error:0.04896\tval-logloss:0.21640\tval-error:0.03913\n",
      "\u001b[2m\u001b[36m(my_trainer pid=295, ip=100.64.77.77)\u001b[0m [14]\ttrain-logloss:0.21874\ttrain-error:0.04638\tval-logloss:0.20588\tval-error:0.03679\n",
      "\u001b[2m\u001b[36m(my_trainer pid=295, ip=100.64.77.77)\u001b[0m [15]\ttrain-logloss:0.20794\ttrain-error:0.04601\tval-logloss:0.19493\tval-error:0.04070\n",
      "\u001b[2m\u001b[36m(my_trainer pid=295, ip=100.64.77.77)\u001b[0m [16]\ttrain-logloss:0.19785\ttrain-error:0.03981\tval-logloss:0.18393\tval-error:0.03287\n",
      "\u001b[2m\u001b[36m(my_trainer pid=295, ip=100.64.77.77)\u001b[0m [17]\ttrain-logloss:0.19272\ttrain-error:0.04051\tval-logloss:0.17934\tval-error:0.03366\n",
      "\u001b[2m\u001b[36m(my_trainer pid=295, ip=100.64.77.77)\u001b[0m [18]\ttrain-logloss:0.18651\ttrain-error:0.03586\tval-logloss:0.17415\tval-error:0.02974\n",
      "\u001b[2m\u001b[36m(my_trainer pid=295, ip=100.64.77.77)\u001b[0m [19]\ttrain-logloss:0.17886\ttrain-error:0.03529\tval-logloss:0.16764\tval-error:0.02980\n",
      "\u001b[2m\u001b[36m(my_trainer pid=295, ip=100.64.77.77)\u001b[0m [20]\ttrain-logloss:0.17146\ttrain-error:0.03271\tval-logloss:0.16021\tval-error:0.02745\n",
      "\u001b[2m\u001b[36m(my_trainer pid=295, ip=100.64.77.77)\u001b[0m [21]\ttrain-logloss:0.16664\ttrain-error:0.03091\tval-logloss:0.15555\tval-error:0.02589\n",
      "\u001b[2m\u001b[36m(my_trainer pid=295, ip=100.64.77.77)\u001b[0m [22]\ttrain-logloss:0.16314\ttrain-error:0.03023\tval-logloss:0.15244\tval-error:0.02589\n",
      "\u001b[2m\u001b[36m(my_trainer pid=295, ip=100.64.77.77)\u001b[0m [23]\ttrain-logloss:0.15744\ttrain-error:0.03057\tval-logloss:0.14716\tval-error:0.02664\n",
      "\u001b[2m\u001b[36m(my_trainer pid=295, ip=100.64.77.77)\u001b[0m [24]\ttrain-logloss:0.15375\ttrain-error:0.02843\tval-logloss:0.14353\tval-error:0.02431\n",
      "\u001b[2m\u001b[36m(my_trainer pid=295, ip=100.64.77.77)\u001b[0m [25]\ttrain-logloss:0.14699\ttrain-error:0.02169\tval-logloss:0.13655\tval-error:0.01572\n",
      "\u001b[2m\u001b[36m(my_trainer pid=295, ip=100.64.77.77)\u001b[0m [26]\ttrain-logloss:0.14262\ttrain-error:0.02123\tval-logloss:0.13209\tval-error:0.01569\n",
      "\u001b[2m\u001b[36m(my_trainer pid=295, ip=100.64.77.77)\u001b[0m [27]\ttrain-logloss:0.13951\ttrain-error:0.02032\tval-logloss:0.12903\tval-error:0.01569\n",
      "\u001b[2m\u001b[36m(my_trainer pid=295, ip=100.64.77.77)\u001b[0m [28]\ttrain-logloss:0.13318\ttrain-error:0.01920\tval-logloss:0.12376\tval-error:0.01569\n",
      "\u001b[2m\u001b[36m(my_trainer pid=295, ip=100.64.77.77)\u001b[0m [29]\ttrain-logloss:0.12994\ttrain-error:0.01921\tval-logloss:0.12044\tval-error:0.01493\n",
      "\u001b[2m\u001b[36m(my_trainer pid=295, ip=100.64.77.77)\u001b[0m [30]\ttrain-logloss:0.12589\ttrain-error:0.01502\tval-logloss:0.11631\tval-error:0.01019\n",
      "\u001b[2m\u001b[36m(my_trainer pid=295, ip=100.64.77.77)\u001b[0m [31]\ttrain-logloss:0.12451\ttrain-error:0.01502\tval-logloss:0.11495\tval-error:0.01019\n"
     ]
    },
    {
     "name": "stderr",
     "output_type": "stream",
     "text": [
      "\u001b[2m\u001b[36m(my_trainer pid=295, ip=100.64.77.77)\u001b[0m 2025-01-24 08:16:51,167\tINFO main.py:1175 -- Training in progress (31 seconds since last restart).\n"
     ]
    },
    {
     "name": "stdout",
     "output_type": "stream",
     "text": [
      "\u001b[2m\u001b[36m(my_trainer pid=295, ip=100.64.77.77)\u001b[0m [32]\ttrain-logloss:0.12157\ttrain-error:0.01570\tval-logloss:0.11190\tval-error:0.01098\n",
      "\u001b[2m\u001b[36m(my_trainer pid=295, ip=100.64.77.77)\u001b[0m [33]\ttrain-logloss:0.11625\ttrain-error:0.01424\tval-logloss:0.10740\tval-error:0.01100\n",
      "\u001b[2m\u001b[36m(my_trainer pid=295, ip=100.64.77.77)\u001b[0m [34]\ttrain-logloss:0.11369\ttrain-error:0.01424\tval-logloss:0.10509\tval-error:0.01100\n",
      "\u001b[2m\u001b[36m(my_trainer pid=295, ip=100.64.77.77)\u001b[0m [35]\ttrain-logloss:0.11043\ttrain-error:0.01255\tval-logloss:0.10209\tval-error:0.01024\n",
      "\u001b[2m\u001b[36m(my_trainer pid=295, ip=100.64.77.77)\u001b[0m [36]\ttrain-logloss:0.10569\ttrain-error:0.01186\tval-logloss:0.09707\tval-error:0.00864\n",
      "\u001b[2m\u001b[36m(my_trainer pid=295, ip=100.64.77.77)\u001b[0m [37]\ttrain-logloss:0.10074\ttrain-error:0.00961\tval-logloss:0.09212\tval-error:0.00629\n",
      "\u001b[2m\u001b[36m(my_trainer pid=295, ip=100.64.77.77)\u001b[0m [38]\ttrain-logloss:0.09815\ttrain-error:0.00769\tval-logloss:0.08966\tval-error:0.00470\n",
      "\u001b[2m\u001b[36m(my_trainer pid=295, ip=100.64.77.77)\u001b[0m [39]\ttrain-logloss:0.09626\ttrain-error:0.00881\tval-logloss:0.08818\tval-error:0.00705\n",
      "\u001b[2m\u001b[36m(my_trainer pid=295, ip=100.64.77.77)\u001b[0m [40]\ttrain-logloss:0.09279\ttrain-error:0.00982\tval-logloss:0.08592\tval-error:0.00784\n",
      "\u001b[2m\u001b[36m(my_trainer pid=295, ip=100.64.77.77)\u001b[0m [41]\ttrain-logloss:0.09069\ttrain-error:0.00757\tval-logloss:0.08416\tval-error:0.00632\n",
      "\u001b[2m\u001b[36m(my_trainer pid=295, ip=100.64.77.77)\u001b[0m [42]\ttrain-logloss:0.08955\ttrain-error:0.00757\tval-logloss:0.08336\tval-error:0.00632\n",
      "\u001b[2m\u001b[36m(my_trainer pid=295, ip=100.64.77.77)\u001b[0m [43]\ttrain-logloss:0.08641\ttrain-error:0.00757\tval-logloss:0.08030\tval-error:0.00632\n",
      "\u001b[2m\u001b[36m(my_trainer pid=295, ip=100.64.77.77)\u001b[0m [44]\ttrain-logloss:0.08516\ttrain-error:0.00757\tval-logloss:0.07892\tval-error:0.00632\n",
      "\u001b[2m\u001b[36m(my_trainer pid=295, ip=100.64.77.77)\u001b[0m [45]\ttrain-logloss:0.08318\ttrain-error:0.00757\tval-logloss:0.07715\tval-error:0.00632\n",
      "\u001b[2m\u001b[36m(my_trainer pid=295, ip=100.64.77.77)\u001b[0m [46]\ttrain-logloss:0.08068\ttrain-error:0.00667\tval-logloss:0.07508\tval-error:0.00632\n",
      "\u001b[2m\u001b[36m(my_trainer pid=295, ip=100.64.77.77)\u001b[0m [47]\ttrain-logloss:0.07932\ttrain-error:0.00667\tval-logloss:0.07375\tval-error:0.00632\n",
      "\u001b[2m\u001b[36m(my_trainer pid=295, ip=100.64.77.77)\u001b[0m [48]\ttrain-logloss:0.07713\ttrain-error:0.00599\tval-logloss:0.07191\tval-error:0.00632\n",
      "\u001b[2m\u001b[36m(my_trainer pid=295, ip=100.64.77.77)\u001b[0m [49]\ttrain-logloss:0.07580\ttrain-error:0.00486\tval-logloss:0.07053\tval-error:0.00552\n"
     ]
    },
    {
     "name": "stderr",
     "output_type": "stream",
     "text": [
      "\u001b[2m\u001b[36m(_RemoteRayXGBoostActor pid=704, ip=100.64.32.41)\u001b[0m [08:17:11] task [xgboost.ray]:131409218359840 got new rank 0\n",
      "\u001b[2m\u001b[36m(_RemoteRayXGBoostActor pid=740, ip=100.64.59.160)\u001b[0m [08:17:11] task [xgboost.ray]:124295231262576 got new rank 1\n",
      "\u001b[2m\u001b[36m(_RemoteRayXGBoostActor pid=1076, ip=100.64.77.77)\u001b[0m [08:17:11] task [xgboost.ray]:136771580309360 got new rank 2\n"
     ]
    },
    {
     "name": "stdout",
     "output_type": "stream",
     "text": [
      "\u001b[2m\u001b[36m(my_trainer pid=295, ip=100.64.77.77)\u001b[0m [0]\ttrain-logloss:0.65899\ttrain-error:0.16109\tval-logloss:0.65855\tval-error:0.15954\n",
      "\u001b[2m\u001b[36m(my_trainer pid=295, ip=100.64.77.77)\u001b[0m [1]\ttrain-logloss:0.62963\ttrain-error:0.15153\tval-logloss:0.62689\tval-error:0.13858\n",
      "\u001b[2m\u001b[36m(my_trainer pid=295, ip=100.64.77.77)\u001b[0m [2]\ttrain-logloss:0.60215\ttrain-error:0.14772\tval-logloss:0.59887\tval-error:0.13705\n",
      "\u001b[2m\u001b[36m(my_trainer pid=295, ip=100.64.77.77)\u001b[0m [3]\ttrain-logloss:0.57825\ttrain-error:0.13895\tval-logloss:0.57319\tval-error:0.12379\n",
      "\u001b[2m\u001b[36m(my_trainer pid=295, ip=100.64.77.77)\u001b[0m [4]\ttrain-logloss:0.55623\ttrain-error:0.13373\tval-logloss:0.55039\tval-error:0.12066\n",
      "\u001b[2m\u001b[36m(my_trainer pid=295, ip=100.64.77.77)\u001b[0m [5]\ttrain-logloss:0.53662\ttrain-error:0.12645\tval-logloss:0.52941\tval-error:0.11121\n",
      "\u001b[2m\u001b[36m(my_trainer pid=295, ip=100.64.77.77)\u001b[0m [6]\ttrain-logloss:0.51835\ttrain-error:0.12357\tval-logloss:0.50976\tval-error:0.10809\n",
      "\u001b[2m\u001b[36m(my_trainer pid=295, ip=100.64.77.77)\u001b[0m [7]\ttrain-logloss:0.50177\ttrain-error:0.12490\tval-logloss:0.49220\tval-error:0.11044\n",
      "\u001b[2m\u001b[36m(my_trainer pid=295, ip=100.64.77.77)\u001b[0m [8]\ttrain-logloss:0.48644\ttrain-error:0.12160\tval-logloss:0.47543\tval-error:0.10885\n",
      "\u001b[2m\u001b[36m(my_trainer pid=295, ip=100.64.77.77)\u001b[0m [9]\ttrain-logloss:0.47074\ttrain-error:0.11934\tval-logloss:0.45952\tval-error:0.10652\n",
      "\u001b[2m\u001b[36m(my_trainer pid=295, ip=100.64.77.77)\u001b[0m [10]\ttrain-logloss:0.45653\ttrain-error:0.12069\tval-logloss:0.44478\tval-error:0.10732\n",
      "\u001b[2m\u001b[36m(my_trainer pid=295, ip=100.64.77.77)\u001b[0m [11]\ttrain-logloss:0.44287\ttrain-error:0.11756\tval-logloss:0.43064\tval-error:0.10109\n",
      "\u001b[2m\u001b[36m(my_trainer pid=295, ip=100.64.77.77)\u001b[0m [12]\ttrain-logloss:0.43037\ttrain-error:0.10920\tval-logloss:0.41801\tval-error:0.09405\n",
      "\u001b[2m\u001b[36m(my_trainer pid=295, ip=100.64.77.77)\u001b[0m [13]\ttrain-logloss:0.41850\ttrain-error:0.11202\tval-logloss:0.40539\tval-error:0.09398\n",
      "\u001b[2m\u001b[36m(my_trainer pid=295, ip=100.64.77.77)\u001b[0m [14]\ttrain-logloss:0.40805\ttrain-error:0.10167\tval-logloss:0.39500\tval-error:0.08231\n",
      "\u001b[2m\u001b[36m(my_trainer pid=295, ip=100.64.77.77)\u001b[0m [15]\ttrain-logloss:0.39718\ttrain-error:0.09806\tval-logloss:0.38389\tval-error:0.07994\n",
      "\u001b[2m\u001b[36m(my_trainer pid=295, ip=100.64.77.77)\u001b[0m [16]\ttrain-logloss:0.38750\ttrain-error:0.09256\tval-logloss:0.37395\tval-error:0.07759\n",
      "\u001b[2m\u001b[36m(my_trainer pid=295, ip=100.64.77.77)\u001b[0m [17]\ttrain-logloss:0.37809\ttrain-error:0.09727\tval-logloss:0.36368\tval-error:0.08381\n",
      "\u001b[2m\u001b[36m(my_trainer pid=295, ip=100.64.77.77)\u001b[0m [18]\ttrain-logloss:0.36898\ttrain-error:0.09031\tval-logloss:0.35456\tval-error:0.07676\n",
      "\u001b[2m\u001b[36m(my_trainer pid=295, ip=100.64.77.77)\u001b[0m [19]\ttrain-logloss:0.36085\ttrain-error:0.08784\tval-logloss:0.34652\tval-error:0.07520\n",
      "\u001b[2m\u001b[36m(my_trainer pid=295, ip=100.64.77.77)\u001b[0m [20]\ttrain-logloss:0.35297\ttrain-error:0.08522\tval-logloss:0.33879\tval-error:0.07128\n",
      "\u001b[2m\u001b[36m(my_trainer pid=295, ip=100.64.77.77)\u001b[0m [21]\ttrain-logloss:0.34515\ttrain-error:0.08556\tval-logloss:0.33076\tval-error:0.07207\n",
      "\u001b[2m\u001b[36m(my_trainer pid=295, ip=100.64.77.77)\u001b[0m [22]\ttrain-logloss:0.33704\ttrain-error:0.08531\tval-logloss:0.32341\tval-error:0.07446\n",
      "\u001b[2m\u001b[36m(my_trainer pid=295, ip=100.64.77.77)\u001b[0m [23]\ttrain-logloss:0.32920\ttrain-error:0.08102\tval-logloss:0.31558\tval-error:0.06970\n",
      "\u001b[2m\u001b[36m(my_trainer pid=295, ip=100.64.77.77)\u001b[0m [24]\ttrain-logloss:0.32317\ttrain-error:0.08282\tval-logloss:0.30913\tval-error:0.07205\n",
      "\u001b[2m\u001b[36m(my_trainer pid=295, ip=100.64.77.77)\u001b[0m [25]\ttrain-logloss:0.31670\ttrain-error:0.08079\tval-logloss:0.30293\tval-error:0.06892\n",
      "\u001b[2m\u001b[36m(my_trainer pid=295, ip=100.64.77.77)\u001b[0m [26]\ttrain-logloss:0.31035\ttrain-error:0.07955\tval-logloss:0.29702\tval-error:0.06815\n",
      "\u001b[2m\u001b[36m(my_trainer pid=295, ip=100.64.77.77)\u001b[0m [27]\ttrain-logloss:0.30416\ttrain-error:0.07887\tval-logloss:0.29122\tval-error:0.06815\n",
      "\u001b[2m\u001b[36m(my_trainer pid=295, ip=100.64.77.77)\u001b[0m [28]\ttrain-logloss:0.29814\ttrain-error:0.07671\tval-logloss:0.28577\tval-error:0.06815\n",
      "\u001b[2m\u001b[36m(my_trainer pid=295, ip=100.64.77.77)\u001b[0m [29]\ttrain-logloss:0.29241\ttrain-error:0.07671\tval-logloss:0.28029\tval-error:0.06815\n",
      "\u001b[2m\u001b[36m(my_trainer pid=295, ip=100.64.77.77)\u001b[0m [30]\ttrain-logloss:0.28675\ttrain-error:0.07560\tval-logloss:0.27463\tval-error:0.06739\n",
      "\u001b[2m\u001b[36m(my_trainer pid=295, ip=100.64.77.77)\u001b[0m [31]\ttrain-logloss:0.28174\ttrain-error:0.07207\tval-logloss:0.26946\tval-error:0.06581\n"
     ]
    },
    {
     "name": "stderr",
     "output_type": "stream",
     "text": [
      "\u001b[2m\u001b[36m(my_trainer pid=295, ip=100.64.77.77)\u001b[0m 2025-01-24 08:17:42,114\tINFO main.py:1175 -- Training in progress (31 seconds since last restart).\n"
     ]
    },
    {
     "name": "stdout",
     "output_type": "stream",
     "text": [
      "\u001b[2m\u001b[36m(my_trainer pid=295, ip=100.64.77.77)\u001b[0m [32]\ttrain-logloss:0.27633\ttrain-error:0.07198\tval-logloss:0.26399\tval-error:0.06346\n",
      "\u001b[2m\u001b[36m(my_trainer pid=295, ip=100.64.77.77)\u001b[0m [33]\ttrain-logloss:0.27216\ttrain-error:0.06997\tval-logloss:0.26000\tval-error:0.06190\n",
      "\u001b[2m\u001b[36m(my_trainer pid=295, ip=100.64.77.77)\u001b[0m [34]\ttrain-logloss:0.26740\ttrain-error:0.06759\tval-logloss:0.25541\tval-error:0.06346\n",
      "\u001b[2m\u001b[36m(my_trainer pid=295, ip=100.64.77.77)\u001b[0m [35]\ttrain-logloss:0.26266\ttrain-error:0.06339\tval-logloss:0.25040\tval-error:0.05718\n",
      "\u001b[2m\u001b[36m(my_trainer pid=295, ip=100.64.77.77)\u001b[0m [36]\ttrain-logloss:0.25838\ttrain-error:0.06352\tval-logloss:0.24589\tval-error:0.05718\n",
      "\u001b[2m\u001b[36m(my_trainer pid=295, ip=100.64.77.77)\u001b[0m [37]\ttrain-logloss:0.25402\ttrain-error:0.06352\tval-logloss:0.24150\tval-error:0.05718\n",
      "\u001b[2m\u001b[36m(my_trainer pid=295, ip=100.64.77.77)\u001b[0m [38]\ttrain-logloss:0.24984\ttrain-error:0.06103\tval-logloss:0.23731\tval-error:0.05167\n",
      "\u001b[2m\u001b[36m(my_trainer pid=295, ip=100.64.77.77)\u001b[0m [39]\ttrain-logloss:0.24586\ttrain-error:0.06035\tval-logloss:0.23326\tval-error:0.04934\n",
      "\u001b[2m\u001b[36m(my_trainer pid=295, ip=100.64.77.77)\u001b[0m [40]\ttrain-logloss:0.24216\ttrain-error:0.05877\tval-logloss:0.22949\tval-error:0.04855\n",
      "\u001b[2m\u001b[36m(my_trainer pid=295, ip=100.64.77.77)\u001b[0m [41]\ttrain-logloss:0.23835\ttrain-error:0.05448\tval-logloss:0.22568\tval-error:0.04462\n",
      "\u001b[2m\u001b[36m(my_trainer pid=295, ip=100.64.77.77)\u001b[0m [42]\ttrain-logloss:0.23512\ttrain-error:0.05358\tval-logloss:0.22233\tval-error:0.04228\n",
      "\u001b[2m\u001b[36m(my_trainer pid=295, ip=100.64.77.77)\u001b[0m [43]\ttrain-logloss:0.23030\ttrain-error:0.04976\tval-logloss:0.21744\tval-error:0.03762\n",
      "\u001b[2m\u001b[36m(my_trainer pid=295, ip=100.64.77.77)\u001b[0m [44]\ttrain-logloss:0.22717\ttrain-error:0.04988\tval-logloss:0.21458\tval-error:0.03527\n",
      "\u001b[2m\u001b[36m(my_trainer pid=295, ip=100.64.77.77)\u001b[0m [45]\ttrain-logloss:0.22320\ttrain-error:0.04784\tval-logloss:0.21052\tval-error:0.03367\n",
      "\u001b[2m\u001b[36m(my_trainer pid=295, ip=100.64.77.77)\u001b[0m [46]\ttrain-logloss:0.22027\ttrain-error:0.04616\tval-logloss:0.20756\tval-error:0.03134\n",
      "\u001b[2m\u001b[36m(my_trainer pid=295, ip=100.64.77.77)\u001b[0m [47]\ttrain-logloss:0.21741\ttrain-error:0.04616\tval-logloss:0.20489\tval-error:0.03134\n",
      "\u001b[2m\u001b[36m(my_trainer pid=295, ip=100.64.77.77)\u001b[0m [48]\ttrain-logloss:0.21442\ttrain-error:0.04502\tval-logloss:0.20186\tval-error:0.03052\n",
      "\u001b[2m\u001b[36m(my_trainer pid=295, ip=100.64.77.77)\u001b[0m [49]\ttrain-logloss:0.21215\ttrain-error:0.04412\tval-logloss:0.19961\tval-error:0.03052\n"
     ]
    },
    {
     "name": "stderr",
     "output_type": "stream",
     "text": [
      "\u001b[2m\u001b[36m(_RemoteRayXGBoostActor pid=786, ip=100.64.32.41)\u001b[0m [08:18:02] task [xgboost.ray]:130721911181952 got new rank 0\n",
      "\u001b[2m\u001b[36m(_RemoteRayXGBoostActor pid=821, ip=100.64.59.160)\u001b[0m [08:18:02] task [xgboost.ray]:138018465751392 got new rank 1\n",
      "\u001b[2m\u001b[36m(_RemoteRayXGBoostActor pid=1301, ip=100.64.77.77)\u001b[0m [08:18:02] task [xgboost.ray]:128136061624480 got new rank 2\n",
      "\u001b[2m\u001b[36m(my_trainer pid=295, ip=100.64.77.77)\u001b[0m 2025-01-24 08:18:04,720\tINFO elastic.py:155 -- Actor status: 3 alive, 0 dead (3 total)\n",
      "\u001b[2m\u001b[36m(run pid=454)\u001b[0m 2025-01-24 08:18:04,762\tERROR trial_runner.py:1450 -- Trial my_trainer_28b6d_00005: Error happened when processing _ExecutorEventType.TRAINING_RESULT.\n",
      "\u001b[2m\u001b[36m(run pid=454)\u001b[0m ray.exceptions.RayTaskError(RuntimeError): \u001b[36mray::ImplicitFunc.train()\u001b[39m (pid=295, ip=100.64.77.77, repr=my_trainer)\n",
      "\u001b[2m\u001b[36m(run pid=454)\u001b[0m ray.exceptions.RayTaskError(RayXGBoostTrainingError): \u001b[36mray::_RemoteRayXGBoostActor.train()\u001b[39m (pid=1301, ip=100.64.77.77, repr=<xgboost_ray.main._RemoteRayXGBoostActor object at 0x748a006fa0a0>)\n",
      "\u001b[2m\u001b[36m(run pid=454)\u001b[0m   File \"/home/ray/anaconda3/lib/python3.9/site-packages/xgboost_ray/main.py\", line 382, in _get_dmatrix\n",
      "\u001b[2m\u001b[36m(run pid=454)\u001b[0m     matrix = xgb.DMatrix(**param)\n",
      "\u001b[2m\u001b[36m(run pid=454)\u001b[0m   File \"/home/ray/anaconda3/lib/python3.9/site-packages/xgboost/core.py\", line 575, in inner_f\n",
      "\u001b[2m\u001b[36m(run pid=454)\u001b[0m     return f(**kwargs)\n",
      "\u001b[2m\u001b[36m(run pid=454)\u001b[0m   File \"/home/ray/anaconda3/lib/python3.9/site-packages/xgboost/core.py\", line 686, in __init__\n",
      "\u001b[2m\u001b[36m(run pid=454)\u001b[0m     handle, feature_names, feature_types = dispatch_data_backend(\n",
      "\u001b[2m\u001b[36m(run pid=454)\u001b[0m   File \"/home/ray/anaconda3/lib/python3.9/site-packages/xgboost/data.py\", line 889, in dispatch_data_backend\n",
      "\u001b[2m\u001b[36m(run pid=454)\u001b[0m     return _from_pandas_df(data, enable_categorical, missing, threads,\n",
      "\u001b[2m\u001b[36m(run pid=454)\u001b[0m   File \"/home/ray/anaconda3/lib/python3.9/site-packages/xgboost/data.py\", line 347, in _from_pandas_df\n",
      "\u001b[2m\u001b[36m(run pid=454)\u001b[0m     return _from_numpy_array(data, missing, nthread, feature_names, feature_types)\n",
      "\u001b[2m\u001b[36m(run pid=454)\u001b[0m   File \"/home/ray/anaconda3/lib/python3.9/site-packages/xgboost/data.py\", line 183, in _from_numpy_array\n",
      "\u001b[2m\u001b[36m(run pid=454)\u001b[0m     _check_call(\n",
      "\u001b[2m\u001b[36m(run pid=454)\u001b[0m   File \"/home/ray/anaconda3/lib/python3.9/site-packages/xgboost/core.py\", line 246, in _check_call\n",
      "\u001b[2m\u001b[36m(run pid=454)\u001b[0m     raise XGBoostError(py_str(_LIB.XGBGetLastError()))\n",
      "\u001b[2m\u001b[36m(run pid=454)\u001b[0m xgboost.core.XGBoostError: [08:18:04] ../rabit/include/rabit/internal/utils.h:84: Allreduce failed\n",
      "\u001b[2m\u001b[36m(run pid=454)\u001b[0m \n",
      "\u001b[2m\u001b[36m(run pid=454)\u001b[0m The above exception was the direct cause of the following exception:\n",
      "\u001b[2m\u001b[36m(run pid=454)\u001b[0m \n",
      "\u001b[2m\u001b[36m(run pid=454)\u001b[0m \u001b[36mray::_RemoteRayXGBoostActor.train()\u001b[39m (pid=1301, ip=100.64.77.77, repr=<xgboost_ray.main._RemoteRayXGBoostActor object at 0x748a006fa0a0>)\n",
      "\u001b[2m\u001b[36m(run pid=454)\u001b[0m   File \"/home/ray/anaconda3/lib/python3.9/site-packages/xgboost_ray/main.py\", line 710, in train\n",
      "\u001b[2m\u001b[36m(run pid=454)\u001b[0m     raise RayXGBoostTrainingError(\"Training failed.\") from raise_from\n",
      "\u001b[2m\u001b[36m(run pid=454)\u001b[0m xgboost_ray.main.RayXGBoostTrainingError: Training failed.\n",
      "\u001b[2m\u001b[36m(run pid=454)\u001b[0m \n",
      "\u001b[2m\u001b[36m(run pid=454)\u001b[0m The above exception was the direct cause of the following exception:\n",
      "\u001b[2m\u001b[36m(run pid=454)\u001b[0m \n",
      "\u001b[2m\u001b[36m(run pid=454)\u001b[0m \u001b[36mray::ImplicitFunc.train()\u001b[39m (pid=295, ip=100.64.77.77, repr=my_trainer)\n",
      "\u001b[2m\u001b[36m(run pid=454)\u001b[0m   File \"/home/ray/anaconda3/lib/python3.9/site-packages/xgboost_ray/main.py\", line 1494, in train\n",
      "\u001b[2m\u001b[36m(run pid=454)\u001b[0m     bst, train_evals_result, train_additional_results = _train(\n",
      "\u001b[2m\u001b[36m(run pid=454)\u001b[0m   File \"/home/ray/anaconda3/lib/python3.9/site-packages/xgboost_ray/main.py\", line 1206, in _train\n",
      "\u001b[2m\u001b[36m(run pid=454)\u001b[0m     raise RayActorError from exc\n",
      "\u001b[2m\u001b[36m(run pid=454)\u001b[0m ray.exceptions.RayActorError: The actor died unexpectedly before finishing this task.\n",
      "\u001b[2m\u001b[36m(run pid=454)\u001b[0m \n",
      "\u001b[2m\u001b[36m(run pid=454)\u001b[0m The above exception was the direct cause of the following exception:\n",
      "\u001b[2m\u001b[36m(run pid=454)\u001b[0m \n",
      "\u001b[2m\u001b[36m(run pid=454)\u001b[0m \u001b[36mray::ImplicitFunc.train()\u001b[39m (pid=295, ip=100.64.77.77, repr=my_trainer)\n",
      "\u001b[2m\u001b[36m(run pid=454)\u001b[0m   File \"/home/ray/anaconda3/lib/python3.9/site-packages/ray/tune/trainable/trainable.py\", line 384, in train\n",
      "\u001b[2m\u001b[36m(run pid=454)\u001b[0m     raise skipped from exception_cause(skipped)\n",
      "\u001b[2m\u001b[36m(run pid=454)\u001b[0m   File \"/home/ray/anaconda3/lib/python3.9/site-packages/ray/tune/trainable/function_trainable.py\", line 336, in entrypoint\n",
      "\u001b[2m\u001b[36m(run pid=454)\u001b[0m     return self._trainable_func(\n",
      "\u001b[2m\u001b[36m(run pid=454)\u001b[0m   File \"/home/ray/anaconda3/lib/python3.9/site-packages/ray/tune/trainable/function_trainable.py\", line 653, in _trainable_func\n",
      "\u001b[2m\u001b[36m(run pid=454)\u001b[0m     output = fn()\n",
      "\u001b[2m\u001b[36m(run pid=454)\u001b[0m   File \"/tmp/ipykernel_405/2488325307.py\", line 3, in my_trainer\n",
      "\u001b[2m\u001b[36m(run pid=454)\u001b[0m   File \"/home/ray/anaconda3/lib/python3.9/site-packages/xgboost_ray/main.py\", line 1571, in train\n",
      "\u001b[2m\u001b[36m(run pid=454)\u001b[0m     raise RuntimeError(\n",
      "\u001b[2m\u001b[36m(run pid=454)\u001b[0m RuntimeError: A Ray actor died during training and the maximum number of retries (0) is exhausted.\n",
      "\u001b[2m\u001b[36m(_RemoteRayXGBoostActor pid=866, ip=100.64.32.41)\u001b[0m [08:18:15] task [xgboost.ray]:130825745703168 got new rank 0\n",
      "\u001b[2m\u001b[36m(_RemoteRayXGBoostActor pid=939, ip=100.64.59.160)\u001b[0m [08:18:15] task [xgboost.ray]:126161794020112 got new rank 1\n",
      "\u001b[2m\u001b[36m(_RemoteRayXGBoostActor pid=1521, ip=100.64.77.77)\u001b[0m [08:18:15] task [xgboost.ray]:138302639555248 got new rank 2\n"
     ]
    },
    {
     "name": "stdout",
     "output_type": "stream",
     "text": [
      "\u001b[2m\u001b[36m(my_trainer pid=1478, ip=100.64.77.77)\u001b[0m [0]\ttrain-logloss:0.69203\ttrain-error:0.30285\tval-logloss:0.69197\tval-error:0.29079\n",
      "\u001b[2m\u001b[36m(my_trainer pid=1478, ip=100.64.77.77)\u001b[0m [1]\ttrain-logloss:0.69093\ttrain-error:0.30285\tval-logloss:0.69081\tval-error:0.29079\n",
      "\u001b[2m\u001b[36m(my_trainer pid=1478, ip=100.64.77.77)\u001b[0m [2]\ttrain-logloss:0.68984\ttrain-error:0.30285\tval-logloss:0.68965\tval-error:0.29079\n",
      "\u001b[2m\u001b[36m(my_trainer pid=1478, ip=100.64.77.77)\u001b[0m [3]\ttrain-logloss:0.68876\ttrain-error:0.30285\tval-logloss:0.68851\tval-error:0.29079\n",
      "\u001b[2m\u001b[36m(my_trainer pid=1478, ip=100.64.77.77)\u001b[0m [4]\ttrain-logloss:0.68768\ttrain-error:0.26686\tval-logloss:0.68736\tval-error:0.24841\n",
      "\u001b[2m\u001b[36m(my_trainer pid=1478, ip=100.64.77.77)\u001b[0m [5]\ttrain-logloss:0.68662\ttrain-error:0.26686\tval-logloss:0.68623\tval-error:0.24841\n",
      "\u001b[2m\u001b[36m(my_trainer pid=1478, ip=100.64.77.77)\u001b[0m [6]\ttrain-logloss:0.68556\ttrain-error:0.26686\tval-logloss:0.68510\tval-error:0.24841\n",
      "\u001b[2m\u001b[36m(my_trainer pid=1478, ip=100.64.77.77)\u001b[0m [7]\ttrain-logloss:0.68451\ttrain-error:0.26686\tval-logloss:0.68399\tval-error:0.24841\n",
      "\u001b[2m\u001b[36m(my_trainer pid=1478, ip=100.64.77.77)\u001b[0m [8]\ttrain-logloss:0.68347\ttrain-error:0.26686\tval-logloss:0.68287\tval-error:0.24841\n",
      "\u001b[2m\u001b[36m(my_trainer pid=1478, ip=100.64.77.77)\u001b[0m [9]\ttrain-logloss:0.68244\ttrain-error:0.26686\tval-logloss:0.68178\tval-error:0.24841\n",
      "\u001b[2m\u001b[36m(my_trainer pid=1478, ip=100.64.77.77)\u001b[0m [10]\ttrain-logloss:0.68142\ttrain-error:0.26686\tval-logloss:0.68068\tval-error:0.24841\n",
      "\u001b[2m\u001b[36m(my_trainer pid=1478, ip=100.64.77.77)\u001b[0m [11]\ttrain-logloss:0.68040\ttrain-error:0.26686\tval-logloss:0.67960\tval-error:0.24841\n",
      "\u001b[2m\u001b[36m(my_trainer pid=1478, ip=100.64.77.77)\u001b[0m [12]\ttrain-logloss:0.67939\ttrain-error:0.26686\tval-logloss:0.67852\tval-error:0.24841\n",
      "\u001b[2m\u001b[36m(my_trainer pid=1478, ip=100.64.77.77)\u001b[0m [13]\ttrain-logloss:0.67839\ttrain-error:0.26686\tval-logloss:0.67746\tval-error:0.24841\n",
      "\u001b[2m\u001b[36m(my_trainer pid=1478, ip=100.64.77.77)\u001b[0m [14]\ttrain-logloss:0.67740\ttrain-error:0.26686\tval-logloss:0.67641\tval-error:0.24841\n",
      "\u001b[2m\u001b[36m(my_trainer pid=1478, ip=100.64.77.77)\u001b[0m [15]\ttrain-logloss:0.67642\ttrain-error:0.26686\tval-logloss:0.67535\tval-error:0.24841\n",
      "\u001b[2m\u001b[36m(my_trainer pid=1478, ip=100.64.77.77)\u001b[0m [16]\ttrain-logloss:0.67544\ttrain-error:0.26686\tval-logloss:0.67432\tval-error:0.24841\n",
      "\u001b[2m\u001b[36m(my_trainer pid=1478, ip=100.64.77.77)\u001b[0m [17]\ttrain-logloss:0.67447\ttrain-error:0.26686\tval-logloss:0.67328\tval-error:0.24841\n",
      "\u001b[2m\u001b[36m(my_trainer pid=1478, ip=100.64.77.77)\u001b[0m [18]\ttrain-logloss:0.67351\ttrain-error:0.26686\tval-logloss:0.67226\tval-error:0.24841\n",
      "\u001b[2m\u001b[36m(my_trainer pid=1478, ip=100.64.77.77)\u001b[0m [19]\ttrain-logloss:0.67256\ttrain-error:0.26686\tval-logloss:0.67123\tval-error:0.24841\n",
      "\u001b[2m\u001b[36m(my_trainer pid=1478, ip=100.64.77.77)\u001b[0m [20]\ttrain-logloss:0.67161\ttrain-error:0.26686\tval-logloss:0.67023\tval-error:0.24841\n",
      "\u001b[2m\u001b[36m(my_trainer pid=1478, ip=100.64.77.77)\u001b[0m [21]\ttrain-logloss:0.67068\ttrain-error:0.26686\tval-logloss:0.66922\tval-error:0.24841\n",
      "\u001b[2m\u001b[36m(my_trainer pid=1478, ip=100.64.77.77)\u001b[0m [22]\ttrain-logloss:0.66974\ttrain-error:0.26686\tval-logloss:0.66823\tval-error:0.24841\n",
      "\u001b[2m\u001b[36m(my_trainer pid=1478, ip=100.64.77.77)\u001b[0m [23]\ttrain-logloss:0.66882\ttrain-error:0.26686\tval-logloss:0.66723\tval-error:0.24841\n",
      "\u001b[2m\u001b[36m(my_trainer pid=1478, ip=100.64.77.77)\u001b[0m [24]\ttrain-logloss:0.66790\ttrain-error:0.26686\tval-logloss:0.66626\tval-error:0.24841\n",
      "\u001b[2m\u001b[36m(my_trainer pid=1478, ip=100.64.77.77)\u001b[0m [25]\ttrain-logloss:0.66699\ttrain-error:0.26686\tval-logloss:0.66528\tval-error:0.24841\n",
      "\u001b[2m\u001b[36m(my_trainer pid=1478, ip=100.64.77.77)\u001b[0m [26]\ttrain-logloss:0.66609\ttrain-error:0.26686\tval-logloss:0.66432\tval-error:0.24841\n",
      "\u001b[2m\u001b[36m(my_trainer pid=1478, ip=100.64.77.77)\u001b[0m [27]\ttrain-logloss:0.66520\ttrain-error:0.26686\tval-logloss:0.66335\tval-error:0.24841\n",
      "\u001b[2m\u001b[36m(my_trainer pid=1478, ip=100.64.77.77)\u001b[0m [28]\ttrain-logloss:0.66431\ttrain-error:0.26686\tval-logloss:0.66234\tval-error:0.24841\n",
      "\u001b[2m\u001b[36m(my_trainer pid=1478, ip=100.64.77.77)\u001b[0m [29]\ttrain-logloss:0.66342\ttrain-error:0.26686\tval-logloss:0.66139\tval-error:0.24841\n",
      "\u001b[2m\u001b[36m(my_trainer pid=1478, ip=100.64.77.77)\u001b[0m [30]\ttrain-logloss:0.66255\ttrain-error:0.26686\tval-logloss:0.66046\tval-error:0.24841\n",
      "\u001b[2m\u001b[36m(my_trainer pid=1478, ip=100.64.77.77)\u001b[0m [31]\ttrain-logloss:0.66168\ttrain-error:0.26686\tval-logloss:0.65954\tval-error:0.24841\n",
      "\u001b[2m\u001b[36m(my_trainer pid=1478, ip=100.64.77.77)\u001b[0m [32]\ttrain-logloss:0.66082\ttrain-error:0.26686\tval-logloss:0.65861\tval-error:0.24841\n"
     ]
    },
    {
     "name": "stderr",
     "output_type": "stream",
     "text": [
      "\u001b[2m\u001b[36m(my_trainer pid=1478, ip=100.64.77.77)\u001b[0m 2025-01-24 08:18:46,141\tINFO main.py:1175 -- Training in progress (31 seconds since last restart).\n"
     ]
    },
    {
     "name": "stdout",
     "output_type": "stream",
     "text": [
      "\u001b[2m\u001b[36m(my_trainer pid=1478, ip=100.64.77.77)\u001b[0m [33]\ttrain-logloss:0.65996\ttrain-error:0.26686\tval-logloss:0.65770\tval-error:0.24841\n",
      "\u001b[2m\u001b[36m(my_trainer pid=1478, ip=100.64.77.77)\u001b[0m [34]\ttrain-logloss:0.65911\ttrain-error:0.26686\tval-logloss:0.65678\tval-error:0.24841\n",
      "\u001b[2m\u001b[36m(my_trainer pid=1478, ip=100.64.77.77)\u001b[0m [35]\ttrain-logloss:0.65827\ttrain-error:0.26686\tval-logloss:0.65588\tval-error:0.24841\n",
      "\u001b[2m\u001b[36m(my_trainer pid=1478, ip=100.64.77.77)\u001b[0m [36]\ttrain-logloss:0.65743\ttrain-error:0.26686\tval-logloss:0.65497\tval-error:0.24841\n",
      "\u001b[2m\u001b[36m(my_trainer pid=1478, ip=100.64.77.77)\u001b[0m [37]\ttrain-logloss:0.65660\ttrain-error:0.26686\tval-logloss:0.65409\tval-error:0.24841\n",
      "\u001b[2m\u001b[36m(my_trainer pid=1478, ip=100.64.77.77)\u001b[0m [38]\ttrain-logloss:0.65577\ttrain-error:0.26686\tval-logloss:0.65319\tval-error:0.24841\n",
      "\u001b[2m\u001b[36m(my_trainer pid=1478, ip=100.64.77.77)\u001b[0m [39]\ttrain-logloss:0.65495\ttrain-error:0.26686\tval-logloss:0.65232\tval-error:0.24841\n",
      "\u001b[2m\u001b[36m(my_trainer pid=1478, ip=100.64.77.77)\u001b[0m [40]\ttrain-logloss:0.65414\ttrain-error:0.26686\tval-logloss:0.65143\tval-error:0.24841\n",
      "\u001b[2m\u001b[36m(my_trainer pid=1478, ip=100.64.77.77)\u001b[0m [41]\ttrain-logloss:0.65333\ttrain-error:0.26686\tval-logloss:0.65057\tval-error:0.24841\n",
      "\u001b[2m\u001b[36m(my_trainer pid=1478, ip=100.64.77.77)\u001b[0m [42]\ttrain-logloss:0.65252\ttrain-error:0.26686\tval-logloss:0.64970\tval-error:0.24841\n",
      "\u001b[2m\u001b[36m(my_trainer pid=1478, ip=100.64.77.77)\u001b[0m [43]\ttrain-logloss:0.65173\ttrain-error:0.26686\tval-logloss:0.64886\tval-error:0.24841\n",
      "\u001b[2m\u001b[36m(my_trainer pid=1478, ip=100.64.77.77)\u001b[0m [44]\ttrain-logloss:0.65094\ttrain-error:0.26686\tval-logloss:0.64800\tval-error:0.24841\n",
      "\u001b[2m\u001b[36m(my_trainer pid=1478, ip=100.64.77.77)\u001b[0m [45]\ttrain-logloss:0.65015\ttrain-error:0.26535\tval-logloss:0.64714\tval-error:0.24606\n",
      "\u001b[2m\u001b[36m(my_trainer pid=1478, ip=100.64.77.77)\u001b[0m [46]\ttrain-logloss:0.64937\ttrain-error:0.26445\tval-logloss:0.64634\tval-error:0.24527\n",
      "\u001b[2m\u001b[36m(my_trainer pid=1478, ip=100.64.77.77)\u001b[0m [47]\ttrain-logloss:0.64860\ttrain-error:0.26445\tval-logloss:0.64552\tval-error:0.24527\n",
      "\u001b[2m\u001b[36m(my_trainer pid=1478, ip=100.64.77.77)\u001b[0m [48]\ttrain-logloss:0.64783\ttrain-error:0.26717\tval-logloss:0.64468\tval-error:0.25481\n",
      "\u001b[2m\u001b[36m(my_trainer pid=1478, ip=100.64.77.77)\u001b[0m [49]\ttrain-logloss:0.64706\ttrain-error:0.26627\tval-logloss:0.64389\tval-error:0.25401\n"
     ]
    },
    {
     "name": "stderr",
     "output_type": "stream",
     "text": [
      "\u001b[2m\u001b[36m(_RemoteRayXGBoostActor pid=1028, ip=100.64.32.41)\u001b[0m [08:19:06] task [xgboost.ray]:127572619977488 got new rank 0\n",
      "\u001b[2m\u001b[36m(_RemoteRayXGBoostActor pid=1022, ip=100.64.59.160)\u001b[0m [08:19:06] task [xgboost.ray]:123593326957424 got new rank 1\n",
      "\u001b[2m\u001b[36m(_RemoteRayXGBoostActor pid=1664, ip=100.64.77.77)\u001b[0m [08:19:06] task [xgboost.ray]:136037348905744 got new rank 2\n"
     ]
    },
    {
     "name": "stdout",
     "output_type": "stream",
     "text": [
      "\u001b[2m\u001b[36m(my_trainer pid=1478, ip=100.64.77.77)\u001b[0m [0]\ttrain-logloss:0.67484\ttrain-error:0.22747\tval-logloss:0.67348\tval-error:0.20883\n",
      "\u001b[2m\u001b[36m(my_trainer pid=1478, ip=100.64.77.77)\u001b[0m [1]\ttrain-logloss:0.65878\ttrain-error:0.22331\tval-logloss:0.65557\tval-error:0.20021\n",
      "\u001b[2m\u001b[36m(my_trainer pid=1478, ip=100.64.77.77)\u001b[0m [2]\ttrain-logloss:0.64425\ttrain-error:0.21114\tval-logloss:0.63917\tval-error:0.18773\n",
      "\u001b[2m\u001b[36m(my_trainer pid=1478, ip=100.64.77.77)\u001b[0m [3]\ttrain-logloss:0.63139\ttrain-error:0.20921\tval-logloss:0.62525\tval-error:0.19475\n",
      "\u001b[2m\u001b[36m(my_trainer pid=1478, ip=100.64.77.77)\u001b[0m [4]\ttrain-logloss:0.61860\ttrain-error:0.21226\tval-logloss:0.61084\tval-error:0.19787\n",
      "\u001b[2m\u001b[36m(my_trainer pid=1478, ip=100.64.77.77)\u001b[0m [5]\ttrain-logloss:0.60763\ttrain-error:0.20412\tval-logloss:0.59873\tval-error:0.18924\n",
      "\u001b[2m\u001b[36m(my_trainer pid=1478, ip=100.64.77.77)\u001b[0m [6]\ttrain-logloss:0.59703\ttrain-error:0.20445\tval-logloss:0.58741\tval-error:0.18927\n",
      "\u001b[2m\u001b[36m(my_trainer pid=1478, ip=100.64.77.77)\u001b[0m [7]\ttrain-logloss:0.58625\ttrain-error:0.19620\tval-logloss:0.57602\tval-error:0.17672\n",
      "\u001b[2m\u001b[36m(my_trainer pid=1478, ip=100.64.77.77)\u001b[0m [8]\ttrain-logloss:0.57734\ttrain-error:0.19701\tval-logloss:0.56624\tval-error:0.17678\n",
      "\u001b[2m\u001b[36m(my_trainer pid=1478, ip=100.64.77.77)\u001b[0m [9]\ttrain-logloss:0.56777\ttrain-error:0.19312\tval-logloss:0.55571\tval-error:0.17204\n",
      "\u001b[2m\u001b[36m(my_trainer pid=1478, ip=100.64.77.77)\u001b[0m [10]\ttrain-logloss:0.55893\ttrain-error:0.20234\tval-logloss:0.54660\tval-error:0.17985\n",
      "\u001b[2m\u001b[36m(my_trainer pid=1478, ip=100.64.77.77)\u001b[0m [11]\ttrain-logloss:0.55101\ttrain-error:0.19287\tval-logloss:0.53837\tval-error:0.16895\n",
      "\u001b[2m\u001b[36m(my_trainer pid=1478, ip=100.64.77.77)\u001b[0m [12]\ttrain-logloss:0.54378\ttrain-error:0.19169\tval-logloss:0.53092\tval-error:0.17359\n",
      "\u001b[2m\u001b[36m(my_trainer pid=1478, ip=100.64.77.77)\u001b[0m [13]\ttrain-logloss:0.53679\ttrain-error:0.18685\tval-logloss:0.52362\tval-error:0.16822\n",
      "\u001b[2m\u001b[36m(my_trainer pid=1478, ip=100.64.77.77)\u001b[0m [14]\ttrain-logloss:0.53000\ttrain-error:0.19116\tval-logloss:0.51619\tval-error:0.17360\n",
      "\u001b[2m\u001b[36m(my_trainer pid=1478, ip=100.64.77.77)\u001b[0m [15]\ttrain-logloss:0.52333\ttrain-error:0.18717\tval-logloss:0.50939\tval-error:0.16819\n",
      "\u001b[2m\u001b[36m(my_trainer pid=1478, ip=100.64.77.77)\u001b[0m [16]\ttrain-logloss:0.51656\ttrain-error:0.18293\tval-logloss:0.50222\tval-error:0.16268\n",
      "\u001b[2m\u001b[36m(my_trainer pid=1478, ip=100.64.77.77)\u001b[0m [17]\ttrain-logloss:0.51086\ttrain-error:0.18563\tval-logloss:0.49629\tval-error:0.16351\n",
      "\u001b[2m\u001b[36m(my_trainer pid=1478, ip=100.64.77.77)\u001b[0m [18]\ttrain-logloss:0.50508\ttrain-error:0.18315\tval-logloss:0.49081\tval-error:0.16427\n",
      "\u001b[2m\u001b[36m(my_trainer pid=1478, ip=100.64.77.77)\u001b[0m [19]\ttrain-logloss:0.49961\ttrain-error:0.18460\tval-logloss:0.48510\tval-error:0.16656\n",
      "\u001b[2m\u001b[36m(my_trainer pid=1478, ip=100.64.77.77)\u001b[0m [20]\ttrain-logloss:0.49407\ttrain-error:0.18102\tval-logloss:0.47997\tval-error:0.16034\n",
      "\u001b[2m\u001b[36m(my_trainer pid=1478, ip=100.64.77.77)\u001b[0m [21]\ttrain-logloss:0.48866\ttrain-error:0.17809\tval-logloss:0.47469\tval-error:0.15647\n",
      "\u001b[2m\u001b[36m(my_trainer pid=1478, ip=100.64.77.77)\u001b[0m [22]\ttrain-logloss:0.48352\ttrain-error:0.17923\tval-logloss:0.46949\tval-error:0.16042\n",
      "\u001b[2m\u001b[36m(my_trainer pid=1478, ip=100.64.77.77)\u001b[0m [23]\ttrain-logloss:0.47798\ttrain-error:0.17526\tval-logloss:0.46334\tval-error:0.15884\n",
      "\u001b[2m\u001b[36m(my_trainer pid=1478, ip=100.64.77.77)\u001b[0m [24]\ttrain-logloss:0.47348\ttrain-error:0.17451\tval-logloss:0.45943\tval-error:0.15727\n",
      "\u001b[2m\u001b[36m(my_trainer pid=1478, ip=100.64.77.77)\u001b[0m [25]\ttrain-logloss:0.46906\ttrain-error:0.16891\tval-logloss:0.45475\tval-error:0.15416\n",
      "\u001b[2m\u001b[36m(my_trainer pid=1478, ip=100.64.77.77)\u001b[0m [26]\ttrain-logloss:0.46474\ttrain-error:0.16403\tval-logloss:0.45049\tval-error:0.14711\n",
      "\u001b[2m\u001b[36m(my_trainer pid=1478, ip=100.64.77.77)\u001b[0m [27]\ttrain-logloss:0.46035\ttrain-error:0.16206\tval-logloss:0.44597\tval-error:0.14789\n",
      "\u001b[2m\u001b[36m(my_trainer pid=1478, ip=100.64.77.77)\u001b[0m [28]\ttrain-logloss:0.45530\ttrain-error:0.16161\tval-logloss:0.44091\tval-error:0.14711\n",
      "\u001b[2m\u001b[36m(my_trainer pid=1478, ip=100.64.77.77)\u001b[0m [29]\ttrain-logloss:0.45110\ttrain-error:0.15857\tval-logloss:0.43684\tval-error:0.14633\n",
      "\u001b[2m\u001b[36m(my_trainer pid=1478, ip=100.64.77.77)\u001b[0m [30]\ttrain-logloss:0.44749\ttrain-error:0.15601\tval-logloss:0.43326\tval-error:0.14166\n",
      "\u001b[2m\u001b[36m(my_trainer pid=1478, ip=100.64.77.77)\u001b[0m [31]\ttrain-logloss:0.44349\ttrain-error:0.15768\tval-logloss:0.42938\tval-error:0.14400\n",
      "\u001b[2m\u001b[36m(my_trainer pid=1478, ip=100.64.77.77)\u001b[0m [32]\ttrain-logloss:0.43955\ttrain-error:0.15621\tval-logloss:0.42604\tval-error:0.14479\n"
     ]
    },
    {
     "name": "stderr",
     "output_type": "stream",
     "text": [
      "\u001b[2m\u001b[36m(my_trainer pid=1478, ip=100.64.77.77)\u001b[0m 2025-01-24 08:19:36,759\tINFO main.py:1175 -- Training in progress (31 seconds since last restart).\n"
     ]
    },
    {
     "name": "stdout",
     "output_type": "stream",
     "text": [
      "\u001b[2m\u001b[36m(my_trainer pid=1478, ip=100.64.77.77)\u001b[0m [33]\ttrain-logloss:0.43529\ttrain-error:0.15373\tval-logloss:0.42150\tval-error:0.14323\n",
      "\u001b[2m\u001b[36m(my_trainer pid=1478, ip=100.64.77.77)\u001b[0m [34]\ttrain-logloss:0.43165\ttrain-error:0.15511\tval-logloss:0.41796\tval-error:0.14326\n",
      "\u001b[2m\u001b[36m(my_trainer pid=1478, ip=100.64.77.77)\u001b[0m [35]\ttrain-logloss:0.42847\ttrain-error:0.15149\tval-logloss:0.41462\tval-error:0.14009\n",
      "\u001b[2m\u001b[36m(my_trainer pid=1478, ip=100.64.77.77)\u001b[0m [36]\ttrain-logloss:0.42469\ttrain-error:0.15489\tval-logloss:0.41103\tval-error:0.14481\n",
      "\u001b[2m\u001b[36m(my_trainer pid=1478, ip=100.64.77.77)\u001b[0m [37]\ttrain-logloss:0.42140\ttrain-error:0.15072\tval-logloss:0.40757\tval-error:0.14092\n",
      "\u001b[2m\u001b[36m(my_trainer pid=1478, ip=100.64.77.77)\u001b[0m [38]\ttrain-logloss:0.41789\ttrain-error:0.15284\tval-logloss:0.40365\tval-error:0.14326\n",
      "\u001b[2m\u001b[36m(my_trainer pid=1478, ip=100.64.77.77)\u001b[0m [39]\ttrain-logloss:0.41452\ttrain-error:0.15062\tval-logloss:0.40046\tval-error:0.14012\n",
      "\u001b[2m\u001b[36m(my_trainer pid=1478, ip=100.64.77.77)\u001b[0m [40]\ttrain-logloss:0.41093\ttrain-error:0.14373\tval-logloss:0.39740\tval-error:0.13383\n",
      "\u001b[2m\u001b[36m(my_trainer pid=1478, ip=100.64.77.77)\u001b[0m [41]\ttrain-logloss:0.40810\ttrain-error:0.14079\tval-logloss:0.39441\tval-error:0.12914\n",
      "\u001b[2m\u001b[36m(my_trainer pid=1478, ip=100.64.77.77)\u001b[0m [42]\ttrain-logloss:0.40545\ttrain-error:0.13877\tval-logloss:0.39156\tval-error:0.12913\n",
      "\u001b[2m\u001b[36m(my_trainer pid=1478, ip=100.64.77.77)\u001b[0m [43]\ttrain-logloss:0.40265\ttrain-error:0.13595\tval-logloss:0.38922\tval-error:0.12677\n",
      "\u001b[2m\u001b[36m(my_trainer pid=1478, ip=100.64.77.77)\u001b[0m [44]\ttrain-logloss:0.39823\ttrain-error:0.13155\tval-logloss:0.38453\tval-error:0.12048\n",
      "\u001b[2m\u001b[36m(my_trainer pid=1478, ip=100.64.77.77)\u001b[0m [45]\ttrain-logloss:0.39519\ttrain-error:0.13143\tval-logloss:0.38134\tval-error:0.11971\n",
      "\u001b[2m\u001b[36m(my_trainer pid=1478, ip=100.64.77.77)\u001b[0m [46]\ttrain-logloss:0.39268\ttrain-error:0.13064\tval-logloss:0.37908\tval-error:0.12048\n",
      "\u001b[2m\u001b[36m(my_trainer pid=1478, ip=100.64.77.77)\u001b[0m [47]\ttrain-logloss:0.39071\ttrain-error:0.12963\tval-logloss:0.37715\tval-error:0.12047\n",
      "\u001b[2m\u001b[36m(my_trainer pid=1478, ip=100.64.77.77)\u001b[0m [48]\ttrain-logloss:0.38815\ttrain-error:0.13142\tval-logloss:0.37485\tval-error:0.12205\n",
      "\u001b[2m\u001b[36m(my_trainer pid=1478, ip=100.64.77.77)\u001b[0m [49]\ttrain-logloss:0.38552\ttrain-error:0.12625\tval-logloss:0.37219\tval-error:0.11812\n"
     ]
    },
    {
     "name": "stderr",
     "output_type": "stream",
     "text": [
      "\u001b[2m\u001b[36m(_RemoteRayXGBoostActor pid=1150, ip=100.64.32.41)\u001b[0m [08:19:56] task [xgboost.ray]:125304905958064 got new rank 0\n",
      "\u001b[2m\u001b[36m(_RemoteRayXGBoostActor pid=1143, ip=100.64.59.160)\u001b[0m [08:19:56] task [xgboost.ray]:127581404348480 got new rank 1\n",
      "\u001b[2m\u001b[36m(_RemoteRayXGBoostActor pid=1849, ip=100.64.77.77)\u001b[0m [08:19:56] task [xgboost.ray]:133184630681664 got new rank 2\n"
     ]
    },
    {
     "name": "stdout",
     "output_type": "stream",
     "text": [
      "\u001b[2m\u001b[36m(my_trainer pid=1478, ip=100.64.77.77)\u001b[0m [0]\ttrain-logloss:0.69016\ttrain-error:0.16109\tval-logloss:0.69012\tval-error:0.15954\n",
      "\u001b[2m\u001b[36m(my_trainer pid=1478, ip=100.64.77.77)\u001b[0m [1]\ttrain-logloss:0.68720\ttrain-error:0.16109\tval-logloss:0.68715\tval-error:0.15954\n",
      "\u001b[2m\u001b[36m(my_trainer pid=1478, ip=100.64.77.77)\u001b[0m [2]\ttrain-logloss:0.68428\ttrain-error:0.16109\tval-logloss:0.68419\tval-error:0.15954\n",
      "\u001b[2m\u001b[36m(my_trainer pid=1478, ip=100.64.77.77)\u001b[0m [3]\ttrain-logloss:0.68140\ttrain-error:0.15997\tval-logloss:0.68130\tval-error:0.15799\n",
      "\u001b[2m\u001b[36m(my_trainer pid=1478, ip=100.64.77.77)\u001b[0m [4]\ttrain-logloss:0.67854\ttrain-error:0.15997\tval-logloss:0.67840\tval-error:0.15799\n",
      "\u001b[2m\u001b[36m(my_trainer pid=1478, ip=100.64.77.77)\u001b[0m [5]\ttrain-logloss:0.67573\ttrain-error:0.15846\tval-logloss:0.67557\tval-error:0.15730\n",
      "\u001b[2m\u001b[36m(my_trainer pid=1478, ip=100.64.77.77)\u001b[0m [6]\ttrain-logloss:0.67295\ttrain-error:0.15846\tval-logloss:0.67274\tval-error:0.15730\n",
      "\u001b[2m\u001b[36m(my_trainer pid=1478, ip=100.64.77.77)\u001b[0m [7]\ttrain-logloss:0.67017\ttrain-error:0.15846\tval-logloss:0.66990\tval-error:0.15730\n",
      "\u001b[2m\u001b[36m(my_trainer pid=1478, ip=100.64.77.77)\u001b[0m [8]\ttrain-logloss:0.66744\ttrain-error:0.15846\tval-logloss:0.66713\tval-error:0.15730\n",
      "\u001b[2m\u001b[36m(my_trainer pid=1478, ip=100.64.77.77)\u001b[0m [9]\ttrain-logloss:0.66472\ttrain-error:0.15846\tval-logloss:0.66435\tval-error:0.15730\n",
      "\u001b[2m\u001b[36m(my_trainer pid=1478, ip=100.64.77.77)\u001b[0m [10]\ttrain-logloss:0.66209\ttrain-error:0.15815\tval-logloss:0.66154\tval-error:0.15489\n",
      "\u001b[2m\u001b[36m(my_trainer pid=1478, ip=100.64.77.77)\u001b[0m [11]\ttrain-logloss:0.65950\ttrain-error:0.15623\tval-logloss:0.65875\tval-error:0.15334\n",
      "\u001b[2m\u001b[36m(my_trainer pid=1478, ip=100.64.77.77)\u001b[0m [12]\ttrain-logloss:0.65693\ttrain-error:0.16153\tval-logloss:0.65599\tval-error:0.15960\n",
      "\u001b[2m\u001b[36m(my_trainer pid=1478, ip=100.64.77.77)\u001b[0m [13]\ttrain-logloss:0.65439\ttrain-error:0.15928\tval-logloss:0.65326\tval-error:0.15649\n",
      "\u001b[2m\u001b[36m(my_trainer pid=1478, ip=100.64.77.77)\u001b[0m [14]\ttrain-logloss:0.65188\ttrain-error:0.15929\tval-logloss:0.65056\tval-error:0.15496\n",
      "\u001b[2m\u001b[36m(my_trainer pid=1478, ip=100.64.77.77)\u001b[0m [15]\ttrain-logloss:0.64938\ttrain-error:0.15623\tval-logloss:0.64786\tval-error:0.15097\n",
      "\u001b[2m\u001b[36m(my_trainer pid=1478, ip=100.64.77.77)\u001b[0m [16]\ttrain-logloss:0.64682\ttrain-error:0.15965\tval-logloss:0.64526\tval-error:0.15494\n",
      "\u001b[2m\u001b[36m(my_trainer pid=1478, ip=100.64.77.77)\u001b[0m [17]\ttrain-logloss:0.64438\ttrain-error:0.15714\tval-logloss:0.64264\tval-error:0.15176\n",
      "\u001b[2m\u001b[36m(my_trainer pid=1478, ip=100.64.77.77)\u001b[0m [18]\ttrain-logloss:0.64195\ttrain-error:0.15646\tval-logloss:0.64002\tval-error:0.14715\n",
      "\u001b[2m\u001b[36m(my_trainer pid=1478, ip=100.64.77.77)\u001b[0m [19]\ttrain-logloss:0.63953\ttrain-error:0.14892\tval-logloss:0.63740\tval-error:0.13696\n",
      "\u001b[2m\u001b[36m(my_trainer pid=1478, ip=100.64.77.77)\u001b[0m [20]\ttrain-logloss:0.63716\ttrain-error:0.14892\tval-logloss:0.63485\tval-error:0.13698\n",
      "\u001b[2m\u001b[36m(my_trainer pid=1478, ip=100.64.77.77)\u001b[0m [21]\ttrain-logloss:0.63472\ttrain-error:0.15231\tval-logloss:0.63237\tval-error:0.13929\n",
      "\u001b[2m\u001b[36m(my_trainer pid=1478, ip=100.64.77.77)\u001b[0m [22]\ttrain-logloss:0.63233\ttrain-error:0.14940\tval-logloss:0.62977\tval-error:0.13385\n",
      "\u001b[2m\u001b[36m(my_trainer pid=1478, ip=100.64.77.77)\u001b[0m [23]\ttrain-logloss:0.62998\ttrain-error:0.14940\tval-logloss:0.62722\tval-error:0.13385\n",
      "\u001b[2m\u001b[36m(my_trainer pid=1478, ip=100.64.77.77)\u001b[0m [24]\ttrain-logloss:0.62769\ttrain-error:0.14906\tval-logloss:0.62474\tval-error:0.13308\n",
      "\u001b[2m\u001b[36m(my_trainer pid=1478, ip=100.64.77.77)\u001b[0m [25]\ttrain-logloss:0.62533\ttrain-error:0.14873\tval-logloss:0.62234\tval-error:0.13229\n",
      "\u001b[2m\u001b[36m(my_trainer pid=1478, ip=100.64.77.77)\u001b[0m [26]\ttrain-logloss:0.62305\ttrain-error:0.14838\tval-logloss:0.61986\tval-error:0.13153\n",
      "\u001b[2m\u001b[36m(my_trainer pid=1478, ip=100.64.77.77)\u001b[0m [27]\ttrain-logloss:0.62080\ttrain-error:0.14457\tval-logloss:0.61746\tval-error:0.12765\n",
      "\u001b[2m\u001b[36m(my_trainer pid=1478, ip=100.64.77.77)\u001b[0m [28]\ttrain-logloss:0.61848\ttrain-error:0.14547\tval-logloss:0.61506\tval-error:0.12997\n",
      "\u001b[2m\u001b[36m(my_trainer pid=1478, ip=100.64.77.77)\u001b[0m [29]\ttrain-logloss:0.61625\ttrain-error:0.14255\tval-logloss:0.61269\tval-error:0.12765\n",
      "\u001b[2m\u001b[36m(my_trainer pid=1478, ip=100.64.77.77)\u001b[0m [30]\ttrain-logloss:0.61408\ttrain-error:0.14255\tval-logloss:0.61038\tval-error:0.12765\n"
     ]
    },
    {
     "name": "stderr",
     "output_type": "stream",
     "text": [
      "\u001b[2m\u001b[36m(my_trainer pid=1478, ip=100.64.77.77)\u001b[0m 2025-01-24 08:20:27,532\tINFO main.py:1175 -- Training in progress (31 seconds since last restart).\n"
     ]
    },
    {
     "name": "stdout",
     "output_type": "stream",
     "text": [
      "\u001b[2m\u001b[36m(my_trainer pid=1478, ip=100.64.77.77)\u001b[0m [31]\ttrain-logloss:0.61193\ttrain-error:0.14300\tval-logloss:0.60810\tval-error:0.12530\n",
      "\u001b[2m\u001b[36m(my_trainer pid=1478, ip=100.64.77.77)\u001b[0m [32]\ttrain-logloss:0.60970\ttrain-error:0.13724\tval-logloss:0.60577\tval-error:0.12065\n",
      "\u001b[2m\u001b[36m(my_trainer pid=1478, ip=100.64.77.77)\u001b[0m [33]\ttrain-logloss:0.60757\ttrain-error:0.13871\tval-logloss:0.60349\tval-error:0.12296\n",
      "\u001b[2m\u001b[36m(my_trainer pid=1478, ip=100.64.77.77)\u001b[0m [34]\ttrain-logloss:0.60542\ttrain-error:0.13658\tval-logloss:0.60126\tval-error:0.11830\n",
      "\u001b[2m\u001b[36m(my_trainer pid=1478, ip=100.64.77.77)\u001b[0m [35]\ttrain-logloss:0.60333\ttrain-error:0.13658\tval-logloss:0.59902\tval-error:0.11830\n",
      "\u001b[2m\u001b[36m(my_trainer pid=1478, ip=100.64.77.77)\u001b[0m [36]\ttrain-logloss:0.60121\ttrain-error:0.12913\tval-logloss:0.59682\tval-error:0.11205\n",
      "\u001b[2m\u001b[36m(my_trainer pid=1478, ip=100.64.77.77)\u001b[0m [37]\ttrain-logloss:0.59915\ttrain-error:0.13073\tval-logloss:0.59462\tval-error:0.11363\n",
      "\u001b[2m\u001b[36m(my_trainer pid=1478, ip=100.64.77.77)\u001b[0m [38]\ttrain-logloss:0.59706\ttrain-error:0.12868\tval-logloss:0.59246\tval-error:0.11206\n",
      "\u001b[2m\u001b[36m(my_trainer pid=1478, ip=100.64.77.77)\u001b[0m [39]\ttrain-logloss:0.59501\ttrain-error:0.12868\tval-logloss:0.59035\tval-error:0.11206\n",
      "\u001b[2m\u001b[36m(my_trainer pid=1478, ip=100.64.77.77)\u001b[0m [40]\ttrain-logloss:0.59298\ttrain-error:0.12756\tval-logloss:0.58816\tval-error:0.11129\n",
      "\u001b[2m\u001b[36m(my_trainer pid=1478, ip=100.64.77.77)\u001b[0m [41]\ttrain-logloss:0.59097\ttrain-error:0.12576\tval-logloss:0.58610\tval-error:0.10971\n",
      "\u001b[2m\u001b[36m(my_trainer pid=1478, ip=100.64.77.77)\u001b[0m [42]\ttrain-logloss:0.58896\ttrain-error:0.12520\tval-logloss:0.58397\tval-error:0.10971\n",
      "\u001b[2m\u001b[36m(my_trainer pid=1478, ip=100.64.77.77)\u001b[0m [43]\ttrain-logloss:0.58699\ttrain-error:0.12599\tval-logloss:0.58194\tval-error:0.10971\n",
      "\u001b[2m\u001b[36m(my_trainer pid=1478, ip=100.64.77.77)\u001b[0m [44]\ttrain-logloss:0.58500\ttrain-error:0.12588\tval-logloss:0.57988\tval-error:0.11050\n",
      "\u001b[2m\u001b[36m(my_trainer pid=1478, ip=100.64.77.77)\u001b[0m [45]\ttrain-logloss:0.58307\ttrain-error:0.12600\tval-logloss:0.57777\tval-error:0.11050\n",
      "\u001b[2m\u001b[36m(my_trainer pid=1478, ip=100.64.77.77)\u001b[0m [46]\ttrain-logloss:0.58107\ttrain-error:0.12509\tval-logloss:0.57567\tval-error:0.11050\n",
      "\u001b[2m\u001b[36m(my_trainer pid=1478, ip=100.64.77.77)\u001b[0m [47]\ttrain-logloss:0.57912\ttrain-error:0.12554\tval-logloss:0.57361\tval-error:0.11050\n",
      "\u001b[2m\u001b[36m(my_trainer pid=1478, ip=100.64.77.77)\u001b[0m [48]\ttrain-logloss:0.57716\ttrain-error:0.12656\tval-logloss:0.57153\tval-error:0.11129\n",
      "\u001b[2m\u001b[36m(my_trainer pid=1478, ip=100.64.77.77)\u001b[0m [49]\ttrain-logloss:0.57524\ttrain-error:0.12746\tval-logloss:0.56951\tval-error:0.11129\n"
     ]
    },
    {
     "name": "stderr",
     "output_type": "stream",
     "text": [
      "\u001b[2m\u001b[36m(_RemoteRayXGBoostActor pid=1230, ip=100.64.32.41)\u001b[0m [08:20:48] task [xgboost.ray]:135716432957296 got new rank 0\n",
      "\u001b[2m\u001b[36m(_RemoteRayXGBoostActor pid=1307, ip=100.64.59.160)\u001b[0m [08:20:48] task [xgboost.ray]:124045621858608 got new rank 1\n",
      "\u001b[2m\u001b[36m(_RemoteRayXGBoostActor pid=2033, ip=100.64.77.77)\u001b[0m [08:20:48] task [xgboost.ray]:126457693573808 got new rank 2\n"
     ]
    },
    {
     "name": "stdout",
     "output_type": "stream",
     "text": [
      "\u001b[2m\u001b[36m(my_trainer pid=1478, ip=100.64.77.77)\u001b[0m [0]\ttrain-logloss:0.69201\ttrain-error:0.30285\tval-logloss:0.69195\tval-error:0.29079\n",
      "\u001b[2m\u001b[36m(my_trainer pid=1478, ip=100.64.77.77)\u001b[0m [1]\ttrain-logloss:0.69089\ttrain-error:0.30285\tval-logloss:0.69076\tval-error:0.29079\n",
      "\u001b[2m\u001b[36m(my_trainer pid=1478, ip=100.64.77.77)\u001b[0m [2]\ttrain-logloss:0.68977\ttrain-error:0.30285\tval-logloss:0.68958\tval-error:0.29079\n",
      "\u001b[2m\u001b[36m(my_trainer pid=1478, ip=100.64.77.77)\u001b[0m [3]\ttrain-logloss:0.68867\ttrain-error:0.30285\tval-logloss:0.68842\tval-error:0.29079\n",
      "\u001b[2m\u001b[36m(my_trainer pid=1478, ip=100.64.77.77)\u001b[0m [4]\ttrain-logloss:0.68758\ttrain-error:0.26686\tval-logloss:0.68724\tval-error:0.24841\n",
      "\u001b[2m\u001b[36m(my_trainer pid=1478, ip=100.64.77.77)\u001b[0m [5]\ttrain-logloss:0.68649\ttrain-error:0.26686\tval-logloss:0.68609\tval-error:0.24841\n",
      "\u001b[2m\u001b[36m(my_trainer pid=1478, ip=100.64.77.77)\u001b[0m [6]\ttrain-logloss:0.68541\ttrain-error:0.26686\tval-logloss:0.68494\tval-error:0.24841\n",
      "\u001b[2m\u001b[36m(my_trainer pid=1478, ip=100.64.77.77)\u001b[0m [7]\ttrain-logloss:0.68434\ttrain-error:0.26686\tval-logloss:0.68381\tval-error:0.24841\n",
      "\u001b[2m\u001b[36m(my_trainer pid=1478, ip=100.64.77.77)\u001b[0m [8]\ttrain-logloss:0.68329\ttrain-error:0.26686\tval-logloss:0.68267\tval-error:0.24841\n",
      "\u001b[2m\u001b[36m(my_trainer pid=1478, ip=100.64.77.77)\u001b[0m [9]\ttrain-logloss:0.68223\ttrain-error:0.26686\tval-logloss:0.68156\tval-error:0.24841\n",
      "\u001b[2m\u001b[36m(my_trainer pid=1478, ip=100.64.77.77)\u001b[0m [10]\ttrain-logloss:0.68119\ttrain-error:0.26686\tval-logloss:0.68044\tval-error:0.24841\n",
      "\u001b[2m\u001b[36m(my_trainer pid=1478, ip=100.64.77.77)\u001b[0m [11]\ttrain-logloss:0.68016\ttrain-error:0.26686\tval-logloss:0.67935\tval-error:0.24841\n",
      "\u001b[2m\u001b[36m(my_trainer pid=1478, ip=100.64.77.77)\u001b[0m [12]\ttrain-logloss:0.67913\ttrain-error:0.26686\tval-logloss:0.67824\tval-error:0.24841\n",
      "\u001b[2m\u001b[36m(my_trainer pid=1478, ip=100.64.77.77)\u001b[0m [13]\ttrain-logloss:0.67811\ttrain-error:0.26686\tval-logloss:0.67717\tval-error:0.24841\n",
      "\u001b[2m\u001b[36m(my_trainer pid=1478, ip=100.64.77.77)\u001b[0m [14]\ttrain-logloss:0.67711\ttrain-error:0.26686\tval-logloss:0.67608\tval-error:0.24841\n",
      "\u001b[2m\u001b[36m(my_trainer pid=1478, ip=100.64.77.77)\u001b[0m [15]\ttrain-logloss:0.67610\ttrain-error:0.26686\tval-logloss:0.67502\tval-error:0.24841\n",
      "\u001b[2m\u001b[36m(my_trainer pid=1478, ip=100.64.77.77)\u001b[0m [16]\ttrain-logloss:0.67511\ttrain-error:0.26686\tval-logloss:0.67395\tval-error:0.24841\n",
      "\u001b[2m\u001b[36m(my_trainer pid=1478, ip=100.64.77.77)\u001b[0m [17]\ttrain-logloss:0.67413\ttrain-error:0.26686\tval-logloss:0.67291\tval-error:0.24841\n",
      "\u001b[2m\u001b[36m(my_trainer pid=1478, ip=100.64.77.77)\u001b[0m [18]\ttrain-logloss:0.67315\ttrain-error:0.26686\tval-logloss:0.67185\tval-error:0.24841\n",
      "\u001b[2m\u001b[36m(my_trainer pid=1478, ip=100.64.77.77)\u001b[0m [19]\ttrain-logloss:0.67218\ttrain-error:0.26686\tval-logloss:0.67083\tval-error:0.24841\n",
      "\u001b[2m\u001b[36m(my_trainer pid=1478, ip=100.64.77.77)\u001b[0m [20]\ttrain-logloss:0.67122\ttrain-error:0.26686\tval-logloss:0.66981\tval-error:0.24841\n",
      "\u001b[2m\u001b[36m(my_trainer pid=1478, ip=100.64.77.77)\u001b[0m [21]\ttrain-logloss:0.67026\ttrain-error:0.26686\tval-logloss:0.66878\tval-error:0.24841\n",
      "\u001b[2m\u001b[36m(my_trainer pid=1478, ip=100.64.77.77)\u001b[0m [22]\ttrain-logloss:0.66932\ttrain-error:0.26686\tval-logloss:0.66777\tval-error:0.24841\n",
      "\u001b[2m\u001b[36m(my_trainer pid=1478, ip=100.64.77.77)\u001b[0m [23]\ttrain-logloss:0.66838\ttrain-error:0.26686\tval-logloss:0.66676\tval-error:0.24841\n",
      "\u001b[2m\u001b[36m(my_trainer pid=1478, ip=100.64.77.77)\u001b[0m [24]\ttrain-logloss:0.66745\ttrain-error:0.26686\tval-logloss:0.66577\tval-error:0.24841\n",
      "\u001b[2m\u001b[36m(my_trainer pid=1478, ip=100.64.77.77)\u001b[0m [25]\ttrain-logloss:0.66652\ttrain-error:0.26686\tval-logloss:0.66477\tval-error:0.24841\n",
      "\u001b[2m\u001b[36m(my_trainer pid=1478, ip=100.64.77.77)\u001b[0m [26]\ttrain-logloss:0.66560\ttrain-error:0.26686\tval-logloss:0.66380\tval-error:0.24841\n",
      "\u001b[2m\u001b[36m(my_trainer pid=1478, ip=100.64.77.77)\u001b[0m [27]\ttrain-logloss:0.66469\ttrain-error:0.26686\tval-logloss:0.66281\tval-error:0.24841\n",
      "\u001b[2m\u001b[36m(my_trainer pid=1478, ip=100.64.77.77)\u001b[0m [28]\ttrain-logloss:0.66379\ttrain-error:0.26686\tval-logloss:0.66179\tval-error:0.24841\n",
      "\u001b[2m\u001b[36m(my_trainer pid=1478, ip=100.64.77.77)\u001b[0m [29]\ttrain-logloss:0.66290\ttrain-error:0.26686\tval-logloss:0.66083\tval-error:0.24841\n",
      "\u001b[2m\u001b[36m(my_trainer pid=1478, ip=100.64.77.77)\u001b[0m [30]\ttrain-logloss:0.66201\ttrain-error:0.26686\tval-logloss:0.65989\tval-error:0.24841\n",
      "\u001b[2m\u001b[36m(my_trainer pid=1478, ip=100.64.77.77)\u001b[0m [31]\ttrain-logloss:0.66112\ttrain-error:0.26686\tval-logloss:0.65895\tval-error:0.24841\n",
      "\u001b[2m\u001b[36m(my_trainer pid=1478, ip=100.64.77.77)\u001b[0m [32]\ttrain-logloss:0.66025\ttrain-error:0.26686\tval-logloss:0.65800\tval-error:0.24841\n"
     ]
    },
    {
     "name": "stderr",
     "output_type": "stream",
     "text": [
      "\u001b[2m\u001b[36m(my_trainer pid=1478, ip=100.64.77.77)\u001b[0m 2025-01-24 08:21:19,323\tINFO main.py:1175 -- Training in progress (31 seconds since last restart).\n"
     ]
    },
    {
     "name": "stdout",
     "output_type": "stream",
     "text": [
      "\u001b[2m\u001b[36m(my_trainer pid=1478, ip=100.64.77.77)\u001b[0m [33]\ttrain-logloss:0.65938\ttrain-error:0.26686\tval-logloss:0.65708\tval-error:0.24841\n",
      "\u001b[2m\u001b[36m(my_trainer pid=1478, ip=100.64.77.77)\u001b[0m [34]\ttrain-logloss:0.65852\ttrain-error:0.26686\tval-logloss:0.65616\tval-error:0.24841\n",
      "\u001b[2m\u001b[36m(my_trainer pid=1478, ip=100.64.77.77)\u001b[0m [35]\ttrain-logloss:0.65766\ttrain-error:0.26686\tval-logloss:0.65523\tval-error:0.24841\n",
      "\u001b[2m\u001b[36m(my_trainer pid=1478, ip=100.64.77.77)\u001b[0m [36]\ttrain-logloss:0.65681\ttrain-error:0.26686\tval-logloss:0.65431\tval-error:0.24841\n",
      "\u001b[2m\u001b[36m(my_trainer pid=1478, ip=100.64.77.77)\u001b[0m [37]\ttrain-logloss:0.65597\ttrain-error:0.26686\tval-logloss:0.65341\tval-error:0.24841\n",
      "\u001b[2m\u001b[36m(my_trainer pid=1478, ip=100.64.77.77)\u001b[0m [38]\ttrain-logloss:0.65513\ttrain-error:0.26686\tval-logloss:0.65252\tval-error:0.24841\n",
      "\u001b[2m\u001b[36m(my_trainer pid=1478, ip=100.64.77.77)\u001b[0m [39]\ttrain-logloss:0.65430\ttrain-error:0.26686\tval-logloss:0.65162\tval-error:0.24841\n",
      "\u001b[2m\u001b[36m(my_trainer pid=1478, ip=100.64.77.77)\u001b[0m [40]\ttrain-logloss:0.65347\ttrain-error:0.26686\tval-logloss:0.65072\tval-error:0.24841\n",
      "\u001b[2m\u001b[36m(my_trainer pid=1478, ip=100.64.77.77)\u001b[0m [41]\ttrain-logloss:0.65265\ttrain-error:0.26686\tval-logloss:0.64983\tval-error:0.24841\n",
      "\u001b[2m\u001b[36m(my_trainer pid=1478, ip=100.64.77.77)\u001b[0m [42]\ttrain-logloss:0.65184\ttrain-error:0.26686\tval-logloss:0.64897\tval-error:0.24841\n",
      "\u001b[2m\u001b[36m(my_trainer pid=1478, ip=100.64.77.77)\u001b[0m [43]\ttrain-logloss:0.65103\ttrain-error:0.26445\tval-logloss:0.64814\tval-error:0.24527\n",
      "\u001b[2m\u001b[36m(my_trainer pid=1478, ip=100.64.77.77)\u001b[0m [44]\ttrain-logloss:0.65023\ttrain-error:0.26627\tval-logloss:0.64726\tval-error:0.25401\n",
      "\u001b[2m\u001b[36m(my_trainer pid=1478, ip=100.64.77.77)\u001b[0m [45]\ttrain-logloss:0.64943\ttrain-error:0.26445\tval-logloss:0.64640\tval-error:0.24527\n",
      "\u001b[2m\u001b[36m(my_trainer pid=1478, ip=100.64.77.77)\u001b[0m [46]\ttrain-logloss:0.64864\ttrain-error:0.26445\tval-logloss:0.64556\tval-error:0.24527\n",
      "\u001b[2m\u001b[36m(my_trainer pid=1478, ip=100.64.77.77)\u001b[0m [47]\ttrain-logloss:0.64786\ttrain-error:0.26717\tval-logloss:0.64470\tval-error:0.25481\n",
      "\u001b[2m\u001b[36m(my_trainer pid=1478, ip=100.64.77.77)\u001b[0m [48]\ttrain-logloss:0.64708\ttrain-error:0.26627\tval-logloss:0.64390\tval-error:0.25401\n",
      "\u001b[2m\u001b[36m(my_trainer pid=1478, ip=100.64.77.77)\u001b[0m [49]\ttrain-logloss:0.64631\ttrain-error:0.26627\tval-logloss:0.64306\tval-error:0.25401\n"
     ]
    },
    {
     "ename": "type",
     "evalue": "\u001b[36mray::run()\u001b[39m (pid=454, ip=100.64.71.114)\n  File \"/home/ray/anaconda3/lib/python3.9/site-packages/ray/tune/tune.py\", line 939, in run\n    raise TuneError(\"Trials did not complete\", incomplete_trials)\nray.tune.error.TuneError: ('Trials did not complete', [my_trainer_28b6d_00005])",
     "output_type": "error",
     "traceback": [
      "\u001b[0;31m---------------------------------------------------------------------------\u001b[0m",
      "\u001b[0;31mRayTaskError(TuneError)\u001b[0m                   Traceback (most recent call last)",
      "Cell \u001b[0;32mIn[14], line 1\u001b[0m\n\u001b[0;32m----> 1\u001b[0m analysis \u001b[38;5;241m=\u001b[39m \u001b[43mtune\u001b[49m\u001b[38;5;241;43m.\u001b[39;49m\u001b[43mrun\u001b[49m\u001b[43m(\u001b[49m\n\u001b[1;32m      2\u001b[0m \u001b[43m    \u001b[49m\u001b[43mmy_trainer\u001b[49m\u001b[43m,\u001b[49m\n\u001b[1;32m      3\u001b[0m \u001b[43m    \u001b[49m\u001b[43mconfig\u001b[49m\u001b[38;5;241;43m=\u001b[39;49m\u001b[43mconfig\u001b[49m\u001b[43m,\u001b[49m\n\u001b[1;32m      4\u001b[0m \u001b[43m    \u001b[49m\u001b[43mresources_per_trial\u001b[49m\u001b[38;5;241;43m=\u001b[39;49m\u001b[43mxgb_tune_resources\u001b[49m\u001b[43m,\u001b[49m\n\u001b[1;32m      5\u001b[0m \u001b[43m    \u001b[49m\u001b[43mlocal_dir\u001b[49m\u001b[38;5;241;43m=\u001b[39;49m\u001b[43mTUNE_ROOT\u001b[49m\u001b[43m,\u001b[49m\n\u001b[1;32m      6\u001b[0m \u001b[43m    \u001b[49m\u001b[43mmetric\u001b[49m\u001b[38;5;241;43m=\u001b[39;49m\u001b[38;5;124;43m\"\u001b[39;49m\u001b[38;5;124;43mval-error\u001b[39;49m\u001b[38;5;124;43m\"\u001b[39;49m\u001b[43m,\u001b[49m\n\u001b[1;32m      7\u001b[0m \u001b[43m    \u001b[49m\u001b[43mmode\u001b[49m\u001b[38;5;241;43m=\u001b[39;49m\u001b[38;5;124;43m\"\u001b[39;49m\u001b[38;5;124;43mmin\u001b[39;49m\u001b[38;5;124;43m\"\u001b[39;49m\u001b[43m,\u001b[49m\n\u001b[1;32m      8\u001b[0m \u001b[43m    \u001b[49m\u001b[43mnum_samples\u001b[49m\u001b[38;5;241;43m=\u001b[39;49m\u001b[38;5;241;43m10\u001b[39;49m\u001b[43m,\u001b[49m\n\u001b[1;32m      9\u001b[0m \u001b[43m    \u001b[49m\u001b[43mverbose\u001b[49m\u001b[38;5;241;43m=\u001b[39;49m\u001b[38;5;241;43m1\u001b[39;49m\u001b[43m,\u001b[49m\n\u001b[1;32m     10\u001b[0m \u001b[43m    \u001b[49m\u001b[43mprogress_reporter\u001b[49m\u001b[38;5;241;43m=\u001b[39;49m\u001b[43mtune\u001b[49m\u001b[38;5;241;43m.\u001b[39;49m\u001b[43mJupyterNotebookReporter\u001b[49m\u001b[43m(\u001b[49m\u001b[43moverwrite\u001b[49m\u001b[38;5;241;43m=\u001b[39;49m\u001b[38;5;28;43;01mTrue\u001b[39;49;00m\u001b[43m)\u001b[49m\n\u001b[1;32m     11\u001b[0m \u001b[43m)\u001b[49m\n",
      "File \u001b[0;32m/opt/conda/lib/python3.9/site-packages/ray/tune/tune.py:537\u001b[0m, in \u001b[0;36mrun\u001b[0;34m(run_or_experiment, name, metric, mode, stop, time_budget_s, config, resources_per_trial, num_samples, local_dir, search_alg, scheduler, keep_checkpoints_num, checkpoint_score_attr, checkpoint_freq, checkpoint_at_end, verbose, progress_reporter, log_to_file, trial_name_creator, trial_dirname_creator, chdir_to_trial_dir, sync_config, export_formats, max_failures, fail_fast, restore, server_port, resume, reuse_actors, raise_on_failed_trial, callbacks, max_concurrent_trials, trial_executor, _experiment_checkpoint_dir, _remote, _remote_string_queue, _tuner_api)\u001b[0m\n\u001b[1;32m    530\u001b[0m     remote_future \u001b[38;5;241m=\u001b[39m remote_run\u001b[38;5;241m.\u001b[39mremote(_remote\u001b[38;5;241m=\u001b[39m\u001b[38;5;28;01mFalse\u001b[39;00m, \u001b[38;5;241m*\u001b[39m\u001b[38;5;241m*\u001b[39mremote_run_kwargs)\n\u001b[1;32m    532\u001b[0m     _stream_client_output(\n\u001b[1;32m    533\u001b[0m         remote_future,\n\u001b[1;32m    534\u001b[0m         progress_reporter,\n\u001b[1;32m    535\u001b[0m         string_queue,\n\u001b[1;32m    536\u001b[0m     )\n\u001b[0;32m--> 537\u001b[0m     \u001b[38;5;28;01mreturn\u001b[39;00m \u001b[43mray\u001b[49m\u001b[38;5;241;43m.\u001b[39;49m\u001b[43mget\u001b[49m\u001b[43m(\u001b[49m\u001b[43mremote_future\u001b[49m\u001b[43m)\u001b[49m\n\u001b[1;32m    539\u001b[0m \u001b[38;5;28;01mdel\u001b[39;00m remote_run_kwargs\n\u001b[1;32m    541\u001b[0m ray\u001b[38;5;241m.\u001b[39m_private\u001b[38;5;241m.\u001b[39musage\u001b[38;5;241m.\u001b[39musage_lib\u001b[38;5;241m.\u001b[39mrecord_library_usage(\u001b[38;5;124m\"\u001b[39m\u001b[38;5;124mtune\u001b[39m\u001b[38;5;124m\"\u001b[39m)\n",
      "File \u001b[0;32m/opt/conda/lib/python3.9/site-packages/ray/_private/client_mode_hook.py:104\u001b[0m, in \u001b[0;36mclient_mode_hook.<locals>.wrapper\u001b[0;34m(*args, **kwargs)\u001b[0m\n\u001b[1;32m    100\u001b[0m \u001b[38;5;28;01mif\u001b[39;00m client_mode_should_convert(auto_init\u001b[38;5;241m=\u001b[39mauto_init):\n\u001b[1;32m    101\u001b[0m     \u001b[38;5;66;03m# Legacy code\u001b[39;00m\n\u001b[1;32m    102\u001b[0m     \u001b[38;5;66;03m# we only convert init function if RAY_CLIENT_MODE=1\u001b[39;00m\n\u001b[1;32m    103\u001b[0m     \u001b[38;5;28;01mif\u001b[39;00m func\u001b[38;5;241m.\u001b[39m\u001b[38;5;18m__name__\u001b[39m \u001b[38;5;241m!=\u001b[39m \u001b[38;5;124m\"\u001b[39m\u001b[38;5;124minit\u001b[39m\u001b[38;5;124m\"\u001b[39m \u001b[38;5;129;01mor\u001b[39;00m is_client_mode_enabled_by_default:\n\u001b[0;32m--> 104\u001b[0m         \u001b[38;5;28;01mreturn\u001b[39;00m \u001b[38;5;28;43mgetattr\u001b[39;49m\u001b[43m(\u001b[49m\u001b[43mray\u001b[49m\u001b[43m,\u001b[49m\u001b[43m \u001b[49m\u001b[43mfunc\u001b[49m\u001b[38;5;241;43m.\u001b[39;49m\u001b[38;5;18;43m__name__\u001b[39;49m\u001b[43m)\u001b[49m\u001b[43m(\u001b[49m\u001b[38;5;241;43m*\u001b[39;49m\u001b[43margs\u001b[49m\u001b[43m,\u001b[49m\u001b[43m \u001b[49m\u001b[38;5;241;43m*\u001b[39;49m\u001b[38;5;241;43m*\u001b[39;49m\u001b[43mkwargs\u001b[49m\u001b[43m)\u001b[49m\n\u001b[1;32m    105\u001b[0m \u001b[38;5;28;01mreturn\u001b[39;00m func(\u001b[38;5;241m*\u001b[39margs, \u001b[38;5;241m*\u001b[39m\u001b[38;5;241m*\u001b[39mkwargs)\n",
      "File \u001b[0;32m/opt/conda/lib/python3.9/site-packages/ray/util/client/api.py:42\u001b[0m, in \u001b[0;36m_ClientAPI.get\u001b[0;34m(self, vals, timeout)\u001b[0m\n\u001b[1;32m     35\u001b[0m \u001b[38;5;28;01mdef\u001b[39;00m \u001b[38;5;21mget\u001b[39m(\u001b[38;5;28mself\u001b[39m, vals, \u001b[38;5;241m*\u001b[39m, timeout\u001b[38;5;241m=\u001b[39m\u001b[38;5;28;01mNone\u001b[39;00m):\n\u001b[1;32m     36\u001b[0m \u001b[38;5;250m    \u001b[39m\u001b[38;5;124;03m\"\"\"get is the hook stub passed on to replace `ray.get`\u001b[39;00m\n\u001b[1;32m     37\u001b[0m \n\u001b[1;32m     38\u001b[0m \u001b[38;5;124;03m    Args:\u001b[39;00m\n\u001b[1;32m     39\u001b[0m \u001b[38;5;124;03m        vals: [Client]ObjectRef or list of these refs to retrieve.\u001b[39;00m\n\u001b[1;32m     40\u001b[0m \u001b[38;5;124;03m        timeout: Optional timeout in milliseconds\u001b[39;00m\n\u001b[1;32m     41\u001b[0m \u001b[38;5;124;03m    \"\"\"\u001b[39;00m\n\u001b[0;32m---> 42\u001b[0m     \u001b[38;5;28;01mreturn\u001b[39;00m \u001b[38;5;28;43mself\u001b[39;49m\u001b[38;5;241;43m.\u001b[39;49m\u001b[43mworker\u001b[49m\u001b[38;5;241;43m.\u001b[39;49m\u001b[43mget\u001b[49m\u001b[43m(\u001b[49m\u001b[43mvals\u001b[49m\u001b[43m,\u001b[49m\u001b[43m \u001b[49m\u001b[43mtimeout\u001b[49m\u001b[38;5;241;43m=\u001b[39;49m\u001b[43mtimeout\u001b[49m\u001b[43m)\u001b[49m\n",
      "File \u001b[0;32m/opt/conda/lib/python3.9/site-packages/ray/util/client/worker.py:434\u001b[0m, in \u001b[0;36mWorker.get\u001b[0;34m(self, vals, timeout)\u001b[0m\n\u001b[1;32m    432\u001b[0m     op_timeout \u001b[38;5;241m=\u001b[39m max_blocking_operation_time\n\u001b[1;32m    433\u001b[0m \u001b[38;5;28;01mtry\u001b[39;00m:\n\u001b[0;32m--> 434\u001b[0m     res \u001b[38;5;241m=\u001b[39m \u001b[38;5;28;43mself\u001b[39;49m\u001b[38;5;241;43m.\u001b[39;49m\u001b[43m_get\u001b[49m\u001b[43m(\u001b[49m\u001b[43mto_get\u001b[49m\u001b[43m,\u001b[49m\u001b[43m \u001b[49m\u001b[43mop_timeout\u001b[49m\u001b[43m)\u001b[49m\n\u001b[1;32m    435\u001b[0m     \u001b[38;5;28;01mbreak\u001b[39;00m\n\u001b[1;32m    436\u001b[0m \u001b[38;5;28;01mexcept\u001b[39;00m GetTimeoutError:\n",
      "File \u001b[0;32m/opt/conda/lib/python3.9/site-packages/ray/util/client/worker.py:462\u001b[0m, in \u001b[0;36mWorker._get\u001b[0;34m(self, ref, timeout)\u001b[0m\n\u001b[1;32m    460\u001b[0m         logger\u001b[38;5;241m.\u001b[39mexception(\u001b[38;5;124m\"\u001b[39m\u001b[38;5;124mFailed to deserialize \u001b[39m\u001b[38;5;132;01m{}\u001b[39;00m\u001b[38;5;124m\"\u001b[39m\u001b[38;5;241m.\u001b[39mformat(chunk\u001b[38;5;241m.\u001b[39merror))\n\u001b[1;32m    461\u001b[0m         \u001b[38;5;28;01mraise\u001b[39;00m\n\u001b[0;32m--> 462\u001b[0m     \u001b[38;5;28;01mraise\u001b[39;00m err\n\u001b[1;32m    463\u001b[0m \u001b[38;5;28;01mif\u001b[39;00m chunk\u001b[38;5;241m.\u001b[39mtotal_size \u001b[38;5;241m>\u001b[39m OBJECT_TRANSFER_WARNING_SIZE \u001b[38;5;129;01mand\u001b[39;00m log_once(\n\u001b[1;32m    464\u001b[0m     \u001b[38;5;124m\"\u001b[39m\u001b[38;5;124mclient_object_transfer_size_warning\u001b[39m\u001b[38;5;124m\"\u001b[39m\n\u001b[1;32m    465\u001b[0m ):\n\u001b[1;32m    466\u001b[0m     size_gb \u001b[38;5;241m=\u001b[39m chunk\u001b[38;5;241m.\u001b[39mtotal_size \u001b[38;5;241m/\u001b[39m \u001b[38;5;241m2\u001b[39m\u001b[38;5;241m*\u001b[39m\u001b[38;5;241m*\u001b[39m\u001b[38;5;241m30\u001b[39m\n",
      "\u001b[0;31mRayTaskError(TuneError)\u001b[0m: \u001b[36mray::run()\u001b[39m (pid=454, ip=100.64.71.114)\n  File \"/home/ray/anaconda3/lib/python3.9/site-packages/ray/tune/tune.py\", line 939, in run\n    raise TuneError(\"Trials did not complete\", incomplete_trials)\nray.tune.error.TuneError: ('Trials did not complete', [my_trainer_28b6d_00005])"
     ]
    }
   ],
   "source": [
    "analysis = tune.run(\n",
    "    my_trainer,\n",
    "    config=config,\n",
    "    resources_per_trial=xgb_tune_resources,\n",
    "    local_dir=TUNE_ROOT,\n",
    "    metric=\"val-error\",\n",
    "    mode=\"min\",\n",
    "    num_samples=10,\n",
    "    verbose=1,\n",
    "    progress_reporter=tune.JupyterNotebookReporter(overwrite=True)\n",
    ")"
   ]
  },
  {
   "cell_type": "markdown",
   "id": "3b298667-ce7a-4248-bdc2-8fd5376fa9d2",
   "metadata": {},
   "source": [
    "Ray Tune returns an `ExperimentAnalysis` object which contains the results of the trials. We are only interested in its `best_config` property, which provides information on the best performing trial (according to our evaluation criteria)."
   ]
  },
  {
   "cell_type": "code",
   "execution_count": null,
   "id": "43cde0e8-c048-4da2-abb2-c52198d83ad7",
   "metadata": {
    "tags": []
   },
   "outputs": [],
   "source": [
    "analysis.best_config"
   ]
  },
  {
   "cell_type": "markdown",
   "id": "796209b3-72f0-474a-b703-0afd89959975",
   "metadata": {},
   "source": [
    "We now have the hyperparameters (*depth* and *learing rate*) that produce the best model. Luckily, we don't have to use them to train it from scratch as our training function automatically persists each attempted model. All we need to do now is to move the already trained variant to `/mnt` and ignore the others. We'll name the selected model `tune_best.xgb`."
   ]
  },
  {
   "cell_type": "code",
   "execution_count": null,
   "id": "cb64dccd-415a-4d63-bd28-dcdf02879bc3",
   "metadata": {
    "tags": []
   },
   "outputs": [],
   "source": [
    "import shutil\n",
    "\n",
    "shutil.copy(\n",
    "    os.path.join(analysis.best_logdir, \"model.xgb\"),\n",
    "    os.path.join(MODEL_ROOT, \"tune_best.xgb\")\n",
    ")"
   ]
  },
  {
   "cell_type": "markdown",
   "id": "05a4be6b-d53d-4e94-988b-6b0917132922",
   "metadata": {},
   "source": [
    "Recall, that the model was selected using a validation set. We don't know its actual generalisation capability until we measure it on the test set.\n",
    "Let's go ahead and test how well it performs on unseen data. Note, that here we are also using Ray for the inference. This is not necessary. Later you will see that we can just unpickle the model and use standard XGBoost for the purposes of operationalisation."
   ]
  },
  {
   "cell_type": "code",
   "execution_count": null,
   "id": "1cd5ad21-73a5-4410-b972-92ebbf6b21ed",
   "metadata": {
    "tags": []
   },
   "outputs": [],
   "source": [
    "# Inference using Ray\n",
    "\n",
    "# Load the serialized model\n",
    "bst = xgb.Booster(model_file=os.path.join(MODEL_ROOT, \"tune_best.xgb\"))\n",
    "\n",
    "\n",
    "xgb_ray_params = xgbr.RayParams(\n",
    "    num_actors=RAY_ACTORS,\n",
    "    cpus_per_actor=RAY_CPUS_PER_ACTOR\n",
    ")\n",
    "\n",
    "# Make predictions on the test data\n",
    "predictions = xgbr.predict(bst, rdm_test, ray_params=xgb_ray_params)\n",
    "pred_class = (predictions > 0.5).astype(\"int\") \n",
    "actuals = df_test[target_col]\n",
    "print(\"Accuracy on test: {:.2f}\".format(accuracy_score(pred_class, actuals)))"
   ]
  },
  {
   "cell_type": "code",
   "execution_count": null,
   "id": "d9355849-d587-4e72-bc97-c50bf6e75549",
   "metadata": {
    "tags": []
   },
   "outputs": [],
   "source": [
    "list(predictions)"
   ]
  },
  {
   "cell_type": "markdown",
   "id": "078e0d5c-81d3-4020-9a92-67aedf31f4eb",
   "metadata": {},
   "source": [
    "## Model explainability"
   ]
  },
  {
   "cell_type": "markdown",
   "id": "ed87bd5c-276e-47dd-bf92-16a9744e3a85",
   "metadata": {},
   "source": [
    "The interest in interpretation of machine learning has been rapidly accelerating in the last decade. This can be attributed to the popularity that machine learning algorithms, and more specifically deep learning, has been gaining in various domains.\n",
    "\n",
    "According to Fox et al. (2017), the need for explainable AI is mainly motivated by the following three reasons:\n",
    "\n",
    "* The need for **trust** - if a doctor is recommending a treatment protocol based on a prediction from a neural network, this doctor must have absolute trust in the network's capability. This trust must be paramount when human lives are at stake.\n",
    "* The need for **interaction** - complex decision making systems often rely on Human–Autonomy Teaming (HAT), where the outcome is produced by joint efforts of one or more humans and one or more autonomous agents. This form of cooperation requires that the human operator is able to interact with the model for the purposes of better understanding or improving the automated recommendations.\n",
    "* The need for **transparency** - if a network makes an inappropriate recommendation or disagrees with a human expert, its behaviour must be explainable. There should be mechanisms that allow us to inspect the inner workings of the model's decision making process and get insight on what this decision was based on.\n",
    "\n",
    "In addition, regulators are introducing legal requirements around the use of automated decision making. For example, [article 22 of the General Data Protection Regulation](https://gdpr-info.eu/art-22-gdpr/) (GDPR) introduces the right of explanation - the power of an individual to demand an explanation on the reasons behind a model-based decision and to challenge the decision if it leads to a negative impact for the individual. The Defence Advanced Research Projects Agency (DARPA) in the US is supporting a major effort that seeks to facilitate AI explainability (see Turek, DARPA XAI).\n",
    "\n",
    "In this section of the notebook, we'll look into interpreting the inner workings of the model to better understand the encoded inductive biases."
   ]
  },
  {
   "cell_type": "markdown",
   "id": "eea426eb-01c6-469a-a06a-a0c3cf6e3e10",
   "metadata": {},
   "source": [
    "Let's begin by loading the model as a normal XGBoost model. We are no longer using Ray, as the model itself and the inference don't process large amounts of data.\n",
    "\n",
    "We'll also run another accuracy calculation on the test set (this time using a pure Pandas data frame) and make sure that the numbers agree."
   ]
  },
  {
   "cell_type": "code",
   "execution_count": null,
   "id": "cb91a4b8-cd84-4cbf-acf8-d04ff0e72605",
   "metadata": {
    "tags": []
   },
   "outputs": [],
   "source": [
    "xgc = xgb.Booster(model_file=os.path.join(MODEL_ROOT, \"tune_best.xgb\"))\n",
    "df_test_X = df_test.drop(target_col, axis=1)\n",
    "xgtest = xgb.DMatrix(df_test_X)\n",
    "\n",
    "predictions = xgc.predict(xgtest)\n",
    "\n",
    "pred_class = (predictions > 0.5).astype(\"int\") \n",
    "actuals = df_test[target_col]\n",
    "print(\"Accuracy on test: {:.2f}\".format(accuracy_score(pred_class, actuals)))"
   ]
  },
  {
   "cell_type": "markdown",
   "id": "57233054-6905-46e1-83b3-88f610542c3f",
   "metadata": {},
   "source": [
    "Generally speaking, feature importance quantifies how useful each feature was in the construction of the model. We can interrogate a fitted XGBoost model on the feature importance and get the numbers for each one of the individual features.\n",
    "\n",
    "Indirectly, this tells us how much each feature contributes to the model predictions. There is a method called `plot_importance`, which. plots the attribute importance based on the fitted trees. This method accepts an argument named `importance_type`, which takes one of the following values and controls how importance is calculated:\n",
    "\n",
    "* gain --- average gain of splits which use the feature. When looking at two features, the one with the higher gain is more important for generating a prediction. Typically, Gain is the most relevant attribute to interpret the relative importance of each feature.\n",
    "* weight --- number of times a feature appears in a tree. \n",
    "* cover --- average coverage of splits which use the feature where coverage is defined as the number of samples affected by the split. This basically gives us the relative number of observations related to a feature."
   ]
  },
  {
   "cell_type": "code",
   "execution_count": null,
   "id": "0b70efce-7f69-434b-80c0-afe6fc181aff",
   "metadata": {
    "tags": []
   },
   "outputs": [],
   "source": [
    "xgb.plot_importance(xgc, importance_type=\"gain\", max_num_features=10, show_values=False);"
   ]
  },
  {
   "cell_type": "markdown",
   "id": "0c01786c-8b0f-40b5-acaf-ac84665fb01f",
   "metadata": {},
   "source": [
    "Based on the above we see that the top three features driving the predictions of the model are:\n",
    "\n",
    "* checking_account_A14 - lack of a checking account\n",
    "* credit_history_A34 - critical account / has credits outside of the bank\n",
    "* property_A121 - real estate\n",
    "\n",
    "We could also look at the other importance metrics, just for completeness."
   ]
  },
  {
   "cell_type": "code",
   "execution_count": null,
   "id": "1090c363-4df5-4962-8362-da0573a52125",
   "metadata": {
    "tags": []
   },
   "outputs": [],
   "source": [
    "xgb.plot_importance(xgc, importance_type=\"weight\", max_num_features=10);"
   ]
  },
  {
   "cell_type": "code",
   "execution_count": null,
   "id": "f6fff081-cbad-4099-857b-0930ddb3d988",
   "metadata": {
    "tags": []
   },
   "outputs": [],
   "source": [
    "xgb.plot_importance(xgc, importance_type=\"cover\", max_num_features=10, show_values=False);"
   ]
  },
  {
   "cell_type": "markdown",
   "id": "9c28032c-a5b6-4342-b473-4e963e6bc43a",
   "metadata": {},
   "source": [
    "ELI5 is another popular libarary for model explainability. This package is used to debug machine learning classifiers and explain their predictions. \n",
    "\n",
    "Unlike XGBoost, which is confined to explaining its own models only, ELI5 provides support for other frameworks like *scikit-learn*, *Keras*, *LightGBM* and others. It can also explain black-box models (i.e. Neural Networks) using [LIME](https://www.dominodatalab.com/blog/explaining-black-box-models-using-attribute-importance-pdps-and-lime).\n",
    "\n",
    "First, ELI5 also provides a way of calculating the feature importance. Let's test it and make sure it agrees with the original XGBoost calculation (based on gain)."
   ]
  },
  {
   "cell_type": "code",
   "execution_count": null,
   "id": "097b3060-29af-4f93-b541-eeb7742ac2d6",
   "metadata": {
    "tags": []
   },
   "outputs": [],
   "source": [
    "eli5.show_weights(xgc)"
   ]
  },
  {
   "cell_type": "markdown",
   "id": "de3dcac3-26b7-475a-ae48-2a8e7763c745",
   "metadata": {},
   "source": [
    "A more interesting function is `show_predictions`, which returns an explanation of the decision behind individual predictions. In other words, we can see what features drove the model to predict one outcome or the other.\n",
    "\n",
    "Feel free to experiment with the code below, changing the `id` value and observing what features the model uses to calculate its prediction, and if the prediction agrees with the actual value. The `id` variable represents an observation number from the test dataset."
   ]
  },
  {
   "cell_type": "code",
   "execution_count": null,
   "id": "13857734-246a-455b-bda9-fc59891227c9",
   "metadata": {
    "tags": []
   },
   "outputs": [],
   "source": [
    "id = 3 # <- change this to see results for different observations  \n",
    "\n",
    "print(\"Actual Label: %s\" % actuals.iloc[id])\n",
    "print(\"Predicted: %s\" % pred_class[id])\n",
    "eli5.show_prediction(xgc, df_test_X.iloc[id], \n",
    "                     feature_names=list(df_test_X.columns),\n",
    "                     show_feature_values=True)\n"
   ]
  },
  {
   "cell_type": "markdown",
   "id": "4cc4438f-81d2-4567-8f36-d583b5376b7e",
   "metadata": {},
   "source": [
    "This concludes the model training notebook demo."
   ]
  },
  {
   "cell_type": "code",
   "execution_count": null,
   "id": "1fd20567-0c83-4678-969a-e110d70dde31",
   "metadata": {
    "tags": []
   },
   "outputs": [],
   "source": [
    "# Set some default values\n",
    "column_names_all = ['duration', 'credit_amount', 'installment_rate', 'residence', 'age', 'credits', 'dependents', 'checking_account_A11', 'checking_account_A12', 'checking_account_A13', 'checking_account_A14', 'credit_history_A30', 'credit_history_A31',\n",
    "                    'credit_history_A32', 'credit_history_A33', 'credit_history_A34', 'purpose_A40', 'purpose_A41', 'purpose_A410', 'purpose_A42', 'purpose_A43', 'purpose_A44', 'purpose_A45', 'purpose_A46', 'purpose_A48', 'purpose_A49', 'savings_A61', \n",
    "                    'savings_A62', 'savings_A63', 'savings_A64', 'savings_A65', 'employment_since_A71', 'employment_since_A72', 'employment_since_A73', 'employment_since_A74', 'employment_since_A75', 'status_A91', 'status_A92', 'status_A93', 'status_A94', \n",
    "                    'debtors_guarantors_A101', 'debtors_guarantors_A102', 'debtors_guarantors_A103', 'property_A121', 'property_A122', 'property_A123', 'property_A124', 'other_installments_A141', 'other_installments_A142', 'other_installments_A143', 'housing_A151', \n",
    "                    'housing_A152', 'housing_A153', 'job_A171', 'job_A172', 'job_A173', 'job_A174', 'telephone_A191', 'telephone_A192', 'foreign_worker_A201', 'foreign_worker_A202']\n",
    "\n",
    "sample_data = [[0.4705882352941176, 0.3685484758446132, 0.3333333333333333, 0.3333333333333333, \n",
    "                0.2857142857142857, 0.0, 1.0, 0.0, 1.0, 0.0, 0.0, 0.0, 0.0, 1.0, 0.0, 0.0, 0.0, \n",
    "                1.0, 0.0, 0.0, 0.0, 0.0, 0.0, 0.0, 0.0, 0.0, 1.0, 0.0, 0.0, 0.0, 0.0, 0.0, 0.0, \n",
    "                1.0, 0.0, 0.0, 0.0, 0.0, 1.0, 0.0, 1.0, 0.0, 0.0, 0.0, 0.0, 1.0, 0.0, 0.0, 0.0, \n",
    "                1.0, 1.0, 0.0, 0.0, 0.0, 0.0, 0.0, 1.0, 0.0, 1.0, 1.0, 0.0]]"
   ]
  },
  {
   "cell_type": "code",
   "execution_count": null,
   "id": "ca28ce09-fcba-416d-9c12-1297f0e10b8f",
   "metadata": {
    "tags": []
   },
   "outputs": [],
   "source": [
    "df_all = pd.DataFrame(sample_data, columns=column_names_all)"
   ]
  },
  {
   "cell_type": "code",
   "execution_count": null,
   "id": "e98984cd-4370-40e7-ae19-b0514c7acd3e",
   "metadata": {
    "tags": []
   },
   "outputs": [],
   "source": [
    "for col in ['checking_account_A11', 'checking_account_A12', 'checking_account_A13', 'checking_account_A14', \n",
    "                'credit_history_A30', 'credit_history_A31', 'credit_history_A32', 'credit_history_A33', \n",
    "                'credit_history_A34', 'purpose_A40', 'purpose_A41', 'purpose_A410', 'purpose_A42', 'purpose_A43', \n",
    "                'purpose_A44', 'purpose_A45', 'purpose_A46', 'purpose_A48', 'purpose_A49', 'savings_A61', \n",
    "                'savings_A62', 'savings_A63', 'savings_A64', 'savings_A65', 'employment_since_A71', \n",
    "                'employment_since_A72', 'employment_since_A73', 'employment_since_A74', 'employment_since_A75', \n",
    "                'status_A91', 'status_A92', 'status_A93', 'status_A94', 'debtors_guarantors_A101', \n",
    "                'debtors_guarantors_A102', 'debtors_guarantors_A103', 'property_A121', 'property_A122', \n",
    "                'property_A123', 'property_A124', 'other_installments_A141', 'other_installments_A142', \n",
    "                'other_installments_A143', 'housing_A151', 'housing_A152', 'housing_A153', 'job_A171', 'job_A172', \n",
    "                'job_A173', 'job_A174', 'telephone_A191', 'telephone_A192', 'foreign_worker_A201', 'foreign_worker_A202']:\n",
    "    df_all[col] = df_all[col].astype('int')\n"
   ]
  },
  {
   "cell_type": "code",
   "execution_count": null,
   "id": "fefa566f-d8df-4e0b-afbd-4c572f5d6373",
   "metadata": {
    "tags": []
   },
   "outputs": [],
   "source": [
    "eli5.show_prediction(xgc, df_all.iloc[0], \n",
    "                         feature_names=list(df_all.columns),\n",
    "                         show_feature_values=True)"
   ]
  },
  {
   "cell_type": "code",
   "execution_count": null,
   "id": "b22065cd-e32d-4125-bcfe-ffebe5afde04",
   "metadata": {
    "tags": []
   },
   "outputs": [],
   "source": [
    "df_all.iloc[0]"
   ]
  },
  {
   "cell_type": "code",
   "execution_count": null,
   "id": "cd93de67-305c-4216-bdba-e4e62fe6bf59",
   "metadata": {
    "tags": []
   },
   "outputs": [],
   "source": [
    "df_all.iloc[0][\"checking_account_A14\"]"
   ]
  },
  {
   "cell_type": "code",
   "execution_count": null,
   "id": "57b2922c-1200-4973-a537-799b74236270",
   "metadata": {
    "tags": []
   },
   "outputs": [],
   "source": [
    "df_prediction = eli5.explain_prediction_df(xgc, df_all.iloc[0], \n",
    "                         feature_names=list(df_all.columns))"
   ]
  },
  {
   "cell_type": "code",
   "execution_count": null,
   "id": "1b849c9f-10d8-4c8c-8592-ffc883e2022d",
   "metadata": {
    "tags": []
   },
   "outputs": [],
   "source": [
    "df_prediction.head(10).style.background_gradient(cmap = \"Greens\").hide()"
   ]
  },
  {
   "cell_type": "code",
   "execution_count": null,
   "id": "b37623a2-b79b-498c-ac35-7c9caf4a93d1",
   "metadata": {},
   "outputs": [],
   "source": []
  }
 ],
 "metadata": {
  "dca-init": "true",
  "kernelspec": {
   "display_name": "Python 3 (ipykernel)",
   "language": "python",
   "name": "python3"
  },
  "language_info": {
   "codemirror_mode": {
    "name": "ipython",
    "version": 3
   },
   "file_extension": ".py",
   "mimetype": "text/x-python",
   "name": "python",
   "nbconvert_exporter": "python",
   "pygments_lexer": "ipython3",
   "version": "3.9.15"
  }
 },
 "nbformat": 4,
 "nbformat_minor": 5
}
